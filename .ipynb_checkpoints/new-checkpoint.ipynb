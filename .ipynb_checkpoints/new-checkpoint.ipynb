{
 "cells": [
  {
   "cell_type": "code",
   "execution_count": 60,
   "id": "39ff51c0",
   "metadata": {
    "scrolled": false
   },
   "outputs": [],
   "source": [
    "# import pandas as pd\n",
    "# import numpy as np\n",
    "# import yfinance as yf\n",
    "# from datetime import datetime, timedelta\n",
    "# import plotly.graph_objects as go\n",
    "# from scipy.stats import linregress\n",
    "# from sklearn.metrics import mean_squared_error\n",
    "# from sklearn.preprocessing import MinMaxScaler\n",
    "# from keras.models import Sequential\n",
    "# from keras.layers import LSTM, Dense\n",
    "# import warnings\n",
    "\n",
    "# # Ignore warnings\n",
    "# warnings.filterwarnings(\"ignore\")\n",
    "\n",
    "# # Function to calculate pivot points\n",
    "# def pivot_id(df1, l, n1, n2):\n",
    "#     if l - n1 < 0 or l + n2 >= len(df1):\n",
    "#         return 0\n",
    "\n",
    "#     piv_id_low = 1\n",
    "#     piv_id_high = 1\n",
    "#     for i in range(l - n1, l + n2 + 1):\n",
    "#         if df1.low[l] > df1.low[i]:\n",
    "#             piv_id_low = 0\n",
    "#         if df1.high[l] < df1.high[i]:\n",
    "#             piv_id_high = 0\n",
    "\n",
    "#     if piv_id_low and piv_id_high:\n",
    "#         return 3\n",
    "#     elif piv_id_low:\n",
    "#         return 1\n",
    "#     elif piv_id_high:\n",
    "#         return 2\n",
    "#     else:\n",
    "#         return 0\n",
    "\n",
    "# # Function to calculate the position of pivot points\n",
    "# def point_position(x):\n",
    "#     if x['pivot'] == 1:\n",
    "#         return x['low'] - 1e-3\n",
    "#     elif x['pivot'] == 2:\n",
    "#         return x['high'] + 1e-3\n",
    "#     else:\n",
    "#         return np.nan\n",
    "\n",
    "# # Function to fetch historical stock data\n",
    "# def fetch_stock_data(ticker_symbol, day_range, time_interval):\n",
    "#     end_date = (datetime.now() - timedelta(days=1)).strftime('%Y-%m-%d')\n",
    "#     start_date = (datetime.now() - timedelta(days=day_range + 1)).strftime('%Y-%m-%d')\n",
    "#     data = yf.download(ticker_symbol, start=start_date, end=end_date, interval=time_interval)\n",
    "#     return data\n",
    "\n",
    "# # Function to preprocess stock data\n",
    "# def preprocess_stock_data(data):\n",
    "#     df_ticker = data[['Open', 'High', 'Low', 'Close', ]].reset_index()\n",
    "#     df_ticker.columns = ['time', 'open', 'high', 'low', 'close']\n",
    "#     df_ticker = df_ticker.dropna()\n",
    "  \n",
    "#     df_ticker.reset_index(drop=True, inplace=True)\n",
    "\n",
    "#     # Add 'pivot' and 'pointpos' columns to the DataFrame\n",
    "#     df_ticker['pivot'] = df_ticker.apply(lambda x: pivot_id(df_ticker, x.name, 3, 3), axis=1)\n",
    "#     df_ticker['pointpos'] = df_ticker.apply(lambda row: point_position(row), axis=1)\n",
    "\n",
    "#     return df_ticker\n",
    "\n",
    "# # Function to split data into training, validation, and test sets\n",
    "# def split_data(df_ticker):\n",
    "#     train_size = int(len(df_ticker) * 0.7)\n",
    "#     val_size = int(len(df_ticker) * 0.2)\n",
    "#     test_size = len(df_ticker) - train_size - val_size\n",
    "\n",
    "#     train, val, test = df_ticker[:train_size], df_ticker[train_size:train_size + val_size], df_ticker[train_size + val_size:]\n",
    "#     return train, val, test\n",
    "\n",
    "# # Function to normalize features\n",
    "# def normalize_features(train, val, test, features):\n",
    "#     scaler = MinMaxScaler()\n",
    "#     train[features] = scaler.fit_transform(train[features])\n",
    "#     val[features] = scaler.transform(val[features])\n",
    "#     test[features] = scaler.transform(test[features])\n",
    "#     return train, val, test\n",
    "\n",
    "# # Function to define and train an LSTM model\n",
    "# def train_lstm_model(train, features, target):\n",
    "#     # Reshape data for LSTM model\n",
    "#     train_X = np.reshape(train[features].values, (train[features].shape[0], train[features].shape[1], 1))\n",
    "\n",
    "#     lstm_model = Sequential([\n",
    "#         LSTM(50, input_shape=(train_X.shape[1], 1)),\n",
    "#         Dense(1)\n",
    "#     ])\n",
    "#     lstm_model.compile(optimizer='adam', loss='mean_squared_error')\n",
    "#     lstm_model.fit(train_X, np.array(train[target]), epochs=10, batch_size=32, verbose=0)\n",
    "#     return lstm_model\n",
    "\n",
    "# # Function to evaluate the LSTM model\n",
    "# def evaluate_lstm_model(lstm_model, val, features, target):\n",
    "#     val_predictions_lstm = lstm_model.predict(np.array(val[features]))\n",
    "#     val_rmse_lstm = np.sqrt(mean_squared_error(val[target], val_predictions_lstm))\n",
    "#     print(f\"Validation RMSE (LSTM): {val_rmse_lstm}\")\n",
    "\n",
    "# # Function to calculate linear regression for pivot points\n",
    "# def calculate_linear_regression(df_ticker, back_candles):\n",
    "#     maxim = np.array([])\n",
    "#     minim = np.array([])\n",
    "#     xxmin = np.array([])\n",
    "#     xxmax = np.array([])\n",
    "\n",
    "#     for i in range(max(0, len(df_ticker) - back_candles), len(df_ticker)):\n",
    "#         if df_ticker.iloc[i].pivot == 1:\n",
    "#             minim = np.append(minim, df_ticker.iloc[i].low)\n",
    "#             xxmin = np.append(xxmin, i)\n",
    "#         if df_ticker.iloc[i].pivot == 2:\n",
    "#             maxim = np.append(maxim, df_ticker.iloc[i].high)\n",
    "#             xxmax = np.append(xxmax, i)\n",
    "\n",
    "#     if len(xxmin) > 1 and len(minim) > 1:\n",
    "#         slmin, intercmin, rmin, pmin, semin = linregress(xxmin, minim)\n",
    "#     else:\n",
    "#         slmin, intercmin, rmin, pmin, semin = 0, 0, 0, 0, 0\n",
    "\n",
    "#     if len(xxmax) > 1 and len(maxim) > 1:\n",
    "#         slmax, intercmax, rmax, pmax, semax = linregress(xxmax, maxim)\n",
    "#     else:\n",
    "#         slmax, intercmax, rmax, pmax, semax = 0, 0, 0, 0, 0\n",
    "\n",
    "#     print(rmin, rmax)\n",
    "\n",
    "#     return xxmin, xxmax, slmin, intercmin, slmax, intercmax\n",
    "\n",
    "\n",
    "# def display_candlestick_chart(df_ticker, back_candles, ticker_symbol, xxmin, xxmax, slmin, intercmin, slmax, intercmax):\n",
    "#     df_pl = df_ticker[-(back_candles + day_range):]\n",
    "\n",
    "#     # Calculate lines for high and low triangles\n",
    "#     high_triangle_line = slmax * xxmax + intercmax if xxmax.any() else []\n",
    "#     low_triangle_line = slmin * xxmin + intercmin if xxmin.any() else []\n",
    "\n",
    "#     fig = go.Figure(data=[\n",
    "#         go.Candlestick(x=df_pl.index, open=df_pl['open'], high=df_pl['high'], low=df_pl['low'], close=df_pl['close']),\n",
    "#         go.Scatter(x=df_pl.index, y=df_pl['pointpos'], mode=\"markers\", marker=dict(size=4, color=\"MediumPurple\"), name=\"pivot\"),\n",
    "#         go.Scatter(x=np.append(xxmin, xxmin[-1] +  day_range) if xxmin.any() else [], y=low_triangle_line, mode='lines', line=dict(color='green', width=2), name='low triangle line'),\n",
    "#         go.Scatter(x=np.append(xxmax, xxmax[-1] +  day_range) if xxmax.any() else [], y=high_triangle_line, mode='lines', line=dict(color='red', width=2), name='high triangle line')\n",
    "#     ])\n",
    "\n",
    "#     fig.update_layout(xaxis_rangeslider_visible=True, title=f'Candlestick Chart for {ticker_symbol}')\n",
    "#     fig.show()\n",
    "\n",
    "\n",
    "\n",
    "# # User input for day range and time interval\n",
    "# day_range = int(input(\"Enter the number of days for historical data: \"))\n",
    "# time_interval = input(\"Enter the time interval (e.g., '1h' for 1 hour, 1d,15m): \")\n",
    "\n",
    "# # ticker_symbols = [\"SBIN.NS\", \"ICICIBANK.NS\", \"HDFCBANK.NS\", \"KOTAKBANK.NS\", \"AXISBANK.NS\", \"RELIANCE.NS\"]\n",
    "# ticker_symbols =[ \"^NSEBANK\",\"^NSEI\"]\n",
    "\n",
    "# # Loop through each ticker symbol\n",
    "# for ticker_symbol in ticker_symbols:\n",
    "#     # Fetch historical data from Yahoo Finance\n",
    "#     data = fetch_stock_data(ticker_symbol, day_range, time_interval)\n",
    "\n",
    "#     # Preprocess stock data\n",
    "#     df_ticker = preprocess_stock_data(data)\n",
    "\n",
    "#     # Split the data into training, validation, and test sets\n",
    "#     train, val, test = split_data(df_ticker)\n",
    "\n",
    "#     # Define features and target variable\n",
    "#     features = ['open', 'high', 'low', 'close']\n",
    "#     target = 'close'\n",
    "\n",
    "#     # Normalize features\n",
    "#     train, val, test = normalize_features(train, val, test, features)\n",
    "\n",
    "#     # Train LSTM model\n",
    "#     lstm_model = train_lstm_model(train, features, target)\n",
    "\n",
    "#     # Evaluate LSTM model\n",
    "#     evaluate_lstm_model(lstm_model, val, features, target)\n",
    "\n",
    "#     # Calculate linear regression for pivot points\n",
    "#     back_candles = 200\n",
    "#     xxmin, xxmax, slmin, intercmin, slmax, intercmax = calculate_linear_regression(df_ticker, back_candles)\n",
    "\n",
    "#     # Display candlestick chart with pivot points and linear regression lines\n",
    "#     display_candlestick_chart(df_ticker, back_candles, ticker_symbol, xxmin, xxmax, slmin, intercmin, slmax, intercmax)\n"
   ]
  },
  {
   "cell_type": "code",
   "execution_count": 14,
   "id": "1f9dbb97",
   "metadata": {
    "scrolled": false
   },
   "outputs": [],
   "source": [
    "# import pandas as pd\n",
    "# import numpy as np\n",
    "# import yfinance as yf\n",
    "# from datetime import datetime, timedelta\n",
    "# import plotly.graph_objects as go\n",
    "# from scipy.stats import linregress\n",
    "# from sklearn.preprocessing import MinMaxScaler\n",
    "# import warnings\n",
    "\n",
    "# # Ignore warnings\n",
    "# warnings.filterwarnings(\"ignore\")\n",
    "\n",
    "\n",
    "\n",
    "# # Function to calculate pivot points for recent candles\n",
    "# def pivot_id(df1, l, n1, n2):\n",
    "#     # Check if there are enough recent candles to calculate pivot points\n",
    "#     if l - n1 < 0 or l + n2 >= len(df1):\n",
    "#         return 0\n",
    "\n",
    "#     # Initialize pivot flags\n",
    "#     piv_id_low = 1\n",
    "#     piv_id_high = 1\n",
    "\n",
    "#     # Loop over recent candles to check for pivot points\n",
    "#     for i in range(l - n1, l + n2 + 1):\n",
    "#         # Check for low pivot\n",
    "#         if df1.low[l] > df1.low[i]:\n",
    "#             piv_id_low = 0\n",
    "#         # Check for high pivot\n",
    "#         if df1.high[l] < df1.high[i]:\n",
    "#             piv_id_high = 0\n",
    "\n",
    "#     # Determine pivot type\n",
    "#     if piv_id_low and piv_id_high:\n",
    "#         return 3  # Both low and high pivot\n",
    "#     elif piv_id_low:\n",
    "#         return 1  # Low pivot\n",
    "#     elif piv_id_high:\n",
    "#         return 2  # High pivot\n",
    "#     else:\n",
    "#         return 0  # No pivot\n",
    "\n",
    "# # Function to calculate the position of pivot points for recent candles\n",
    "# def point_position(x):\n",
    "#     # Calculate position based on pivot type\n",
    "#     if x['pivot'] == 1:\n",
    "#         return x['low'] - 1e-3  # Low pivot\n",
    "#     elif x['pivot'] == 2:\n",
    "#         return x['high'] + 1e-3  # High pivot\n",
    "#     else:\n",
    "#         return np.nan  # No pivot\n",
    "\n",
    "\n",
    "\n",
    "\n",
    "# # Function to fetch historical stock data\n",
    "# def fetch_stock_data(ticker_symbol, day_range, time_interval):\n",
    "#     end_date = (datetime.now() - timedelta(days=1)).strftime('%Y-%m-%d')\n",
    "#     start_date = (datetime.now() - timedelta(days=day_range + 1)).strftime('%Y-%m-%d')\n",
    "#     data = yf.download(ticker_symbol, start=start_date, end=end_date, interval=time_interval)\n",
    "#     return data\n",
    "\n",
    "# # Function to preprocess stock data\n",
    "# def preprocess_stock_data(data):\n",
    "#     df_ticker = data[['Open', 'High', 'Low', 'Close' ]].reset_index()\n",
    "#     df_ticker.columns = ['time', 'open', 'high', 'low', 'close']\n",
    "#     df_ticker = df_ticker.dropna()\n",
    "    \n",
    "#     df_ticker.reset_index(drop=True, inplace=True)\n",
    "\n",
    "#     # Add 'pivot' and 'pointpos' columns to the DataFrame\n",
    "#     df_ticker['pivot'] = df_ticker.apply(lambda x: pivot_id(df_ticker, x.name, 3, 3), axis=1)\n",
    "#     df_ticker['pointpos'] = df_ticker.apply(lambda row: point_position(row), axis=1)\n",
    "\n",
    "#     return df_ticker\n",
    "\n",
    "# # Function to split data into training, validation, and test sets\n",
    "# def split_data(df_ticker):\n",
    "#     train_size = int(len(df_ticker) * 0.7)\n",
    "#     val_size = int(len(df_ticker) * 0.2)\n",
    "#     test_size = len(df_ticker) - train_size - val_size\n",
    "\n",
    "#     train, val, test = df_ticker[:train_size], df_ticker[train_size:train_size + val_size], df_ticker[train_size + val_size:]\n",
    "#     return train, val, test\n",
    "\n",
    "# # Function to normalize features\n",
    "# def normalize_features(train, val, test, features):\n",
    "#     scaler = MinMaxScaler()\n",
    "#     train[features] = scaler.fit_transform(train[features])\n",
    "#     val[features] = scaler.transform(val[features])\n",
    "#     test[features] = scaler.transform(test[features])\n",
    "#     return train, val, test\n",
    "\n",
    "\n",
    "# def calculate_linear_regression(df_ticker, back_candles):\n",
    "#     maxim = np.array([])\n",
    "#     minim = np.array([])\n",
    "#     xxmin = np.array([])\n",
    "#     xxmax = np.array([])\n",
    "\n",
    "#     for i in range(max(0, len(df_ticker) - back_candles), len(df_ticker)):\n",
    "#         if df_ticker.iloc[i].pivot == 1:\n",
    "#             minim = np.append(minim, df_ticker.iloc[i].low)\n",
    "#             xxmin = np.append(xxmin, i)\n",
    "#         if df_ticker.iloc[i].pivot == 2:\n",
    "#             maxim = np.append(maxim, df_ticker.iloc[i].high)\n",
    "#             xxmax = np.append(xxmax, i)\n",
    "\n",
    "#     # Check if there are enough data points for regression\n",
    "#     if len(xxmin) < 2 or len(minim) < 2:\n",
    "#         slmin, intercmin = 0, 0\n",
    "#     else:\n",
    "#         slmin, intercmin, _, _, _ = linregress(xxmin, minim)\n",
    "\n",
    "#     if len(xxmax) < 2 or len(maxim) < 2:\n",
    "#         slmax, intercmax = 0, 0\n",
    "#     else:\n",
    "#         slmax, intercmax, _, _, _ = linregress(xxmax, maxim)\n",
    "\n",
    "#     return xxmin, xxmax, slmin, intercmin, slmax, intercmax\n",
    "\n",
    "\n",
    "\n",
    "# # Function to display candlestick chart\n",
    "# def display_candlestick_chart(df_ticker, back_candles, ticker_symbol, xxmin, xxmax, slmin, intercmin, slmax, intercmax):\n",
    "#     recent_candles = 10  # Number of recent candles to display lines\n",
    "\n",
    "#     df_pl = df_ticker[-(back_candles + recent_candles):]\n",
    "\n",
    "#     # Calculate lines for high and low triangles\n",
    "#     if len(xxmin) > 0:\n",
    "#         low_triangle_line = slmin * xxmin + intercmin\n",
    "#         xxmin_last = xxmin[-1]\n",
    "#     else:\n",
    "#         low_triangle_line = []\n",
    "#         xxmin_last = None\n",
    "\n",
    "#     if len(xxmax) > 0:\n",
    "#         high_triangle_line = slmax * xxmax + intercmax\n",
    "#         xxmax_last = xxmax[-1]\n",
    "#     else:\n",
    "#         high_triangle_line = []\n",
    "#         xxmax_last = None\n",
    "\n",
    "#     fig = go.Figure(data=[\n",
    "#         go.Candlestick(x=df_pl.index, open=df_pl['open'], high=df_pl['high'], low=df_pl['low'], close=df_pl['close']),\n",
    "#         go.Scatter(x=df_pl.index, y=df_pl['pointpos'], mode=\"markers\", marker=dict(size=4, color=\"MediumPurple\"), name=\"pivot\"),\n",
    "#         go.Scatter(x=np.append(xxmin, xxmin_last + 1) if xxmin_last is not None else [], y=low_triangle_line[-recent_candles:], mode='lines', line=dict(color='green', width=2), name='low triangle line'),\n",
    "#         go.Scatter(x=np.append(xxmax, xxmax_last + 1) if xxmax_last is not None else [], y=high_triangle_line[-recent_candles:], mode='lines', line=dict(color='red', width=2), name='high triangle line')\n",
    "#     ])\n",
    "\n",
    "#     fig.update_layout(xaxis_rangeslider_visible=True, title=f'Candlestick Chart for {ticker_symbol}')\n",
    "#     fig.show()\n",
    "\n",
    "\n",
    "\n",
    "    \n",
    "    \n",
    "    \n",
    "    \n",
    "    \n",
    "# # User input for day range and time interval\n",
    "# day_range = int(input(\"Enter the number of days for historical data: \"))\n",
    "# time_interval = input(\"Enter the time interval (e.g., '1h' for 1 hour, 1d,15m): \")\n",
    "\n",
    "# # ticker_symbols = [\"SBIN.NS\", \"ICICIBANK.NS\", \"HDFCBANK.NS\", \"KOTAKBANK.NS\", \"AXISBANK.NS\", \"RELIANCE.NS\"]\n",
    "# ticker_symbols = [\"SBIN.NS\", \"ICICIBANK.NS\", \"^NSEBANK\",\"^NSEI\",\"HDFCBANK.NS\", \"KOTAKBANK.NS\", \"AXISBANK.NS\", \"RELIANCE.NS\",\"LT.NS\"]\n",
    "\n",
    "# # Loop through each ticker symbol\n",
    "# for ticker_symbol in ticker_symbols:\n",
    "#     # Fetch historical data from Yahoo Finance\n",
    "#     data = fetch_stock_data(ticker_symbol, day_range, time_interval)\n",
    "\n",
    "#     # Preprocess stock data\n",
    "#     df_ticker = preprocess_stock_data(data)\n",
    "\n",
    "#     # Split the data into training, validation, and test sets\n",
    "#     train, val, test = split_data(df_ticker)\n",
    "\n",
    "#     # Define features and target variable\n",
    "#     features = ['open', 'high', 'low', 'close']\n",
    "    \n",
    "   \n",
    "#     target = 'close'\n",
    "\n",
    "    \n",
    "  \n",
    "#     # Normalize features\n",
    "#     train, val, test = normalize_features(train, val, test, features)\n",
    "\n",
    "#     # Calculate linear regression for pivot points\n",
    "#     back_candles = 20\n",
    "#     xxmin, xxmax, slmin, intercmin, slmax, intercmax = calculate_linear_regression(df_ticker, back_candles)\n",
    "\n",
    "#     # Display candlestick chart with pivot points and linear regression lines\n",
    "#     display_candlestick_chart(df_ticker, back_candles, ticker_symbol, xxmin, xxmax, slmin, intercmin, slmax, intercmax)\n",
    "\n",
    "    \n",
    "\n",
    "    "
   ]
  },
  {
   "cell_type": "code",
   "execution_count": 1,
   "id": "9fcbe33a",
   "metadata": {
    "scrolled": false
   },
   "outputs": [],
   "source": [
    "# import pandas as pd\n",
    "# import numpy as np\n",
    "# import yfinance as yf\n",
    "# from datetime import datetime, timedelta\n",
    "# import plotly.graph_objects as go\n",
    "# from scipy.stats import linregress\n",
    "# from sklearn.preprocessing import MinMaxScaler\n",
    "# from sklearn.linear_model import LinearRegression\n",
    "# from sklearn.model_selection import train_test_split\n",
    "# from sklearn.metrics import r2_score, mean_absolute_error, mean_squared_error\n",
    "\n",
    "# import warnings\n",
    "\n",
    "# # Ignore warnings\n",
    "# warnings.filterwarnings(\"ignore\")\n",
    "\n",
    "\n",
    "\n",
    "# # Function to calculate pivot points for recent candles\n",
    "# def pivot_id(df1, l, n1, n2):\n",
    "#     # Check if there are enough recent candles to calculate pivot points\n",
    "#     if l - n1 < 0 or l + n2 >= len(df1):\n",
    "#         return 0\n",
    "\n",
    "#     # Initialize pivot flags\n",
    "#     piv_id_low = 1\n",
    "#     piv_id_high = 1\n",
    "\n",
    "#     # Loop over recent candles to check for pivot points\n",
    "#     for i in range(l - n1, l + n2 + 1):\n",
    "#         # Check for low pivot\n",
    "#         if df1.low[l] > df1.low[i]:\n",
    "#             piv_id_low = 0\n",
    "#         # Check for high pivot\n",
    "#         if df1.high[l] < df1.high[i]:\n",
    "#             piv_id_high = 0\n",
    "\n",
    "#     # Determine pivot type\n",
    "#     if piv_id_low and piv_id_high:\n",
    "#         return 3  # Both low and high pivot\n",
    "#     elif piv_id_low:\n",
    "#         return 1  # Low pivot\n",
    "#     elif piv_id_high:\n",
    "#         return 2  # High pivot\n",
    "#     else:\n",
    "#         return 0  # No pivot\n",
    "\n",
    "# # Function to calculate the position of pivot points for recent candles\n",
    "# def point_position(x):\n",
    "#     # Calculate position based on pivot type\n",
    "#     if x['pivot'] == 1:\n",
    "#         return x['low'] - 1e-3  # Low pivot\n",
    "#     elif x['pivot'] == 2:\n",
    "#         return x['high'] + 1e-3  # High pivot\n",
    "#     else:\n",
    "#         return np.nan  # No pivot\n",
    "\n",
    "\n",
    "\n",
    "\n",
    "# # Function to fetch historical stock data\n",
    "# def fetch_stock_data(ticker_symbol, day_range, time_interval):\n",
    "#     end_date = (datetime.now() - timedelta(days=1)).strftime('%Y-%m-%d')\n",
    "#     start_date = (datetime.now() - timedelta(days=day_range + 1)).strftime('%Y-%m-%d')\n",
    "#     data = yf.download(ticker_symbol, start=start_date, end=end_date, interval=time_interval)\n",
    "#     return data\n",
    "\n",
    "# # Function to preprocess stock data\n",
    "# def preprocess_stock_data(data):\n",
    "#     df_ticker = data[['Open', 'High', 'Low', 'Close' ]].reset_index()\n",
    "#     df_ticker.columns = ['time', 'open', 'high', 'low', 'close']\n",
    "#     df_ticker = df_ticker.dropna()\n",
    "    \n",
    "#     df_ticker.reset_index(drop=True, inplace=True)\n",
    "\n",
    "#     # Add 'pivot' and 'pointpos' columns to the DataFrame\n",
    "#     df_ticker['pivot'] = df_ticker.apply(lambda x: pivot_id(df_ticker, x.name, 3, 3), axis=1)\n",
    "#     df_ticker['pointpos'] = df_ticker.apply(lambda row: point_position(row), axis=1)\n",
    "\n",
    "#     return df_ticker\n",
    "\n",
    "# # Function to split data into training, validation, and test sets\n",
    "# def split_data(df_ticker):\n",
    "#     train_size = int(len(df_ticker) * 0.7)\n",
    "#     val_size = int(len(df_ticker) * 0.2)\n",
    "#     test_size = len(df_ticker) - train_size - val_size\n",
    "\n",
    "#     train, val, test = df_ticker[:train_size], df_ticker[train_size:train_size + val_size], df_ticker[train_size + val_size:]\n",
    "#     return train, val, test\n",
    "\n",
    "# # Function to normalize features\n",
    "# def normalize_features(train, val, test, features):\n",
    "#     scaler = MinMaxScaler()\n",
    "#     train[features] = scaler.fit_transform(train[features])\n",
    "#     val[features] = scaler.transform(val[features])\n",
    "#     test[features] = scaler.transform(test[features])\n",
    "#     return train, val, test\n",
    "\n",
    "\n",
    "# def calculate_linear_regression(df_ticker, back_candles):\n",
    "#     maxim = np.array([])\n",
    "#     minim = np.array([])\n",
    "#     xxmin = np.array([])\n",
    "#     xxmax = np.array([])\n",
    "\n",
    "#     for i in range(max(0, len(df_ticker) - back_candles), len(df_ticker)):\n",
    "#         if df_ticker.iloc[i].pivot == 1:\n",
    "#             minim = np.append(minim, df_ticker.iloc[i].low)\n",
    "#             xxmin = np.append(xxmin, i)\n",
    "#         if df_ticker.iloc[i].pivot == 2:\n",
    "#             maxim = np.append(maxim, df_ticker.iloc[i].high)\n",
    "#             xxmax = np.append(xxmax, i)\n",
    "\n",
    "#     # Check if there are enough data points for regression\n",
    "#     if len(xxmin) < 2 or len(minim) < 2:\n",
    "#         slmin, intercmin = 0, 0\n",
    "#     else:\n",
    "#         slmin, intercmin, _, _, _ = linregress(xxmin, minim)\n",
    "\n",
    "#     if len(xxmax) < 2 or len(maxim) < 2:\n",
    "#         slmax, intercmax = 0, 0\n",
    "#     else:\n",
    "#         slmax, intercmax, _, _, _ = linregress(xxmax, maxim)\n",
    "\n",
    "#     return xxmin, xxmax, slmin, intercmin, slmax, intercmax\n",
    "\n",
    "\n",
    "\n",
    "# def predict_trend(slmin, slmax):\n",
    "#     if slmin > 0 and slmax > 0:\n",
    "#         return \"Bullish\"  # Both lines are upward sloping\n",
    "#     elif slmin < 0 and slmax < 0:\n",
    "#         return \"Bearish\"  # Both lines are downward sloping\n",
    "#     else:\n",
    "#         return \"Neutral\"  # No clear trend\n",
    "\n",
    "# # Function to display candlestick chart with trend prediction\n",
    "# def display_candlestick_chart(df_ticker, back_candles, ticker_symbol, xxmin, xxmax, slmin, intercmin, slmax, intercmax):\n",
    "#     recent_candles = 10  # Number of recent candles to display lines\n",
    "\n",
    "#     df_pl = df_ticker[-(back_candles + recent_candles):]\n",
    "\n",
    "#     # Calculate lines for high and low triangles\n",
    "#     if len(xxmin) > 0:\n",
    "#         low_triangle_line = slmin * xxmin + intercmin\n",
    "#         xxmin_last = xxmin[-1]\n",
    "#     else:\n",
    "#         low_triangle_line = []\n",
    "#         xxmin_last = None\n",
    "\n",
    "#     if len(xxmax) > 0:\n",
    "#         high_triangle_line = slmax * xxmax + intercmax\n",
    "#         xxmax_last = xxmax[-1]\n",
    "#     else:\n",
    "#         high_triangle_line = []\n",
    "#         xxmax_last = None\n",
    "\n",
    "#     # Predict trend\n",
    "#     trend_prediction = predict_trend(slmin, slmax)\n",
    "    \n",
    "#     # Display candlestick chart with pivot points, linear regression lines, and trend prediction\n",
    "#     fig = go.Figure(data=[\n",
    "#         go.Candlestick(x=df_pl.index, open=df_pl['open'], high=df_pl['high'], low=df_pl['low'], close=df_pl['close']),\n",
    "#         go.Scatter(x=df_pl.index, y=df_pl['pointpos'], mode=\"markers\", marker=dict(size=4, color=\"MediumPurple\"), name=\"pivot\"),\n",
    "#         go.Scatter(x=np.append(xxmin, xxmin_last + 1) if xxmin_last is not None else [], y=low_triangle_line[-recent_candles:], mode='lines', line=dict(color='green', width=2), name='low triangle line'),\n",
    "#         go.Scatter(x=np.append(xxmax, xxmax_last + 1) if xxmax_last is not None else [], y=high_triangle_line[-recent_candles:], mode='lines', line=dict(color='red', width=2), name='high triangle line')\n",
    "#     ])\n",
    "\n",
    "#     fig.update_layout(xaxis_rangeslider_visible=True, title=f'Candlestick Chart for {ticker_symbol} - Trend: {trend_prediction}')\n",
    "#     fig.show()\n",
    "\n",
    "# # Now call the display_candlestick_chart function with the trend prediction included\n",
    "# # For now, I'm assuming you're calling this function inside your loop over ticker symbols\n",
    "# # Make sure this call is made after you calculate xxmin, xxmax, slmin, intercmin, slmax, and intercmax\n",
    "\n",
    "\n",
    "    \n",
    "    \n",
    "# # User input for day range and time interval\n",
    "# day_range = int(input(\"Enter the number of days for historical data: \"))\n",
    "# time_interval = input(\"Enter the time interval (e.g., '1h' for 1 hour, 1d,15m): \")\n",
    "\n",
    "# # ticker_symbols = [\"SBIN.NS\", \"ICICIBANK.NS\", \"HDFCBANK.NS\", \"KOTAKBANK.NS\", \"AXISBANK.NS\", \"RELIANCE.NS\"]\n",
    "# ticker_symbols = [\"SBIN.NS\", \"ICICIBANK.NS\", \"^NSEBANK\",\"^NSEI\",\"HDFCBANK.NS\", \"KOTAKBANK.NS\", \"AXISBANK.NS\", \"RELIANCE.NS\",\"LT.NS\"]\n",
    "\n",
    "# # Loop through each ticker symbol\n",
    "# for ticker_symbol in ticker_symbols:\n",
    "#     # Fetch historical data from Yahoo Finance\n",
    "#     data = fetch_stock_data(ticker_symbol, day_range, time_interval)\n",
    "\n",
    "#     # Preprocess stock data\n",
    "#     df_ticker = preprocess_stock_data(data)\n",
    "\n",
    "#     # Split the data into training, validation, and test sets\n",
    "#     train, val, test = split_data(df_ticker)\n",
    "\n",
    "#     # Define features and target variable\n",
    "#     features = ['open', 'high', 'low', 'close']\n",
    "    \n",
    "#     target = 'close'\n",
    "\n",
    "#     # Normalize features\n",
    "#     train, val, test = normalize_features(train, val, test, features)\n",
    "\n",
    "#     # Calculate linear regression for pivot points\n",
    "#     back_candles = 50\n",
    "#     xxmin, xxmax, slmin, intercmin, slmax, intercmax = calculate_linear_regression(df_ticker, back_candles)\n",
    "\n",
    "#     # Display candlestick chart with pivot points, linear regression lines, and trend prediction\n",
    "#     display_candlestick_chart(df_ticker, back_candles, ticker_symbol, xxmin, xxmax, slmin, intercmin, slmax, intercmax)\n",
    "\n",
    "\n",
    "    "
   ]
  },
  {
   "cell_type": "code",
   "execution_count": 4,
   "id": "b44e9a8d",
   "metadata": {
    "scrolled": false
   },
   "outputs": [
    {
     "name": "stdout",
     "output_type": "stream",
     "text": [
      "Enter the number of days for historical data: 10\n",
      "Enter the time interval (e.g., '1h' for 1 hour, 1d,15m): 15m\n",
      "[*********************100%%**********************]  1 of 1 completed\n"
     ]
    },
    {
     "data": {
      "application/vnd.plotly.v1+json": {
       "config": {
        "plotlyServerURL": "https://plot.ly"
       },
       "data": [
        {
         "close": [
          610.0499877929688,
          610.75,
          610.7999877929688,
          608.0499877929688,
          606.7999877929688,
          603.5499877929688,
          601.4000244140625,
          602.75,
          605.5,
          606,
          612.7999877929688,
          613.25,
          617.9500122070312,
          617.7999877929688,
          618.5,
          616.2999877929688,
          619.4000244140625,
          621.2999877929688,
          616.5499877929688,
          616.5499877929688,
          615.75,
          613.5999755859375,
          613.5499877929688,
          612.4000244140625,
          614.5499877929688,
          613.5499877929688,
          614.0499877929688,
          612.2999877929688,
          612.0999755859375,
          614.7000122070312,
          616.4000244140625,
          618.9000244140625,
          618.5,
          618.5499877929688,
          618.2999877929688,
          622,
          617.75,
          616.7999877929688,
          616.0499877929688,
          614.5499877929688,
          612.7000122070312,
          611.5999755859375,
          611.25,
          611,
          611.25,
          610.25,
          609.5499877929688,
          609.5,
          610,
          608.25,
          609.1500244140625,
          606.8499755859375,
          607.3499755859375,
          607.25,
          606.75,
          609.75,
          609.2000122070312,
          609.7999877929688,
          612.8499755859375,
          615
         ],
         "high": [
          611.0999755859375,
          611.4000244140625,
          612.5,
          610.75,
          609.4500122070312,
          607.4000244140625,
          605.25,
          606.2000122070312,
          606.5499877929688,
          606.5999755859375,
          612.8499755859375,
          614.25,
          618.3499755859375,
          620.2999877929688,
          620,
          619.2999877929688,
          619.5999755859375,
          622.2999877929688,
          622,
          617.75,
          616.75,
          615.9000244140625,
          614.7999877929688,
          613.7000122070312,
          614.9500122070312,
          615.7000122070312,
          615.3499755859375,
          614.5499877929688,
          613.6500244140625,
          614.7999877929688,
          616.9500122070312,
          619.5499877929688,
          619.2000122070312,
          619.5,
          619.5,
          623.7999877929688,
          622.1500244140625,
          619.5999755859375,
          617.3499755859375,
          616.4500122070312,
          615,
          613,
          612.9000244140625,
          613,
          612.5,
          611.3499755859375,
          611.2999877929688,
          610.0999755859375,
          610.9000244140625,
          610.8499755859375,
          609.5,
          609.25,
          607.5999755859375,
          608.2000122070312,
          607.9000244140625,
          610,
          610.3499755859375,
          610.2999877929688,
          613.2999877929688,
          617
         ],
         "low": [
          609.1500244140625,
          608.5499877929688,
          609.4500122070312,
          606.9500122070312,
          606.3499755859375,
          602.4000244140625,
          600.75,
          601.1500244140625,
          602.2999877929688,
          604.25,
          603.4000244140625,
          611.0499877929688,
          613.5499877929688,
          615.75,
          617.7000122070312,
          616.2000122070312,
          615.4000244140625,
          619.7000122070312,
          616.3499755859375,
          614,
          614.4000244140625,
          612.0999755859375,
          611.5999755859375,
          610.9500122070312,
          611.2000122070312,
          612.5999755859375,
          612,
          612.2999877929688,
          611.5,
          612,
          613.5999755859375,
          615.75,
          616.2000122070312,
          617,
          617.5,
          617.5999755859375,
          617.5999755859375,
          616.5,
          615.8499755859375,
          613.0499877929688,
          611.6500244140625,
          610.4000244140625,
          609.7999877929688,
          610.4000244140625,
          610.25,
          609.3499755859375,
          609.4000244140625,
          608,
          609,
          607.6500244140625,
          607.2999877929688,
          606.7000122070312,
          606.5999755859375,
          606.3499755859375,
          606.2999877929688,
          606.7000122070312,
          607.8499755859375,
          608.9000244140625,
          609.75,
          612.5499877929688
         ],
         "open": [
          609.8499755859375,
          610.2000122070312,
          610.7999877929688,
          610.75,
          608.2000122070312,
          607.0999755859375,
          603.5499877929688,
          601.4000244140625,
          602.8499755859375,
          605.4000244140625,
          607.7000122070312,
          612.4500122070312,
          613.5499877929688,
          617.9500122070312,
          617.9500122070312,
          618.5,
          616.1500244140625,
          619.7999877929688,
          621.2999877929688,
          616.2999877929688,
          616.5499877929688,
          615.75,
          613.9000244140625,
          613.5,
          612.25,
          614.6500244140625,
          613.5999755859375,
          614.1500244140625,
          612.2999877929688,
          612.2000122070312,
          614.3499755859375,
          616.25,
          618.9500122070312,
          618.5,
          618.6500244140625,
          620,
          622,
          617.75,
          616.75,
          616.0499877929688,
          614.4500122070312,
          612.8499755859375,
          611.5999755859375,
          611.4000244140625,
          611.0999755859375,
          611.2000122070312,
          610.4500122070312,
          609.5,
          609.5,
          610,
          608.25,
          609,
          606.7000122070312,
          607.25,
          607.3499755859375,
          606.75,
          609.7999877929688,
          609.2000122070312,
          609.7999877929688,
          612.7999877929688
         ],
         "type": "candlestick",
         "x": [
          40,
          41,
          42,
          43,
          44,
          45,
          46,
          47,
          48,
          49,
          50,
          51,
          52,
          53,
          54,
          55,
          56,
          57,
          58,
          59,
          60,
          61,
          62,
          63,
          64,
          65,
          66,
          67,
          68,
          69,
          70,
          71,
          72,
          73,
          74,
          75,
          76,
          77,
          78,
          79,
          80,
          81,
          82,
          83,
          84,
          85,
          86,
          87,
          88,
          89,
          90,
          91,
          92,
          93,
          94,
          95,
          96,
          97,
          98,
          99
         ]
        },
        {
         "marker": {
          "color": "MediumPurple",
          "size": 4
         },
         "mode": "markers",
         "name": "pivot",
         "type": "scatter",
         "x": [
          40,
          41,
          42,
          43,
          44,
          45,
          46,
          47,
          48,
          49,
          50,
          51,
          52,
          53,
          54,
          55,
          56,
          57,
          58,
          59,
          60,
          61,
          62,
          63,
          64,
          65,
          66,
          67,
          68,
          69,
          70,
          71,
          72,
          73,
          74,
          75,
          76,
          77,
          78,
          79,
          80,
          81,
          82,
          83,
          84,
          85,
          86,
          87,
          88,
          89,
          90,
          91,
          92,
          93,
          94,
          95,
          96,
          97,
          98,
          99
         ],
         "y": [
          null,
          null,
          612.501,
          null,
          null,
          null,
          600.749,
          null,
          null,
          null,
          null,
          null,
          null,
          620.3009877929687,
          null,
          null,
          null,
          622.3009877929687,
          null,
          null,
          null,
          null,
          null,
          610.9490122070313,
          null,
          615.7010122070312,
          null,
          null,
          611.499,
          null,
          null,
          619.5509877929687,
          null,
          null,
          null,
          623.8009877929687,
          null,
          null,
          null,
          null,
          null,
          null,
          null,
          null,
          null,
          null,
          null,
          null,
          null,
          null,
          null,
          null,
          null,
          null,
          606.2989877929688,
          null,
          null,
          null,
          null,
          null
         ]
        },
        {
         "line": {
          "color": "green",
          "width": 2
         },
         "mode": "lines",
         "name": "low triangle line",
         "type": "scatter",
         "x": [
          63,
          68,
          94,
          95
         ],
         "y": [
          611.5804534434699,
          610.7483200642464,
          606.421226492284
         ]
        },
        {
         "line": {
          "color": "red",
          "width": 2
         },
         "mode": "lines",
         "name": "high triangle line",
         "type": "scatter",
         "x": [
          53,
          57,
          65,
          71,
          75,
          76
         ],
         "y": [
          619.849522550341,
          620.0211190237126,
          620.3643119704554,
          620.6217066805127,
          620.7933031538842
         ]
        }
       ],
       "layout": {
        "template": {
         "data": {
          "bar": [
           {
            "error_x": {
             "color": "#2a3f5f"
            },
            "error_y": {
             "color": "#2a3f5f"
            },
            "marker": {
             "line": {
              "color": "#E5ECF6",
              "width": 0.5
             },
             "pattern": {
              "fillmode": "overlay",
              "size": 10,
              "solidity": 0.2
             }
            },
            "type": "bar"
           }
          ],
          "barpolar": [
           {
            "marker": {
             "line": {
              "color": "#E5ECF6",
              "width": 0.5
             },
             "pattern": {
              "fillmode": "overlay",
              "size": 10,
              "solidity": 0.2
             }
            },
            "type": "barpolar"
           }
          ],
          "carpet": [
           {
            "aaxis": {
             "endlinecolor": "#2a3f5f",
             "gridcolor": "white",
             "linecolor": "white",
             "minorgridcolor": "white",
             "startlinecolor": "#2a3f5f"
            },
            "baxis": {
             "endlinecolor": "#2a3f5f",
             "gridcolor": "white",
             "linecolor": "white",
             "minorgridcolor": "white",
             "startlinecolor": "#2a3f5f"
            },
            "type": "carpet"
           }
          ],
          "choropleth": [
           {
            "colorbar": {
             "outlinewidth": 0,
             "ticks": ""
            },
            "type": "choropleth"
           }
          ],
          "contour": [
           {
            "colorbar": {
             "outlinewidth": 0,
             "ticks": ""
            },
            "colorscale": [
             [
              0,
              "#0d0887"
             ],
             [
              0.1111111111111111,
              "#46039f"
             ],
             [
              0.2222222222222222,
              "#7201a8"
             ],
             [
              0.3333333333333333,
              "#9c179e"
             ],
             [
              0.4444444444444444,
              "#bd3786"
             ],
             [
              0.5555555555555556,
              "#d8576b"
             ],
             [
              0.6666666666666666,
              "#ed7953"
             ],
             [
              0.7777777777777778,
              "#fb9f3a"
             ],
             [
              0.8888888888888888,
              "#fdca26"
             ],
             [
              1,
              "#f0f921"
             ]
            ],
            "type": "contour"
           }
          ],
          "contourcarpet": [
           {
            "colorbar": {
             "outlinewidth": 0,
             "ticks": ""
            },
            "type": "contourcarpet"
           }
          ],
          "heatmap": [
           {
            "colorbar": {
             "outlinewidth": 0,
             "ticks": ""
            },
            "colorscale": [
             [
              0,
              "#0d0887"
             ],
             [
              0.1111111111111111,
              "#46039f"
             ],
             [
              0.2222222222222222,
              "#7201a8"
             ],
             [
              0.3333333333333333,
              "#9c179e"
             ],
             [
              0.4444444444444444,
              "#bd3786"
             ],
             [
              0.5555555555555556,
              "#d8576b"
             ],
             [
              0.6666666666666666,
              "#ed7953"
             ],
             [
              0.7777777777777778,
              "#fb9f3a"
             ],
             [
              0.8888888888888888,
              "#fdca26"
             ],
             [
              1,
              "#f0f921"
             ]
            ],
            "type": "heatmap"
           }
          ],
          "heatmapgl": [
           {
            "colorbar": {
             "outlinewidth": 0,
             "ticks": ""
            },
            "colorscale": [
             [
              0,
              "#0d0887"
             ],
             [
              0.1111111111111111,
              "#46039f"
             ],
             [
              0.2222222222222222,
              "#7201a8"
             ],
             [
              0.3333333333333333,
              "#9c179e"
             ],
             [
              0.4444444444444444,
              "#bd3786"
             ],
             [
              0.5555555555555556,
              "#d8576b"
             ],
             [
              0.6666666666666666,
              "#ed7953"
             ],
             [
              0.7777777777777778,
              "#fb9f3a"
             ],
             [
              0.8888888888888888,
              "#fdca26"
             ],
             [
              1,
              "#f0f921"
             ]
            ],
            "type": "heatmapgl"
           }
          ],
          "histogram": [
           {
            "marker": {
             "pattern": {
              "fillmode": "overlay",
              "size": 10,
              "solidity": 0.2
             }
            },
            "type": "histogram"
           }
          ],
          "histogram2d": [
           {
            "colorbar": {
             "outlinewidth": 0,
             "ticks": ""
            },
            "colorscale": [
             [
              0,
              "#0d0887"
             ],
             [
              0.1111111111111111,
              "#46039f"
             ],
             [
              0.2222222222222222,
              "#7201a8"
             ],
             [
              0.3333333333333333,
              "#9c179e"
             ],
             [
              0.4444444444444444,
              "#bd3786"
             ],
             [
              0.5555555555555556,
              "#d8576b"
             ],
             [
              0.6666666666666666,
              "#ed7953"
             ],
             [
              0.7777777777777778,
              "#fb9f3a"
             ],
             [
              0.8888888888888888,
              "#fdca26"
             ],
             [
              1,
              "#f0f921"
             ]
            ],
            "type": "histogram2d"
           }
          ],
          "histogram2dcontour": [
           {
            "colorbar": {
             "outlinewidth": 0,
             "ticks": ""
            },
            "colorscale": [
             [
              0,
              "#0d0887"
             ],
             [
              0.1111111111111111,
              "#46039f"
             ],
             [
              0.2222222222222222,
              "#7201a8"
             ],
             [
              0.3333333333333333,
              "#9c179e"
             ],
             [
              0.4444444444444444,
              "#bd3786"
             ],
             [
              0.5555555555555556,
              "#d8576b"
             ],
             [
              0.6666666666666666,
              "#ed7953"
             ],
             [
              0.7777777777777778,
              "#fb9f3a"
             ],
             [
              0.8888888888888888,
              "#fdca26"
             ],
             [
              1,
              "#f0f921"
             ]
            ],
            "type": "histogram2dcontour"
           }
          ],
          "mesh3d": [
           {
            "colorbar": {
             "outlinewidth": 0,
             "ticks": ""
            },
            "type": "mesh3d"
           }
          ],
          "parcoords": [
           {
            "line": {
             "colorbar": {
              "outlinewidth": 0,
              "ticks": ""
             }
            },
            "type": "parcoords"
           }
          ],
          "pie": [
           {
            "automargin": true,
            "type": "pie"
           }
          ],
          "scatter": [
           {
            "fillpattern": {
             "fillmode": "overlay",
             "size": 10,
             "solidity": 0.2
            },
            "type": "scatter"
           }
          ],
          "scatter3d": [
           {
            "line": {
             "colorbar": {
              "outlinewidth": 0,
              "ticks": ""
             }
            },
            "marker": {
             "colorbar": {
              "outlinewidth": 0,
              "ticks": ""
             }
            },
            "type": "scatter3d"
           }
          ],
          "scattercarpet": [
           {
            "marker": {
             "colorbar": {
              "outlinewidth": 0,
              "ticks": ""
             }
            },
            "type": "scattercarpet"
           }
          ],
          "scattergeo": [
           {
            "marker": {
             "colorbar": {
              "outlinewidth": 0,
              "ticks": ""
             }
            },
            "type": "scattergeo"
           }
          ],
          "scattergl": [
           {
            "marker": {
             "colorbar": {
              "outlinewidth": 0,
              "ticks": ""
             }
            },
            "type": "scattergl"
           }
          ],
          "scattermapbox": [
           {
            "marker": {
             "colorbar": {
              "outlinewidth": 0,
              "ticks": ""
             }
            },
            "type": "scattermapbox"
           }
          ],
          "scatterpolar": [
           {
            "marker": {
             "colorbar": {
              "outlinewidth": 0,
              "ticks": ""
             }
            },
            "type": "scatterpolar"
           }
          ],
          "scatterpolargl": [
           {
            "marker": {
             "colorbar": {
              "outlinewidth": 0,
              "ticks": ""
             }
            },
            "type": "scatterpolargl"
           }
          ],
          "scatterternary": [
           {
            "marker": {
             "colorbar": {
              "outlinewidth": 0,
              "ticks": ""
             }
            },
            "type": "scatterternary"
           }
          ],
          "surface": [
           {
            "colorbar": {
             "outlinewidth": 0,
             "ticks": ""
            },
            "colorscale": [
             [
              0,
              "#0d0887"
             ],
             [
              0.1111111111111111,
              "#46039f"
             ],
             [
              0.2222222222222222,
              "#7201a8"
             ],
             [
              0.3333333333333333,
              "#9c179e"
             ],
             [
              0.4444444444444444,
              "#bd3786"
             ],
             [
              0.5555555555555556,
              "#d8576b"
             ],
             [
              0.6666666666666666,
              "#ed7953"
             ],
             [
              0.7777777777777778,
              "#fb9f3a"
             ],
             [
              0.8888888888888888,
              "#fdca26"
             ],
             [
              1,
              "#f0f921"
             ]
            ],
            "type": "surface"
           }
          ],
          "table": [
           {
            "cells": {
             "fill": {
              "color": "#EBF0F8"
             },
             "line": {
              "color": "white"
             }
            },
            "header": {
             "fill": {
              "color": "#C8D4E3"
             },
             "line": {
              "color": "white"
             }
            },
            "type": "table"
           }
          ]
         },
         "layout": {
          "annotationdefaults": {
           "arrowcolor": "#2a3f5f",
           "arrowhead": 0,
           "arrowwidth": 1
          },
          "autotypenumbers": "strict",
          "coloraxis": {
           "colorbar": {
            "outlinewidth": 0,
            "ticks": ""
           }
          },
          "colorscale": {
           "diverging": [
            [
             0,
             "#8e0152"
            ],
            [
             0.1,
             "#c51b7d"
            ],
            [
             0.2,
             "#de77ae"
            ],
            [
             0.3,
             "#f1b6da"
            ],
            [
             0.4,
             "#fde0ef"
            ],
            [
             0.5,
             "#f7f7f7"
            ],
            [
             0.6,
             "#e6f5d0"
            ],
            [
             0.7,
             "#b8e186"
            ],
            [
             0.8,
             "#7fbc41"
            ],
            [
             0.9,
             "#4d9221"
            ],
            [
             1,
             "#276419"
            ]
           ],
           "sequential": [
            [
             0,
             "#0d0887"
            ],
            [
             0.1111111111111111,
             "#46039f"
            ],
            [
             0.2222222222222222,
             "#7201a8"
            ],
            [
             0.3333333333333333,
             "#9c179e"
            ],
            [
             0.4444444444444444,
             "#bd3786"
            ],
            [
             0.5555555555555556,
             "#d8576b"
            ],
            [
             0.6666666666666666,
             "#ed7953"
            ],
            [
             0.7777777777777778,
             "#fb9f3a"
            ],
            [
             0.8888888888888888,
             "#fdca26"
            ],
            [
             1,
             "#f0f921"
            ]
           ],
           "sequentialminus": [
            [
             0,
             "#0d0887"
            ],
            [
             0.1111111111111111,
             "#46039f"
            ],
            [
             0.2222222222222222,
             "#7201a8"
            ],
            [
             0.3333333333333333,
             "#9c179e"
            ],
            [
             0.4444444444444444,
             "#bd3786"
            ],
            [
             0.5555555555555556,
             "#d8576b"
            ],
            [
             0.6666666666666666,
             "#ed7953"
            ],
            [
             0.7777777777777778,
             "#fb9f3a"
            ],
            [
             0.8888888888888888,
             "#fdca26"
            ],
            [
             1,
             "#f0f921"
            ]
           ]
          },
          "colorway": [
           "#636efa",
           "#EF553B",
           "#00cc96",
           "#ab63fa",
           "#FFA15A",
           "#19d3f3",
           "#FF6692",
           "#B6E880",
           "#FF97FF",
           "#FECB52"
          ],
          "font": {
           "color": "#2a3f5f"
          },
          "geo": {
           "bgcolor": "white",
           "lakecolor": "white",
           "landcolor": "#E5ECF6",
           "showlakes": true,
           "showland": true,
           "subunitcolor": "white"
          },
          "hoverlabel": {
           "align": "left"
          },
          "hovermode": "closest",
          "mapbox": {
           "style": "light"
          },
          "paper_bgcolor": "white",
          "plot_bgcolor": "#E5ECF6",
          "polar": {
           "angularaxis": {
            "gridcolor": "white",
            "linecolor": "white",
            "ticks": ""
           },
           "bgcolor": "#E5ECF6",
           "radialaxis": {
            "gridcolor": "white",
            "linecolor": "white",
            "ticks": ""
           }
          },
          "scene": {
           "xaxis": {
            "backgroundcolor": "#E5ECF6",
            "gridcolor": "white",
            "gridwidth": 2,
            "linecolor": "white",
            "showbackground": true,
            "ticks": "",
            "zerolinecolor": "white"
           },
           "yaxis": {
            "backgroundcolor": "#E5ECF6",
            "gridcolor": "white",
            "gridwidth": 2,
            "linecolor": "white",
            "showbackground": true,
            "ticks": "",
            "zerolinecolor": "white"
           },
           "zaxis": {
            "backgroundcolor": "#E5ECF6",
            "gridcolor": "white",
            "gridwidth": 2,
            "linecolor": "white",
            "showbackground": true,
            "ticks": "",
            "zerolinecolor": "white"
           }
          },
          "shapedefaults": {
           "line": {
            "color": "#2a3f5f"
           }
          },
          "ternary": {
           "aaxis": {
            "gridcolor": "white",
            "linecolor": "white",
            "ticks": ""
           },
           "baxis": {
            "gridcolor": "white",
            "linecolor": "white",
            "ticks": ""
           },
           "bgcolor": "#E5ECF6",
           "caxis": {
            "gridcolor": "white",
            "linecolor": "white",
            "ticks": ""
           }
          },
          "title": {
           "x": 0.05
          },
          "xaxis": {
           "automargin": true,
           "gridcolor": "white",
           "linecolor": "white",
           "ticks": "",
           "title": {
            "standoff": 15
           },
           "zerolinecolor": "white",
           "zerolinewidth": 2
          },
          "yaxis": {
           "automargin": true,
           "gridcolor": "white",
           "linecolor": "white",
           "ticks": "",
           "title": {
            "standoff": 15
           },
           "zerolinecolor": "white",
           "zerolinewidth": 2
          }
         }
        },
        "title": {
         "text": "Candlestick Chart for SBIN.NS - Trend: Neutral"
        },
        "xaxis": {
         "rangeslider": {
          "visible": true
         }
        }
       }
      },
      "text/html": [
       "<div>                            <div id=\"0603e084-50c8-4785-85f0-6f0b4024cc34\" class=\"plotly-graph-div\" style=\"height:525px; width:100%;\"></div>            <script type=\"text/javascript\">                require([\"plotly\"], function(Plotly) {                    window.PLOTLYENV=window.PLOTLYENV || {};                                    if (document.getElementById(\"0603e084-50c8-4785-85f0-6f0b4024cc34\")) {                    Plotly.newPlot(                        \"0603e084-50c8-4785-85f0-6f0b4024cc34\",                        [{\"close\":[610.0499877929688,610.75,610.7999877929688,608.0499877929688,606.7999877929688,603.5499877929688,601.4000244140625,602.75,605.5,606.0,612.7999877929688,613.25,617.9500122070312,617.7999877929688,618.5,616.2999877929688,619.4000244140625,621.2999877929688,616.5499877929688,616.5499877929688,615.75,613.5999755859375,613.5499877929688,612.4000244140625,614.5499877929688,613.5499877929688,614.0499877929688,612.2999877929688,612.0999755859375,614.7000122070312,616.4000244140625,618.9000244140625,618.5,618.5499877929688,618.2999877929688,622.0,617.75,616.7999877929688,616.0499877929688,614.5499877929688,612.7000122070312,611.5999755859375,611.25,611.0,611.25,610.25,609.5499877929688,609.5,610.0,608.25,609.1500244140625,606.8499755859375,607.3499755859375,607.25,606.75,609.75,609.2000122070312,609.7999877929688,612.8499755859375,615.0],\"high\":[611.0999755859375,611.4000244140625,612.5,610.75,609.4500122070312,607.4000244140625,605.25,606.2000122070312,606.5499877929688,606.5999755859375,612.8499755859375,614.25,618.3499755859375,620.2999877929688,620.0,619.2999877929688,619.5999755859375,622.2999877929688,622.0,617.75,616.75,615.9000244140625,614.7999877929688,613.7000122070312,614.9500122070312,615.7000122070312,615.3499755859375,614.5499877929688,613.6500244140625,614.7999877929688,616.9500122070312,619.5499877929688,619.2000122070312,619.5,619.5,623.7999877929688,622.1500244140625,619.5999755859375,617.3499755859375,616.4500122070312,615.0,613.0,612.9000244140625,613.0,612.5,611.3499755859375,611.2999877929688,610.0999755859375,610.9000244140625,610.8499755859375,609.5,609.25,607.5999755859375,608.2000122070312,607.9000244140625,610.0,610.3499755859375,610.2999877929688,613.2999877929688,617.0],\"low\":[609.1500244140625,608.5499877929688,609.4500122070312,606.9500122070312,606.3499755859375,602.4000244140625,600.75,601.1500244140625,602.2999877929688,604.25,603.4000244140625,611.0499877929688,613.5499877929688,615.75,617.7000122070312,616.2000122070312,615.4000244140625,619.7000122070312,616.3499755859375,614.0,614.4000244140625,612.0999755859375,611.5999755859375,610.9500122070312,611.2000122070312,612.5999755859375,612.0,612.2999877929688,611.5,612.0,613.5999755859375,615.75,616.2000122070312,617.0,617.5,617.5999755859375,617.5999755859375,616.5,615.8499755859375,613.0499877929688,611.6500244140625,610.4000244140625,609.7999877929688,610.4000244140625,610.25,609.3499755859375,609.4000244140625,608.0,609.0,607.6500244140625,607.2999877929688,606.7000122070312,606.5999755859375,606.3499755859375,606.2999877929688,606.7000122070312,607.8499755859375,608.9000244140625,609.75,612.5499877929688],\"open\":[609.8499755859375,610.2000122070312,610.7999877929688,610.75,608.2000122070312,607.0999755859375,603.5499877929688,601.4000244140625,602.8499755859375,605.4000244140625,607.7000122070312,612.4500122070312,613.5499877929688,617.9500122070312,617.9500122070312,618.5,616.1500244140625,619.7999877929688,621.2999877929688,616.2999877929688,616.5499877929688,615.75,613.9000244140625,613.5,612.25,614.6500244140625,613.5999755859375,614.1500244140625,612.2999877929688,612.2000122070312,614.3499755859375,616.25,618.9500122070312,618.5,618.6500244140625,620.0,622.0,617.75,616.75,616.0499877929688,614.4500122070312,612.8499755859375,611.5999755859375,611.4000244140625,611.0999755859375,611.2000122070312,610.4500122070312,609.5,609.5,610.0,608.25,609.0,606.7000122070312,607.25,607.3499755859375,606.75,609.7999877929688,609.2000122070312,609.7999877929688,612.7999877929688],\"x\":[40,41,42,43,44,45,46,47,48,49,50,51,52,53,54,55,56,57,58,59,60,61,62,63,64,65,66,67,68,69,70,71,72,73,74,75,76,77,78,79,80,81,82,83,84,85,86,87,88,89,90,91,92,93,94,95,96,97,98,99],\"type\":\"candlestick\"},{\"marker\":{\"color\":\"MediumPurple\",\"size\":4},\"mode\":\"markers\",\"name\":\"pivot\",\"x\":[40,41,42,43,44,45,46,47,48,49,50,51,52,53,54,55,56,57,58,59,60,61,62,63,64,65,66,67,68,69,70,71,72,73,74,75,76,77,78,79,80,81,82,83,84,85,86,87,88,89,90,91,92,93,94,95,96,97,98,99],\"y\":[null,null,612.501,null,null,null,600.749,null,null,null,null,null,null,620.3009877929687,null,null,null,622.3009877929687,null,null,null,null,null,610.9490122070313,null,615.7010122070312,null,null,611.499,null,null,619.5509877929687,null,null,null,623.8009877929687,null,null,null,null,null,null,null,null,null,null,null,null,null,null,null,null,null,null,606.2989877929688,null,null,null,null,null],\"type\":\"scatter\"},{\"line\":{\"color\":\"green\",\"width\":2},\"mode\":\"lines\",\"name\":\"low triangle line\",\"x\":[63.0,68.0,94.0,95.0],\"y\":[611.5804534434699,610.7483200642464,606.421226492284],\"type\":\"scatter\"},{\"line\":{\"color\":\"red\",\"width\":2},\"mode\":\"lines\",\"name\":\"high triangle line\",\"x\":[53.0,57.0,65.0,71.0,75.0,76.0],\"y\":[619.849522550341,620.0211190237126,620.3643119704554,620.6217066805127,620.7933031538842],\"type\":\"scatter\"}],                        {\"template\":{\"data\":{\"histogram2dcontour\":[{\"type\":\"histogram2dcontour\",\"colorbar\":{\"outlinewidth\":0,\"ticks\":\"\"},\"colorscale\":[[0.0,\"#0d0887\"],[0.1111111111111111,\"#46039f\"],[0.2222222222222222,\"#7201a8\"],[0.3333333333333333,\"#9c179e\"],[0.4444444444444444,\"#bd3786\"],[0.5555555555555556,\"#d8576b\"],[0.6666666666666666,\"#ed7953\"],[0.7777777777777778,\"#fb9f3a\"],[0.8888888888888888,\"#fdca26\"],[1.0,\"#f0f921\"]]}],\"choropleth\":[{\"type\":\"choropleth\",\"colorbar\":{\"outlinewidth\":0,\"ticks\":\"\"}}],\"histogram2d\":[{\"type\":\"histogram2d\",\"colorbar\":{\"outlinewidth\":0,\"ticks\":\"\"},\"colorscale\":[[0.0,\"#0d0887\"],[0.1111111111111111,\"#46039f\"],[0.2222222222222222,\"#7201a8\"],[0.3333333333333333,\"#9c179e\"],[0.4444444444444444,\"#bd3786\"],[0.5555555555555556,\"#d8576b\"],[0.6666666666666666,\"#ed7953\"],[0.7777777777777778,\"#fb9f3a\"],[0.8888888888888888,\"#fdca26\"],[1.0,\"#f0f921\"]]}],\"heatmap\":[{\"type\":\"heatmap\",\"colorbar\":{\"outlinewidth\":0,\"ticks\":\"\"},\"colorscale\":[[0.0,\"#0d0887\"],[0.1111111111111111,\"#46039f\"],[0.2222222222222222,\"#7201a8\"],[0.3333333333333333,\"#9c179e\"],[0.4444444444444444,\"#bd3786\"],[0.5555555555555556,\"#d8576b\"],[0.6666666666666666,\"#ed7953\"],[0.7777777777777778,\"#fb9f3a\"],[0.8888888888888888,\"#fdca26\"],[1.0,\"#f0f921\"]]}],\"heatmapgl\":[{\"type\":\"heatmapgl\",\"colorbar\":{\"outlinewidth\":0,\"ticks\":\"\"},\"colorscale\":[[0.0,\"#0d0887\"],[0.1111111111111111,\"#46039f\"],[0.2222222222222222,\"#7201a8\"],[0.3333333333333333,\"#9c179e\"],[0.4444444444444444,\"#bd3786\"],[0.5555555555555556,\"#d8576b\"],[0.6666666666666666,\"#ed7953\"],[0.7777777777777778,\"#fb9f3a\"],[0.8888888888888888,\"#fdca26\"],[1.0,\"#f0f921\"]]}],\"contourcarpet\":[{\"type\":\"contourcarpet\",\"colorbar\":{\"outlinewidth\":0,\"ticks\":\"\"}}],\"contour\":[{\"type\":\"contour\",\"colorbar\":{\"outlinewidth\":0,\"ticks\":\"\"},\"colorscale\":[[0.0,\"#0d0887\"],[0.1111111111111111,\"#46039f\"],[0.2222222222222222,\"#7201a8\"],[0.3333333333333333,\"#9c179e\"],[0.4444444444444444,\"#bd3786\"],[0.5555555555555556,\"#d8576b\"],[0.6666666666666666,\"#ed7953\"],[0.7777777777777778,\"#fb9f3a\"],[0.8888888888888888,\"#fdca26\"],[1.0,\"#f0f921\"]]}],\"surface\":[{\"type\":\"surface\",\"colorbar\":{\"outlinewidth\":0,\"ticks\":\"\"},\"colorscale\":[[0.0,\"#0d0887\"],[0.1111111111111111,\"#46039f\"],[0.2222222222222222,\"#7201a8\"],[0.3333333333333333,\"#9c179e\"],[0.4444444444444444,\"#bd3786\"],[0.5555555555555556,\"#d8576b\"],[0.6666666666666666,\"#ed7953\"],[0.7777777777777778,\"#fb9f3a\"],[0.8888888888888888,\"#fdca26\"],[1.0,\"#f0f921\"]]}],\"mesh3d\":[{\"type\":\"mesh3d\",\"colorbar\":{\"outlinewidth\":0,\"ticks\":\"\"}}],\"scatter\":[{\"fillpattern\":{\"fillmode\":\"overlay\",\"size\":10,\"solidity\":0.2},\"type\":\"scatter\"}],\"parcoords\":[{\"type\":\"parcoords\",\"line\":{\"colorbar\":{\"outlinewidth\":0,\"ticks\":\"\"}}}],\"scatterpolargl\":[{\"type\":\"scatterpolargl\",\"marker\":{\"colorbar\":{\"outlinewidth\":0,\"ticks\":\"\"}}}],\"bar\":[{\"error_x\":{\"color\":\"#2a3f5f\"},\"error_y\":{\"color\":\"#2a3f5f\"},\"marker\":{\"line\":{\"color\":\"#E5ECF6\",\"width\":0.5},\"pattern\":{\"fillmode\":\"overlay\",\"size\":10,\"solidity\":0.2}},\"type\":\"bar\"}],\"scattergeo\":[{\"type\":\"scattergeo\",\"marker\":{\"colorbar\":{\"outlinewidth\":0,\"ticks\":\"\"}}}],\"scatterpolar\":[{\"type\":\"scatterpolar\",\"marker\":{\"colorbar\":{\"outlinewidth\":0,\"ticks\":\"\"}}}],\"histogram\":[{\"marker\":{\"pattern\":{\"fillmode\":\"overlay\",\"size\":10,\"solidity\":0.2}},\"type\":\"histogram\"}],\"scattergl\":[{\"type\":\"scattergl\",\"marker\":{\"colorbar\":{\"outlinewidth\":0,\"ticks\":\"\"}}}],\"scatter3d\":[{\"type\":\"scatter3d\",\"line\":{\"colorbar\":{\"outlinewidth\":0,\"ticks\":\"\"}},\"marker\":{\"colorbar\":{\"outlinewidth\":0,\"ticks\":\"\"}}}],\"scattermapbox\":[{\"type\":\"scattermapbox\",\"marker\":{\"colorbar\":{\"outlinewidth\":0,\"ticks\":\"\"}}}],\"scatterternary\":[{\"type\":\"scatterternary\",\"marker\":{\"colorbar\":{\"outlinewidth\":0,\"ticks\":\"\"}}}],\"scattercarpet\":[{\"type\":\"scattercarpet\",\"marker\":{\"colorbar\":{\"outlinewidth\":0,\"ticks\":\"\"}}}],\"carpet\":[{\"aaxis\":{\"endlinecolor\":\"#2a3f5f\",\"gridcolor\":\"white\",\"linecolor\":\"white\",\"minorgridcolor\":\"white\",\"startlinecolor\":\"#2a3f5f\"},\"baxis\":{\"endlinecolor\":\"#2a3f5f\",\"gridcolor\":\"white\",\"linecolor\":\"white\",\"minorgridcolor\":\"white\",\"startlinecolor\":\"#2a3f5f\"},\"type\":\"carpet\"}],\"table\":[{\"cells\":{\"fill\":{\"color\":\"#EBF0F8\"},\"line\":{\"color\":\"white\"}},\"header\":{\"fill\":{\"color\":\"#C8D4E3\"},\"line\":{\"color\":\"white\"}},\"type\":\"table\"}],\"barpolar\":[{\"marker\":{\"line\":{\"color\":\"#E5ECF6\",\"width\":0.5},\"pattern\":{\"fillmode\":\"overlay\",\"size\":10,\"solidity\":0.2}},\"type\":\"barpolar\"}],\"pie\":[{\"automargin\":true,\"type\":\"pie\"}]},\"layout\":{\"autotypenumbers\":\"strict\",\"colorway\":[\"#636efa\",\"#EF553B\",\"#00cc96\",\"#ab63fa\",\"#FFA15A\",\"#19d3f3\",\"#FF6692\",\"#B6E880\",\"#FF97FF\",\"#FECB52\"],\"font\":{\"color\":\"#2a3f5f\"},\"hovermode\":\"closest\",\"hoverlabel\":{\"align\":\"left\"},\"paper_bgcolor\":\"white\",\"plot_bgcolor\":\"#E5ECF6\",\"polar\":{\"bgcolor\":\"#E5ECF6\",\"angularaxis\":{\"gridcolor\":\"white\",\"linecolor\":\"white\",\"ticks\":\"\"},\"radialaxis\":{\"gridcolor\":\"white\",\"linecolor\":\"white\",\"ticks\":\"\"}},\"ternary\":{\"bgcolor\":\"#E5ECF6\",\"aaxis\":{\"gridcolor\":\"white\",\"linecolor\":\"white\",\"ticks\":\"\"},\"baxis\":{\"gridcolor\":\"white\",\"linecolor\":\"white\",\"ticks\":\"\"},\"caxis\":{\"gridcolor\":\"white\",\"linecolor\":\"white\",\"ticks\":\"\"}},\"coloraxis\":{\"colorbar\":{\"outlinewidth\":0,\"ticks\":\"\"}},\"colorscale\":{\"sequential\":[[0.0,\"#0d0887\"],[0.1111111111111111,\"#46039f\"],[0.2222222222222222,\"#7201a8\"],[0.3333333333333333,\"#9c179e\"],[0.4444444444444444,\"#bd3786\"],[0.5555555555555556,\"#d8576b\"],[0.6666666666666666,\"#ed7953\"],[0.7777777777777778,\"#fb9f3a\"],[0.8888888888888888,\"#fdca26\"],[1.0,\"#f0f921\"]],\"sequentialminus\":[[0.0,\"#0d0887\"],[0.1111111111111111,\"#46039f\"],[0.2222222222222222,\"#7201a8\"],[0.3333333333333333,\"#9c179e\"],[0.4444444444444444,\"#bd3786\"],[0.5555555555555556,\"#d8576b\"],[0.6666666666666666,\"#ed7953\"],[0.7777777777777778,\"#fb9f3a\"],[0.8888888888888888,\"#fdca26\"],[1.0,\"#f0f921\"]],\"diverging\":[[0,\"#8e0152\"],[0.1,\"#c51b7d\"],[0.2,\"#de77ae\"],[0.3,\"#f1b6da\"],[0.4,\"#fde0ef\"],[0.5,\"#f7f7f7\"],[0.6,\"#e6f5d0\"],[0.7,\"#b8e186\"],[0.8,\"#7fbc41\"],[0.9,\"#4d9221\"],[1,\"#276419\"]]},\"xaxis\":{\"gridcolor\":\"white\",\"linecolor\":\"white\",\"ticks\":\"\",\"title\":{\"standoff\":15},\"zerolinecolor\":\"white\",\"automargin\":true,\"zerolinewidth\":2},\"yaxis\":{\"gridcolor\":\"white\",\"linecolor\":\"white\",\"ticks\":\"\",\"title\":{\"standoff\":15},\"zerolinecolor\":\"white\",\"automargin\":true,\"zerolinewidth\":2},\"scene\":{\"xaxis\":{\"backgroundcolor\":\"#E5ECF6\",\"gridcolor\":\"white\",\"linecolor\":\"white\",\"showbackground\":true,\"ticks\":\"\",\"zerolinecolor\":\"white\",\"gridwidth\":2},\"yaxis\":{\"backgroundcolor\":\"#E5ECF6\",\"gridcolor\":\"white\",\"linecolor\":\"white\",\"showbackground\":true,\"ticks\":\"\",\"zerolinecolor\":\"white\",\"gridwidth\":2},\"zaxis\":{\"backgroundcolor\":\"#E5ECF6\",\"gridcolor\":\"white\",\"linecolor\":\"white\",\"showbackground\":true,\"ticks\":\"\",\"zerolinecolor\":\"white\",\"gridwidth\":2}},\"shapedefaults\":{\"line\":{\"color\":\"#2a3f5f\"}},\"annotationdefaults\":{\"arrowcolor\":\"#2a3f5f\",\"arrowhead\":0,\"arrowwidth\":1},\"geo\":{\"bgcolor\":\"white\",\"landcolor\":\"#E5ECF6\",\"subunitcolor\":\"white\",\"showland\":true,\"showlakes\":true,\"lakecolor\":\"white\"},\"title\":{\"x\":0.05},\"mapbox\":{\"style\":\"light\"}}},\"xaxis\":{\"rangeslider\":{\"visible\":true}},\"title\":{\"text\":\"Candlestick Chart for SBIN.NS - Trend: Neutral\"}},                        {\"responsive\": true}                    ).then(function(){\n",
       "                            \n",
       "var gd = document.getElementById('0603e084-50c8-4785-85f0-6f0b4024cc34');\n",
       "var x = new MutationObserver(function (mutations, observer) {{\n",
       "        var display = window.getComputedStyle(gd).display;\n",
       "        if (!display || display === 'none') {{\n",
       "            console.log([gd, 'removed!']);\n",
       "            Plotly.purge(gd);\n",
       "            observer.disconnect();\n",
       "        }}\n",
       "}});\n",
       "\n",
       "// Listen for the removal of the full notebook cells\n",
       "var notebookContainer = gd.closest('#notebook-container');\n",
       "if (notebookContainer) {{\n",
       "    x.observe(notebookContainer, {childList: true});\n",
       "}}\n",
       "\n",
       "// Listen for the clearing of the current output cell\n",
       "var outputEl = gd.closest('.output');\n",
       "if (outputEl) {{\n",
       "    x.observe(outputEl, {childList: true});\n",
       "}}\n",
       "\n",
       "                        })                };                });            </script>        </div>"
      ]
     },
     "metadata": {},
     "output_type": "display_data"
    },
    {
     "name": "stdout",
     "output_type": "stream",
     "text": [
      "[*********************100%%**********************]  1 of 1 completed\n"
     ]
    },
    {
     "data": {
      "application/vnd.plotly.v1+json": {
       "config": {
        "plotlyServerURL": "https://plot.ly"
       },
       "data": [
        {
         "close": [
          1034.9000244140625,
          1032.0999755859375,
          1030.050048828125,
          1028.1500244140625,
          1023.7999877929688,
          1025.550048828125,
          1024,
          1025.8499755859375,
          1030.25,
          1029.050048828125,
          1025.949951171875,
          1030.4000244140625,
          1030.550048828125,
          1027.949951171875,
          1033.050048828125,
          1026.3499755859375,
          1026.300048828125,
          1024.25,
          1014.4500122070312,
          1011.6500244140625,
          1006.4500122070312,
          1001.7000122070312,
          1002.2999877929688,
          999.5999755859375,
          1001.9000244140625,
          999.9000244140625,
          999,
          999.2000122070312,
          997.8499755859375,
          998,
          998,
          998,
          998.5,
          999.5,
          998.5,
          993.7000122070312,
          995.0499877929688,
          994.25,
          996.0499877929688,
          991.3499755859375,
          993,
          994,
          996.2000122070312,
          996.2000122070312,
          999.1500244140625,
          997.3499755859375,
          998.1500244140625,
          997.5,
          996.6500244140625,
          996.5,
          1002,
          1001.0499877929688,
          1002.4000244140625,
          1003.9000244140625,
          1003.3499755859375,
          1003.4500122070312,
          1002.3499755859375,
          1002.9500122070312,
          1010.2000122070312,
          1009
         ],
         "high": [
          1035.0999755859375,
          1036,
          1032.300048828125,
          1030.1500244140625,
          1028.5,
          1027.949951171875,
          1025.699951171875,
          1029.800048828125,
          1030.5999755859375,
          1031.1500244140625,
          1034.300048828125,
          1032.5999755859375,
          1035.9000244140625,
          1031.550048828125,
          1034.949951171875,
          1033.800048828125,
          1029,
          1028.0999755859375,
          1024.6500244140625,
          1015.4500122070312,
          1011.7000122070312,
          1006.9000244140625,
          1003.9500122070312,
          1002.7999877929688,
          1002.4000244140625,
          1003.5499877929688,
          1002.3499755859375,
          1000,
          1001.0499877929688,
          1001.9500122070312,
          998.0999755859375,
          999.2999877929688,
          999,
          1001.5999755859375,
          999.5499877929688,
          1000.9000244140625,
          998.3499755859375,
          997,
          996.4000244140625,
          996.0499877929688,
          995.4000244140625,
          994.5499877929688,
          997,
          999.6500244140625,
          1002.4000244140625,
          999.7000122070312,
          1000.0499877929688,
          998.9000244140625,
          998,
          1000.4000244140625,
          1002.7000122070312,
          1002.7999877929688,
          1004.0999755859375,
          1005.5,
          1004.75,
          1003.8499755859375,
          1006,
          1003.9500122070312,
          1012.9500122070312,
          1014.8499755859375
         ],
         "low": [
          1032.6500244140625,
          1029.550048828125,
          1029.0999755859375,
          1025.800048828125,
          1023.6500244140625,
          1023.3499755859375,
          1021.3499755859375,
          1023.9500122070312,
          1025,
          1027.9000244140625,
          1022.1500244140625,
          1024.75,
          1030.050048828125,
          1026.1500244140625,
          1027.6500244140625,
          1026.3499755859375,
          1024.25,
          1024.050048828125,
          1014.2000122070312,
          1010.7000122070312,
          1005.0499877929688,
          999.25,
          999.4000244140625,
          997.4000244140625,
          998.7999877929688,
          999.2999877929688,
          996.7999877929688,
          997.0999755859375,
          997.6500244140625,
          997.7000122070312,
          997.5999755859375,
          997.7999877929688,
          997.7000122070312,
          996.75,
          998.2999877929688,
          992.0499877929688,
          993.25,
          993.0499877929688,
          994,
          988.25,
          990,
          991.7999877929688,
          993.5499877929688,
          995.7000122070312,
          995.3499755859375,
          994.25,
          997,
          996.6500244140625,
          993.7999877929688,
          995.6500244140625,
          996.4500122070312,
          999.5999755859375,
          1000.9500122070312,
          1001.9000244140625,
          1002.9500122070312,
          1000.5,
          1001.3499755859375,
          1001.3499755859375,
          1002.5999755859375,
          1006
         ],
         "open": [
          1034.5,
          1034.550048828125,
          1032.050048828125,
          1030.1500244140625,
          1028.199951171875,
          1023.5499877929688,
          1025.4000244140625,
          1023.9500122070312,
          1026,
          1030.050048828125,
          1030.949951171875,
          1026.449951171875,
          1030.449951171875,
          1030.449951171875,
          1028,
          1033,
          1026.300048828125,
          1026.5999755859375,
          1024.199951171875,
          1014.5499877929688,
          1011.6500244140625,
          1006.3499755859375,
          1001.75,
          1002.4000244140625,
          999.5,
          1001.8499755859375,
          999.8499755859375,
          999.0499877929688,
          999.2000122070312,
          997.9500122070312,
          997.9500122070312,
          998,
          998,
          998.5,
          999.5,
          998.4000244140625,
          993.9500122070312,
          994.6500244140625,
          994.2000122070312,
          996.0499877929688,
          991.4000244140625,
          993,
          994,
          996.2000122070312,
          996.5999755859375,
          999.1500244140625,
          997.4000244140625,
          998.0999755859375,
          997.5,
          996.7999877929688,
          996.75,
          1002.0999755859375,
          1000.9500122070312,
          1002.0499877929688,
          1004,
          1003.2999877929688,
          1003.4500122070312,
          1002.4500122070312,
          1002.5999755859375,
          1010.2000122070312
         ],
         "type": "candlestick",
         "x": [
          40,
          41,
          42,
          43,
          44,
          45,
          46,
          47,
          48,
          49,
          50,
          51,
          52,
          53,
          54,
          55,
          56,
          57,
          58,
          59,
          60,
          61,
          62,
          63,
          64,
          65,
          66,
          67,
          68,
          69,
          70,
          71,
          72,
          73,
          74,
          75,
          76,
          77,
          78,
          79,
          80,
          81,
          82,
          83,
          84,
          85,
          86,
          87,
          88,
          89,
          90,
          91,
          92,
          93,
          94,
          95,
          96,
          97,
          98,
          99
         ]
        },
        {
         "marker": {
          "color": "MediumPurple",
          "size": 4
         },
         "mode": "markers",
         "name": "pivot",
         "type": "scatter",
         "x": [
          40,
          41,
          42,
          43,
          44,
          45,
          46,
          47,
          48,
          49,
          50,
          51,
          52,
          53,
          54,
          55,
          56,
          57,
          58,
          59,
          60,
          61,
          62,
          63,
          64,
          65,
          66,
          67,
          68,
          69,
          70,
          71,
          72,
          73,
          74,
          75,
          76,
          77,
          78,
          79,
          80,
          81,
          82,
          83,
          84,
          85,
          86,
          87,
          88,
          89,
          90,
          91,
          92,
          93,
          94,
          95,
          96,
          97,
          98,
          99
         ],
         "y": [
          null,
          1036.001,
          null,
          null,
          null,
          null,
          1021.3489755859375,
          null,
          null,
          null,
          1022.1490244140625,
          null,
          1035.9010244140625,
          null,
          null,
          null,
          null,
          null,
          null,
          null,
          null,
          null,
          null,
          null,
          null,
          null,
          996.7989877929688,
          null,
          null,
          null,
          null,
          null,
          null,
          1001.6009755859375,
          null,
          992.0489877929688,
          null,
          null,
          null,
          988.249,
          null,
          null,
          null,
          null,
          1002.4010244140625,
          null,
          null,
          null,
          993.7989877929688,
          null,
          null,
          null,
          null,
          null,
          null,
          1000.499,
          null,
          null,
          null,
          null
         ]
        },
        {
         "line": {
          "color": "green",
          "width": 2
         },
         "mode": "lines",
         "name": "low triangle line",
         "type": "scatter",
         "x": [
          50,
          66,
          75,
          79,
          88,
          95,
          96
         ],
         "y": [
          1011.5677309266754,
          1003.6350357353464,
          999.1728946902238,
          997.1897208923915,
          992.727579847269,
          989.2570257010625
         ]
        },
        {
         "line": {
          "color": "red",
          "width": 2
         },
         "mode": "lines",
         "name": "high triangle line",
         "type": "scatter",
         "x": [
          52,
          73,
          84,
          85
         ],
         "y": [
          1033.1666592264837,
          1009.5515834043488,
          997.1817817832303
         ]
        }
       ],
       "layout": {
        "template": {
         "data": {
          "bar": [
           {
            "error_x": {
             "color": "#2a3f5f"
            },
            "error_y": {
             "color": "#2a3f5f"
            },
            "marker": {
             "line": {
              "color": "#E5ECF6",
              "width": 0.5
             },
             "pattern": {
              "fillmode": "overlay",
              "size": 10,
              "solidity": 0.2
             }
            },
            "type": "bar"
           }
          ],
          "barpolar": [
           {
            "marker": {
             "line": {
              "color": "#E5ECF6",
              "width": 0.5
             },
             "pattern": {
              "fillmode": "overlay",
              "size": 10,
              "solidity": 0.2
             }
            },
            "type": "barpolar"
           }
          ],
          "carpet": [
           {
            "aaxis": {
             "endlinecolor": "#2a3f5f",
             "gridcolor": "white",
             "linecolor": "white",
             "minorgridcolor": "white",
             "startlinecolor": "#2a3f5f"
            },
            "baxis": {
             "endlinecolor": "#2a3f5f",
             "gridcolor": "white",
             "linecolor": "white",
             "minorgridcolor": "white",
             "startlinecolor": "#2a3f5f"
            },
            "type": "carpet"
           }
          ],
          "choropleth": [
           {
            "colorbar": {
             "outlinewidth": 0,
             "ticks": ""
            },
            "type": "choropleth"
           }
          ],
          "contour": [
           {
            "colorbar": {
             "outlinewidth": 0,
             "ticks": ""
            },
            "colorscale": [
             [
              0,
              "#0d0887"
             ],
             [
              0.1111111111111111,
              "#46039f"
             ],
             [
              0.2222222222222222,
              "#7201a8"
             ],
             [
              0.3333333333333333,
              "#9c179e"
             ],
             [
              0.4444444444444444,
              "#bd3786"
             ],
             [
              0.5555555555555556,
              "#d8576b"
             ],
             [
              0.6666666666666666,
              "#ed7953"
             ],
             [
              0.7777777777777778,
              "#fb9f3a"
             ],
             [
              0.8888888888888888,
              "#fdca26"
             ],
             [
              1,
              "#f0f921"
             ]
            ],
            "type": "contour"
           }
          ],
          "contourcarpet": [
           {
            "colorbar": {
             "outlinewidth": 0,
             "ticks": ""
            },
            "type": "contourcarpet"
           }
          ],
          "heatmap": [
           {
            "colorbar": {
             "outlinewidth": 0,
             "ticks": ""
            },
            "colorscale": [
             [
              0,
              "#0d0887"
             ],
             [
              0.1111111111111111,
              "#46039f"
             ],
             [
              0.2222222222222222,
              "#7201a8"
             ],
             [
              0.3333333333333333,
              "#9c179e"
             ],
             [
              0.4444444444444444,
              "#bd3786"
             ],
             [
              0.5555555555555556,
              "#d8576b"
             ],
             [
              0.6666666666666666,
              "#ed7953"
             ],
             [
              0.7777777777777778,
              "#fb9f3a"
             ],
             [
              0.8888888888888888,
              "#fdca26"
             ],
             [
              1,
              "#f0f921"
             ]
            ],
            "type": "heatmap"
           }
          ],
          "heatmapgl": [
           {
            "colorbar": {
             "outlinewidth": 0,
             "ticks": ""
            },
            "colorscale": [
             [
              0,
              "#0d0887"
             ],
             [
              0.1111111111111111,
              "#46039f"
             ],
             [
              0.2222222222222222,
              "#7201a8"
             ],
             [
              0.3333333333333333,
              "#9c179e"
             ],
             [
              0.4444444444444444,
              "#bd3786"
             ],
             [
              0.5555555555555556,
              "#d8576b"
             ],
             [
              0.6666666666666666,
              "#ed7953"
             ],
             [
              0.7777777777777778,
              "#fb9f3a"
             ],
             [
              0.8888888888888888,
              "#fdca26"
             ],
             [
              1,
              "#f0f921"
             ]
            ],
            "type": "heatmapgl"
           }
          ],
          "histogram": [
           {
            "marker": {
             "pattern": {
              "fillmode": "overlay",
              "size": 10,
              "solidity": 0.2
             }
            },
            "type": "histogram"
           }
          ],
          "histogram2d": [
           {
            "colorbar": {
             "outlinewidth": 0,
             "ticks": ""
            },
            "colorscale": [
             [
              0,
              "#0d0887"
             ],
             [
              0.1111111111111111,
              "#46039f"
             ],
             [
              0.2222222222222222,
              "#7201a8"
             ],
             [
              0.3333333333333333,
              "#9c179e"
             ],
             [
              0.4444444444444444,
              "#bd3786"
             ],
             [
              0.5555555555555556,
              "#d8576b"
             ],
             [
              0.6666666666666666,
              "#ed7953"
             ],
             [
              0.7777777777777778,
              "#fb9f3a"
             ],
             [
              0.8888888888888888,
              "#fdca26"
             ],
             [
              1,
              "#f0f921"
             ]
            ],
            "type": "histogram2d"
           }
          ],
          "histogram2dcontour": [
           {
            "colorbar": {
             "outlinewidth": 0,
             "ticks": ""
            },
            "colorscale": [
             [
              0,
              "#0d0887"
             ],
             [
              0.1111111111111111,
              "#46039f"
             ],
             [
              0.2222222222222222,
              "#7201a8"
             ],
             [
              0.3333333333333333,
              "#9c179e"
             ],
             [
              0.4444444444444444,
              "#bd3786"
             ],
             [
              0.5555555555555556,
              "#d8576b"
             ],
             [
              0.6666666666666666,
              "#ed7953"
             ],
             [
              0.7777777777777778,
              "#fb9f3a"
             ],
             [
              0.8888888888888888,
              "#fdca26"
             ],
             [
              1,
              "#f0f921"
             ]
            ],
            "type": "histogram2dcontour"
           }
          ],
          "mesh3d": [
           {
            "colorbar": {
             "outlinewidth": 0,
             "ticks": ""
            },
            "type": "mesh3d"
           }
          ],
          "parcoords": [
           {
            "line": {
             "colorbar": {
              "outlinewidth": 0,
              "ticks": ""
             }
            },
            "type": "parcoords"
           }
          ],
          "pie": [
           {
            "automargin": true,
            "type": "pie"
           }
          ],
          "scatter": [
           {
            "fillpattern": {
             "fillmode": "overlay",
             "size": 10,
             "solidity": 0.2
            },
            "type": "scatter"
           }
          ],
          "scatter3d": [
           {
            "line": {
             "colorbar": {
              "outlinewidth": 0,
              "ticks": ""
             }
            },
            "marker": {
             "colorbar": {
              "outlinewidth": 0,
              "ticks": ""
             }
            },
            "type": "scatter3d"
           }
          ],
          "scattercarpet": [
           {
            "marker": {
             "colorbar": {
              "outlinewidth": 0,
              "ticks": ""
             }
            },
            "type": "scattercarpet"
           }
          ],
          "scattergeo": [
           {
            "marker": {
             "colorbar": {
              "outlinewidth": 0,
              "ticks": ""
             }
            },
            "type": "scattergeo"
           }
          ],
          "scattergl": [
           {
            "marker": {
             "colorbar": {
              "outlinewidth": 0,
              "ticks": ""
             }
            },
            "type": "scattergl"
           }
          ],
          "scattermapbox": [
           {
            "marker": {
             "colorbar": {
              "outlinewidth": 0,
              "ticks": ""
             }
            },
            "type": "scattermapbox"
           }
          ],
          "scatterpolar": [
           {
            "marker": {
             "colorbar": {
              "outlinewidth": 0,
              "ticks": ""
             }
            },
            "type": "scatterpolar"
           }
          ],
          "scatterpolargl": [
           {
            "marker": {
             "colorbar": {
              "outlinewidth": 0,
              "ticks": ""
             }
            },
            "type": "scatterpolargl"
           }
          ],
          "scatterternary": [
           {
            "marker": {
             "colorbar": {
              "outlinewidth": 0,
              "ticks": ""
             }
            },
            "type": "scatterternary"
           }
          ],
          "surface": [
           {
            "colorbar": {
             "outlinewidth": 0,
             "ticks": ""
            },
            "colorscale": [
             [
              0,
              "#0d0887"
             ],
             [
              0.1111111111111111,
              "#46039f"
             ],
             [
              0.2222222222222222,
              "#7201a8"
             ],
             [
              0.3333333333333333,
              "#9c179e"
             ],
             [
              0.4444444444444444,
              "#bd3786"
             ],
             [
              0.5555555555555556,
              "#d8576b"
             ],
             [
              0.6666666666666666,
              "#ed7953"
             ],
             [
              0.7777777777777778,
              "#fb9f3a"
             ],
             [
              0.8888888888888888,
              "#fdca26"
             ],
             [
              1,
              "#f0f921"
             ]
            ],
            "type": "surface"
           }
          ],
          "table": [
           {
            "cells": {
             "fill": {
              "color": "#EBF0F8"
             },
             "line": {
              "color": "white"
             }
            },
            "header": {
             "fill": {
              "color": "#C8D4E3"
             },
             "line": {
              "color": "white"
             }
            },
            "type": "table"
           }
          ]
         },
         "layout": {
          "annotationdefaults": {
           "arrowcolor": "#2a3f5f",
           "arrowhead": 0,
           "arrowwidth": 1
          },
          "autotypenumbers": "strict",
          "coloraxis": {
           "colorbar": {
            "outlinewidth": 0,
            "ticks": ""
           }
          },
          "colorscale": {
           "diverging": [
            [
             0,
             "#8e0152"
            ],
            [
             0.1,
             "#c51b7d"
            ],
            [
             0.2,
             "#de77ae"
            ],
            [
             0.3,
             "#f1b6da"
            ],
            [
             0.4,
             "#fde0ef"
            ],
            [
             0.5,
             "#f7f7f7"
            ],
            [
             0.6,
             "#e6f5d0"
            ],
            [
             0.7,
             "#b8e186"
            ],
            [
             0.8,
             "#7fbc41"
            ],
            [
             0.9,
             "#4d9221"
            ],
            [
             1,
             "#276419"
            ]
           ],
           "sequential": [
            [
             0,
             "#0d0887"
            ],
            [
             0.1111111111111111,
             "#46039f"
            ],
            [
             0.2222222222222222,
             "#7201a8"
            ],
            [
             0.3333333333333333,
             "#9c179e"
            ],
            [
             0.4444444444444444,
             "#bd3786"
            ],
            [
             0.5555555555555556,
             "#d8576b"
            ],
            [
             0.6666666666666666,
             "#ed7953"
            ],
            [
             0.7777777777777778,
             "#fb9f3a"
            ],
            [
             0.8888888888888888,
             "#fdca26"
            ],
            [
             1,
             "#f0f921"
            ]
           ],
           "sequentialminus": [
            [
             0,
             "#0d0887"
            ],
            [
             0.1111111111111111,
             "#46039f"
            ],
            [
             0.2222222222222222,
             "#7201a8"
            ],
            [
             0.3333333333333333,
             "#9c179e"
            ],
            [
             0.4444444444444444,
             "#bd3786"
            ],
            [
             0.5555555555555556,
             "#d8576b"
            ],
            [
             0.6666666666666666,
             "#ed7953"
            ],
            [
             0.7777777777777778,
             "#fb9f3a"
            ],
            [
             0.8888888888888888,
             "#fdca26"
            ],
            [
             1,
             "#f0f921"
            ]
           ]
          },
          "colorway": [
           "#636efa",
           "#EF553B",
           "#00cc96",
           "#ab63fa",
           "#FFA15A",
           "#19d3f3",
           "#FF6692",
           "#B6E880",
           "#FF97FF",
           "#FECB52"
          ],
          "font": {
           "color": "#2a3f5f"
          },
          "geo": {
           "bgcolor": "white",
           "lakecolor": "white",
           "landcolor": "#E5ECF6",
           "showlakes": true,
           "showland": true,
           "subunitcolor": "white"
          },
          "hoverlabel": {
           "align": "left"
          },
          "hovermode": "closest",
          "mapbox": {
           "style": "light"
          },
          "paper_bgcolor": "white",
          "plot_bgcolor": "#E5ECF6",
          "polar": {
           "angularaxis": {
            "gridcolor": "white",
            "linecolor": "white",
            "ticks": ""
           },
           "bgcolor": "#E5ECF6",
           "radialaxis": {
            "gridcolor": "white",
            "linecolor": "white",
            "ticks": ""
           }
          },
          "scene": {
           "xaxis": {
            "backgroundcolor": "#E5ECF6",
            "gridcolor": "white",
            "gridwidth": 2,
            "linecolor": "white",
            "showbackground": true,
            "ticks": "",
            "zerolinecolor": "white"
           },
           "yaxis": {
            "backgroundcolor": "#E5ECF6",
            "gridcolor": "white",
            "gridwidth": 2,
            "linecolor": "white",
            "showbackground": true,
            "ticks": "",
            "zerolinecolor": "white"
           },
           "zaxis": {
            "backgroundcolor": "#E5ECF6",
            "gridcolor": "white",
            "gridwidth": 2,
            "linecolor": "white",
            "showbackground": true,
            "ticks": "",
            "zerolinecolor": "white"
           }
          },
          "shapedefaults": {
           "line": {
            "color": "#2a3f5f"
           }
          },
          "ternary": {
           "aaxis": {
            "gridcolor": "white",
            "linecolor": "white",
            "ticks": ""
           },
           "baxis": {
            "gridcolor": "white",
            "linecolor": "white",
            "ticks": ""
           },
           "bgcolor": "#E5ECF6",
           "caxis": {
            "gridcolor": "white",
            "linecolor": "white",
            "ticks": ""
           }
          },
          "title": {
           "x": 0.05
          },
          "xaxis": {
           "automargin": true,
           "gridcolor": "white",
           "linecolor": "white",
           "ticks": "",
           "title": {
            "standoff": 15
           },
           "zerolinecolor": "white",
           "zerolinewidth": 2
          },
          "yaxis": {
           "automargin": true,
           "gridcolor": "white",
           "linecolor": "white",
           "ticks": "",
           "title": {
            "standoff": 15
           },
           "zerolinecolor": "white",
           "zerolinewidth": 2
          }
         }
        },
        "title": {
         "text": "Candlestick Chart for ICICIBANK.NS - Trend: Bearish"
        },
        "xaxis": {
         "rangeslider": {
          "visible": true
         }
        }
       }
      },
      "text/html": [
       "<div>                            <div id=\"dab948cd-e1b5-4691-991a-09cfbbabc5c9\" class=\"plotly-graph-div\" style=\"height:525px; width:100%;\"></div>            <script type=\"text/javascript\">                require([\"plotly\"], function(Plotly) {                    window.PLOTLYENV=window.PLOTLYENV || {};                                    if (document.getElementById(\"dab948cd-e1b5-4691-991a-09cfbbabc5c9\")) {                    Plotly.newPlot(                        \"dab948cd-e1b5-4691-991a-09cfbbabc5c9\",                        [{\"close\":[1034.9000244140625,1032.0999755859375,1030.050048828125,1028.1500244140625,1023.7999877929688,1025.550048828125,1024.0,1025.8499755859375,1030.25,1029.050048828125,1025.949951171875,1030.4000244140625,1030.550048828125,1027.949951171875,1033.050048828125,1026.3499755859375,1026.300048828125,1024.25,1014.4500122070312,1011.6500244140625,1006.4500122070312,1001.7000122070312,1002.2999877929688,999.5999755859375,1001.9000244140625,999.9000244140625,999.0,999.2000122070312,997.8499755859375,998.0,998.0,998.0,998.5,999.5,998.5,993.7000122070312,995.0499877929688,994.25,996.0499877929688,991.3499755859375,993.0,994.0,996.2000122070312,996.2000122070312,999.1500244140625,997.3499755859375,998.1500244140625,997.5,996.6500244140625,996.5,1002.0,1001.0499877929688,1002.4000244140625,1003.9000244140625,1003.3499755859375,1003.4500122070312,1002.3499755859375,1002.9500122070312,1010.2000122070312,1009.0],\"high\":[1035.0999755859375,1036.0,1032.300048828125,1030.1500244140625,1028.5,1027.949951171875,1025.699951171875,1029.800048828125,1030.5999755859375,1031.1500244140625,1034.300048828125,1032.5999755859375,1035.9000244140625,1031.550048828125,1034.949951171875,1033.800048828125,1029.0,1028.0999755859375,1024.6500244140625,1015.4500122070312,1011.7000122070312,1006.9000244140625,1003.9500122070312,1002.7999877929688,1002.4000244140625,1003.5499877929688,1002.3499755859375,1000.0,1001.0499877929688,1001.9500122070312,998.0999755859375,999.2999877929688,999.0,1001.5999755859375,999.5499877929688,1000.9000244140625,998.3499755859375,997.0,996.4000244140625,996.0499877929688,995.4000244140625,994.5499877929688,997.0,999.6500244140625,1002.4000244140625,999.7000122070312,1000.0499877929688,998.9000244140625,998.0,1000.4000244140625,1002.7000122070312,1002.7999877929688,1004.0999755859375,1005.5,1004.75,1003.8499755859375,1006.0,1003.9500122070312,1012.9500122070312,1014.8499755859375],\"low\":[1032.6500244140625,1029.550048828125,1029.0999755859375,1025.800048828125,1023.6500244140625,1023.3499755859375,1021.3499755859375,1023.9500122070312,1025.0,1027.9000244140625,1022.1500244140625,1024.75,1030.050048828125,1026.1500244140625,1027.6500244140625,1026.3499755859375,1024.25,1024.050048828125,1014.2000122070312,1010.7000122070312,1005.0499877929688,999.25,999.4000244140625,997.4000244140625,998.7999877929688,999.2999877929688,996.7999877929688,997.0999755859375,997.6500244140625,997.7000122070312,997.5999755859375,997.7999877929688,997.7000122070312,996.75,998.2999877929688,992.0499877929688,993.25,993.0499877929688,994.0,988.25,990.0,991.7999877929688,993.5499877929688,995.7000122070312,995.3499755859375,994.25,997.0,996.6500244140625,993.7999877929688,995.6500244140625,996.4500122070312,999.5999755859375,1000.9500122070312,1001.9000244140625,1002.9500122070312,1000.5,1001.3499755859375,1001.3499755859375,1002.5999755859375,1006.0],\"open\":[1034.5,1034.550048828125,1032.050048828125,1030.1500244140625,1028.199951171875,1023.5499877929688,1025.4000244140625,1023.9500122070312,1026.0,1030.050048828125,1030.949951171875,1026.449951171875,1030.449951171875,1030.449951171875,1028.0,1033.0,1026.300048828125,1026.5999755859375,1024.199951171875,1014.5499877929688,1011.6500244140625,1006.3499755859375,1001.75,1002.4000244140625,999.5,1001.8499755859375,999.8499755859375,999.0499877929688,999.2000122070312,997.9500122070312,997.9500122070312,998.0,998.0,998.5,999.5,998.4000244140625,993.9500122070312,994.6500244140625,994.2000122070312,996.0499877929688,991.4000244140625,993.0,994.0,996.2000122070312,996.5999755859375,999.1500244140625,997.4000244140625,998.0999755859375,997.5,996.7999877929688,996.75,1002.0999755859375,1000.9500122070312,1002.0499877929688,1004.0,1003.2999877929688,1003.4500122070312,1002.4500122070312,1002.5999755859375,1010.2000122070312],\"x\":[40,41,42,43,44,45,46,47,48,49,50,51,52,53,54,55,56,57,58,59,60,61,62,63,64,65,66,67,68,69,70,71,72,73,74,75,76,77,78,79,80,81,82,83,84,85,86,87,88,89,90,91,92,93,94,95,96,97,98,99],\"type\":\"candlestick\"},{\"marker\":{\"color\":\"MediumPurple\",\"size\":4},\"mode\":\"markers\",\"name\":\"pivot\",\"x\":[40,41,42,43,44,45,46,47,48,49,50,51,52,53,54,55,56,57,58,59,60,61,62,63,64,65,66,67,68,69,70,71,72,73,74,75,76,77,78,79,80,81,82,83,84,85,86,87,88,89,90,91,92,93,94,95,96,97,98,99],\"y\":[null,1036.001,null,null,null,null,1021.3489755859375,null,null,null,1022.1490244140625,null,1035.9010244140625,null,null,null,null,null,null,null,null,null,null,null,null,null,996.7989877929688,null,null,null,null,null,null,1001.6009755859375,null,992.0489877929688,null,null,null,988.249,null,null,null,null,1002.4010244140625,null,null,null,993.7989877929688,null,null,null,null,null,null,1000.499,null,null,null,null],\"type\":\"scatter\"},{\"line\":{\"color\":\"green\",\"width\":2},\"mode\":\"lines\",\"name\":\"low triangle line\",\"x\":[50.0,66.0,75.0,79.0,88.0,95.0,96.0],\"y\":[1011.5677309266754,1003.6350357353464,999.1728946902238,997.1897208923915,992.727579847269,989.2570257010625],\"type\":\"scatter\"},{\"line\":{\"color\":\"red\",\"width\":2},\"mode\":\"lines\",\"name\":\"high triangle line\",\"x\":[52.0,73.0,84.0,85.0],\"y\":[1033.1666592264837,1009.5515834043488,997.1817817832303],\"type\":\"scatter\"}],                        {\"template\":{\"data\":{\"histogram2dcontour\":[{\"type\":\"histogram2dcontour\",\"colorbar\":{\"outlinewidth\":0,\"ticks\":\"\"},\"colorscale\":[[0.0,\"#0d0887\"],[0.1111111111111111,\"#46039f\"],[0.2222222222222222,\"#7201a8\"],[0.3333333333333333,\"#9c179e\"],[0.4444444444444444,\"#bd3786\"],[0.5555555555555556,\"#d8576b\"],[0.6666666666666666,\"#ed7953\"],[0.7777777777777778,\"#fb9f3a\"],[0.8888888888888888,\"#fdca26\"],[1.0,\"#f0f921\"]]}],\"choropleth\":[{\"type\":\"choropleth\",\"colorbar\":{\"outlinewidth\":0,\"ticks\":\"\"}}],\"histogram2d\":[{\"type\":\"histogram2d\",\"colorbar\":{\"outlinewidth\":0,\"ticks\":\"\"},\"colorscale\":[[0.0,\"#0d0887\"],[0.1111111111111111,\"#46039f\"],[0.2222222222222222,\"#7201a8\"],[0.3333333333333333,\"#9c179e\"],[0.4444444444444444,\"#bd3786\"],[0.5555555555555556,\"#d8576b\"],[0.6666666666666666,\"#ed7953\"],[0.7777777777777778,\"#fb9f3a\"],[0.8888888888888888,\"#fdca26\"],[1.0,\"#f0f921\"]]}],\"heatmap\":[{\"type\":\"heatmap\",\"colorbar\":{\"outlinewidth\":0,\"ticks\":\"\"},\"colorscale\":[[0.0,\"#0d0887\"],[0.1111111111111111,\"#46039f\"],[0.2222222222222222,\"#7201a8\"],[0.3333333333333333,\"#9c179e\"],[0.4444444444444444,\"#bd3786\"],[0.5555555555555556,\"#d8576b\"],[0.6666666666666666,\"#ed7953\"],[0.7777777777777778,\"#fb9f3a\"],[0.8888888888888888,\"#fdca26\"],[1.0,\"#f0f921\"]]}],\"heatmapgl\":[{\"type\":\"heatmapgl\",\"colorbar\":{\"outlinewidth\":0,\"ticks\":\"\"},\"colorscale\":[[0.0,\"#0d0887\"],[0.1111111111111111,\"#46039f\"],[0.2222222222222222,\"#7201a8\"],[0.3333333333333333,\"#9c179e\"],[0.4444444444444444,\"#bd3786\"],[0.5555555555555556,\"#d8576b\"],[0.6666666666666666,\"#ed7953\"],[0.7777777777777778,\"#fb9f3a\"],[0.8888888888888888,\"#fdca26\"],[1.0,\"#f0f921\"]]}],\"contourcarpet\":[{\"type\":\"contourcarpet\",\"colorbar\":{\"outlinewidth\":0,\"ticks\":\"\"}}],\"contour\":[{\"type\":\"contour\",\"colorbar\":{\"outlinewidth\":0,\"ticks\":\"\"},\"colorscale\":[[0.0,\"#0d0887\"],[0.1111111111111111,\"#46039f\"],[0.2222222222222222,\"#7201a8\"],[0.3333333333333333,\"#9c179e\"],[0.4444444444444444,\"#bd3786\"],[0.5555555555555556,\"#d8576b\"],[0.6666666666666666,\"#ed7953\"],[0.7777777777777778,\"#fb9f3a\"],[0.8888888888888888,\"#fdca26\"],[1.0,\"#f0f921\"]]}],\"surface\":[{\"type\":\"surface\",\"colorbar\":{\"outlinewidth\":0,\"ticks\":\"\"},\"colorscale\":[[0.0,\"#0d0887\"],[0.1111111111111111,\"#46039f\"],[0.2222222222222222,\"#7201a8\"],[0.3333333333333333,\"#9c179e\"],[0.4444444444444444,\"#bd3786\"],[0.5555555555555556,\"#d8576b\"],[0.6666666666666666,\"#ed7953\"],[0.7777777777777778,\"#fb9f3a\"],[0.8888888888888888,\"#fdca26\"],[1.0,\"#f0f921\"]]}],\"mesh3d\":[{\"type\":\"mesh3d\",\"colorbar\":{\"outlinewidth\":0,\"ticks\":\"\"}}],\"scatter\":[{\"fillpattern\":{\"fillmode\":\"overlay\",\"size\":10,\"solidity\":0.2},\"type\":\"scatter\"}],\"parcoords\":[{\"type\":\"parcoords\",\"line\":{\"colorbar\":{\"outlinewidth\":0,\"ticks\":\"\"}}}],\"scatterpolargl\":[{\"type\":\"scatterpolargl\",\"marker\":{\"colorbar\":{\"outlinewidth\":0,\"ticks\":\"\"}}}],\"bar\":[{\"error_x\":{\"color\":\"#2a3f5f\"},\"error_y\":{\"color\":\"#2a3f5f\"},\"marker\":{\"line\":{\"color\":\"#E5ECF6\",\"width\":0.5},\"pattern\":{\"fillmode\":\"overlay\",\"size\":10,\"solidity\":0.2}},\"type\":\"bar\"}],\"scattergeo\":[{\"type\":\"scattergeo\",\"marker\":{\"colorbar\":{\"outlinewidth\":0,\"ticks\":\"\"}}}],\"scatterpolar\":[{\"type\":\"scatterpolar\",\"marker\":{\"colorbar\":{\"outlinewidth\":0,\"ticks\":\"\"}}}],\"histogram\":[{\"marker\":{\"pattern\":{\"fillmode\":\"overlay\",\"size\":10,\"solidity\":0.2}},\"type\":\"histogram\"}],\"scattergl\":[{\"type\":\"scattergl\",\"marker\":{\"colorbar\":{\"outlinewidth\":0,\"ticks\":\"\"}}}],\"scatter3d\":[{\"type\":\"scatter3d\",\"line\":{\"colorbar\":{\"outlinewidth\":0,\"ticks\":\"\"}},\"marker\":{\"colorbar\":{\"outlinewidth\":0,\"ticks\":\"\"}}}],\"scattermapbox\":[{\"type\":\"scattermapbox\",\"marker\":{\"colorbar\":{\"outlinewidth\":0,\"ticks\":\"\"}}}],\"scatterternary\":[{\"type\":\"scatterternary\",\"marker\":{\"colorbar\":{\"outlinewidth\":0,\"ticks\":\"\"}}}],\"scattercarpet\":[{\"type\":\"scattercarpet\",\"marker\":{\"colorbar\":{\"outlinewidth\":0,\"ticks\":\"\"}}}],\"carpet\":[{\"aaxis\":{\"endlinecolor\":\"#2a3f5f\",\"gridcolor\":\"white\",\"linecolor\":\"white\",\"minorgridcolor\":\"white\",\"startlinecolor\":\"#2a3f5f\"},\"baxis\":{\"endlinecolor\":\"#2a3f5f\",\"gridcolor\":\"white\",\"linecolor\":\"white\",\"minorgridcolor\":\"white\",\"startlinecolor\":\"#2a3f5f\"},\"type\":\"carpet\"}],\"table\":[{\"cells\":{\"fill\":{\"color\":\"#EBF0F8\"},\"line\":{\"color\":\"white\"}},\"header\":{\"fill\":{\"color\":\"#C8D4E3\"},\"line\":{\"color\":\"white\"}},\"type\":\"table\"}],\"barpolar\":[{\"marker\":{\"line\":{\"color\":\"#E5ECF6\",\"width\":0.5},\"pattern\":{\"fillmode\":\"overlay\",\"size\":10,\"solidity\":0.2}},\"type\":\"barpolar\"}],\"pie\":[{\"automargin\":true,\"type\":\"pie\"}]},\"layout\":{\"autotypenumbers\":\"strict\",\"colorway\":[\"#636efa\",\"#EF553B\",\"#00cc96\",\"#ab63fa\",\"#FFA15A\",\"#19d3f3\",\"#FF6692\",\"#B6E880\",\"#FF97FF\",\"#FECB52\"],\"font\":{\"color\":\"#2a3f5f\"},\"hovermode\":\"closest\",\"hoverlabel\":{\"align\":\"left\"},\"paper_bgcolor\":\"white\",\"plot_bgcolor\":\"#E5ECF6\",\"polar\":{\"bgcolor\":\"#E5ECF6\",\"angularaxis\":{\"gridcolor\":\"white\",\"linecolor\":\"white\",\"ticks\":\"\"},\"radialaxis\":{\"gridcolor\":\"white\",\"linecolor\":\"white\",\"ticks\":\"\"}},\"ternary\":{\"bgcolor\":\"#E5ECF6\",\"aaxis\":{\"gridcolor\":\"white\",\"linecolor\":\"white\",\"ticks\":\"\"},\"baxis\":{\"gridcolor\":\"white\",\"linecolor\":\"white\",\"ticks\":\"\"},\"caxis\":{\"gridcolor\":\"white\",\"linecolor\":\"white\",\"ticks\":\"\"}},\"coloraxis\":{\"colorbar\":{\"outlinewidth\":0,\"ticks\":\"\"}},\"colorscale\":{\"sequential\":[[0.0,\"#0d0887\"],[0.1111111111111111,\"#46039f\"],[0.2222222222222222,\"#7201a8\"],[0.3333333333333333,\"#9c179e\"],[0.4444444444444444,\"#bd3786\"],[0.5555555555555556,\"#d8576b\"],[0.6666666666666666,\"#ed7953\"],[0.7777777777777778,\"#fb9f3a\"],[0.8888888888888888,\"#fdca26\"],[1.0,\"#f0f921\"]],\"sequentialminus\":[[0.0,\"#0d0887\"],[0.1111111111111111,\"#46039f\"],[0.2222222222222222,\"#7201a8\"],[0.3333333333333333,\"#9c179e\"],[0.4444444444444444,\"#bd3786\"],[0.5555555555555556,\"#d8576b\"],[0.6666666666666666,\"#ed7953\"],[0.7777777777777778,\"#fb9f3a\"],[0.8888888888888888,\"#fdca26\"],[1.0,\"#f0f921\"]],\"diverging\":[[0,\"#8e0152\"],[0.1,\"#c51b7d\"],[0.2,\"#de77ae\"],[0.3,\"#f1b6da\"],[0.4,\"#fde0ef\"],[0.5,\"#f7f7f7\"],[0.6,\"#e6f5d0\"],[0.7,\"#b8e186\"],[0.8,\"#7fbc41\"],[0.9,\"#4d9221\"],[1,\"#276419\"]]},\"xaxis\":{\"gridcolor\":\"white\",\"linecolor\":\"white\",\"ticks\":\"\",\"title\":{\"standoff\":15},\"zerolinecolor\":\"white\",\"automargin\":true,\"zerolinewidth\":2},\"yaxis\":{\"gridcolor\":\"white\",\"linecolor\":\"white\",\"ticks\":\"\",\"title\":{\"standoff\":15},\"zerolinecolor\":\"white\",\"automargin\":true,\"zerolinewidth\":2},\"scene\":{\"xaxis\":{\"backgroundcolor\":\"#E5ECF6\",\"gridcolor\":\"white\",\"linecolor\":\"white\",\"showbackground\":true,\"ticks\":\"\",\"zerolinecolor\":\"white\",\"gridwidth\":2},\"yaxis\":{\"backgroundcolor\":\"#E5ECF6\",\"gridcolor\":\"white\",\"linecolor\":\"white\",\"showbackground\":true,\"ticks\":\"\",\"zerolinecolor\":\"white\",\"gridwidth\":2},\"zaxis\":{\"backgroundcolor\":\"#E5ECF6\",\"gridcolor\":\"white\",\"linecolor\":\"white\",\"showbackground\":true,\"ticks\":\"\",\"zerolinecolor\":\"white\",\"gridwidth\":2}},\"shapedefaults\":{\"line\":{\"color\":\"#2a3f5f\"}},\"annotationdefaults\":{\"arrowcolor\":\"#2a3f5f\",\"arrowhead\":0,\"arrowwidth\":1},\"geo\":{\"bgcolor\":\"white\",\"landcolor\":\"#E5ECF6\",\"subunitcolor\":\"white\",\"showland\":true,\"showlakes\":true,\"lakecolor\":\"white\"},\"title\":{\"x\":0.05},\"mapbox\":{\"style\":\"light\"}}},\"xaxis\":{\"rangeslider\":{\"visible\":true}},\"title\":{\"text\":\"Candlestick Chart for ICICIBANK.NS - Trend: Bearish\"}},                        {\"responsive\": true}                    ).then(function(){\n",
       "                            \n",
       "var gd = document.getElementById('dab948cd-e1b5-4691-991a-09cfbbabc5c9');\n",
       "var x = new MutationObserver(function (mutations, observer) {{\n",
       "        var display = window.getComputedStyle(gd).display;\n",
       "        if (!display || display === 'none') {{\n",
       "            console.log([gd, 'removed!']);\n",
       "            Plotly.purge(gd);\n",
       "            observer.disconnect();\n",
       "        }}\n",
       "}});\n",
       "\n",
       "// Listen for the removal of the full notebook cells\n",
       "var notebookContainer = gd.closest('#notebook-container');\n",
       "if (notebookContainer) {{\n",
       "    x.observe(notebookContainer, {childList: true});\n",
       "}}\n",
       "\n",
       "// Listen for the clearing of the current output cell\n",
       "var outputEl = gd.closest('.output');\n",
       "if (outputEl) {{\n",
       "    x.observe(outputEl, {childList: true});\n",
       "}}\n",
       "\n",
       "                        })                };                });            </script>        </div>"
      ]
     },
     "metadata": {},
     "output_type": "display_data"
    },
    {
     "name": "stdout",
     "output_type": "stream",
     "text": [
      "[*********************100%%**********************]  1 of 1 completed\n"
     ]
    },
    {
     "data": {
      "application/vnd.plotly.v1+json": {
       "config": {
        "plotlyServerURL": "https://plot.ly"
       },
       "data": [
        {
         "close": [
          45222.19921875,
          45184,
          45173.80078125,
          45114.75,
          45073.8984375,
          44936.6015625,
          44903.69921875,
          44959,
          45029.80078125,
          45006.3515625,
          44923.5,
          45098.69921875,
          45320.8515625,
          45261.94921875,
          45412.3515625,
          45292.1015625,
          45261.25,
          45255,
          44974,
          45057.19921875,
          44937.25,
          44709.1015625,
          44733.44921875,
          44616.75,
          44791.3984375,
          44804.05078125,
          44810.6484375,
          44758.55078125,
          44680.25,
          44774.1015625,
          44847.80078125,
          45098.75,
          45091.75,
          45108.44921875,
          45074.69921875,
          45046.55078125,
          44900.55078125,
          44853.30078125,
          44824.3515625,
          44691.3984375,
          44625.6484375,
          44609,
          44601,
          44600.44921875,
          44667.25,
          44569.69921875,
          44558.6015625,
          44550.19921875,
          44554.3984375,
          44446.55078125,
          44542.25,
          44450.6484375,
          44502.6484375,
          44602.19921875,
          44537.55078125,
          44605.1015625,
          44545.05078125,
          44581.44921875,
          44872.44921875,
          44988.5
         ],
         "high": [
          45279.05078125,
          45277,
          45219.25,
          45183.75,
          45142.19921875,
          45097.75,
          44986.1484375,
          45105.8984375,
          45095.55078125,
          45066.6015625,
          44925.8984375,
          45149.1015625,
          45336.3515625,
          45392.19921875,
          45484.8984375,
          45457.75,
          45368.5,
          45339.75,
          45323.75,
          45113.69921875,
          45053.5,
          44942.1015625,
          44832,
          44744.30078125,
          44791.3984375,
          44891.3515625,
          44916.44921875,
          44836.75,
          44798.3515625,
          44846.1484375,
          44865.80078125,
          45102.8515625,
          45101.55078125,
          45148.19921875,
          45146,
          45134.8984375,
          45069.80078125,
          44986.6484375,
          44882.55078125,
          44836.55078125,
          44747.75,
          44653.5,
          44682,
          44710.75,
          44769.1015625,
          44668.5,
          44621.75,
          44582,
          44614.30078125,
          44631.94921875,
          44547.25,
          44550.8984375,
          44535.25,
          44648.6484375,
          44628.94921875,
          44616.19921875,
          44635.8515625,
          44595.3984375,
          44909.30078125,
          45090.6015625
         ],
         "low": [
          45193.1015625,
          45119.3984375,
          45115.94921875,
          45069.55078125,
          45066,
          44904.5,
          44889.19921875,
          44904.69921875,
          44929.19921875,
          44976.3984375,
          44489.3984375,
          44893.55078125,
          45108.3984375,
          45162.75,
          45262.94921875,
          45291.30078125,
          45192.80078125,
          45230,
          44974,
          44835.19921875,
          44894.19921875,
          44664.80078125,
          44637.75,
          44604.5,
          44614.3515625,
          44763.44921875,
          44682.6015625,
          44745.8984375,
          44666.19921875,
          44682.94921875,
          44737.69921875,
          44831.55078125,
          44945.19921875,
          45007.1484375,
          45055.44921875,
          44895.8515625,
          44868.8515625,
          44818.1015625,
          44805,
          44574.8984375,
          44549.8515625,
          44571.80078125,
          44570.8984375,
          44585.80078125,
          44570.94921875,
          44514.55078125,
          44545.3515625,
          44505.30078125,
          44488.5,
          44435.5,
          44431.69921875,
          44449.6015625,
          44444.3515625,
          44501.30078125,
          44521.75,
          44494.44921875,
          44526.94921875,
          44533.19921875,
          44581.94921875,
          44869.3515625
         ],
         "open": [
          45243.8984375,
          45225.05078125,
          45187.30078125,
          45174.8984375,
          45117.80078125,
          45074.3515625,
          44941.6015625,
          44904.69921875,
          44959.05078125,
          45029.44921875,
          44489.3984375,
          44936.44921875,
          45108.3984375,
          45320.1015625,
          45263.3515625,
          45412.8984375,
          45291.94921875,
          45260.3984375,
          45255.1015625,
          44976.8515625,
          45048.6015625,
          44931.69921875,
          44709.55078125,
          44733.6015625,
          44614.3515625,
          44787.8515625,
          44802.44921875,
          44808.1484375,
          44763.69921875,
          44682.94921875,
          44776.25,
          44850.3515625,
          45099.3515625,
          45093.5,
          45108.3515625,
          45057.94921875,
          45046.1015625,
          44903.3515625,
          44854.69921875,
          44825.94921875,
          44697.25,
          44629.1015625,
          44609.44921875,
          44602.44921875,
          44597.3515625,
          44667.6015625,
          44571.3984375,
          44561.55078125,
          44553.44921875,
          44556.69921875,
          44453.5,
          44543.55078125,
          44454.80078125,
          44503.1484375,
          44599.05078125,
          44534.19921875,
          44607,
          44545.55078125,
          44581.94921875,
          44874.8515625
         ],
         "type": "candlestick",
         "x": [
          40,
          41,
          42,
          43,
          44,
          45,
          46,
          47,
          48,
          49,
          50,
          51,
          52,
          53,
          54,
          55,
          56,
          57,
          58,
          59,
          60,
          61,
          62,
          63,
          64,
          65,
          66,
          67,
          68,
          69,
          70,
          71,
          72,
          73,
          74,
          75,
          76,
          77,
          78,
          79,
          80,
          81,
          82,
          83,
          84,
          85,
          86,
          87,
          88,
          89,
          90,
          91,
          92,
          93,
          94,
          95,
          96,
          97,
          98,
          99
         ]
        },
        {
         "marker": {
          "color": "MediumPurple",
          "size": 4
         },
         "mode": "markers",
         "name": "pivot",
         "type": "scatter",
         "x": [
          40,
          41,
          42,
          43,
          44,
          45,
          46,
          47,
          48,
          49,
          50,
          51,
          52,
          53,
          54,
          55,
          56,
          57,
          58,
          59,
          60,
          61,
          62,
          63,
          64,
          65,
          66,
          67,
          68,
          69,
          70,
          71,
          72,
          73,
          74,
          75,
          76,
          77,
          78,
          79,
          80,
          81,
          82,
          83,
          84,
          85,
          86,
          87,
          88,
          89,
          90,
          91,
          92,
          93,
          94,
          95,
          96,
          97,
          98,
          99
         ],
         "y": [
          null,
          null,
          null,
          null,
          null,
          null,
          44889.19821875,
          null,
          null,
          null,
          44489.3974375,
          null,
          null,
          null,
          45484.8994375,
          null,
          null,
          null,
          null,
          null,
          null,
          null,
          null,
          44604.499,
          null,
          null,
          44916.45021875,
          null,
          44666.19821875,
          null,
          null,
          null,
          null,
          45148.20021875,
          null,
          null,
          null,
          null,
          null,
          null,
          44549.8505625,
          null,
          null,
          null,
          44769.1025625,
          null,
          null,
          null,
          null,
          44631.95021875,
          44431.69821875,
          null,
          null,
          44648.6494375,
          null,
          null,
          null,
          null,
          null,
          null
         ]
        },
        {
         "line": {
          "color": "green",
          "width": 2
         },
         "mode": "lines",
         "name": "low triangle line",
         "type": "scatter",
         "x": [
          50,
          63,
          68,
          80,
          90,
          91
         ],
         "y": [
          44585.80604861986,
          44561.68759839421,
          44552.41127138434,
          44530.148086560665,
          44511.59543254093
         ]
        },
        {
         "line": {
          "color": "red",
          "width": 2
         },
         "mode": "lines",
         "name": "high triangle line",
         "type": "scatter",
         "x": [
          54,
          66,
          73,
          84,
          89,
          93,
          94
         ],
         "y": [
          45391.518693987615,
          45147.08615441644,
          45004.50050633326,
          44780.43734505968,
          44678.5904535717,
          44597.1129403813
         ]
        }
       ],
       "layout": {
        "template": {
         "data": {
          "bar": [
           {
            "error_x": {
             "color": "#2a3f5f"
            },
            "error_y": {
             "color": "#2a3f5f"
            },
            "marker": {
             "line": {
              "color": "#E5ECF6",
              "width": 0.5
             },
             "pattern": {
              "fillmode": "overlay",
              "size": 10,
              "solidity": 0.2
             }
            },
            "type": "bar"
           }
          ],
          "barpolar": [
           {
            "marker": {
             "line": {
              "color": "#E5ECF6",
              "width": 0.5
             },
             "pattern": {
              "fillmode": "overlay",
              "size": 10,
              "solidity": 0.2
             }
            },
            "type": "barpolar"
           }
          ],
          "carpet": [
           {
            "aaxis": {
             "endlinecolor": "#2a3f5f",
             "gridcolor": "white",
             "linecolor": "white",
             "minorgridcolor": "white",
             "startlinecolor": "#2a3f5f"
            },
            "baxis": {
             "endlinecolor": "#2a3f5f",
             "gridcolor": "white",
             "linecolor": "white",
             "minorgridcolor": "white",
             "startlinecolor": "#2a3f5f"
            },
            "type": "carpet"
           }
          ],
          "choropleth": [
           {
            "colorbar": {
             "outlinewidth": 0,
             "ticks": ""
            },
            "type": "choropleth"
           }
          ],
          "contour": [
           {
            "colorbar": {
             "outlinewidth": 0,
             "ticks": ""
            },
            "colorscale": [
             [
              0,
              "#0d0887"
             ],
             [
              0.1111111111111111,
              "#46039f"
             ],
             [
              0.2222222222222222,
              "#7201a8"
             ],
             [
              0.3333333333333333,
              "#9c179e"
             ],
             [
              0.4444444444444444,
              "#bd3786"
             ],
             [
              0.5555555555555556,
              "#d8576b"
             ],
             [
              0.6666666666666666,
              "#ed7953"
             ],
             [
              0.7777777777777778,
              "#fb9f3a"
             ],
             [
              0.8888888888888888,
              "#fdca26"
             ],
             [
              1,
              "#f0f921"
             ]
            ],
            "type": "contour"
           }
          ],
          "contourcarpet": [
           {
            "colorbar": {
             "outlinewidth": 0,
             "ticks": ""
            },
            "type": "contourcarpet"
           }
          ],
          "heatmap": [
           {
            "colorbar": {
             "outlinewidth": 0,
             "ticks": ""
            },
            "colorscale": [
             [
              0,
              "#0d0887"
             ],
             [
              0.1111111111111111,
              "#46039f"
             ],
             [
              0.2222222222222222,
              "#7201a8"
             ],
             [
              0.3333333333333333,
              "#9c179e"
             ],
             [
              0.4444444444444444,
              "#bd3786"
             ],
             [
              0.5555555555555556,
              "#d8576b"
             ],
             [
              0.6666666666666666,
              "#ed7953"
             ],
             [
              0.7777777777777778,
              "#fb9f3a"
             ],
             [
              0.8888888888888888,
              "#fdca26"
             ],
             [
              1,
              "#f0f921"
             ]
            ],
            "type": "heatmap"
           }
          ],
          "heatmapgl": [
           {
            "colorbar": {
             "outlinewidth": 0,
             "ticks": ""
            },
            "colorscale": [
             [
              0,
              "#0d0887"
             ],
             [
              0.1111111111111111,
              "#46039f"
             ],
             [
              0.2222222222222222,
              "#7201a8"
             ],
             [
              0.3333333333333333,
              "#9c179e"
             ],
             [
              0.4444444444444444,
              "#bd3786"
             ],
             [
              0.5555555555555556,
              "#d8576b"
             ],
             [
              0.6666666666666666,
              "#ed7953"
             ],
             [
              0.7777777777777778,
              "#fb9f3a"
             ],
             [
              0.8888888888888888,
              "#fdca26"
             ],
             [
              1,
              "#f0f921"
             ]
            ],
            "type": "heatmapgl"
           }
          ],
          "histogram": [
           {
            "marker": {
             "pattern": {
              "fillmode": "overlay",
              "size": 10,
              "solidity": 0.2
             }
            },
            "type": "histogram"
           }
          ],
          "histogram2d": [
           {
            "colorbar": {
             "outlinewidth": 0,
             "ticks": ""
            },
            "colorscale": [
             [
              0,
              "#0d0887"
             ],
             [
              0.1111111111111111,
              "#46039f"
             ],
             [
              0.2222222222222222,
              "#7201a8"
             ],
             [
              0.3333333333333333,
              "#9c179e"
             ],
             [
              0.4444444444444444,
              "#bd3786"
             ],
             [
              0.5555555555555556,
              "#d8576b"
             ],
             [
              0.6666666666666666,
              "#ed7953"
             ],
             [
              0.7777777777777778,
              "#fb9f3a"
             ],
             [
              0.8888888888888888,
              "#fdca26"
             ],
             [
              1,
              "#f0f921"
             ]
            ],
            "type": "histogram2d"
           }
          ],
          "histogram2dcontour": [
           {
            "colorbar": {
             "outlinewidth": 0,
             "ticks": ""
            },
            "colorscale": [
             [
              0,
              "#0d0887"
             ],
             [
              0.1111111111111111,
              "#46039f"
             ],
             [
              0.2222222222222222,
              "#7201a8"
             ],
             [
              0.3333333333333333,
              "#9c179e"
             ],
             [
              0.4444444444444444,
              "#bd3786"
             ],
             [
              0.5555555555555556,
              "#d8576b"
             ],
             [
              0.6666666666666666,
              "#ed7953"
             ],
             [
              0.7777777777777778,
              "#fb9f3a"
             ],
             [
              0.8888888888888888,
              "#fdca26"
             ],
             [
              1,
              "#f0f921"
             ]
            ],
            "type": "histogram2dcontour"
           }
          ],
          "mesh3d": [
           {
            "colorbar": {
             "outlinewidth": 0,
             "ticks": ""
            },
            "type": "mesh3d"
           }
          ],
          "parcoords": [
           {
            "line": {
             "colorbar": {
              "outlinewidth": 0,
              "ticks": ""
             }
            },
            "type": "parcoords"
           }
          ],
          "pie": [
           {
            "automargin": true,
            "type": "pie"
           }
          ],
          "scatter": [
           {
            "fillpattern": {
             "fillmode": "overlay",
             "size": 10,
             "solidity": 0.2
            },
            "type": "scatter"
           }
          ],
          "scatter3d": [
           {
            "line": {
             "colorbar": {
              "outlinewidth": 0,
              "ticks": ""
             }
            },
            "marker": {
             "colorbar": {
              "outlinewidth": 0,
              "ticks": ""
             }
            },
            "type": "scatter3d"
           }
          ],
          "scattercarpet": [
           {
            "marker": {
             "colorbar": {
              "outlinewidth": 0,
              "ticks": ""
             }
            },
            "type": "scattercarpet"
           }
          ],
          "scattergeo": [
           {
            "marker": {
             "colorbar": {
              "outlinewidth": 0,
              "ticks": ""
             }
            },
            "type": "scattergeo"
           }
          ],
          "scattergl": [
           {
            "marker": {
             "colorbar": {
              "outlinewidth": 0,
              "ticks": ""
             }
            },
            "type": "scattergl"
           }
          ],
          "scattermapbox": [
           {
            "marker": {
             "colorbar": {
              "outlinewidth": 0,
              "ticks": ""
             }
            },
            "type": "scattermapbox"
           }
          ],
          "scatterpolar": [
           {
            "marker": {
             "colorbar": {
              "outlinewidth": 0,
              "ticks": ""
             }
            },
            "type": "scatterpolar"
           }
          ],
          "scatterpolargl": [
           {
            "marker": {
             "colorbar": {
              "outlinewidth": 0,
              "ticks": ""
             }
            },
            "type": "scatterpolargl"
           }
          ],
          "scatterternary": [
           {
            "marker": {
             "colorbar": {
              "outlinewidth": 0,
              "ticks": ""
             }
            },
            "type": "scatterternary"
           }
          ],
          "surface": [
           {
            "colorbar": {
             "outlinewidth": 0,
             "ticks": ""
            },
            "colorscale": [
             [
              0,
              "#0d0887"
             ],
             [
              0.1111111111111111,
              "#46039f"
             ],
             [
              0.2222222222222222,
              "#7201a8"
             ],
             [
              0.3333333333333333,
              "#9c179e"
             ],
             [
              0.4444444444444444,
              "#bd3786"
             ],
             [
              0.5555555555555556,
              "#d8576b"
             ],
             [
              0.6666666666666666,
              "#ed7953"
             ],
             [
              0.7777777777777778,
              "#fb9f3a"
             ],
             [
              0.8888888888888888,
              "#fdca26"
             ],
             [
              1,
              "#f0f921"
             ]
            ],
            "type": "surface"
           }
          ],
          "table": [
           {
            "cells": {
             "fill": {
              "color": "#EBF0F8"
             },
             "line": {
              "color": "white"
             }
            },
            "header": {
             "fill": {
              "color": "#C8D4E3"
             },
             "line": {
              "color": "white"
             }
            },
            "type": "table"
           }
          ]
         },
         "layout": {
          "annotationdefaults": {
           "arrowcolor": "#2a3f5f",
           "arrowhead": 0,
           "arrowwidth": 1
          },
          "autotypenumbers": "strict",
          "coloraxis": {
           "colorbar": {
            "outlinewidth": 0,
            "ticks": ""
           }
          },
          "colorscale": {
           "diverging": [
            [
             0,
             "#8e0152"
            ],
            [
             0.1,
             "#c51b7d"
            ],
            [
             0.2,
             "#de77ae"
            ],
            [
             0.3,
             "#f1b6da"
            ],
            [
             0.4,
             "#fde0ef"
            ],
            [
             0.5,
             "#f7f7f7"
            ],
            [
             0.6,
             "#e6f5d0"
            ],
            [
             0.7,
             "#b8e186"
            ],
            [
             0.8,
             "#7fbc41"
            ],
            [
             0.9,
             "#4d9221"
            ],
            [
             1,
             "#276419"
            ]
           ],
           "sequential": [
            [
             0,
             "#0d0887"
            ],
            [
             0.1111111111111111,
             "#46039f"
            ],
            [
             0.2222222222222222,
             "#7201a8"
            ],
            [
             0.3333333333333333,
             "#9c179e"
            ],
            [
             0.4444444444444444,
             "#bd3786"
            ],
            [
             0.5555555555555556,
             "#d8576b"
            ],
            [
             0.6666666666666666,
             "#ed7953"
            ],
            [
             0.7777777777777778,
             "#fb9f3a"
            ],
            [
             0.8888888888888888,
             "#fdca26"
            ],
            [
             1,
             "#f0f921"
            ]
           ],
           "sequentialminus": [
            [
             0,
             "#0d0887"
            ],
            [
             0.1111111111111111,
             "#46039f"
            ],
            [
             0.2222222222222222,
             "#7201a8"
            ],
            [
             0.3333333333333333,
             "#9c179e"
            ],
            [
             0.4444444444444444,
             "#bd3786"
            ],
            [
             0.5555555555555556,
             "#d8576b"
            ],
            [
             0.6666666666666666,
             "#ed7953"
            ],
            [
             0.7777777777777778,
             "#fb9f3a"
            ],
            [
             0.8888888888888888,
             "#fdca26"
            ],
            [
             1,
             "#f0f921"
            ]
           ]
          },
          "colorway": [
           "#636efa",
           "#EF553B",
           "#00cc96",
           "#ab63fa",
           "#FFA15A",
           "#19d3f3",
           "#FF6692",
           "#B6E880",
           "#FF97FF",
           "#FECB52"
          ],
          "font": {
           "color": "#2a3f5f"
          },
          "geo": {
           "bgcolor": "white",
           "lakecolor": "white",
           "landcolor": "#E5ECF6",
           "showlakes": true,
           "showland": true,
           "subunitcolor": "white"
          },
          "hoverlabel": {
           "align": "left"
          },
          "hovermode": "closest",
          "mapbox": {
           "style": "light"
          },
          "paper_bgcolor": "white",
          "plot_bgcolor": "#E5ECF6",
          "polar": {
           "angularaxis": {
            "gridcolor": "white",
            "linecolor": "white",
            "ticks": ""
           },
           "bgcolor": "#E5ECF6",
           "radialaxis": {
            "gridcolor": "white",
            "linecolor": "white",
            "ticks": ""
           }
          },
          "scene": {
           "xaxis": {
            "backgroundcolor": "#E5ECF6",
            "gridcolor": "white",
            "gridwidth": 2,
            "linecolor": "white",
            "showbackground": true,
            "ticks": "",
            "zerolinecolor": "white"
           },
           "yaxis": {
            "backgroundcolor": "#E5ECF6",
            "gridcolor": "white",
            "gridwidth": 2,
            "linecolor": "white",
            "showbackground": true,
            "ticks": "",
            "zerolinecolor": "white"
           },
           "zaxis": {
            "backgroundcolor": "#E5ECF6",
            "gridcolor": "white",
            "gridwidth": 2,
            "linecolor": "white",
            "showbackground": true,
            "ticks": "",
            "zerolinecolor": "white"
           }
          },
          "shapedefaults": {
           "line": {
            "color": "#2a3f5f"
           }
          },
          "ternary": {
           "aaxis": {
            "gridcolor": "white",
            "linecolor": "white",
            "ticks": ""
           },
           "baxis": {
            "gridcolor": "white",
            "linecolor": "white",
            "ticks": ""
           },
           "bgcolor": "#E5ECF6",
           "caxis": {
            "gridcolor": "white",
            "linecolor": "white",
            "ticks": ""
           }
          },
          "title": {
           "x": 0.05
          },
          "xaxis": {
           "automargin": true,
           "gridcolor": "white",
           "linecolor": "white",
           "ticks": "",
           "title": {
            "standoff": 15
           },
           "zerolinecolor": "white",
           "zerolinewidth": 2
          },
          "yaxis": {
           "automargin": true,
           "gridcolor": "white",
           "linecolor": "white",
           "ticks": "",
           "title": {
            "standoff": 15
           },
           "zerolinecolor": "white",
           "zerolinewidth": 2
          }
         }
        },
        "title": {
         "text": "Candlestick Chart for ^NSEBANK - Trend: Bearish"
        },
        "xaxis": {
         "rangeslider": {
          "visible": true
         }
        }
       }
      },
      "text/html": [
       "<div>                            <div id=\"0003885c-d934-4f19-b650-287aeae9a41b\" class=\"plotly-graph-div\" style=\"height:525px; width:100%;\"></div>            <script type=\"text/javascript\">                require([\"plotly\"], function(Plotly) {                    window.PLOTLYENV=window.PLOTLYENV || {};                                    if (document.getElementById(\"0003885c-d934-4f19-b650-287aeae9a41b\")) {                    Plotly.newPlot(                        \"0003885c-d934-4f19-b650-287aeae9a41b\",                        [{\"close\":[45222.19921875,45184.0,45173.80078125,45114.75,45073.8984375,44936.6015625,44903.69921875,44959.0,45029.80078125,45006.3515625,44923.5,45098.69921875,45320.8515625,45261.94921875,45412.3515625,45292.1015625,45261.25,45255.0,44974.0,45057.19921875,44937.25,44709.1015625,44733.44921875,44616.75,44791.3984375,44804.05078125,44810.6484375,44758.55078125,44680.25,44774.1015625,44847.80078125,45098.75,45091.75,45108.44921875,45074.69921875,45046.55078125,44900.55078125,44853.30078125,44824.3515625,44691.3984375,44625.6484375,44609.0,44601.0,44600.44921875,44667.25,44569.69921875,44558.6015625,44550.19921875,44554.3984375,44446.55078125,44542.25,44450.6484375,44502.6484375,44602.19921875,44537.55078125,44605.1015625,44545.05078125,44581.44921875,44872.44921875,44988.5],\"high\":[45279.05078125,45277.0,45219.25,45183.75,45142.19921875,45097.75,44986.1484375,45105.8984375,45095.55078125,45066.6015625,44925.8984375,45149.1015625,45336.3515625,45392.19921875,45484.8984375,45457.75,45368.5,45339.75,45323.75,45113.69921875,45053.5,44942.1015625,44832.0,44744.30078125,44791.3984375,44891.3515625,44916.44921875,44836.75,44798.3515625,44846.1484375,44865.80078125,45102.8515625,45101.55078125,45148.19921875,45146.0,45134.8984375,45069.80078125,44986.6484375,44882.55078125,44836.55078125,44747.75,44653.5,44682.0,44710.75,44769.1015625,44668.5,44621.75,44582.0,44614.30078125,44631.94921875,44547.25,44550.8984375,44535.25,44648.6484375,44628.94921875,44616.19921875,44635.8515625,44595.3984375,44909.30078125,45090.6015625],\"low\":[45193.1015625,45119.3984375,45115.94921875,45069.55078125,45066.0,44904.5,44889.19921875,44904.69921875,44929.19921875,44976.3984375,44489.3984375,44893.55078125,45108.3984375,45162.75,45262.94921875,45291.30078125,45192.80078125,45230.0,44974.0,44835.19921875,44894.19921875,44664.80078125,44637.75,44604.5,44614.3515625,44763.44921875,44682.6015625,44745.8984375,44666.19921875,44682.94921875,44737.69921875,44831.55078125,44945.19921875,45007.1484375,45055.44921875,44895.8515625,44868.8515625,44818.1015625,44805.0,44574.8984375,44549.8515625,44571.80078125,44570.8984375,44585.80078125,44570.94921875,44514.55078125,44545.3515625,44505.30078125,44488.5,44435.5,44431.69921875,44449.6015625,44444.3515625,44501.30078125,44521.75,44494.44921875,44526.94921875,44533.19921875,44581.94921875,44869.3515625],\"open\":[45243.8984375,45225.05078125,45187.30078125,45174.8984375,45117.80078125,45074.3515625,44941.6015625,44904.69921875,44959.05078125,45029.44921875,44489.3984375,44936.44921875,45108.3984375,45320.1015625,45263.3515625,45412.8984375,45291.94921875,45260.3984375,45255.1015625,44976.8515625,45048.6015625,44931.69921875,44709.55078125,44733.6015625,44614.3515625,44787.8515625,44802.44921875,44808.1484375,44763.69921875,44682.94921875,44776.25,44850.3515625,45099.3515625,45093.5,45108.3515625,45057.94921875,45046.1015625,44903.3515625,44854.69921875,44825.94921875,44697.25,44629.1015625,44609.44921875,44602.44921875,44597.3515625,44667.6015625,44571.3984375,44561.55078125,44553.44921875,44556.69921875,44453.5,44543.55078125,44454.80078125,44503.1484375,44599.05078125,44534.19921875,44607.0,44545.55078125,44581.94921875,44874.8515625],\"x\":[40,41,42,43,44,45,46,47,48,49,50,51,52,53,54,55,56,57,58,59,60,61,62,63,64,65,66,67,68,69,70,71,72,73,74,75,76,77,78,79,80,81,82,83,84,85,86,87,88,89,90,91,92,93,94,95,96,97,98,99],\"type\":\"candlestick\"},{\"marker\":{\"color\":\"MediumPurple\",\"size\":4},\"mode\":\"markers\",\"name\":\"pivot\",\"x\":[40,41,42,43,44,45,46,47,48,49,50,51,52,53,54,55,56,57,58,59,60,61,62,63,64,65,66,67,68,69,70,71,72,73,74,75,76,77,78,79,80,81,82,83,84,85,86,87,88,89,90,91,92,93,94,95,96,97,98,99],\"y\":[null,null,null,null,null,null,44889.19821875,null,null,null,44489.3974375,null,null,null,45484.8994375,null,null,null,null,null,null,null,null,44604.499,null,null,44916.45021875,null,44666.19821875,null,null,null,null,45148.20021875,null,null,null,null,null,null,44549.8505625,null,null,null,44769.1025625,null,null,null,null,44631.95021875,44431.69821875,null,null,44648.6494375,null,null,null,null,null,null],\"type\":\"scatter\"},{\"line\":{\"color\":\"green\",\"width\":2},\"mode\":\"lines\",\"name\":\"low triangle line\",\"x\":[50.0,63.0,68.0,80.0,90.0,91.0],\"y\":[44585.80604861986,44561.68759839421,44552.41127138434,44530.148086560665,44511.59543254093],\"type\":\"scatter\"},{\"line\":{\"color\":\"red\",\"width\":2},\"mode\":\"lines\",\"name\":\"high triangle line\",\"x\":[54.0,66.0,73.0,84.0,89.0,93.0,94.0],\"y\":[45391.518693987615,45147.08615441644,45004.50050633326,44780.43734505968,44678.5904535717,44597.1129403813],\"type\":\"scatter\"}],                        {\"template\":{\"data\":{\"histogram2dcontour\":[{\"type\":\"histogram2dcontour\",\"colorbar\":{\"outlinewidth\":0,\"ticks\":\"\"},\"colorscale\":[[0.0,\"#0d0887\"],[0.1111111111111111,\"#46039f\"],[0.2222222222222222,\"#7201a8\"],[0.3333333333333333,\"#9c179e\"],[0.4444444444444444,\"#bd3786\"],[0.5555555555555556,\"#d8576b\"],[0.6666666666666666,\"#ed7953\"],[0.7777777777777778,\"#fb9f3a\"],[0.8888888888888888,\"#fdca26\"],[1.0,\"#f0f921\"]]}],\"choropleth\":[{\"type\":\"choropleth\",\"colorbar\":{\"outlinewidth\":0,\"ticks\":\"\"}}],\"histogram2d\":[{\"type\":\"histogram2d\",\"colorbar\":{\"outlinewidth\":0,\"ticks\":\"\"},\"colorscale\":[[0.0,\"#0d0887\"],[0.1111111111111111,\"#46039f\"],[0.2222222222222222,\"#7201a8\"],[0.3333333333333333,\"#9c179e\"],[0.4444444444444444,\"#bd3786\"],[0.5555555555555556,\"#d8576b\"],[0.6666666666666666,\"#ed7953\"],[0.7777777777777778,\"#fb9f3a\"],[0.8888888888888888,\"#fdca26\"],[1.0,\"#f0f921\"]]}],\"heatmap\":[{\"type\":\"heatmap\",\"colorbar\":{\"outlinewidth\":0,\"ticks\":\"\"},\"colorscale\":[[0.0,\"#0d0887\"],[0.1111111111111111,\"#46039f\"],[0.2222222222222222,\"#7201a8\"],[0.3333333333333333,\"#9c179e\"],[0.4444444444444444,\"#bd3786\"],[0.5555555555555556,\"#d8576b\"],[0.6666666666666666,\"#ed7953\"],[0.7777777777777778,\"#fb9f3a\"],[0.8888888888888888,\"#fdca26\"],[1.0,\"#f0f921\"]]}],\"heatmapgl\":[{\"type\":\"heatmapgl\",\"colorbar\":{\"outlinewidth\":0,\"ticks\":\"\"},\"colorscale\":[[0.0,\"#0d0887\"],[0.1111111111111111,\"#46039f\"],[0.2222222222222222,\"#7201a8\"],[0.3333333333333333,\"#9c179e\"],[0.4444444444444444,\"#bd3786\"],[0.5555555555555556,\"#d8576b\"],[0.6666666666666666,\"#ed7953\"],[0.7777777777777778,\"#fb9f3a\"],[0.8888888888888888,\"#fdca26\"],[1.0,\"#f0f921\"]]}],\"contourcarpet\":[{\"type\":\"contourcarpet\",\"colorbar\":{\"outlinewidth\":0,\"ticks\":\"\"}}],\"contour\":[{\"type\":\"contour\",\"colorbar\":{\"outlinewidth\":0,\"ticks\":\"\"},\"colorscale\":[[0.0,\"#0d0887\"],[0.1111111111111111,\"#46039f\"],[0.2222222222222222,\"#7201a8\"],[0.3333333333333333,\"#9c179e\"],[0.4444444444444444,\"#bd3786\"],[0.5555555555555556,\"#d8576b\"],[0.6666666666666666,\"#ed7953\"],[0.7777777777777778,\"#fb9f3a\"],[0.8888888888888888,\"#fdca26\"],[1.0,\"#f0f921\"]]}],\"surface\":[{\"type\":\"surface\",\"colorbar\":{\"outlinewidth\":0,\"ticks\":\"\"},\"colorscale\":[[0.0,\"#0d0887\"],[0.1111111111111111,\"#46039f\"],[0.2222222222222222,\"#7201a8\"],[0.3333333333333333,\"#9c179e\"],[0.4444444444444444,\"#bd3786\"],[0.5555555555555556,\"#d8576b\"],[0.6666666666666666,\"#ed7953\"],[0.7777777777777778,\"#fb9f3a\"],[0.8888888888888888,\"#fdca26\"],[1.0,\"#f0f921\"]]}],\"mesh3d\":[{\"type\":\"mesh3d\",\"colorbar\":{\"outlinewidth\":0,\"ticks\":\"\"}}],\"scatter\":[{\"fillpattern\":{\"fillmode\":\"overlay\",\"size\":10,\"solidity\":0.2},\"type\":\"scatter\"}],\"parcoords\":[{\"type\":\"parcoords\",\"line\":{\"colorbar\":{\"outlinewidth\":0,\"ticks\":\"\"}}}],\"scatterpolargl\":[{\"type\":\"scatterpolargl\",\"marker\":{\"colorbar\":{\"outlinewidth\":0,\"ticks\":\"\"}}}],\"bar\":[{\"error_x\":{\"color\":\"#2a3f5f\"},\"error_y\":{\"color\":\"#2a3f5f\"},\"marker\":{\"line\":{\"color\":\"#E5ECF6\",\"width\":0.5},\"pattern\":{\"fillmode\":\"overlay\",\"size\":10,\"solidity\":0.2}},\"type\":\"bar\"}],\"scattergeo\":[{\"type\":\"scattergeo\",\"marker\":{\"colorbar\":{\"outlinewidth\":0,\"ticks\":\"\"}}}],\"scatterpolar\":[{\"type\":\"scatterpolar\",\"marker\":{\"colorbar\":{\"outlinewidth\":0,\"ticks\":\"\"}}}],\"histogram\":[{\"marker\":{\"pattern\":{\"fillmode\":\"overlay\",\"size\":10,\"solidity\":0.2}},\"type\":\"histogram\"}],\"scattergl\":[{\"type\":\"scattergl\",\"marker\":{\"colorbar\":{\"outlinewidth\":0,\"ticks\":\"\"}}}],\"scatter3d\":[{\"type\":\"scatter3d\",\"line\":{\"colorbar\":{\"outlinewidth\":0,\"ticks\":\"\"}},\"marker\":{\"colorbar\":{\"outlinewidth\":0,\"ticks\":\"\"}}}],\"scattermapbox\":[{\"type\":\"scattermapbox\",\"marker\":{\"colorbar\":{\"outlinewidth\":0,\"ticks\":\"\"}}}],\"scatterternary\":[{\"type\":\"scatterternary\",\"marker\":{\"colorbar\":{\"outlinewidth\":0,\"ticks\":\"\"}}}],\"scattercarpet\":[{\"type\":\"scattercarpet\",\"marker\":{\"colorbar\":{\"outlinewidth\":0,\"ticks\":\"\"}}}],\"carpet\":[{\"aaxis\":{\"endlinecolor\":\"#2a3f5f\",\"gridcolor\":\"white\",\"linecolor\":\"white\",\"minorgridcolor\":\"white\",\"startlinecolor\":\"#2a3f5f\"},\"baxis\":{\"endlinecolor\":\"#2a3f5f\",\"gridcolor\":\"white\",\"linecolor\":\"white\",\"minorgridcolor\":\"white\",\"startlinecolor\":\"#2a3f5f\"},\"type\":\"carpet\"}],\"table\":[{\"cells\":{\"fill\":{\"color\":\"#EBF0F8\"},\"line\":{\"color\":\"white\"}},\"header\":{\"fill\":{\"color\":\"#C8D4E3\"},\"line\":{\"color\":\"white\"}},\"type\":\"table\"}],\"barpolar\":[{\"marker\":{\"line\":{\"color\":\"#E5ECF6\",\"width\":0.5},\"pattern\":{\"fillmode\":\"overlay\",\"size\":10,\"solidity\":0.2}},\"type\":\"barpolar\"}],\"pie\":[{\"automargin\":true,\"type\":\"pie\"}]},\"layout\":{\"autotypenumbers\":\"strict\",\"colorway\":[\"#636efa\",\"#EF553B\",\"#00cc96\",\"#ab63fa\",\"#FFA15A\",\"#19d3f3\",\"#FF6692\",\"#B6E880\",\"#FF97FF\",\"#FECB52\"],\"font\":{\"color\":\"#2a3f5f\"},\"hovermode\":\"closest\",\"hoverlabel\":{\"align\":\"left\"},\"paper_bgcolor\":\"white\",\"plot_bgcolor\":\"#E5ECF6\",\"polar\":{\"bgcolor\":\"#E5ECF6\",\"angularaxis\":{\"gridcolor\":\"white\",\"linecolor\":\"white\",\"ticks\":\"\"},\"radialaxis\":{\"gridcolor\":\"white\",\"linecolor\":\"white\",\"ticks\":\"\"}},\"ternary\":{\"bgcolor\":\"#E5ECF6\",\"aaxis\":{\"gridcolor\":\"white\",\"linecolor\":\"white\",\"ticks\":\"\"},\"baxis\":{\"gridcolor\":\"white\",\"linecolor\":\"white\",\"ticks\":\"\"},\"caxis\":{\"gridcolor\":\"white\",\"linecolor\":\"white\",\"ticks\":\"\"}},\"coloraxis\":{\"colorbar\":{\"outlinewidth\":0,\"ticks\":\"\"}},\"colorscale\":{\"sequential\":[[0.0,\"#0d0887\"],[0.1111111111111111,\"#46039f\"],[0.2222222222222222,\"#7201a8\"],[0.3333333333333333,\"#9c179e\"],[0.4444444444444444,\"#bd3786\"],[0.5555555555555556,\"#d8576b\"],[0.6666666666666666,\"#ed7953\"],[0.7777777777777778,\"#fb9f3a\"],[0.8888888888888888,\"#fdca26\"],[1.0,\"#f0f921\"]],\"sequentialminus\":[[0.0,\"#0d0887\"],[0.1111111111111111,\"#46039f\"],[0.2222222222222222,\"#7201a8\"],[0.3333333333333333,\"#9c179e\"],[0.4444444444444444,\"#bd3786\"],[0.5555555555555556,\"#d8576b\"],[0.6666666666666666,\"#ed7953\"],[0.7777777777777778,\"#fb9f3a\"],[0.8888888888888888,\"#fdca26\"],[1.0,\"#f0f921\"]],\"diverging\":[[0,\"#8e0152\"],[0.1,\"#c51b7d\"],[0.2,\"#de77ae\"],[0.3,\"#f1b6da\"],[0.4,\"#fde0ef\"],[0.5,\"#f7f7f7\"],[0.6,\"#e6f5d0\"],[0.7,\"#b8e186\"],[0.8,\"#7fbc41\"],[0.9,\"#4d9221\"],[1,\"#276419\"]]},\"xaxis\":{\"gridcolor\":\"white\",\"linecolor\":\"white\",\"ticks\":\"\",\"title\":{\"standoff\":15},\"zerolinecolor\":\"white\",\"automargin\":true,\"zerolinewidth\":2},\"yaxis\":{\"gridcolor\":\"white\",\"linecolor\":\"white\",\"ticks\":\"\",\"title\":{\"standoff\":15},\"zerolinecolor\":\"white\",\"automargin\":true,\"zerolinewidth\":2},\"scene\":{\"xaxis\":{\"backgroundcolor\":\"#E5ECF6\",\"gridcolor\":\"white\",\"linecolor\":\"white\",\"showbackground\":true,\"ticks\":\"\",\"zerolinecolor\":\"white\",\"gridwidth\":2},\"yaxis\":{\"backgroundcolor\":\"#E5ECF6\",\"gridcolor\":\"white\",\"linecolor\":\"white\",\"showbackground\":true,\"ticks\":\"\",\"zerolinecolor\":\"white\",\"gridwidth\":2},\"zaxis\":{\"backgroundcolor\":\"#E5ECF6\",\"gridcolor\":\"white\",\"linecolor\":\"white\",\"showbackground\":true,\"ticks\":\"\",\"zerolinecolor\":\"white\",\"gridwidth\":2}},\"shapedefaults\":{\"line\":{\"color\":\"#2a3f5f\"}},\"annotationdefaults\":{\"arrowcolor\":\"#2a3f5f\",\"arrowhead\":0,\"arrowwidth\":1},\"geo\":{\"bgcolor\":\"white\",\"landcolor\":\"#E5ECF6\",\"subunitcolor\":\"white\",\"showland\":true,\"showlakes\":true,\"lakecolor\":\"white\"},\"title\":{\"x\":0.05},\"mapbox\":{\"style\":\"light\"}}},\"xaxis\":{\"rangeslider\":{\"visible\":true}},\"title\":{\"text\":\"Candlestick Chart for ^NSEBANK - Trend: Bearish\"}},                        {\"responsive\": true}                    ).then(function(){\n",
       "                            \n",
       "var gd = document.getElementById('0003885c-d934-4f19-b650-287aeae9a41b');\n",
       "var x = new MutationObserver(function (mutations, observer) {{\n",
       "        var display = window.getComputedStyle(gd).display;\n",
       "        if (!display || display === 'none') {{\n",
       "            console.log([gd, 'removed!']);\n",
       "            Plotly.purge(gd);\n",
       "            observer.disconnect();\n",
       "        }}\n",
       "}});\n",
       "\n",
       "// Listen for the removal of the full notebook cells\n",
       "var notebookContainer = gd.closest('#notebook-container');\n",
       "if (notebookContainer) {{\n",
       "    x.observe(notebookContainer, {childList: true});\n",
       "}}\n",
       "\n",
       "// Listen for the clearing of the current output cell\n",
       "var outputEl = gd.closest('.output');\n",
       "if (outputEl) {{\n",
       "    x.observe(outputEl, {childList: true});\n",
       "}}\n",
       "\n",
       "                        })                };                });            </script>        </div>"
      ]
     },
     "metadata": {},
     "output_type": "display_data"
    },
    {
     "name": "stdout",
     "output_type": "stream",
     "text": [
      "[*********************100%%**********************]  1 of 1 completed\n"
     ]
    },
    {
     "data": {
      "application/vnd.plotly.v1+json": {
       "config": {
        "plotlyServerURL": "https://plot.ly"
       },
       "data": [
        {
         "close": [
          21353.25,
          21348.80078125,
          21347.400390625,
          21314.900390625,
          21311.75,
          21237.55078125,
          21220,
          21221.650390625,
          21239.5,
          21243.05078125,
          21240.05078125,
          21267.55078125,
          21372.94921875,
          21329.099609375,
          21383,
          21369.69921875,
          21369.19921875,
          21372.30078125,
          21297.150390625,
          21305.55078125,
          21285.44921875,
          21248.150390625,
          21254.150390625,
          21225.400390625,
          21297.30078125,
          21300.849609375,
          21302.55078125,
          21299.44921875,
          21301.30078125,
          21340.69921875,
          21369.80078125,
          21429.80078125,
          21436,
          21456.05078125,
          21460.69921875,
          21438,
          21385.900390625,
          21373.650390625,
          21368.94921875,
          21316.599609375,
          21307.75,
          21258.099609375,
          21265.5,
          21297.69921875,
          21352.5,
          21303.400390625,
          21296.400390625,
          21288.44921875,
          21287.349609375,
          21258.150390625,
          21284.150390625,
          21266.69921875,
          21275.80078125,
          21297.05078125,
          21279.75,
          21274.849609375,
          21257.55078125,
          21265.849609375,
          21343.30078125,
          21370.75
         ],
         "high": [
          21379.19921875,
          21375.650390625,
          21361.69921875,
          21361.44921875,
          21337.400390625,
          21313.19921875,
          21265.25,
          21270.55078125,
          21252.150390625,
          21271.25,
          21252.44921875,
          21285.5,
          21375.5,
          21398.44921875,
          21398.400390625,
          21408.400390625,
          21394.19921875,
          21394.900390625,
          21388.55078125,
          21332.150390625,
          21306.150390625,
          21284.849609375,
          21292.94921875,
          21258.19921875,
          21298.55078125,
          21333.5,
          21337.150390625,
          21313.30078125,
          21319.150390625,
          21353.849609375,
          21372.400390625,
          21429.80078125,
          21438.94921875,
          21459.099609375,
          21481.900390625,
          21456.900390625,
          21441.599609375,
          21406.55078125,
          21387.900390625,
          21371.400390625,
          21331.25,
          21312.80078125,
          21278.849609375,
          21321.849609375,
          21376.599609375,
          21358.30078125,
          21314.349609375,
          21308.349609375,
          21305.5,
          21304.05078125,
          21290.19921875,
          21298.69921875,
          21279.849609375,
          21312.099609375,
          21310.25,
          21284,
          21293.69921875,
          21280.849609375,
          21360,
          21401.75
         ],
         "low": [
          21337.44921875,
          21327.599609375,
          21330.650390625,
          21302.5,
          21304.19921875,
          21231.849609375,
          21218.19921875,
          21212.650390625,
          21193,
          21234.650390625,
          21137.94921875,
          21227.349609375,
          21267.94921875,
          21312.900390625,
          21329.5,
          21369.69921875,
          21341.349609375,
          21361,
          21296.80078125,
          21233.19921875,
          21272.94921875,
          21234.30078125,
          21218.5,
          21213.650390625,
          21223.599609375,
          21294.349609375,
          21281.150390625,
          21286.55078125,
          21292.099609375,
          21301.349609375,
          21324.94921875,
          21366,
          21393.30078125,
          21404.099609375,
          21454.55078125,
          21372.94921875,
          21381.099609375,
          21355.75,
          21356.44921875,
          21288.30078125,
          21291.55078125,
          21255,
          21248.150390625,
          21258.75,
          21282.849609375,
          21279.75,
          21285.150390625,
          21267.44921875,
          21276.80078125,
          21257.69921875,
          21254,
          21264.05078125,
          21257.80078125,
          21276.19921875,
          21278.849609375,
          21262.099609375,
          21249.44921875,
          21256.94921875,
          21266.400390625,
          21339.44921875
         ],
         "open": [
          21363.849609375,
          21353.099609375,
          21349.19921875,
          21347.19921875,
          21315.69921875,
          21312.30078125,
          21237.69921875,
          21221.849609375,
          21221.150390625,
          21239.25,
          21185.25,
          21244.19921875,
          21267.94921875,
          21372.80078125,
          21329.5,
          21383.69921875,
          21367.150390625,
          21368.849609375,
          21372.349609375,
          21297.69921875,
          21304.55078125,
          21284.150390625,
          21249.19921875,
          21254.900390625,
          21225.400390625,
          21296.69921875,
          21299.900390625,
          21301.849609375,
          21299.75,
          21301.349609375,
          21340.599609375,
          21369.349609375,
          21429.400390625,
          21435.75,
          21455.69921875,
          21454.599609375,
          21438.5,
          21384.94921875,
          21373.849609375,
          21368.44921875,
          21317.44921875,
          21308.25,
          21258.400390625,
          21266.19921875,
          21298.400390625,
          21351.94921875,
          21303.599609375,
          21297.55078125,
          21289.150390625,
          21288.44921875,
          21260.900390625,
          21285.69921875,
          21267.599609375,
          21276.19921875,
          21295.94921875,
          21279.099609375,
          21277.349609375,
          21257.400390625,
          21266.400390625,
          21343.05078125
         ],
         "type": "candlestick",
         "x": [
          40,
          41,
          42,
          43,
          44,
          45,
          46,
          47,
          48,
          49,
          50,
          51,
          52,
          53,
          54,
          55,
          56,
          57,
          58,
          59,
          60,
          61,
          62,
          63,
          64,
          65,
          66,
          67,
          68,
          69,
          70,
          71,
          72,
          73,
          74,
          75,
          76,
          77,
          78,
          79,
          80,
          81,
          82,
          83,
          84,
          85,
          86,
          87,
          88,
          89,
          90,
          91,
          92,
          93,
          94,
          95,
          96,
          97,
          98,
          99
         ]
        },
        {
         "marker": {
          "color": "MediumPurple",
          "size": 4
         },
         "mode": "markers",
         "name": "pivot",
         "type": "scatter",
         "x": [
          40,
          41,
          42,
          43,
          44,
          45,
          46,
          47,
          48,
          49,
          50,
          51,
          52,
          53,
          54,
          55,
          56,
          57,
          58,
          59,
          60,
          61,
          62,
          63,
          64,
          65,
          66,
          67,
          68,
          69,
          70,
          71,
          72,
          73,
          74,
          75,
          76,
          77,
          78,
          79,
          80,
          81,
          82,
          83,
          84,
          85,
          86,
          87,
          88,
          89,
          90,
          91,
          92,
          93,
          94,
          95,
          96,
          97,
          98,
          99
         ],
         "y": [
          null,
          null,
          null,
          null,
          null,
          null,
          null,
          null,
          null,
          null,
          21137.94821875,
          null,
          null,
          null,
          null,
          21408.401390625,
          null,
          null,
          null,
          null,
          null,
          null,
          null,
          21213.649390625,
          null,
          null,
          null,
          null,
          null,
          null,
          null,
          null,
          null,
          null,
          21481.901390625,
          null,
          null,
          null,
          null,
          null,
          null,
          null,
          21248.149390625,
          null,
          21376.600609375,
          null,
          null,
          null,
          null,
          null,
          21253.999,
          null,
          null,
          21312.100609375,
          null,
          null,
          21249.44821875,
          null,
          null,
          null
         ]
        },
        {
         "line": {
          "color": "green",
          "width": 2
         },
         "mode": "lines",
         "name": "low triangle line",
         "type": "scatter",
         "x": [
          50,
          63,
          82,
          90,
          96,
          97
         ],
         "y": [
          21159.448932817155,
          21189.810835188415,
          21234.185923269484,
          21252.870170882565,
          21266.883356592378
         ]
        },
        {
         "line": {
          "color": "red",
          "width": 2
         },
         "mode": "lines",
         "name": "high triangle line",
         "type": "scatter",
         "x": [
          55,
          74,
          84,
          93,
          94
         ],
         "y": [
          21449.004960006274,
          21401.0587162798,
          21375.823851160603,
          21353.112472553326
         ]
        }
       ],
       "layout": {
        "template": {
         "data": {
          "bar": [
           {
            "error_x": {
             "color": "#2a3f5f"
            },
            "error_y": {
             "color": "#2a3f5f"
            },
            "marker": {
             "line": {
              "color": "#E5ECF6",
              "width": 0.5
             },
             "pattern": {
              "fillmode": "overlay",
              "size": 10,
              "solidity": 0.2
             }
            },
            "type": "bar"
           }
          ],
          "barpolar": [
           {
            "marker": {
             "line": {
              "color": "#E5ECF6",
              "width": 0.5
             },
             "pattern": {
              "fillmode": "overlay",
              "size": 10,
              "solidity": 0.2
             }
            },
            "type": "barpolar"
           }
          ],
          "carpet": [
           {
            "aaxis": {
             "endlinecolor": "#2a3f5f",
             "gridcolor": "white",
             "linecolor": "white",
             "minorgridcolor": "white",
             "startlinecolor": "#2a3f5f"
            },
            "baxis": {
             "endlinecolor": "#2a3f5f",
             "gridcolor": "white",
             "linecolor": "white",
             "minorgridcolor": "white",
             "startlinecolor": "#2a3f5f"
            },
            "type": "carpet"
           }
          ],
          "choropleth": [
           {
            "colorbar": {
             "outlinewidth": 0,
             "ticks": ""
            },
            "type": "choropleth"
           }
          ],
          "contour": [
           {
            "colorbar": {
             "outlinewidth": 0,
             "ticks": ""
            },
            "colorscale": [
             [
              0,
              "#0d0887"
             ],
             [
              0.1111111111111111,
              "#46039f"
             ],
             [
              0.2222222222222222,
              "#7201a8"
             ],
             [
              0.3333333333333333,
              "#9c179e"
             ],
             [
              0.4444444444444444,
              "#bd3786"
             ],
             [
              0.5555555555555556,
              "#d8576b"
             ],
             [
              0.6666666666666666,
              "#ed7953"
             ],
             [
              0.7777777777777778,
              "#fb9f3a"
             ],
             [
              0.8888888888888888,
              "#fdca26"
             ],
             [
              1,
              "#f0f921"
             ]
            ],
            "type": "contour"
           }
          ],
          "contourcarpet": [
           {
            "colorbar": {
             "outlinewidth": 0,
             "ticks": ""
            },
            "type": "contourcarpet"
           }
          ],
          "heatmap": [
           {
            "colorbar": {
             "outlinewidth": 0,
             "ticks": ""
            },
            "colorscale": [
             [
              0,
              "#0d0887"
             ],
             [
              0.1111111111111111,
              "#46039f"
             ],
             [
              0.2222222222222222,
              "#7201a8"
             ],
             [
              0.3333333333333333,
              "#9c179e"
             ],
             [
              0.4444444444444444,
              "#bd3786"
             ],
             [
              0.5555555555555556,
              "#d8576b"
             ],
             [
              0.6666666666666666,
              "#ed7953"
             ],
             [
              0.7777777777777778,
              "#fb9f3a"
             ],
             [
              0.8888888888888888,
              "#fdca26"
             ],
             [
              1,
              "#f0f921"
             ]
            ],
            "type": "heatmap"
           }
          ],
          "heatmapgl": [
           {
            "colorbar": {
             "outlinewidth": 0,
             "ticks": ""
            },
            "colorscale": [
             [
              0,
              "#0d0887"
             ],
             [
              0.1111111111111111,
              "#46039f"
             ],
             [
              0.2222222222222222,
              "#7201a8"
             ],
             [
              0.3333333333333333,
              "#9c179e"
             ],
             [
              0.4444444444444444,
              "#bd3786"
             ],
             [
              0.5555555555555556,
              "#d8576b"
             ],
             [
              0.6666666666666666,
              "#ed7953"
             ],
             [
              0.7777777777777778,
              "#fb9f3a"
             ],
             [
              0.8888888888888888,
              "#fdca26"
             ],
             [
              1,
              "#f0f921"
             ]
            ],
            "type": "heatmapgl"
           }
          ],
          "histogram": [
           {
            "marker": {
             "pattern": {
              "fillmode": "overlay",
              "size": 10,
              "solidity": 0.2
             }
            },
            "type": "histogram"
           }
          ],
          "histogram2d": [
           {
            "colorbar": {
             "outlinewidth": 0,
             "ticks": ""
            },
            "colorscale": [
             [
              0,
              "#0d0887"
             ],
             [
              0.1111111111111111,
              "#46039f"
             ],
             [
              0.2222222222222222,
              "#7201a8"
             ],
             [
              0.3333333333333333,
              "#9c179e"
             ],
             [
              0.4444444444444444,
              "#bd3786"
             ],
             [
              0.5555555555555556,
              "#d8576b"
             ],
             [
              0.6666666666666666,
              "#ed7953"
             ],
             [
              0.7777777777777778,
              "#fb9f3a"
             ],
             [
              0.8888888888888888,
              "#fdca26"
             ],
             [
              1,
              "#f0f921"
             ]
            ],
            "type": "histogram2d"
           }
          ],
          "histogram2dcontour": [
           {
            "colorbar": {
             "outlinewidth": 0,
             "ticks": ""
            },
            "colorscale": [
             [
              0,
              "#0d0887"
             ],
             [
              0.1111111111111111,
              "#46039f"
             ],
             [
              0.2222222222222222,
              "#7201a8"
             ],
             [
              0.3333333333333333,
              "#9c179e"
             ],
             [
              0.4444444444444444,
              "#bd3786"
             ],
             [
              0.5555555555555556,
              "#d8576b"
             ],
             [
              0.6666666666666666,
              "#ed7953"
             ],
             [
              0.7777777777777778,
              "#fb9f3a"
             ],
             [
              0.8888888888888888,
              "#fdca26"
             ],
             [
              1,
              "#f0f921"
             ]
            ],
            "type": "histogram2dcontour"
           }
          ],
          "mesh3d": [
           {
            "colorbar": {
             "outlinewidth": 0,
             "ticks": ""
            },
            "type": "mesh3d"
           }
          ],
          "parcoords": [
           {
            "line": {
             "colorbar": {
              "outlinewidth": 0,
              "ticks": ""
             }
            },
            "type": "parcoords"
           }
          ],
          "pie": [
           {
            "automargin": true,
            "type": "pie"
           }
          ],
          "scatter": [
           {
            "fillpattern": {
             "fillmode": "overlay",
             "size": 10,
             "solidity": 0.2
            },
            "type": "scatter"
           }
          ],
          "scatter3d": [
           {
            "line": {
             "colorbar": {
              "outlinewidth": 0,
              "ticks": ""
             }
            },
            "marker": {
             "colorbar": {
              "outlinewidth": 0,
              "ticks": ""
             }
            },
            "type": "scatter3d"
           }
          ],
          "scattercarpet": [
           {
            "marker": {
             "colorbar": {
              "outlinewidth": 0,
              "ticks": ""
             }
            },
            "type": "scattercarpet"
           }
          ],
          "scattergeo": [
           {
            "marker": {
             "colorbar": {
              "outlinewidth": 0,
              "ticks": ""
             }
            },
            "type": "scattergeo"
           }
          ],
          "scattergl": [
           {
            "marker": {
             "colorbar": {
              "outlinewidth": 0,
              "ticks": ""
             }
            },
            "type": "scattergl"
           }
          ],
          "scattermapbox": [
           {
            "marker": {
             "colorbar": {
              "outlinewidth": 0,
              "ticks": ""
             }
            },
            "type": "scattermapbox"
           }
          ],
          "scatterpolar": [
           {
            "marker": {
             "colorbar": {
              "outlinewidth": 0,
              "ticks": ""
             }
            },
            "type": "scatterpolar"
           }
          ],
          "scatterpolargl": [
           {
            "marker": {
             "colorbar": {
              "outlinewidth": 0,
              "ticks": ""
             }
            },
            "type": "scatterpolargl"
           }
          ],
          "scatterternary": [
           {
            "marker": {
             "colorbar": {
              "outlinewidth": 0,
              "ticks": ""
             }
            },
            "type": "scatterternary"
           }
          ],
          "surface": [
           {
            "colorbar": {
             "outlinewidth": 0,
             "ticks": ""
            },
            "colorscale": [
             [
              0,
              "#0d0887"
             ],
             [
              0.1111111111111111,
              "#46039f"
             ],
             [
              0.2222222222222222,
              "#7201a8"
             ],
             [
              0.3333333333333333,
              "#9c179e"
             ],
             [
              0.4444444444444444,
              "#bd3786"
             ],
             [
              0.5555555555555556,
              "#d8576b"
             ],
             [
              0.6666666666666666,
              "#ed7953"
             ],
             [
              0.7777777777777778,
              "#fb9f3a"
             ],
             [
              0.8888888888888888,
              "#fdca26"
             ],
             [
              1,
              "#f0f921"
             ]
            ],
            "type": "surface"
           }
          ],
          "table": [
           {
            "cells": {
             "fill": {
              "color": "#EBF0F8"
             },
             "line": {
              "color": "white"
             }
            },
            "header": {
             "fill": {
              "color": "#C8D4E3"
             },
             "line": {
              "color": "white"
             }
            },
            "type": "table"
           }
          ]
         },
         "layout": {
          "annotationdefaults": {
           "arrowcolor": "#2a3f5f",
           "arrowhead": 0,
           "arrowwidth": 1
          },
          "autotypenumbers": "strict",
          "coloraxis": {
           "colorbar": {
            "outlinewidth": 0,
            "ticks": ""
           }
          },
          "colorscale": {
           "diverging": [
            [
             0,
             "#8e0152"
            ],
            [
             0.1,
             "#c51b7d"
            ],
            [
             0.2,
             "#de77ae"
            ],
            [
             0.3,
             "#f1b6da"
            ],
            [
             0.4,
             "#fde0ef"
            ],
            [
             0.5,
             "#f7f7f7"
            ],
            [
             0.6,
             "#e6f5d0"
            ],
            [
             0.7,
             "#b8e186"
            ],
            [
             0.8,
             "#7fbc41"
            ],
            [
             0.9,
             "#4d9221"
            ],
            [
             1,
             "#276419"
            ]
           ],
           "sequential": [
            [
             0,
             "#0d0887"
            ],
            [
             0.1111111111111111,
             "#46039f"
            ],
            [
             0.2222222222222222,
             "#7201a8"
            ],
            [
             0.3333333333333333,
             "#9c179e"
            ],
            [
             0.4444444444444444,
             "#bd3786"
            ],
            [
             0.5555555555555556,
             "#d8576b"
            ],
            [
             0.6666666666666666,
             "#ed7953"
            ],
            [
             0.7777777777777778,
             "#fb9f3a"
            ],
            [
             0.8888888888888888,
             "#fdca26"
            ],
            [
             1,
             "#f0f921"
            ]
           ],
           "sequentialminus": [
            [
             0,
             "#0d0887"
            ],
            [
             0.1111111111111111,
             "#46039f"
            ],
            [
             0.2222222222222222,
             "#7201a8"
            ],
            [
             0.3333333333333333,
             "#9c179e"
            ],
            [
             0.4444444444444444,
             "#bd3786"
            ],
            [
             0.5555555555555556,
             "#d8576b"
            ],
            [
             0.6666666666666666,
             "#ed7953"
            ],
            [
             0.7777777777777778,
             "#fb9f3a"
            ],
            [
             0.8888888888888888,
             "#fdca26"
            ],
            [
             1,
             "#f0f921"
            ]
           ]
          },
          "colorway": [
           "#636efa",
           "#EF553B",
           "#00cc96",
           "#ab63fa",
           "#FFA15A",
           "#19d3f3",
           "#FF6692",
           "#B6E880",
           "#FF97FF",
           "#FECB52"
          ],
          "font": {
           "color": "#2a3f5f"
          },
          "geo": {
           "bgcolor": "white",
           "lakecolor": "white",
           "landcolor": "#E5ECF6",
           "showlakes": true,
           "showland": true,
           "subunitcolor": "white"
          },
          "hoverlabel": {
           "align": "left"
          },
          "hovermode": "closest",
          "mapbox": {
           "style": "light"
          },
          "paper_bgcolor": "white",
          "plot_bgcolor": "#E5ECF6",
          "polar": {
           "angularaxis": {
            "gridcolor": "white",
            "linecolor": "white",
            "ticks": ""
           },
           "bgcolor": "#E5ECF6",
           "radialaxis": {
            "gridcolor": "white",
            "linecolor": "white",
            "ticks": ""
           }
          },
          "scene": {
           "xaxis": {
            "backgroundcolor": "#E5ECF6",
            "gridcolor": "white",
            "gridwidth": 2,
            "linecolor": "white",
            "showbackground": true,
            "ticks": "",
            "zerolinecolor": "white"
           },
           "yaxis": {
            "backgroundcolor": "#E5ECF6",
            "gridcolor": "white",
            "gridwidth": 2,
            "linecolor": "white",
            "showbackground": true,
            "ticks": "",
            "zerolinecolor": "white"
           },
           "zaxis": {
            "backgroundcolor": "#E5ECF6",
            "gridcolor": "white",
            "gridwidth": 2,
            "linecolor": "white",
            "showbackground": true,
            "ticks": "",
            "zerolinecolor": "white"
           }
          },
          "shapedefaults": {
           "line": {
            "color": "#2a3f5f"
           }
          },
          "ternary": {
           "aaxis": {
            "gridcolor": "white",
            "linecolor": "white",
            "ticks": ""
           },
           "baxis": {
            "gridcolor": "white",
            "linecolor": "white",
            "ticks": ""
           },
           "bgcolor": "#E5ECF6",
           "caxis": {
            "gridcolor": "white",
            "linecolor": "white",
            "ticks": ""
           }
          },
          "title": {
           "x": 0.05
          },
          "xaxis": {
           "automargin": true,
           "gridcolor": "white",
           "linecolor": "white",
           "ticks": "",
           "title": {
            "standoff": 15
           },
           "zerolinecolor": "white",
           "zerolinewidth": 2
          },
          "yaxis": {
           "automargin": true,
           "gridcolor": "white",
           "linecolor": "white",
           "ticks": "",
           "title": {
            "standoff": 15
           },
           "zerolinecolor": "white",
           "zerolinewidth": 2
          }
         }
        },
        "title": {
         "text": "Candlestick Chart for ^NSEI - Trend: Neutral"
        },
        "xaxis": {
         "rangeslider": {
          "visible": true
         }
        }
       }
      },
      "text/html": [
       "<div>                            <div id=\"0aa3547d-b488-452a-9f07-5506e6850e87\" class=\"plotly-graph-div\" style=\"height:525px; width:100%;\"></div>            <script type=\"text/javascript\">                require([\"plotly\"], function(Plotly) {                    window.PLOTLYENV=window.PLOTLYENV || {};                                    if (document.getElementById(\"0aa3547d-b488-452a-9f07-5506e6850e87\")) {                    Plotly.newPlot(                        \"0aa3547d-b488-452a-9f07-5506e6850e87\",                        [{\"close\":[21353.25,21348.80078125,21347.400390625,21314.900390625,21311.75,21237.55078125,21220.0,21221.650390625,21239.5,21243.05078125,21240.05078125,21267.55078125,21372.94921875,21329.099609375,21383.0,21369.69921875,21369.19921875,21372.30078125,21297.150390625,21305.55078125,21285.44921875,21248.150390625,21254.150390625,21225.400390625,21297.30078125,21300.849609375,21302.55078125,21299.44921875,21301.30078125,21340.69921875,21369.80078125,21429.80078125,21436.0,21456.05078125,21460.69921875,21438.0,21385.900390625,21373.650390625,21368.94921875,21316.599609375,21307.75,21258.099609375,21265.5,21297.69921875,21352.5,21303.400390625,21296.400390625,21288.44921875,21287.349609375,21258.150390625,21284.150390625,21266.69921875,21275.80078125,21297.05078125,21279.75,21274.849609375,21257.55078125,21265.849609375,21343.30078125,21370.75],\"high\":[21379.19921875,21375.650390625,21361.69921875,21361.44921875,21337.400390625,21313.19921875,21265.25,21270.55078125,21252.150390625,21271.25,21252.44921875,21285.5,21375.5,21398.44921875,21398.400390625,21408.400390625,21394.19921875,21394.900390625,21388.55078125,21332.150390625,21306.150390625,21284.849609375,21292.94921875,21258.19921875,21298.55078125,21333.5,21337.150390625,21313.30078125,21319.150390625,21353.849609375,21372.400390625,21429.80078125,21438.94921875,21459.099609375,21481.900390625,21456.900390625,21441.599609375,21406.55078125,21387.900390625,21371.400390625,21331.25,21312.80078125,21278.849609375,21321.849609375,21376.599609375,21358.30078125,21314.349609375,21308.349609375,21305.5,21304.05078125,21290.19921875,21298.69921875,21279.849609375,21312.099609375,21310.25,21284.0,21293.69921875,21280.849609375,21360.0,21401.75],\"low\":[21337.44921875,21327.599609375,21330.650390625,21302.5,21304.19921875,21231.849609375,21218.19921875,21212.650390625,21193.0,21234.650390625,21137.94921875,21227.349609375,21267.94921875,21312.900390625,21329.5,21369.69921875,21341.349609375,21361.0,21296.80078125,21233.19921875,21272.94921875,21234.30078125,21218.5,21213.650390625,21223.599609375,21294.349609375,21281.150390625,21286.55078125,21292.099609375,21301.349609375,21324.94921875,21366.0,21393.30078125,21404.099609375,21454.55078125,21372.94921875,21381.099609375,21355.75,21356.44921875,21288.30078125,21291.55078125,21255.0,21248.150390625,21258.75,21282.849609375,21279.75,21285.150390625,21267.44921875,21276.80078125,21257.69921875,21254.0,21264.05078125,21257.80078125,21276.19921875,21278.849609375,21262.099609375,21249.44921875,21256.94921875,21266.400390625,21339.44921875],\"open\":[21363.849609375,21353.099609375,21349.19921875,21347.19921875,21315.69921875,21312.30078125,21237.69921875,21221.849609375,21221.150390625,21239.25,21185.25,21244.19921875,21267.94921875,21372.80078125,21329.5,21383.69921875,21367.150390625,21368.849609375,21372.349609375,21297.69921875,21304.55078125,21284.150390625,21249.19921875,21254.900390625,21225.400390625,21296.69921875,21299.900390625,21301.849609375,21299.75,21301.349609375,21340.599609375,21369.349609375,21429.400390625,21435.75,21455.69921875,21454.599609375,21438.5,21384.94921875,21373.849609375,21368.44921875,21317.44921875,21308.25,21258.400390625,21266.19921875,21298.400390625,21351.94921875,21303.599609375,21297.55078125,21289.150390625,21288.44921875,21260.900390625,21285.69921875,21267.599609375,21276.19921875,21295.94921875,21279.099609375,21277.349609375,21257.400390625,21266.400390625,21343.05078125],\"x\":[40,41,42,43,44,45,46,47,48,49,50,51,52,53,54,55,56,57,58,59,60,61,62,63,64,65,66,67,68,69,70,71,72,73,74,75,76,77,78,79,80,81,82,83,84,85,86,87,88,89,90,91,92,93,94,95,96,97,98,99],\"type\":\"candlestick\"},{\"marker\":{\"color\":\"MediumPurple\",\"size\":4},\"mode\":\"markers\",\"name\":\"pivot\",\"x\":[40,41,42,43,44,45,46,47,48,49,50,51,52,53,54,55,56,57,58,59,60,61,62,63,64,65,66,67,68,69,70,71,72,73,74,75,76,77,78,79,80,81,82,83,84,85,86,87,88,89,90,91,92,93,94,95,96,97,98,99],\"y\":[null,null,null,null,null,null,null,null,null,null,21137.94821875,null,null,null,null,21408.401390625,null,null,null,null,null,null,null,21213.649390625,null,null,null,null,null,null,null,null,null,null,21481.901390625,null,null,null,null,null,null,null,21248.149390625,null,21376.600609375,null,null,null,null,null,21253.999,null,null,21312.100609375,null,null,21249.44821875,null,null,null],\"type\":\"scatter\"},{\"line\":{\"color\":\"green\",\"width\":2},\"mode\":\"lines\",\"name\":\"low triangle line\",\"x\":[50.0,63.0,82.0,90.0,96.0,97.0],\"y\":[21159.448932817155,21189.810835188415,21234.185923269484,21252.870170882565,21266.883356592378],\"type\":\"scatter\"},{\"line\":{\"color\":\"red\",\"width\":2},\"mode\":\"lines\",\"name\":\"high triangle line\",\"x\":[55.0,74.0,84.0,93.0,94.0],\"y\":[21449.004960006274,21401.0587162798,21375.823851160603,21353.112472553326],\"type\":\"scatter\"}],                        {\"template\":{\"data\":{\"histogram2dcontour\":[{\"type\":\"histogram2dcontour\",\"colorbar\":{\"outlinewidth\":0,\"ticks\":\"\"},\"colorscale\":[[0.0,\"#0d0887\"],[0.1111111111111111,\"#46039f\"],[0.2222222222222222,\"#7201a8\"],[0.3333333333333333,\"#9c179e\"],[0.4444444444444444,\"#bd3786\"],[0.5555555555555556,\"#d8576b\"],[0.6666666666666666,\"#ed7953\"],[0.7777777777777778,\"#fb9f3a\"],[0.8888888888888888,\"#fdca26\"],[1.0,\"#f0f921\"]]}],\"choropleth\":[{\"type\":\"choropleth\",\"colorbar\":{\"outlinewidth\":0,\"ticks\":\"\"}}],\"histogram2d\":[{\"type\":\"histogram2d\",\"colorbar\":{\"outlinewidth\":0,\"ticks\":\"\"},\"colorscale\":[[0.0,\"#0d0887\"],[0.1111111111111111,\"#46039f\"],[0.2222222222222222,\"#7201a8\"],[0.3333333333333333,\"#9c179e\"],[0.4444444444444444,\"#bd3786\"],[0.5555555555555556,\"#d8576b\"],[0.6666666666666666,\"#ed7953\"],[0.7777777777777778,\"#fb9f3a\"],[0.8888888888888888,\"#fdca26\"],[1.0,\"#f0f921\"]]}],\"heatmap\":[{\"type\":\"heatmap\",\"colorbar\":{\"outlinewidth\":0,\"ticks\":\"\"},\"colorscale\":[[0.0,\"#0d0887\"],[0.1111111111111111,\"#46039f\"],[0.2222222222222222,\"#7201a8\"],[0.3333333333333333,\"#9c179e\"],[0.4444444444444444,\"#bd3786\"],[0.5555555555555556,\"#d8576b\"],[0.6666666666666666,\"#ed7953\"],[0.7777777777777778,\"#fb9f3a\"],[0.8888888888888888,\"#fdca26\"],[1.0,\"#f0f921\"]]}],\"heatmapgl\":[{\"type\":\"heatmapgl\",\"colorbar\":{\"outlinewidth\":0,\"ticks\":\"\"},\"colorscale\":[[0.0,\"#0d0887\"],[0.1111111111111111,\"#46039f\"],[0.2222222222222222,\"#7201a8\"],[0.3333333333333333,\"#9c179e\"],[0.4444444444444444,\"#bd3786\"],[0.5555555555555556,\"#d8576b\"],[0.6666666666666666,\"#ed7953\"],[0.7777777777777778,\"#fb9f3a\"],[0.8888888888888888,\"#fdca26\"],[1.0,\"#f0f921\"]]}],\"contourcarpet\":[{\"type\":\"contourcarpet\",\"colorbar\":{\"outlinewidth\":0,\"ticks\":\"\"}}],\"contour\":[{\"type\":\"contour\",\"colorbar\":{\"outlinewidth\":0,\"ticks\":\"\"},\"colorscale\":[[0.0,\"#0d0887\"],[0.1111111111111111,\"#46039f\"],[0.2222222222222222,\"#7201a8\"],[0.3333333333333333,\"#9c179e\"],[0.4444444444444444,\"#bd3786\"],[0.5555555555555556,\"#d8576b\"],[0.6666666666666666,\"#ed7953\"],[0.7777777777777778,\"#fb9f3a\"],[0.8888888888888888,\"#fdca26\"],[1.0,\"#f0f921\"]]}],\"surface\":[{\"type\":\"surface\",\"colorbar\":{\"outlinewidth\":0,\"ticks\":\"\"},\"colorscale\":[[0.0,\"#0d0887\"],[0.1111111111111111,\"#46039f\"],[0.2222222222222222,\"#7201a8\"],[0.3333333333333333,\"#9c179e\"],[0.4444444444444444,\"#bd3786\"],[0.5555555555555556,\"#d8576b\"],[0.6666666666666666,\"#ed7953\"],[0.7777777777777778,\"#fb9f3a\"],[0.8888888888888888,\"#fdca26\"],[1.0,\"#f0f921\"]]}],\"mesh3d\":[{\"type\":\"mesh3d\",\"colorbar\":{\"outlinewidth\":0,\"ticks\":\"\"}}],\"scatter\":[{\"fillpattern\":{\"fillmode\":\"overlay\",\"size\":10,\"solidity\":0.2},\"type\":\"scatter\"}],\"parcoords\":[{\"type\":\"parcoords\",\"line\":{\"colorbar\":{\"outlinewidth\":0,\"ticks\":\"\"}}}],\"scatterpolargl\":[{\"type\":\"scatterpolargl\",\"marker\":{\"colorbar\":{\"outlinewidth\":0,\"ticks\":\"\"}}}],\"bar\":[{\"error_x\":{\"color\":\"#2a3f5f\"},\"error_y\":{\"color\":\"#2a3f5f\"},\"marker\":{\"line\":{\"color\":\"#E5ECF6\",\"width\":0.5},\"pattern\":{\"fillmode\":\"overlay\",\"size\":10,\"solidity\":0.2}},\"type\":\"bar\"}],\"scattergeo\":[{\"type\":\"scattergeo\",\"marker\":{\"colorbar\":{\"outlinewidth\":0,\"ticks\":\"\"}}}],\"scatterpolar\":[{\"type\":\"scatterpolar\",\"marker\":{\"colorbar\":{\"outlinewidth\":0,\"ticks\":\"\"}}}],\"histogram\":[{\"marker\":{\"pattern\":{\"fillmode\":\"overlay\",\"size\":10,\"solidity\":0.2}},\"type\":\"histogram\"}],\"scattergl\":[{\"type\":\"scattergl\",\"marker\":{\"colorbar\":{\"outlinewidth\":0,\"ticks\":\"\"}}}],\"scatter3d\":[{\"type\":\"scatter3d\",\"line\":{\"colorbar\":{\"outlinewidth\":0,\"ticks\":\"\"}},\"marker\":{\"colorbar\":{\"outlinewidth\":0,\"ticks\":\"\"}}}],\"scattermapbox\":[{\"type\":\"scattermapbox\",\"marker\":{\"colorbar\":{\"outlinewidth\":0,\"ticks\":\"\"}}}],\"scatterternary\":[{\"type\":\"scatterternary\",\"marker\":{\"colorbar\":{\"outlinewidth\":0,\"ticks\":\"\"}}}],\"scattercarpet\":[{\"type\":\"scattercarpet\",\"marker\":{\"colorbar\":{\"outlinewidth\":0,\"ticks\":\"\"}}}],\"carpet\":[{\"aaxis\":{\"endlinecolor\":\"#2a3f5f\",\"gridcolor\":\"white\",\"linecolor\":\"white\",\"minorgridcolor\":\"white\",\"startlinecolor\":\"#2a3f5f\"},\"baxis\":{\"endlinecolor\":\"#2a3f5f\",\"gridcolor\":\"white\",\"linecolor\":\"white\",\"minorgridcolor\":\"white\",\"startlinecolor\":\"#2a3f5f\"},\"type\":\"carpet\"}],\"table\":[{\"cells\":{\"fill\":{\"color\":\"#EBF0F8\"},\"line\":{\"color\":\"white\"}},\"header\":{\"fill\":{\"color\":\"#C8D4E3\"},\"line\":{\"color\":\"white\"}},\"type\":\"table\"}],\"barpolar\":[{\"marker\":{\"line\":{\"color\":\"#E5ECF6\",\"width\":0.5},\"pattern\":{\"fillmode\":\"overlay\",\"size\":10,\"solidity\":0.2}},\"type\":\"barpolar\"}],\"pie\":[{\"automargin\":true,\"type\":\"pie\"}]},\"layout\":{\"autotypenumbers\":\"strict\",\"colorway\":[\"#636efa\",\"#EF553B\",\"#00cc96\",\"#ab63fa\",\"#FFA15A\",\"#19d3f3\",\"#FF6692\",\"#B6E880\",\"#FF97FF\",\"#FECB52\"],\"font\":{\"color\":\"#2a3f5f\"},\"hovermode\":\"closest\",\"hoverlabel\":{\"align\":\"left\"},\"paper_bgcolor\":\"white\",\"plot_bgcolor\":\"#E5ECF6\",\"polar\":{\"bgcolor\":\"#E5ECF6\",\"angularaxis\":{\"gridcolor\":\"white\",\"linecolor\":\"white\",\"ticks\":\"\"},\"radialaxis\":{\"gridcolor\":\"white\",\"linecolor\":\"white\",\"ticks\":\"\"}},\"ternary\":{\"bgcolor\":\"#E5ECF6\",\"aaxis\":{\"gridcolor\":\"white\",\"linecolor\":\"white\",\"ticks\":\"\"},\"baxis\":{\"gridcolor\":\"white\",\"linecolor\":\"white\",\"ticks\":\"\"},\"caxis\":{\"gridcolor\":\"white\",\"linecolor\":\"white\",\"ticks\":\"\"}},\"coloraxis\":{\"colorbar\":{\"outlinewidth\":0,\"ticks\":\"\"}},\"colorscale\":{\"sequential\":[[0.0,\"#0d0887\"],[0.1111111111111111,\"#46039f\"],[0.2222222222222222,\"#7201a8\"],[0.3333333333333333,\"#9c179e\"],[0.4444444444444444,\"#bd3786\"],[0.5555555555555556,\"#d8576b\"],[0.6666666666666666,\"#ed7953\"],[0.7777777777777778,\"#fb9f3a\"],[0.8888888888888888,\"#fdca26\"],[1.0,\"#f0f921\"]],\"sequentialminus\":[[0.0,\"#0d0887\"],[0.1111111111111111,\"#46039f\"],[0.2222222222222222,\"#7201a8\"],[0.3333333333333333,\"#9c179e\"],[0.4444444444444444,\"#bd3786\"],[0.5555555555555556,\"#d8576b\"],[0.6666666666666666,\"#ed7953\"],[0.7777777777777778,\"#fb9f3a\"],[0.8888888888888888,\"#fdca26\"],[1.0,\"#f0f921\"]],\"diverging\":[[0,\"#8e0152\"],[0.1,\"#c51b7d\"],[0.2,\"#de77ae\"],[0.3,\"#f1b6da\"],[0.4,\"#fde0ef\"],[0.5,\"#f7f7f7\"],[0.6,\"#e6f5d0\"],[0.7,\"#b8e186\"],[0.8,\"#7fbc41\"],[0.9,\"#4d9221\"],[1,\"#276419\"]]},\"xaxis\":{\"gridcolor\":\"white\",\"linecolor\":\"white\",\"ticks\":\"\",\"title\":{\"standoff\":15},\"zerolinecolor\":\"white\",\"automargin\":true,\"zerolinewidth\":2},\"yaxis\":{\"gridcolor\":\"white\",\"linecolor\":\"white\",\"ticks\":\"\",\"title\":{\"standoff\":15},\"zerolinecolor\":\"white\",\"automargin\":true,\"zerolinewidth\":2},\"scene\":{\"xaxis\":{\"backgroundcolor\":\"#E5ECF6\",\"gridcolor\":\"white\",\"linecolor\":\"white\",\"showbackground\":true,\"ticks\":\"\",\"zerolinecolor\":\"white\",\"gridwidth\":2},\"yaxis\":{\"backgroundcolor\":\"#E5ECF6\",\"gridcolor\":\"white\",\"linecolor\":\"white\",\"showbackground\":true,\"ticks\":\"\",\"zerolinecolor\":\"white\",\"gridwidth\":2},\"zaxis\":{\"backgroundcolor\":\"#E5ECF6\",\"gridcolor\":\"white\",\"linecolor\":\"white\",\"showbackground\":true,\"ticks\":\"\",\"zerolinecolor\":\"white\",\"gridwidth\":2}},\"shapedefaults\":{\"line\":{\"color\":\"#2a3f5f\"}},\"annotationdefaults\":{\"arrowcolor\":\"#2a3f5f\",\"arrowhead\":0,\"arrowwidth\":1},\"geo\":{\"bgcolor\":\"white\",\"landcolor\":\"#E5ECF6\",\"subunitcolor\":\"white\",\"showland\":true,\"showlakes\":true,\"lakecolor\":\"white\"},\"title\":{\"x\":0.05},\"mapbox\":{\"style\":\"light\"}}},\"xaxis\":{\"rangeslider\":{\"visible\":true}},\"title\":{\"text\":\"Candlestick Chart for ^NSEI - Trend: Neutral\"}},                        {\"responsive\": true}                    ).then(function(){\n",
       "                            \n",
       "var gd = document.getElementById('0aa3547d-b488-452a-9f07-5506e6850e87');\n",
       "var x = new MutationObserver(function (mutations, observer) {{\n",
       "        var display = window.getComputedStyle(gd).display;\n",
       "        if (!display || display === 'none') {{\n",
       "            console.log([gd, 'removed!']);\n",
       "            Plotly.purge(gd);\n",
       "            observer.disconnect();\n",
       "        }}\n",
       "}});\n",
       "\n",
       "// Listen for the removal of the full notebook cells\n",
       "var notebookContainer = gd.closest('#notebook-container');\n",
       "if (notebookContainer) {{\n",
       "    x.observe(notebookContainer, {childList: true});\n",
       "}}\n",
       "\n",
       "// Listen for the clearing of the current output cell\n",
       "var outputEl = gd.closest('.output');\n",
       "if (outputEl) {{\n",
       "    x.observe(outputEl, {childList: true});\n",
       "}}\n",
       "\n",
       "                        })                };                });            </script>        </div>"
      ]
     },
     "metadata": {},
     "output_type": "display_data"
    },
    {
     "name": "stdout",
     "output_type": "stream",
     "text": [
      "[*********************100%%**********************]  1 of 1 completed\n"
     ]
    },
    {
     "data": {
      "application/vnd.plotly.v1+json": {
       "config": {
        "plotlyServerURL": "https://plot.ly"
       },
       "data": [
        {
         "close": [
          1433.5999755859375,
          1431.75,
          1437.300048828125,
          1438.699951171875,
          1438.050048828125,
          1431.550048828125,
          1430.050048828125,
          1428.300048828125,
          1425.6500244140625,
          1430.8499755859375,
          1426.3499755859375,
          1432.949951171875,
          1441,
          1441.3499755859375,
          1445.550048828125,
          1448.3499755859375,
          1442.5,
          1441.25,
          1436.8499755859375,
          1441.5999755859375,
          1443.6500244140625,
          1438.1500244140625,
          1443.9000244140625,
          1439.199951171875,
          1443.75,
          1447.199951171875,
          1448.449951171875,
          1447.75,
          1444.449951171875,
          1444.3499755859375,
          1444.75,
          1455.5,
          1458.050048828125,
          1455.949951171875,
          1456.5,
          1449.300048828125,
          1443.699951171875,
          1442.4000244140625,
          1439,
          1438.449951171875,
          1434.9000244140625,
          1433.9000244140625,
          1433.8499755859375,
          1433.5999755859375,
          1432.550048828125,
          1428,
          1427.199951171875,
          1426.75,
          1428.0999755859375,
          1426.050048828125,
          1426.25,
          1420.4000244140625,
          1422.75,
          1428,
          1428,
          1425.8499755859375,
          1427.949951171875,
          1428.949951171875,
          1435.75,
          1441
         ],
         "high": [
          1435,
          1435.300048828125,
          1437.300048828125,
          1440.5,
          1440.25,
          1438.5999755859375,
          1432.800048828125,
          1432.0999755859375,
          1429.199951171875,
          1431.0999755859375,
          1433.75,
          1437.449951171875,
          1441.5,
          1443.699951171875,
          1448.699951171875,
          1452,
          1449.300048828125,
          1443.300048828125,
          1444.699951171875,
          1444.5999755859375,
          1450.800048828125,
          1446.300048828125,
          1446,
          1446.1500244140625,
          1445.449951171875,
          1450.9000244140625,
          1451,
          1449.6500244140625,
          1448.199951171875,
          1448,
          1446.800048828125,
          1455.5999755859375,
          1458.4000244140625,
          1458.4000244140625,
          1458.25,
          1453.8499755859375,
          1449.5999755859375,
          1444.949951171875,
          1443.300048828125,
          1439.25,
          1439.5,
          1436.3499755859375,
          1435.449951171875,
          1435.800048828125,
          1434.949951171875,
          1432.5,
          1429,
          1428,
          1428.800048828125,
          1428.199951171875,
          1427.3499755859375,
          1426.4000244140625,
          1423.300048828125,
          1429,
          1429.9000244140625,
          1429,
          1428.5,
          1429.8499755859375,
          1436.5999755859375,
          1443.300048828125
         ],
         "low": [
          1432,
          1430.800048828125,
          1431.5,
          1436.5999755859375,
          1434.449951171875,
          1430.550048828125,
          1430,
          1428,
          1425.0999755859375,
          1425.199951171875,
          1392.550048828125,
          1425.25,
          1432.0999755859375,
          1437.300048828125,
          1441.300048828125,
          1445.0999755859375,
          1442.449951171875,
          1439,
          1436.199951171875,
          1432.25,
          1439,
          1437.050048828125,
          1438.1500244140625,
          1439,
          1439.449951171875,
          1443.25,
          1444.4000244140625,
          1447,
          1443,
          1443.300048828125,
          1443,
          1444.3499755859375,
          1451.449951171875,
          1453.6500244140625,
          1454.0999755859375,
          1443.4000244140625,
          1442.1500244140625,
          1440.5999755859375,
          1437,
          1433.199951171875,
          1432.550048828125,
          1432.300048828125,
          1431.050048828125,
          1432.949951171875,
          1431,
          1426.0999755859375,
          1425.25,
          1425.5,
          1426.050048828125,
          1425.0999755859375,
          1424.550048828125,
          1420.199951171875,
          1419.4000244140625,
          1422.75,
          1424.699951171875,
          1424.4000244140625,
          1425.8499755859375,
          1426.9000244140625,
          1429.0999755859375,
          1435.1500244140625
         ],
         "open": [
          1432.199951171875,
          1434,
          1431.800048828125,
          1437.1500244140625,
          1438.699951171875,
          1438.050048828125,
          1432.25,
          1430.050048828125,
          1428.300048828125,
          1425.699951171875,
          1392.550048828125,
          1426.800048828125,
          1433.5,
          1441,
          1441.4000244140625,
          1445.5999755859375,
          1448.550048828125,
          1442.6500244140625,
          1441.199951171875,
          1436.800048828125,
          1441.8499755859375,
          1443.550048828125,
          1438.3499755859375,
          1443.800048828125,
          1439.6500244140625,
          1443.75,
          1447.4000244140625,
          1448.449951171875,
          1447.8499755859375,
          1444.5,
          1444.300048828125,
          1444.75,
          1455.75,
          1458.4000244140625,
          1456,
          1453.8499755859375,
          1449.3499755859375,
          1443.5,
          1441.9000244140625,
          1439.050048828125,
          1438.5999755859375,
          1434.949951171875,
          1434.0999755859375,
          1433.9000244140625,
          1433.699951171875,
          1432.4000244140625,
          1427.550048828125,
          1427.300048828125,
          1426.75,
          1428.050048828125,
          1426,
          1426.25,
          1420.4000244140625,
          1422.800048828125,
          1427.5999755859375,
          1428,
          1426,
          1427.949951171875,
          1429.699951171875,
          1435.949951171875
         ],
         "type": "candlestick",
         "x": [
          40,
          41,
          42,
          43,
          44,
          45,
          46,
          47,
          48,
          49,
          50,
          51,
          52,
          53,
          54,
          55,
          56,
          57,
          58,
          59,
          60,
          61,
          62,
          63,
          64,
          65,
          66,
          67,
          68,
          69,
          70,
          71,
          72,
          73,
          74,
          75,
          76,
          77,
          78,
          79,
          80,
          81,
          82,
          83,
          84,
          85,
          86,
          87,
          88,
          89,
          90,
          91,
          92,
          93,
          94,
          95,
          96,
          97,
          98,
          99
         ]
        },
        {
         "marker": {
          "color": "MediumPurple",
          "size": 4
         },
         "mode": "markers",
         "name": "pivot",
         "type": "scatter",
         "x": [
          40,
          41,
          42,
          43,
          44,
          45,
          46,
          47,
          48,
          49,
          50,
          51,
          52,
          53,
          54,
          55,
          56,
          57,
          58,
          59,
          60,
          61,
          62,
          63,
          64,
          65,
          66,
          67,
          68,
          69,
          70,
          71,
          72,
          73,
          74,
          75,
          76,
          77,
          78,
          79,
          80,
          81,
          82,
          83,
          84,
          85,
          86,
          87,
          88,
          89,
          90,
          91,
          92,
          93,
          94,
          95,
          96,
          97,
          98,
          99
         ],
         "y": [
          null,
          1430.799048828125,
          null,
          1440.501,
          null,
          null,
          null,
          null,
          null,
          null,
          1392.549048828125,
          null,
          null,
          null,
          null,
          1452.001,
          null,
          null,
          null,
          1432.249,
          1450.801048828125,
          null,
          null,
          null,
          null,
          null,
          1451.001,
          null,
          1442.999,
          null,
          1442.999,
          null,
          1458.4010244140625,
          1458.4010244140625,
          null,
          null,
          null,
          null,
          null,
          null,
          null,
          null,
          null,
          null,
          null,
          null,
          null,
          null,
          null,
          null,
          null,
          null,
          1419.3990244140625,
          null,
          1429.9010244140625,
          null,
          null,
          null,
          null,
          null
         ]
        },
        {
         "line": {
          "color": "green",
          "width": 2
         },
         "mode": "lines",
         "name": "low triangle line",
         "type": "scatter",
         "x": [
          50,
          59,
          68,
          70,
          92,
          93
         ],
         "y": [
          1418.421699207842,
          1422.273656453087,
          1426.125613698332,
          1426.9816041972751,
          1436.3974996856516
         ]
        },
        {
         "line": {
          "color": "red",
          "width": 2
         },
         "mode": "lines",
         "name": "high triangle line",
         "type": "scatter",
         "x": [
          55,
          60,
          66,
          72,
          73,
          94,
          95
         ],
         "y": [
          1457.863995295699,
          1455.2704480899279,
          1452.1581914430026,
          1449.045934796077,
          1448.5272253549228,
          1437.6343270906839
         ]
        }
       ],
       "layout": {
        "template": {
         "data": {
          "bar": [
           {
            "error_x": {
             "color": "#2a3f5f"
            },
            "error_y": {
             "color": "#2a3f5f"
            },
            "marker": {
             "line": {
              "color": "#E5ECF6",
              "width": 0.5
             },
             "pattern": {
              "fillmode": "overlay",
              "size": 10,
              "solidity": 0.2
             }
            },
            "type": "bar"
           }
          ],
          "barpolar": [
           {
            "marker": {
             "line": {
              "color": "#E5ECF6",
              "width": 0.5
             },
             "pattern": {
              "fillmode": "overlay",
              "size": 10,
              "solidity": 0.2
             }
            },
            "type": "barpolar"
           }
          ],
          "carpet": [
           {
            "aaxis": {
             "endlinecolor": "#2a3f5f",
             "gridcolor": "white",
             "linecolor": "white",
             "minorgridcolor": "white",
             "startlinecolor": "#2a3f5f"
            },
            "baxis": {
             "endlinecolor": "#2a3f5f",
             "gridcolor": "white",
             "linecolor": "white",
             "minorgridcolor": "white",
             "startlinecolor": "#2a3f5f"
            },
            "type": "carpet"
           }
          ],
          "choropleth": [
           {
            "colorbar": {
             "outlinewidth": 0,
             "ticks": ""
            },
            "type": "choropleth"
           }
          ],
          "contour": [
           {
            "colorbar": {
             "outlinewidth": 0,
             "ticks": ""
            },
            "colorscale": [
             [
              0,
              "#0d0887"
             ],
             [
              0.1111111111111111,
              "#46039f"
             ],
             [
              0.2222222222222222,
              "#7201a8"
             ],
             [
              0.3333333333333333,
              "#9c179e"
             ],
             [
              0.4444444444444444,
              "#bd3786"
             ],
             [
              0.5555555555555556,
              "#d8576b"
             ],
             [
              0.6666666666666666,
              "#ed7953"
             ],
             [
              0.7777777777777778,
              "#fb9f3a"
             ],
             [
              0.8888888888888888,
              "#fdca26"
             ],
             [
              1,
              "#f0f921"
             ]
            ],
            "type": "contour"
           }
          ],
          "contourcarpet": [
           {
            "colorbar": {
             "outlinewidth": 0,
             "ticks": ""
            },
            "type": "contourcarpet"
           }
          ],
          "heatmap": [
           {
            "colorbar": {
             "outlinewidth": 0,
             "ticks": ""
            },
            "colorscale": [
             [
              0,
              "#0d0887"
             ],
             [
              0.1111111111111111,
              "#46039f"
             ],
             [
              0.2222222222222222,
              "#7201a8"
             ],
             [
              0.3333333333333333,
              "#9c179e"
             ],
             [
              0.4444444444444444,
              "#bd3786"
             ],
             [
              0.5555555555555556,
              "#d8576b"
             ],
             [
              0.6666666666666666,
              "#ed7953"
             ],
             [
              0.7777777777777778,
              "#fb9f3a"
             ],
             [
              0.8888888888888888,
              "#fdca26"
             ],
             [
              1,
              "#f0f921"
             ]
            ],
            "type": "heatmap"
           }
          ],
          "heatmapgl": [
           {
            "colorbar": {
             "outlinewidth": 0,
             "ticks": ""
            },
            "colorscale": [
             [
              0,
              "#0d0887"
             ],
             [
              0.1111111111111111,
              "#46039f"
             ],
             [
              0.2222222222222222,
              "#7201a8"
             ],
             [
              0.3333333333333333,
              "#9c179e"
             ],
             [
              0.4444444444444444,
              "#bd3786"
             ],
             [
              0.5555555555555556,
              "#d8576b"
             ],
             [
              0.6666666666666666,
              "#ed7953"
             ],
             [
              0.7777777777777778,
              "#fb9f3a"
             ],
             [
              0.8888888888888888,
              "#fdca26"
             ],
             [
              1,
              "#f0f921"
             ]
            ],
            "type": "heatmapgl"
           }
          ],
          "histogram": [
           {
            "marker": {
             "pattern": {
              "fillmode": "overlay",
              "size": 10,
              "solidity": 0.2
             }
            },
            "type": "histogram"
           }
          ],
          "histogram2d": [
           {
            "colorbar": {
             "outlinewidth": 0,
             "ticks": ""
            },
            "colorscale": [
             [
              0,
              "#0d0887"
             ],
             [
              0.1111111111111111,
              "#46039f"
             ],
             [
              0.2222222222222222,
              "#7201a8"
             ],
             [
              0.3333333333333333,
              "#9c179e"
             ],
             [
              0.4444444444444444,
              "#bd3786"
             ],
             [
              0.5555555555555556,
              "#d8576b"
             ],
             [
              0.6666666666666666,
              "#ed7953"
             ],
             [
              0.7777777777777778,
              "#fb9f3a"
             ],
             [
              0.8888888888888888,
              "#fdca26"
             ],
             [
              1,
              "#f0f921"
             ]
            ],
            "type": "histogram2d"
           }
          ],
          "histogram2dcontour": [
           {
            "colorbar": {
             "outlinewidth": 0,
             "ticks": ""
            },
            "colorscale": [
             [
              0,
              "#0d0887"
             ],
             [
              0.1111111111111111,
              "#46039f"
             ],
             [
              0.2222222222222222,
              "#7201a8"
             ],
             [
              0.3333333333333333,
              "#9c179e"
             ],
             [
              0.4444444444444444,
              "#bd3786"
             ],
             [
              0.5555555555555556,
              "#d8576b"
             ],
             [
              0.6666666666666666,
              "#ed7953"
             ],
             [
              0.7777777777777778,
              "#fb9f3a"
             ],
             [
              0.8888888888888888,
              "#fdca26"
             ],
             [
              1,
              "#f0f921"
             ]
            ],
            "type": "histogram2dcontour"
           }
          ],
          "mesh3d": [
           {
            "colorbar": {
             "outlinewidth": 0,
             "ticks": ""
            },
            "type": "mesh3d"
           }
          ],
          "parcoords": [
           {
            "line": {
             "colorbar": {
              "outlinewidth": 0,
              "ticks": ""
             }
            },
            "type": "parcoords"
           }
          ],
          "pie": [
           {
            "automargin": true,
            "type": "pie"
           }
          ],
          "scatter": [
           {
            "fillpattern": {
             "fillmode": "overlay",
             "size": 10,
             "solidity": 0.2
            },
            "type": "scatter"
           }
          ],
          "scatter3d": [
           {
            "line": {
             "colorbar": {
              "outlinewidth": 0,
              "ticks": ""
             }
            },
            "marker": {
             "colorbar": {
              "outlinewidth": 0,
              "ticks": ""
             }
            },
            "type": "scatter3d"
           }
          ],
          "scattercarpet": [
           {
            "marker": {
             "colorbar": {
              "outlinewidth": 0,
              "ticks": ""
             }
            },
            "type": "scattercarpet"
           }
          ],
          "scattergeo": [
           {
            "marker": {
             "colorbar": {
              "outlinewidth": 0,
              "ticks": ""
             }
            },
            "type": "scattergeo"
           }
          ],
          "scattergl": [
           {
            "marker": {
             "colorbar": {
              "outlinewidth": 0,
              "ticks": ""
             }
            },
            "type": "scattergl"
           }
          ],
          "scattermapbox": [
           {
            "marker": {
             "colorbar": {
              "outlinewidth": 0,
              "ticks": ""
             }
            },
            "type": "scattermapbox"
           }
          ],
          "scatterpolar": [
           {
            "marker": {
             "colorbar": {
              "outlinewidth": 0,
              "ticks": ""
             }
            },
            "type": "scatterpolar"
           }
          ],
          "scatterpolargl": [
           {
            "marker": {
             "colorbar": {
              "outlinewidth": 0,
              "ticks": ""
             }
            },
            "type": "scatterpolargl"
           }
          ],
          "scatterternary": [
           {
            "marker": {
             "colorbar": {
              "outlinewidth": 0,
              "ticks": ""
             }
            },
            "type": "scatterternary"
           }
          ],
          "surface": [
           {
            "colorbar": {
             "outlinewidth": 0,
             "ticks": ""
            },
            "colorscale": [
             [
              0,
              "#0d0887"
             ],
             [
              0.1111111111111111,
              "#46039f"
             ],
             [
              0.2222222222222222,
              "#7201a8"
             ],
             [
              0.3333333333333333,
              "#9c179e"
             ],
             [
              0.4444444444444444,
              "#bd3786"
             ],
             [
              0.5555555555555556,
              "#d8576b"
             ],
             [
              0.6666666666666666,
              "#ed7953"
             ],
             [
              0.7777777777777778,
              "#fb9f3a"
             ],
             [
              0.8888888888888888,
              "#fdca26"
             ],
             [
              1,
              "#f0f921"
             ]
            ],
            "type": "surface"
           }
          ],
          "table": [
           {
            "cells": {
             "fill": {
              "color": "#EBF0F8"
             },
             "line": {
              "color": "white"
             }
            },
            "header": {
             "fill": {
              "color": "#C8D4E3"
             },
             "line": {
              "color": "white"
             }
            },
            "type": "table"
           }
          ]
         },
         "layout": {
          "annotationdefaults": {
           "arrowcolor": "#2a3f5f",
           "arrowhead": 0,
           "arrowwidth": 1
          },
          "autotypenumbers": "strict",
          "coloraxis": {
           "colorbar": {
            "outlinewidth": 0,
            "ticks": ""
           }
          },
          "colorscale": {
           "diverging": [
            [
             0,
             "#8e0152"
            ],
            [
             0.1,
             "#c51b7d"
            ],
            [
             0.2,
             "#de77ae"
            ],
            [
             0.3,
             "#f1b6da"
            ],
            [
             0.4,
             "#fde0ef"
            ],
            [
             0.5,
             "#f7f7f7"
            ],
            [
             0.6,
             "#e6f5d0"
            ],
            [
             0.7,
             "#b8e186"
            ],
            [
             0.8,
             "#7fbc41"
            ],
            [
             0.9,
             "#4d9221"
            ],
            [
             1,
             "#276419"
            ]
           ],
           "sequential": [
            [
             0,
             "#0d0887"
            ],
            [
             0.1111111111111111,
             "#46039f"
            ],
            [
             0.2222222222222222,
             "#7201a8"
            ],
            [
             0.3333333333333333,
             "#9c179e"
            ],
            [
             0.4444444444444444,
             "#bd3786"
            ],
            [
             0.5555555555555556,
             "#d8576b"
            ],
            [
             0.6666666666666666,
             "#ed7953"
            ],
            [
             0.7777777777777778,
             "#fb9f3a"
            ],
            [
             0.8888888888888888,
             "#fdca26"
            ],
            [
             1,
             "#f0f921"
            ]
           ],
           "sequentialminus": [
            [
             0,
             "#0d0887"
            ],
            [
             0.1111111111111111,
             "#46039f"
            ],
            [
             0.2222222222222222,
             "#7201a8"
            ],
            [
             0.3333333333333333,
             "#9c179e"
            ],
            [
             0.4444444444444444,
             "#bd3786"
            ],
            [
             0.5555555555555556,
             "#d8576b"
            ],
            [
             0.6666666666666666,
             "#ed7953"
            ],
            [
             0.7777777777777778,
             "#fb9f3a"
            ],
            [
             0.8888888888888888,
             "#fdca26"
            ],
            [
             1,
             "#f0f921"
            ]
           ]
          },
          "colorway": [
           "#636efa",
           "#EF553B",
           "#00cc96",
           "#ab63fa",
           "#FFA15A",
           "#19d3f3",
           "#FF6692",
           "#B6E880",
           "#FF97FF",
           "#FECB52"
          ],
          "font": {
           "color": "#2a3f5f"
          },
          "geo": {
           "bgcolor": "white",
           "lakecolor": "white",
           "landcolor": "#E5ECF6",
           "showlakes": true,
           "showland": true,
           "subunitcolor": "white"
          },
          "hoverlabel": {
           "align": "left"
          },
          "hovermode": "closest",
          "mapbox": {
           "style": "light"
          },
          "paper_bgcolor": "white",
          "plot_bgcolor": "#E5ECF6",
          "polar": {
           "angularaxis": {
            "gridcolor": "white",
            "linecolor": "white",
            "ticks": ""
           },
           "bgcolor": "#E5ECF6",
           "radialaxis": {
            "gridcolor": "white",
            "linecolor": "white",
            "ticks": ""
           }
          },
          "scene": {
           "xaxis": {
            "backgroundcolor": "#E5ECF6",
            "gridcolor": "white",
            "gridwidth": 2,
            "linecolor": "white",
            "showbackground": true,
            "ticks": "",
            "zerolinecolor": "white"
           },
           "yaxis": {
            "backgroundcolor": "#E5ECF6",
            "gridcolor": "white",
            "gridwidth": 2,
            "linecolor": "white",
            "showbackground": true,
            "ticks": "",
            "zerolinecolor": "white"
           },
           "zaxis": {
            "backgroundcolor": "#E5ECF6",
            "gridcolor": "white",
            "gridwidth": 2,
            "linecolor": "white",
            "showbackground": true,
            "ticks": "",
            "zerolinecolor": "white"
           }
          },
          "shapedefaults": {
           "line": {
            "color": "#2a3f5f"
           }
          },
          "ternary": {
           "aaxis": {
            "gridcolor": "white",
            "linecolor": "white",
            "ticks": ""
           },
           "baxis": {
            "gridcolor": "white",
            "linecolor": "white",
            "ticks": ""
           },
           "bgcolor": "#E5ECF6",
           "caxis": {
            "gridcolor": "white",
            "linecolor": "white",
            "ticks": ""
           }
          },
          "title": {
           "x": 0.05
          },
          "xaxis": {
           "automargin": true,
           "gridcolor": "white",
           "linecolor": "white",
           "ticks": "",
           "title": {
            "standoff": 15
           },
           "zerolinecolor": "white",
           "zerolinewidth": 2
          },
          "yaxis": {
           "automargin": true,
           "gridcolor": "white",
           "linecolor": "white",
           "ticks": "",
           "title": {
            "standoff": 15
           },
           "zerolinecolor": "white",
           "zerolinewidth": 2
          }
         }
        },
        "title": {
         "text": "Candlestick Chart for HDFCBANK.NS - Trend: Neutral"
        },
        "xaxis": {
         "rangeslider": {
          "visible": true
         }
        }
       }
      },
      "text/html": [
       "<div>                            <div id=\"aab181a7-9955-4939-b176-dac695b9598d\" class=\"plotly-graph-div\" style=\"height:525px; width:100%;\"></div>            <script type=\"text/javascript\">                require([\"plotly\"], function(Plotly) {                    window.PLOTLYENV=window.PLOTLYENV || {};                                    if (document.getElementById(\"aab181a7-9955-4939-b176-dac695b9598d\")) {                    Plotly.newPlot(                        \"aab181a7-9955-4939-b176-dac695b9598d\",                        [{\"close\":[1433.5999755859375,1431.75,1437.300048828125,1438.699951171875,1438.050048828125,1431.550048828125,1430.050048828125,1428.300048828125,1425.6500244140625,1430.8499755859375,1426.3499755859375,1432.949951171875,1441.0,1441.3499755859375,1445.550048828125,1448.3499755859375,1442.5,1441.25,1436.8499755859375,1441.5999755859375,1443.6500244140625,1438.1500244140625,1443.9000244140625,1439.199951171875,1443.75,1447.199951171875,1448.449951171875,1447.75,1444.449951171875,1444.3499755859375,1444.75,1455.5,1458.050048828125,1455.949951171875,1456.5,1449.300048828125,1443.699951171875,1442.4000244140625,1439.0,1438.449951171875,1434.9000244140625,1433.9000244140625,1433.8499755859375,1433.5999755859375,1432.550048828125,1428.0,1427.199951171875,1426.75,1428.0999755859375,1426.050048828125,1426.25,1420.4000244140625,1422.75,1428.0,1428.0,1425.8499755859375,1427.949951171875,1428.949951171875,1435.75,1441.0],\"high\":[1435.0,1435.300048828125,1437.300048828125,1440.5,1440.25,1438.5999755859375,1432.800048828125,1432.0999755859375,1429.199951171875,1431.0999755859375,1433.75,1437.449951171875,1441.5,1443.699951171875,1448.699951171875,1452.0,1449.300048828125,1443.300048828125,1444.699951171875,1444.5999755859375,1450.800048828125,1446.300048828125,1446.0,1446.1500244140625,1445.449951171875,1450.9000244140625,1451.0,1449.6500244140625,1448.199951171875,1448.0,1446.800048828125,1455.5999755859375,1458.4000244140625,1458.4000244140625,1458.25,1453.8499755859375,1449.5999755859375,1444.949951171875,1443.300048828125,1439.25,1439.5,1436.3499755859375,1435.449951171875,1435.800048828125,1434.949951171875,1432.5,1429.0,1428.0,1428.800048828125,1428.199951171875,1427.3499755859375,1426.4000244140625,1423.300048828125,1429.0,1429.9000244140625,1429.0,1428.5,1429.8499755859375,1436.5999755859375,1443.300048828125],\"low\":[1432.0,1430.800048828125,1431.5,1436.5999755859375,1434.449951171875,1430.550048828125,1430.0,1428.0,1425.0999755859375,1425.199951171875,1392.550048828125,1425.25,1432.0999755859375,1437.300048828125,1441.300048828125,1445.0999755859375,1442.449951171875,1439.0,1436.199951171875,1432.25,1439.0,1437.050048828125,1438.1500244140625,1439.0,1439.449951171875,1443.25,1444.4000244140625,1447.0,1443.0,1443.300048828125,1443.0,1444.3499755859375,1451.449951171875,1453.6500244140625,1454.0999755859375,1443.4000244140625,1442.1500244140625,1440.5999755859375,1437.0,1433.199951171875,1432.550048828125,1432.300048828125,1431.050048828125,1432.949951171875,1431.0,1426.0999755859375,1425.25,1425.5,1426.050048828125,1425.0999755859375,1424.550048828125,1420.199951171875,1419.4000244140625,1422.75,1424.699951171875,1424.4000244140625,1425.8499755859375,1426.9000244140625,1429.0999755859375,1435.1500244140625],\"open\":[1432.199951171875,1434.0,1431.800048828125,1437.1500244140625,1438.699951171875,1438.050048828125,1432.25,1430.050048828125,1428.300048828125,1425.699951171875,1392.550048828125,1426.800048828125,1433.5,1441.0,1441.4000244140625,1445.5999755859375,1448.550048828125,1442.6500244140625,1441.199951171875,1436.800048828125,1441.8499755859375,1443.550048828125,1438.3499755859375,1443.800048828125,1439.6500244140625,1443.75,1447.4000244140625,1448.449951171875,1447.8499755859375,1444.5,1444.300048828125,1444.75,1455.75,1458.4000244140625,1456.0,1453.8499755859375,1449.3499755859375,1443.5,1441.9000244140625,1439.050048828125,1438.5999755859375,1434.949951171875,1434.0999755859375,1433.9000244140625,1433.699951171875,1432.4000244140625,1427.550048828125,1427.300048828125,1426.75,1428.050048828125,1426.0,1426.25,1420.4000244140625,1422.800048828125,1427.5999755859375,1428.0,1426.0,1427.949951171875,1429.699951171875,1435.949951171875],\"x\":[40,41,42,43,44,45,46,47,48,49,50,51,52,53,54,55,56,57,58,59,60,61,62,63,64,65,66,67,68,69,70,71,72,73,74,75,76,77,78,79,80,81,82,83,84,85,86,87,88,89,90,91,92,93,94,95,96,97,98,99],\"type\":\"candlestick\"},{\"marker\":{\"color\":\"MediumPurple\",\"size\":4},\"mode\":\"markers\",\"name\":\"pivot\",\"x\":[40,41,42,43,44,45,46,47,48,49,50,51,52,53,54,55,56,57,58,59,60,61,62,63,64,65,66,67,68,69,70,71,72,73,74,75,76,77,78,79,80,81,82,83,84,85,86,87,88,89,90,91,92,93,94,95,96,97,98,99],\"y\":[null,1430.799048828125,null,1440.501,null,null,null,null,null,null,1392.549048828125,null,null,null,null,1452.001,null,null,null,1432.249,1450.801048828125,null,null,null,null,null,1451.001,null,1442.999,null,1442.999,null,1458.4010244140625,1458.4010244140625,null,null,null,null,null,null,null,null,null,null,null,null,null,null,null,null,null,null,1419.3990244140625,null,1429.9010244140625,null,null,null,null,null],\"type\":\"scatter\"},{\"line\":{\"color\":\"green\",\"width\":2},\"mode\":\"lines\",\"name\":\"low triangle line\",\"x\":[50.0,59.0,68.0,70.0,92.0,93.0],\"y\":[1418.421699207842,1422.273656453087,1426.125613698332,1426.9816041972751,1436.3974996856516],\"type\":\"scatter\"},{\"line\":{\"color\":\"red\",\"width\":2},\"mode\":\"lines\",\"name\":\"high triangle line\",\"x\":[55.0,60.0,66.0,72.0,73.0,94.0,95.0],\"y\":[1457.863995295699,1455.2704480899279,1452.1581914430026,1449.045934796077,1448.5272253549228,1437.6343270906839],\"type\":\"scatter\"}],                        {\"template\":{\"data\":{\"histogram2dcontour\":[{\"type\":\"histogram2dcontour\",\"colorbar\":{\"outlinewidth\":0,\"ticks\":\"\"},\"colorscale\":[[0.0,\"#0d0887\"],[0.1111111111111111,\"#46039f\"],[0.2222222222222222,\"#7201a8\"],[0.3333333333333333,\"#9c179e\"],[0.4444444444444444,\"#bd3786\"],[0.5555555555555556,\"#d8576b\"],[0.6666666666666666,\"#ed7953\"],[0.7777777777777778,\"#fb9f3a\"],[0.8888888888888888,\"#fdca26\"],[1.0,\"#f0f921\"]]}],\"choropleth\":[{\"type\":\"choropleth\",\"colorbar\":{\"outlinewidth\":0,\"ticks\":\"\"}}],\"histogram2d\":[{\"type\":\"histogram2d\",\"colorbar\":{\"outlinewidth\":0,\"ticks\":\"\"},\"colorscale\":[[0.0,\"#0d0887\"],[0.1111111111111111,\"#46039f\"],[0.2222222222222222,\"#7201a8\"],[0.3333333333333333,\"#9c179e\"],[0.4444444444444444,\"#bd3786\"],[0.5555555555555556,\"#d8576b\"],[0.6666666666666666,\"#ed7953\"],[0.7777777777777778,\"#fb9f3a\"],[0.8888888888888888,\"#fdca26\"],[1.0,\"#f0f921\"]]}],\"heatmap\":[{\"type\":\"heatmap\",\"colorbar\":{\"outlinewidth\":0,\"ticks\":\"\"},\"colorscale\":[[0.0,\"#0d0887\"],[0.1111111111111111,\"#46039f\"],[0.2222222222222222,\"#7201a8\"],[0.3333333333333333,\"#9c179e\"],[0.4444444444444444,\"#bd3786\"],[0.5555555555555556,\"#d8576b\"],[0.6666666666666666,\"#ed7953\"],[0.7777777777777778,\"#fb9f3a\"],[0.8888888888888888,\"#fdca26\"],[1.0,\"#f0f921\"]]}],\"heatmapgl\":[{\"type\":\"heatmapgl\",\"colorbar\":{\"outlinewidth\":0,\"ticks\":\"\"},\"colorscale\":[[0.0,\"#0d0887\"],[0.1111111111111111,\"#46039f\"],[0.2222222222222222,\"#7201a8\"],[0.3333333333333333,\"#9c179e\"],[0.4444444444444444,\"#bd3786\"],[0.5555555555555556,\"#d8576b\"],[0.6666666666666666,\"#ed7953\"],[0.7777777777777778,\"#fb9f3a\"],[0.8888888888888888,\"#fdca26\"],[1.0,\"#f0f921\"]]}],\"contourcarpet\":[{\"type\":\"contourcarpet\",\"colorbar\":{\"outlinewidth\":0,\"ticks\":\"\"}}],\"contour\":[{\"type\":\"contour\",\"colorbar\":{\"outlinewidth\":0,\"ticks\":\"\"},\"colorscale\":[[0.0,\"#0d0887\"],[0.1111111111111111,\"#46039f\"],[0.2222222222222222,\"#7201a8\"],[0.3333333333333333,\"#9c179e\"],[0.4444444444444444,\"#bd3786\"],[0.5555555555555556,\"#d8576b\"],[0.6666666666666666,\"#ed7953\"],[0.7777777777777778,\"#fb9f3a\"],[0.8888888888888888,\"#fdca26\"],[1.0,\"#f0f921\"]]}],\"surface\":[{\"type\":\"surface\",\"colorbar\":{\"outlinewidth\":0,\"ticks\":\"\"},\"colorscale\":[[0.0,\"#0d0887\"],[0.1111111111111111,\"#46039f\"],[0.2222222222222222,\"#7201a8\"],[0.3333333333333333,\"#9c179e\"],[0.4444444444444444,\"#bd3786\"],[0.5555555555555556,\"#d8576b\"],[0.6666666666666666,\"#ed7953\"],[0.7777777777777778,\"#fb9f3a\"],[0.8888888888888888,\"#fdca26\"],[1.0,\"#f0f921\"]]}],\"mesh3d\":[{\"type\":\"mesh3d\",\"colorbar\":{\"outlinewidth\":0,\"ticks\":\"\"}}],\"scatter\":[{\"fillpattern\":{\"fillmode\":\"overlay\",\"size\":10,\"solidity\":0.2},\"type\":\"scatter\"}],\"parcoords\":[{\"type\":\"parcoords\",\"line\":{\"colorbar\":{\"outlinewidth\":0,\"ticks\":\"\"}}}],\"scatterpolargl\":[{\"type\":\"scatterpolargl\",\"marker\":{\"colorbar\":{\"outlinewidth\":0,\"ticks\":\"\"}}}],\"bar\":[{\"error_x\":{\"color\":\"#2a3f5f\"},\"error_y\":{\"color\":\"#2a3f5f\"},\"marker\":{\"line\":{\"color\":\"#E5ECF6\",\"width\":0.5},\"pattern\":{\"fillmode\":\"overlay\",\"size\":10,\"solidity\":0.2}},\"type\":\"bar\"}],\"scattergeo\":[{\"type\":\"scattergeo\",\"marker\":{\"colorbar\":{\"outlinewidth\":0,\"ticks\":\"\"}}}],\"scatterpolar\":[{\"type\":\"scatterpolar\",\"marker\":{\"colorbar\":{\"outlinewidth\":0,\"ticks\":\"\"}}}],\"histogram\":[{\"marker\":{\"pattern\":{\"fillmode\":\"overlay\",\"size\":10,\"solidity\":0.2}},\"type\":\"histogram\"}],\"scattergl\":[{\"type\":\"scattergl\",\"marker\":{\"colorbar\":{\"outlinewidth\":0,\"ticks\":\"\"}}}],\"scatter3d\":[{\"type\":\"scatter3d\",\"line\":{\"colorbar\":{\"outlinewidth\":0,\"ticks\":\"\"}},\"marker\":{\"colorbar\":{\"outlinewidth\":0,\"ticks\":\"\"}}}],\"scattermapbox\":[{\"type\":\"scattermapbox\",\"marker\":{\"colorbar\":{\"outlinewidth\":0,\"ticks\":\"\"}}}],\"scatterternary\":[{\"type\":\"scatterternary\",\"marker\":{\"colorbar\":{\"outlinewidth\":0,\"ticks\":\"\"}}}],\"scattercarpet\":[{\"type\":\"scattercarpet\",\"marker\":{\"colorbar\":{\"outlinewidth\":0,\"ticks\":\"\"}}}],\"carpet\":[{\"aaxis\":{\"endlinecolor\":\"#2a3f5f\",\"gridcolor\":\"white\",\"linecolor\":\"white\",\"minorgridcolor\":\"white\",\"startlinecolor\":\"#2a3f5f\"},\"baxis\":{\"endlinecolor\":\"#2a3f5f\",\"gridcolor\":\"white\",\"linecolor\":\"white\",\"minorgridcolor\":\"white\",\"startlinecolor\":\"#2a3f5f\"},\"type\":\"carpet\"}],\"table\":[{\"cells\":{\"fill\":{\"color\":\"#EBF0F8\"},\"line\":{\"color\":\"white\"}},\"header\":{\"fill\":{\"color\":\"#C8D4E3\"},\"line\":{\"color\":\"white\"}},\"type\":\"table\"}],\"barpolar\":[{\"marker\":{\"line\":{\"color\":\"#E5ECF6\",\"width\":0.5},\"pattern\":{\"fillmode\":\"overlay\",\"size\":10,\"solidity\":0.2}},\"type\":\"barpolar\"}],\"pie\":[{\"automargin\":true,\"type\":\"pie\"}]},\"layout\":{\"autotypenumbers\":\"strict\",\"colorway\":[\"#636efa\",\"#EF553B\",\"#00cc96\",\"#ab63fa\",\"#FFA15A\",\"#19d3f3\",\"#FF6692\",\"#B6E880\",\"#FF97FF\",\"#FECB52\"],\"font\":{\"color\":\"#2a3f5f\"},\"hovermode\":\"closest\",\"hoverlabel\":{\"align\":\"left\"},\"paper_bgcolor\":\"white\",\"plot_bgcolor\":\"#E5ECF6\",\"polar\":{\"bgcolor\":\"#E5ECF6\",\"angularaxis\":{\"gridcolor\":\"white\",\"linecolor\":\"white\",\"ticks\":\"\"},\"radialaxis\":{\"gridcolor\":\"white\",\"linecolor\":\"white\",\"ticks\":\"\"}},\"ternary\":{\"bgcolor\":\"#E5ECF6\",\"aaxis\":{\"gridcolor\":\"white\",\"linecolor\":\"white\",\"ticks\":\"\"},\"baxis\":{\"gridcolor\":\"white\",\"linecolor\":\"white\",\"ticks\":\"\"},\"caxis\":{\"gridcolor\":\"white\",\"linecolor\":\"white\",\"ticks\":\"\"}},\"coloraxis\":{\"colorbar\":{\"outlinewidth\":0,\"ticks\":\"\"}},\"colorscale\":{\"sequential\":[[0.0,\"#0d0887\"],[0.1111111111111111,\"#46039f\"],[0.2222222222222222,\"#7201a8\"],[0.3333333333333333,\"#9c179e\"],[0.4444444444444444,\"#bd3786\"],[0.5555555555555556,\"#d8576b\"],[0.6666666666666666,\"#ed7953\"],[0.7777777777777778,\"#fb9f3a\"],[0.8888888888888888,\"#fdca26\"],[1.0,\"#f0f921\"]],\"sequentialminus\":[[0.0,\"#0d0887\"],[0.1111111111111111,\"#46039f\"],[0.2222222222222222,\"#7201a8\"],[0.3333333333333333,\"#9c179e\"],[0.4444444444444444,\"#bd3786\"],[0.5555555555555556,\"#d8576b\"],[0.6666666666666666,\"#ed7953\"],[0.7777777777777778,\"#fb9f3a\"],[0.8888888888888888,\"#fdca26\"],[1.0,\"#f0f921\"]],\"diverging\":[[0,\"#8e0152\"],[0.1,\"#c51b7d\"],[0.2,\"#de77ae\"],[0.3,\"#f1b6da\"],[0.4,\"#fde0ef\"],[0.5,\"#f7f7f7\"],[0.6,\"#e6f5d0\"],[0.7,\"#b8e186\"],[0.8,\"#7fbc41\"],[0.9,\"#4d9221\"],[1,\"#276419\"]]},\"xaxis\":{\"gridcolor\":\"white\",\"linecolor\":\"white\",\"ticks\":\"\",\"title\":{\"standoff\":15},\"zerolinecolor\":\"white\",\"automargin\":true,\"zerolinewidth\":2},\"yaxis\":{\"gridcolor\":\"white\",\"linecolor\":\"white\",\"ticks\":\"\",\"title\":{\"standoff\":15},\"zerolinecolor\":\"white\",\"automargin\":true,\"zerolinewidth\":2},\"scene\":{\"xaxis\":{\"backgroundcolor\":\"#E5ECF6\",\"gridcolor\":\"white\",\"linecolor\":\"white\",\"showbackground\":true,\"ticks\":\"\",\"zerolinecolor\":\"white\",\"gridwidth\":2},\"yaxis\":{\"backgroundcolor\":\"#E5ECF6\",\"gridcolor\":\"white\",\"linecolor\":\"white\",\"showbackground\":true,\"ticks\":\"\",\"zerolinecolor\":\"white\",\"gridwidth\":2},\"zaxis\":{\"backgroundcolor\":\"#E5ECF6\",\"gridcolor\":\"white\",\"linecolor\":\"white\",\"showbackground\":true,\"ticks\":\"\",\"zerolinecolor\":\"white\",\"gridwidth\":2}},\"shapedefaults\":{\"line\":{\"color\":\"#2a3f5f\"}},\"annotationdefaults\":{\"arrowcolor\":\"#2a3f5f\",\"arrowhead\":0,\"arrowwidth\":1},\"geo\":{\"bgcolor\":\"white\",\"landcolor\":\"#E5ECF6\",\"subunitcolor\":\"white\",\"showland\":true,\"showlakes\":true,\"lakecolor\":\"white\"},\"title\":{\"x\":0.05},\"mapbox\":{\"style\":\"light\"}}},\"xaxis\":{\"rangeslider\":{\"visible\":true}},\"title\":{\"text\":\"Candlestick Chart for HDFCBANK.NS - Trend: Neutral\"}},                        {\"responsive\": true}                    ).then(function(){\n",
       "                            \n",
       "var gd = document.getElementById('aab181a7-9955-4939-b176-dac695b9598d');\n",
       "var x = new MutationObserver(function (mutations, observer) {{\n",
       "        var display = window.getComputedStyle(gd).display;\n",
       "        if (!display || display === 'none') {{\n",
       "            console.log([gd, 'removed!']);\n",
       "            Plotly.purge(gd);\n",
       "            observer.disconnect();\n",
       "        }}\n",
       "}});\n",
       "\n",
       "// Listen for the removal of the full notebook cells\n",
       "var notebookContainer = gd.closest('#notebook-container');\n",
       "if (notebookContainer) {{\n",
       "    x.observe(notebookContainer, {childList: true});\n",
       "}}\n",
       "\n",
       "// Listen for the clearing of the current output cell\n",
       "var outputEl = gd.closest('.output');\n",
       "if (outputEl) {{\n",
       "    x.observe(outputEl, {childList: true});\n",
       "}}\n",
       "\n",
       "                        })                };                });            </script>        </div>"
      ]
     },
     "metadata": {},
     "output_type": "display_data"
    },
    {
     "name": "stdout",
     "output_type": "stream",
     "text": [
      "[*********************100%%**********************]  1 of 1 completed\n"
     ]
    },
    {
     "data": {
      "application/vnd.plotly.v1+json": {
       "config": {
        "plotlyServerURL": "https://plot.ly"
       },
       "data": [
        {
         "close": [
          1783.449951171875,
          1781.8499755859375,
          1776.75,
          1776.75,
          1772.5999755859375,
          1767.5999755859375,
          1769,
          1772,
          1786.0999755859375,
          1784.5,
          1792,
          1796,
          1799.699951171875,
          1797.699951171875,
          1796.300048828125,
          1788.5999755859375,
          1784.0999755859375,
          1785.8499755859375,
          1778.5,
          1781.4000244140625,
          1777.9000244140625,
          1771.5,
          1770.75,
          1766.699951171875,
          1774.699951171875,
          1770.5,
          1771.0999755859375,
          1765.199951171875,
          1765.5,
          1770.949951171875,
          1778.9000244140625,
          1794.3499755859375,
          1789.1500244140625,
          1790.4000244140625,
          1788.5999755859375,
          1790,
          1781.6500244140625,
          1780.25,
          1778,
          1771.1500244140625,
          1771.199951171875,
          1772.0999755859375,
          1772.25,
          1771.449951171875,
          1775,
          1770,
          1764,
          1760.5999755859375,
          1766.050048828125,
          1760.25,
          1764.300048828125,
          1764.3499755859375,
          1763.800048828125,
          1764,
          1759.949951171875,
          1755.949951171875,
          1753.8499755859375,
          1754.3499755859375,
          1767.6500244140625,
          1771
         ],
         "high": [
          1785.0999755859375,
          1783.949951171875,
          1781.800048828125,
          1777.75,
          1776.75,
          1775.8499755859375,
          1770.550048828125,
          1775.300048828125,
          1786.5999755859375,
          1791.699951171875,
          1796.8499755859375,
          1797,
          1801,
          1802.75,
          1803.5,
          1797.5,
          1789.050048828125,
          1789.0999755859375,
          1788.8499755859375,
          1782.5,
          1782.449951171875,
          1777.8499755859375,
          1775.75,
          1771.3499755859375,
          1774.9000244140625,
          1777.5,
          1777,
          1772.1500244140625,
          1767.800048828125,
          1772.25,
          1778.949951171875,
          1794.3499755859375,
          1794.199951171875,
          1792.3499755859375,
          1792.550048828125,
          1797.050048828125,
          1790,
          1788,
          1781.5,
          1778.9000244140625,
          1773.550048828125,
          1773.75,
          1777,
          1776.800048828125,
          1778,
          1775.449951171875,
          1770,
          1764.5999755859375,
          1767.5999755859375,
          1768.75,
          1764.3499755859375,
          1765,
          1766.5999755859375,
          1767.800048828125,
          1765.800048828125,
          1761.1500244140625,
          1757.699951171875,
          1756.949951171875,
          1769.5999755859375,
          1784.3499755859375
         ],
         "low": [
          1781.6500244140625,
          1780,
          1775,
          1773.199951171875,
          1772.25,
          1764,
          1765.6500244140625,
          1768.8499755859375,
          1771.25,
          1782.300048828125,
          1781.5999755859375,
          1790.550048828125,
          1795.4000244140625,
          1796.300048828125,
          1795.800048828125,
          1788.25,
          1779,
          1783.449951171875,
          1778,
          1768.3499755859375,
          1776.5,
          1768.4000244140625,
          1765.699951171875,
          1765.800048828125,
          1766.6500244140625,
          1768.5,
          1767.449951171875,
          1765,
          1763.050048828125,
          1765.199951171875,
          1768.199951171875,
          1777.550048828125,
          1783.8499755859375,
          1784.5,
          1785,
          1782,
          1779.449951171875,
          1779.5,
          1777,
          1766.8499755859375,
          1767.699951171875,
          1768,
          1770.6500244140625,
          1770.449951171875,
          1769,
          1767.6500244140625,
          1762.5999755859375,
          1756.800048828125,
          1759.8499755859375,
          1758.5,
          1758.3499755859375,
          1760.5,
          1761.449951171875,
          1762.449951171875,
          1759.050048828125,
          1752.550048828125,
          1753,
          1752.949951171875,
          1754.0999755859375,
          1766.5
         ],
         "open": [
          1783.3499755859375,
          1783.9000244140625,
          1781.800048828125,
          1776.75,
          1776.75,
          1773.25,
          1768.0999755859375,
          1769.699951171875,
          1772.199951171875,
          1786.0999755859375,
          1785.3499755859375,
          1793.5999755859375,
          1796,
          1799.9000244140625,
          1797.6500244140625,
          1796.25,
          1788.5999755859375,
          1784.5,
          1785.699951171875,
          1778.4000244140625,
          1781.3499755859375,
          1777.8499755859375,
          1771.5,
          1770.9000244140625,
          1766.699951171875,
          1774.449951171875,
          1770.449951171875,
          1771.0999755859375,
          1765.199951171875,
          1765.800048828125,
          1770.8499755859375,
          1778.9000244140625,
          1794.199951171875,
          1788.800048828125,
          1790.4000244140625,
          1794.800048828125,
          1790,
          1780.5,
          1780.25,
          1777.8499755859375,
          1770.5999755859375,
          1771.25,
          1772.1500244140625,
          1772.25,
          1771.449951171875,
          1775,
          1770,
          1764.050048828125,
          1760.550048828125,
          1766.050048828125,
          1759.550048828125,
          1764.300048828125,
          1764.3499755859375,
          1763.75,
          1764,
          1760.1500244140625,
          1756.6500244140625,
          1754,
          1754.0999755859375,
          1768.1500244140625
         ],
         "type": "candlestick",
         "x": [
          40,
          41,
          42,
          43,
          44,
          45,
          46,
          47,
          48,
          49,
          50,
          51,
          52,
          53,
          54,
          55,
          56,
          57,
          58,
          59,
          60,
          61,
          62,
          63,
          64,
          65,
          66,
          67,
          68,
          69,
          70,
          71,
          72,
          73,
          74,
          75,
          76,
          77,
          78,
          79,
          80,
          81,
          82,
          83,
          84,
          85,
          86,
          87,
          88,
          89,
          90,
          91,
          92,
          93,
          94,
          95,
          96,
          97,
          98,
          99
         ]
        },
        {
         "marker": {
          "color": "MediumPurple",
          "size": 4
         },
         "mode": "markers",
         "name": "pivot",
         "type": "scatter",
         "x": [
          40,
          41,
          42,
          43,
          44,
          45,
          46,
          47,
          48,
          49,
          50,
          51,
          52,
          53,
          54,
          55,
          56,
          57,
          58,
          59,
          60,
          61,
          62,
          63,
          64,
          65,
          66,
          67,
          68,
          69,
          70,
          71,
          72,
          73,
          74,
          75,
          76,
          77,
          78,
          79,
          80,
          81,
          82,
          83,
          84,
          85,
          86,
          87,
          88,
          89,
          90,
          91,
          92,
          93,
          94,
          95,
          96,
          97,
          98,
          99
         ],
         "y": [
          null,
          null,
          null,
          null,
          null,
          1763.999,
          null,
          null,
          null,
          null,
          null,
          null,
          null,
          null,
          1803.501,
          null,
          null,
          null,
          null,
          null,
          null,
          null,
          1765.698951171875,
          null,
          null,
          1777.501,
          null,
          null,
          1763.049048828125,
          null,
          null,
          1794.3509755859375,
          null,
          null,
          null,
          1797.051048828125,
          null,
          null,
          null,
          1766.8489755859375,
          null,
          null,
          null,
          null,
          1778.001,
          null,
          null,
          1756.799048828125,
          null,
          null,
          null,
          null,
          null,
          1767.801048828125,
          null,
          1752.549048828125,
          null,
          null,
          null,
          null
         ]
        },
        {
         "line": {
          "color": "green",
          "width": 2
         },
         "mode": "lines",
         "name": "low triangle line",
         "type": "scatter",
         "x": [
          62,
          68,
          79,
          87,
          95,
          96
         ],
         "y": [
          1767.0368959367045,
          1764.7973102743833,
          1760.6914032267946,
          1757.7052890103664,
          1754.7191747939382
         ]
        },
        {
         "line": {
          "color": "red",
          "width": 2
         },
         "mode": "lines",
         "name": "high triangle line",
         "type": "scatter",
         "x": [
          54,
          65,
          71,
          75,
          84,
          93,
          94
         ],
         "y": [
          1801.0973621093067,
          1792.8581664012543,
          1788.3640596514076,
          1785.3679884848432,
          1778.6268283600732,
          1771.885668235303
         ]
        }
       ],
       "layout": {
        "template": {
         "data": {
          "bar": [
           {
            "error_x": {
             "color": "#2a3f5f"
            },
            "error_y": {
             "color": "#2a3f5f"
            },
            "marker": {
             "line": {
              "color": "#E5ECF6",
              "width": 0.5
             },
             "pattern": {
              "fillmode": "overlay",
              "size": 10,
              "solidity": 0.2
             }
            },
            "type": "bar"
           }
          ],
          "barpolar": [
           {
            "marker": {
             "line": {
              "color": "#E5ECF6",
              "width": 0.5
             },
             "pattern": {
              "fillmode": "overlay",
              "size": 10,
              "solidity": 0.2
             }
            },
            "type": "barpolar"
           }
          ],
          "carpet": [
           {
            "aaxis": {
             "endlinecolor": "#2a3f5f",
             "gridcolor": "white",
             "linecolor": "white",
             "minorgridcolor": "white",
             "startlinecolor": "#2a3f5f"
            },
            "baxis": {
             "endlinecolor": "#2a3f5f",
             "gridcolor": "white",
             "linecolor": "white",
             "minorgridcolor": "white",
             "startlinecolor": "#2a3f5f"
            },
            "type": "carpet"
           }
          ],
          "choropleth": [
           {
            "colorbar": {
             "outlinewidth": 0,
             "ticks": ""
            },
            "type": "choropleth"
           }
          ],
          "contour": [
           {
            "colorbar": {
             "outlinewidth": 0,
             "ticks": ""
            },
            "colorscale": [
             [
              0,
              "#0d0887"
             ],
             [
              0.1111111111111111,
              "#46039f"
             ],
             [
              0.2222222222222222,
              "#7201a8"
             ],
             [
              0.3333333333333333,
              "#9c179e"
             ],
             [
              0.4444444444444444,
              "#bd3786"
             ],
             [
              0.5555555555555556,
              "#d8576b"
             ],
             [
              0.6666666666666666,
              "#ed7953"
             ],
             [
              0.7777777777777778,
              "#fb9f3a"
             ],
             [
              0.8888888888888888,
              "#fdca26"
             ],
             [
              1,
              "#f0f921"
             ]
            ],
            "type": "contour"
           }
          ],
          "contourcarpet": [
           {
            "colorbar": {
             "outlinewidth": 0,
             "ticks": ""
            },
            "type": "contourcarpet"
           }
          ],
          "heatmap": [
           {
            "colorbar": {
             "outlinewidth": 0,
             "ticks": ""
            },
            "colorscale": [
             [
              0,
              "#0d0887"
             ],
             [
              0.1111111111111111,
              "#46039f"
             ],
             [
              0.2222222222222222,
              "#7201a8"
             ],
             [
              0.3333333333333333,
              "#9c179e"
             ],
             [
              0.4444444444444444,
              "#bd3786"
             ],
             [
              0.5555555555555556,
              "#d8576b"
             ],
             [
              0.6666666666666666,
              "#ed7953"
             ],
             [
              0.7777777777777778,
              "#fb9f3a"
             ],
             [
              0.8888888888888888,
              "#fdca26"
             ],
             [
              1,
              "#f0f921"
             ]
            ],
            "type": "heatmap"
           }
          ],
          "heatmapgl": [
           {
            "colorbar": {
             "outlinewidth": 0,
             "ticks": ""
            },
            "colorscale": [
             [
              0,
              "#0d0887"
             ],
             [
              0.1111111111111111,
              "#46039f"
             ],
             [
              0.2222222222222222,
              "#7201a8"
             ],
             [
              0.3333333333333333,
              "#9c179e"
             ],
             [
              0.4444444444444444,
              "#bd3786"
             ],
             [
              0.5555555555555556,
              "#d8576b"
             ],
             [
              0.6666666666666666,
              "#ed7953"
             ],
             [
              0.7777777777777778,
              "#fb9f3a"
             ],
             [
              0.8888888888888888,
              "#fdca26"
             ],
             [
              1,
              "#f0f921"
             ]
            ],
            "type": "heatmapgl"
           }
          ],
          "histogram": [
           {
            "marker": {
             "pattern": {
              "fillmode": "overlay",
              "size": 10,
              "solidity": 0.2
             }
            },
            "type": "histogram"
           }
          ],
          "histogram2d": [
           {
            "colorbar": {
             "outlinewidth": 0,
             "ticks": ""
            },
            "colorscale": [
             [
              0,
              "#0d0887"
             ],
             [
              0.1111111111111111,
              "#46039f"
             ],
             [
              0.2222222222222222,
              "#7201a8"
             ],
             [
              0.3333333333333333,
              "#9c179e"
             ],
             [
              0.4444444444444444,
              "#bd3786"
             ],
             [
              0.5555555555555556,
              "#d8576b"
             ],
             [
              0.6666666666666666,
              "#ed7953"
             ],
             [
              0.7777777777777778,
              "#fb9f3a"
             ],
             [
              0.8888888888888888,
              "#fdca26"
             ],
             [
              1,
              "#f0f921"
             ]
            ],
            "type": "histogram2d"
           }
          ],
          "histogram2dcontour": [
           {
            "colorbar": {
             "outlinewidth": 0,
             "ticks": ""
            },
            "colorscale": [
             [
              0,
              "#0d0887"
             ],
             [
              0.1111111111111111,
              "#46039f"
             ],
             [
              0.2222222222222222,
              "#7201a8"
             ],
             [
              0.3333333333333333,
              "#9c179e"
             ],
             [
              0.4444444444444444,
              "#bd3786"
             ],
             [
              0.5555555555555556,
              "#d8576b"
             ],
             [
              0.6666666666666666,
              "#ed7953"
             ],
             [
              0.7777777777777778,
              "#fb9f3a"
             ],
             [
              0.8888888888888888,
              "#fdca26"
             ],
             [
              1,
              "#f0f921"
             ]
            ],
            "type": "histogram2dcontour"
           }
          ],
          "mesh3d": [
           {
            "colorbar": {
             "outlinewidth": 0,
             "ticks": ""
            },
            "type": "mesh3d"
           }
          ],
          "parcoords": [
           {
            "line": {
             "colorbar": {
              "outlinewidth": 0,
              "ticks": ""
             }
            },
            "type": "parcoords"
           }
          ],
          "pie": [
           {
            "automargin": true,
            "type": "pie"
           }
          ],
          "scatter": [
           {
            "fillpattern": {
             "fillmode": "overlay",
             "size": 10,
             "solidity": 0.2
            },
            "type": "scatter"
           }
          ],
          "scatter3d": [
           {
            "line": {
             "colorbar": {
              "outlinewidth": 0,
              "ticks": ""
             }
            },
            "marker": {
             "colorbar": {
              "outlinewidth": 0,
              "ticks": ""
             }
            },
            "type": "scatter3d"
           }
          ],
          "scattercarpet": [
           {
            "marker": {
             "colorbar": {
              "outlinewidth": 0,
              "ticks": ""
             }
            },
            "type": "scattercarpet"
           }
          ],
          "scattergeo": [
           {
            "marker": {
             "colorbar": {
              "outlinewidth": 0,
              "ticks": ""
             }
            },
            "type": "scattergeo"
           }
          ],
          "scattergl": [
           {
            "marker": {
             "colorbar": {
              "outlinewidth": 0,
              "ticks": ""
             }
            },
            "type": "scattergl"
           }
          ],
          "scattermapbox": [
           {
            "marker": {
             "colorbar": {
              "outlinewidth": 0,
              "ticks": ""
             }
            },
            "type": "scattermapbox"
           }
          ],
          "scatterpolar": [
           {
            "marker": {
             "colorbar": {
              "outlinewidth": 0,
              "ticks": ""
             }
            },
            "type": "scatterpolar"
           }
          ],
          "scatterpolargl": [
           {
            "marker": {
             "colorbar": {
              "outlinewidth": 0,
              "ticks": ""
             }
            },
            "type": "scatterpolargl"
           }
          ],
          "scatterternary": [
           {
            "marker": {
             "colorbar": {
              "outlinewidth": 0,
              "ticks": ""
             }
            },
            "type": "scatterternary"
           }
          ],
          "surface": [
           {
            "colorbar": {
             "outlinewidth": 0,
             "ticks": ""
            },
            "colorscale": [
             [
              0,
              "#0d0887"
             ],
             [
              0.1111111111111111,
              "#46039f"
             ],
             [
              0.2222222222222222,
              "#7201a8"
             ],
             [
              0.3333333333333333,
              "#9c179e"
             ],
             [
              0.4444444444444444,
              "#bd3786"
             ],
             [
              0.5555555555555556,
              "#d8576b"
             ],
             [
              0.6666666666666666,
              "#ed7953"
             ],
             [
              0.7777777777777778,
              "#fb9f3a"
             ],
             [
              0.8888888888888888,
              "#fdca26"
             ],
             [
              1,
              "#f0f921"
             ]
            ],
            "type": "surface"
           }
          ],
          "table": [
           {
            "cells": {
             "fill": {
              "color": "#EBF0F8"
             },
             "line": {
              "color": "white"
             }
            },
            "header": {
             "fill": {
              "color": "#C8D4E3"
             },
             "line": {
              "color": "white"
             }
            },
            "type": "table"
           }
          ]
         },
         "layout": {
          "annotationdefaults": {
           "arrowcolor": "#2a3f5f",
           "arrowhead": 0,
           "arrowwidth": 1
          },
          "autotypenumbers": "strict",
          "coloraxis": {
           "colorbar": {
            "outlinewidth": 0,
            "ticks": ""
           }
          },
          "colorscale": {
           "diverging": [
            [
             0,
             "#8e0152"
            ],
            [
             0.1,
             "#c51b7d"
            ],
            [
             0.2,
             "#de77ae"
            ],
            [
             0.3,
             "#f1b6da"
            ],
            [
             0.4,
             "#fde0ef"
            ],
            [
             0.5,
             "#f7f7f7"
            ],
            [
             0.6,
             "#e6f5d0"
            ],
            [
             0.7,
             "#b8e186"
            ],
            [
             0.8,
             "#7fbc41"
            ],
            [
             0.9,
             "#4d9221"
            ],
            [
             1,
             "#276419"
            ]
           ],
           "sequential": [
            [
             0,
             "#0d0887"
            ],
            [
             0.1111111111111111,
             "#46039f"
            ],
            [
             0.2222222222222222,
             "#7201a8"
            ],
            [
             0.3333333333333333,
             "#9c179e"
            ],
            [
             0.4444444444444444,
             "#bd3786"
            ],
            [
             0.5555555555555556,
             "#d8576b"
            ],
            [
             0.6666666666666666,
             "#ed7953"
            ],
            [
             0.7777777777777778,
             "#fb9f3a"
            ],
            [
             0.8888888888888888,
             "#fdca26"
            ],
            [
             1,
             "#f0f921"
            ]
           ],
           "sequentialminus": [
            [
             0,
             "#0d0887"
            ],
            [
             0.1111111111111111,
             "#46039f"
            ],
            [
             0.2222222222222222,
             "#7201a8"
            ],
            [
             0.3333333333333333,
             "#9c179e"
            ],
            [
             0.4444444444444444,
             "#bd3786"
            ],
            [
             0.5555555555555556,
             "#d8576b"
            ],
            [
             0.6666666666666666,
             "#ed7953"
            ],
            [
             0.7777777777777778,
             "#fb9f3a"
            ],
            [
             0.8888888888888888,
             "#fdca26"
            ],
            [
             1,
             "#f0f921"
            ]
           ]
          },
          "colorway": [
           "#636efa",
           "#EF553B",
           "#00cc96",
           "#ab63fa",
           "#FFA15A",
           "#19d3f3",
           "#FF6692",
           "#B6E880",
           "#FF97FF",
           "#FECB52"
          ],
          "font": {
           "color": "#2a3f5f"
          },
          "geo": {
           "bgcolor": "white",
           "lakecolor": "white",
           "landcolor": "#E5ECF6",
           "showlakes": true,
           "showland": true,
           "subunitcolor": "white"
          },
          "hoverlabel": {
           "align": "left"
          },
          "hovermode": "closest",
          "mapbox": {
           "style": "light"
          },
          "paper_bgcolor": "white",
          "plot_bgcolor": "#E5ECF6",
          "polar": {
           "angularaxis": {
            "gridcolor": "white",
            "linecolor": "white",
            "ticks": ""
           },
           "bgcolor": "#E5ECF6",
           "radialaxis": {
            "gridcolor": "white",
            "linecolor": "white",
            "ticks": ""
           }
          },
          "scene": {
           "xaxis": {
            "backgroundcolor": "#E5ECF6",
            "gridcolor": "white",
            "gridwidth": 2,
            "linecolor": "white",
            "showbackground": true,
            "ticks": "",
            "zerolinecolor": "white"
           },
           "yaxis": {
            "backgroundcolor": "#E5ECF6",
            "gridcolor": "white",
            "gridwidth": 2,
            "linecolor": "white",
            "showbackground": true,
            "ticks": "",
            "zerolinecolor": "white"
           },
           "zaxis": {
            "backgroundcolor": "#E5ECF6",
            "gridcolor": "white",
            "gridwidth": 2,
            "linecolor": "white",
            "showbackground": true,
            "ticks": "",
            "zerolinecolor": "white"
           }
          },
          "shapedefaults": {
           "line": {
            "color": "#2a3f5f"
           }
          },
          "ternary": {
           "aaxis": {
            "gridcolor": "white",
            "linecolor": "white",
            "ticks": ""
           },
           "baxis": {
            "gridcolor": "white",
            "linecolor": "white",
            "ticks": ""
           },
           "bgcolor": "#E5ECF6",
           "caxis": {
            "gridcolor": "white",
            "linecolor": "white",
            "ticks": ""
           }
          },
          "title": {
           "x": 0.05
          },
          "xaxis": {
           "automargin": true,
           "gridcolor": "white",
           "linecolor": "white",
           "ticks": "",
           "title": {
            "standoff": 15
           },
           "zerolinecolor": "white",
           "zerolinewidth": 2
          },
          "yaxis": {
           "automargin": true,
           "gridcolor": "white",
           "linecolor": "white",
           "ticks": "",
           "title": {
            "standoff": 15
           },
           "zerolinecolor": "white",
           "zerolinewidth": 2
          }
         }
        },
        "title": {
         "text": "Candlestick Chart for KOTAKBANK.NS - Trend: Bearish"
        },
        "xaxis": {
         "rangeslider": {
          "visible": true
         }
        }
       }
      },
      "text/html": [
       "<div>                            <div id=\"a032da38-94a4-4ade-8c98-c08a36c33faa\" class=\"plotly-graph-div\" style=\"height:525px; width:100%;\"></div>            <script type=\"text/javascript\">                require([\"plotly\"], function(Plotly) {                    window.PLOTLYENV=window.PLOTLYENV || {};                                    if (document.getElementById(\"a032da38-94a4-4ade-8c98-c08a36c33faa\")) {                    Plotly.newPlot(                        \"a032da38-94a4-4ade-8c98-c08a36c33faa\",                        [{\"close\":[1783.449951171875,1781.8499755859375,1776.75,1776.75,1772.5999755859375,1767.5999755859375,1769.0,1772.0,1786.0999755859375,1784.5,1792.0,1796.0,1799.699951171875,1797.699951171875,1796.300048828125,1788.5999755859375,1784.0999755859375,1785.8499755859375,1778.5,1781.4000244140625,1777.9000244140625,1771.5,1770.75,1766.699951171875,1774.699951171875,1770.5,1771.0999755859375,1765.199951171875,1765.5,1770.949951171875,1778.9000244140625,1794.3499755859375,1789.1500244140625,1790.4000244140625,1788.5999755859375,1790.0,1781.6500244140625,1780.25,1778.0,1771.1500244140625,1771.199951171875,1772.0999755859375,1772.25,1771.449951171875,1775.0,1770.0,1764.0,1760.5999755859375,1766.050048828125,1760.25,1764.300048828125,1764.3499755859375,1763.800048828125,1764.0,1759.949951171875,1755.949951171875,1753.8499755859375,1754.3499755859375,1767.6500244140625,1771.0],\"high\":[1785.0999755859375,1783.949951171875,1781.800048828125,1777.75,1776.75,1775.8499755859375,1770.550048828125,1775.300048828125,1786.5999755859375,1791.699951171875,1796.8499755859375,1797.0,1801.0,1802.75,1803.5,1797.5,1789.050048828125,1789.0999755859375,1788.8499755859375,1782.5,1782.449951171875,1777.8499755859375,1775.75,1771.3499755859375,1774.9000244140625,1777.5,1777.0,1772.1500244140625,1767.800048828125,1772.25,1778.949951171875,1794.3499755859375,1794.199951171875,1792.3499755859375,1792.550048828125,1797.050048828125,1790.0,1788.0,1781.5,1778.9000244140625,1773.550048828125,1773.75,1777.0,1776.800048828125,1778.0,1775.449951171875,1770.0,1764.5999755859375,1767.5999755859375,1768.75,1764.3499755859375,1765.0,1766.5999755859375,1767.800048828125,1765.800048828125,1761.1500244140625,1757.699951171875,1756.949951171875,1769.5999755859375,1784.3499755859375],\"low\":[1781.6500244140625,1780.0,1775.0,1773.199951171875,1772.25,1764.0,1765.6500244140625,1768.8499755859375,1771.25,1782.300048828125,1781.5999755859375,1790.550048828125,1795.4000244140625,1796.300048828125,1795.800048828125,1788.25,1779.0,1783.449951171875,1778.0,1768.3499755859375,1776.5,1768.4000244140625,1765.699951171875,1765.800048828125,1766.6500244140625,1768.5,1767.449951171875,1765.0,1763.050048828125,1765.199951171875,1768.199951171875,1777.550048828125,1783.8499755859375,1784.5,1785.0,1782.0,1779.449951171875,1779.5,1777.0,1766.8499755859375,1767.699951171875,1768.0,1770.6500244140625,1770.449951171875,1769.0,1767.6500244140625,1762.5999755859375,1756.800048828125,1759.8499755859375,1758.5,1758.3499755859375,1760.5,1761.449951171875,1762.449951171875,1759.050048828125,1752.550048828125,1753.0,1752.949951171875,1754.0999755859375,1766.5],\"open\":[1783.3499755859375,1783.9000244140625,1781.800048828125,1776.75,1776.75,1773.25,1768.0999755859375,1769.699951171875,1772.199951171875,1786.0999755859375,1785.3499755859375,1793.5999755859375,1796.0,1799.9000244140625,1797.6500244140625,1796.25,1788.5999755859375,1784.5,1785.699951171875,1778.4000244140625,1781.3499755859375,1777.8499755859375,1771.5,1770.9000244140625,1766.699951171875,1774.449951171875,1770.449951171875,1771.0999755859375,1765.199951171875,1765.800048828125,1770.8499755859375,1778.9000244140625,1794.199951171875,1788.800048828125,1790.4000244140625,1794.800048828125,1790.0,1780.5,1780.25,1777.8499755859375,1770.5999755859375,1771.25,1772.1500244140625,1772.25,1771.449951171875,1775.0,1770.0,1764.050048828125,1760.550048828125,1766.050048828125,1759.550048828125,1764.300048828125,1764.3499755859375,1763.75,1764.0,1760.1500244140625,1756.6500244140625,1754.0,1754.0999755859375,1768.1500244140625],\"x\":[40,41,42,43,44,45,46,47,48,49,50,51,52,53,54,55,56,57,58,59,60,61,62,63,64,65,66,67,68,69,70,71,72,73,74,75,76,77,78,79,80,81,82,83,84,85,86,87,88,89,90,91,92,93,94,95,96,97,98,99],\"type\":\"candlestick\"},{\"marker\":{\"color\":\"MediumPurple\",\"size\":4},\"mode\":\"markers\",\"name\":\"pivot\",\"x\":[40,41,42,43,44,45,46,47,48,49,50,51,52,53,54,55,56,57,58,59,60,61,62,63,64,65,66,67,68,69,70,71,72,73,74,75,76,77,78,79,80,81,82,83,84,85,86,87,88,89,90,91,92,93,94,95,96,97,98,99],\"y\":[null,null,null,null,null,1763.999,null,null,null,null,null,null,null,null,1803.501,null,null,null,null,null,null,null,1765.698951171875,null,null,1777.501,null,null,1763.049048828125,null,null,1794.3509755859375,null,null,null,1797.051048828125,null,null,null,1766.8489755859375,null,null,null,null,1778.001,null,null,1756.799048828125,null,null,null,null,null,1767.801048828125,null,1752.549048828125,null,null,null,null],\"type\":\"scatter\"},{\"line\":{\"color\":\"green\",\"width\":2},\"mode\":\"lines\",\"name\":\"low triangle line\",\"x\":[62.0,68.0,79.0,87.0,95.0,96.0],\"y\":[1767.0368959367045,1764.7973102743833,1760.6914032267946,1757.7052890103664,1754.7191747939382],\"type\":\"scatter\"},{\"line\":{\"color\":\"red\",\"width\":2},\"mode\":\"lines\",\"name\":\"high triangle line\",\"x\":[54.0,65.0,71.0,75.0,84.0,93.0,94.0],\"y\":[1801.0973621093067,1792.8581664012543,1788.3640596514076,1785.3679884848432,1778.6268283600732,1771.885668235303],\"type\":\"scatter\"}],                        {\"template\":{\"data\":{\"histogram2dcontour\":[{\"type\":\"histogram2dcontour\",\"colorbar\":{\"outlinewidth\":0,\"ticks\":\"\"},\"colorscale\":[[0.0,\"#0d0887\"],[0.1111111111111111,\"#46039f\"],[0.2222222222222222,\"#7201a8\"],[0.3333333333333333,\"#9c179e\"],[0.4444444444444444,\"#bd3786\"],[0.5555555555555556,\"#d8576b\"],[0.6666666666666666,\"#ed7953\"],[0.7777777777777778,\"#fb9f3a\"],[0.8888888888888888,\"#fdca26\"],[1.0,\"#f0f921\"]]}],\"choropleth\":[{\"type\":\"choropleth\",\"colorbar\":{\"outlinewidth\":0,\"ticks\":\"\"}}],\"histogram2d\":[{\"type\":\"histogram2d\",\"colorbar\":{\"outlinewidth\":0,\"ticks\":\"\"},\"colorscale\":[[0.0,\"#0d0887\"],[0.1111111111111111,\"#46039f\"],[0.2222222222222222,\"#7201a8\"],[0.3333333333333333,\"#9c179e\"],[0.4444444444444444,\"#bd3786\"],[0.5555555555555556,\"#d8576b\"],[0.6666666666666666,\"#ed7953\"],[0.7777777777777778,\"#fb9f3a\"],[0.8888888888888888,\"#fdca26\"],[1.0,\"#f0f921\"]]}],\"heatmap\":[{\"type\":\"heatmap\",\"colorbar\":{\"outlinewidth\":0,\"ticks\":\"\"},\"colorscale\":[[0.0,\"#0d0887\"],[0.1111111111111111,\"#46039f\"],[0.2222222222222222,\"#7201a8\"],[0.3333333333333333,\"#9c179e\"],[0.4444444444444444,\"#bd3786\"],[0.5555555555555556,\"#d8576b\"],[0.6666666666666666,\"#ed7953\"],[0.7777777777777778,\"#fb9f3a\"],[0.8888888888888888,\"#fdca26\"],[1.0,\"#f0f921\"]]}],\"heatmapgl\":[{\"type\":\"heatmapgl\",\"colorbar\":{\"outlinewidth\":0,\"ticks\":\"\"},\"colorscale\":[[0.0,\"#0d0887\"],[0.1111111111111111,\"#46039f\"],[0.2222222222222222,\"#7201a8\"],[0.3333333333333333,\"#9c179e\"],[0.4444444444444444,\"#bd3786\"],[0.5555555555555556,\"#d8576b\"],[0.6666666666666666,\"#ed7953\"],[0.7777777777777778,\"#fb9f3a\"],[0.8888888888888888,\"#fdca26\"],[1.0,\"#f0f921\"]]}],\"contourcarpet\":[{\"type\":\"contourcarpet\",\"colorbar\":{\"outlinewidth\":0,\"ticks\":\"\"}}],\"contour\":[{\"type\":\"contour\",\"colorbar\":{\"outlinewidth\":0,\"ticks\":\"\"},\"colorscale\":[[0.0,\"#0d0887\"],[0.1111111111111111,\"#46039f\"],[0.2222222222222222,\"#7201a8\"],[0.3333333333333333,\"#9c179e\"],[0.4444444444444444,\"#bd3786\"],[0.5555555555555556,\"#d8576b\"],[0.6666666666666666,\"#ed7953\"],[0.7777777777777778,\"#fb9f3a\"],[0.8888888888888888,\"#fdca26\"],[1.0,\"#f0f921\"]]}],\"surface\":[{\"type\":\"surface\",\"colorbar\":{\"outlinewidth\":0,\"ticks\":\"\"},\"colorscale\":[[0.0,\"#0d0887\"],[0.1111111111111111,\"#46039f\"],[0.2222222222222222,\"#7201a8\"],[0.3333333333333333,\"#9c179e\"],[0.4444444444444444,\"#bd3786\"],[0.5555555555555556,\"#d8576b\"],[0.6666666666666666,\"#ed7953\"],[0.7777777777777778,\"#fb9f3a\"],[0.8888888888888888,\"#fdca26\"],[1.0,\"#f0f921\"]]}],\"mesh3d\":[{\"type\":\"mesh3d\",\"colorbar\":{\"outlinewidth\":0,\"ticks\":\"\"}}],\"scatter\":[{\"fillpattern\":{\"fillmode\":\"overlay\",\"size\":10,\"solidity\":0.2},\"type\":\"scatter\"}],\"parcoords\":[{\"type\":\"parcoords\",\"line\":{\"colorbar\":{\"outlinewidth\":0,\"ticks\":\"\"}}}],\"scatterpolargl\":[{\"type\":\"scatterpolargl\",\"marker\":{\"colorbar\":{\"outlinewidth\":0,\"ticks\":\"\"}}}],\"bar\":[{\"error_x\":{\"color\":\"#2a3f5f\"},\"error_y\":{\"color\":\"#2a3f5f\"},\"marker\":{\"line\":{\"color\":\"#E5ECF6\",\"width\":0.5},\"pattern\":{\"fillmode\":\"overlay\",\"size\":10,\"solidity\":0.2}},\"type\":\"bar\"}],\"scattergeo\":[{\"type\":\"scattergeo\",\"marker\":{\"colorbar\":{\"outlinewidth\":0,\"ticks\":\"\"}}}],\"scatterpolar\":[{\"type\":\"scatterpolar\",\"marker\":{\"colorbar\":{\"outlinewidth\":0,\"ticks\":\"\"}}}],\"histogram\":[{\"marker\":{\"pattern\":{\"fillmode\":\"overlay\",\"size\":10,\"solidity\":0.2}},\"type\":\"histogram\"}],\"scattergl\":[{\"type\":\"scattergl\",\"marker\":{\"colorbar\":{\"outlinewidth\":0,\"ticks\":\"\"}}}],\"scatter3d\":[{\"type\":\"scatter3d\",\"line\":{\"colorbar\":{\"outlinewidth\":0,\"ticks\":\"\"}},\"marker\":{\"colorbar\":{\"outlinewidth\":0,\"ticks\":\"\"}}}],\"scattermapbox\":[{\"type\":\"scattermapbox\",\"marker\":{\"colorbar\":{\"outlinewidth\":0,\"ticks\":\"\"}}}],\"scatterternary\":[{\"type\":\"scatterternary\",\"marker\":{\"colorbar\":{\"outlinewidth\":0,\"ticks\":\"\"}}}],\"scattercarpet\":[{\"type\":\"scattercarpet\",\"marker\":{\"colorbar\":{\"outlinewidth\":0,\"ticks\":\"\"}}}],\"carpet\":[{\"aaxis\":{\"endlinecolor\":\"#2a3f5f\",\"gridcolor\":\"white\",\"linecolor\":\"white\",\"minorgridcolor\":\"white\",\"startlinecolor\":\"#2a3f5f\"},\"baxis\":{\"endlinecolor\":\"#2a3f5f\",\"gridcolor\":\"white\",\"linecolor\":\"white\",\"minorgridcolor\":\"white\",\"startlinecolor\":\"#2a3f5f\"},\"type\":\"carpet\"}],\"table\":[{\"cells\":{\"fill\":{\"color\":\"#EBF0F8\"},\"line\":{\"color\":\"white\"}},\"header\":{\"fill\":{\"color\":\"#C8D4E3\"},\"line\":{\"color\":\"white\"}},\"type\":\"table\"}],\"barpolar\":[{\"marker\":{\"line\":{\"color\":\"#E5ECF6\",\"width\":0.5},\"pattern\":{\"fillmode\":\"overlay\",\"size\":10,\"solidity\":0.2}},\"type\":\"barpolar\"}],\"pie\":[{\"automargin\":true,\"type\":\"pie\"}]},\"layout\":{\"autotypenumbers\":\"strict\",\"colorway\":[\"#636efa\",\"#EF553B\",\"#00cc96\",\"#ab63fa\",\"#FFA15A\",\"#19d3f3\",\"#FF6692\",\"#B6E880\",\"#FF97FF\",\"#FECB52\"],\"font\":{\"color\":\"#2a3f5f\"},\"hovermode\":\"closest\",\"hoverlabel\":{\"align\":\"left\"},\"paper_bgcolor\":\"white\",\"plot_bgcolor\":\"#E5ECF6\",\"polar\":{\"bgcolor\":\"#E5ECF6\",\"angularaxis\":{\"gridcolor\":\"white\",\"linecolor\":\"white\",\"ticks\":\"\"},\"radialaxis\":{\"gridcolor\":\"white\",\"linecolor\":\"white\",\"ticks\":\"\"}},\"ternary\":{\"bgcolor\":\"#E5ECF6\",\"aaxis\":{\"gridcolor\":\"white\",\"linecolor\":\"white\",\"ticks\":\"\"},\"baxis\":{\"gridcolor\":\"white\",\"linecolor\":\"white\",\"ticks\":\"\"},\"caxis\":{\"gridcolor\":\"white\",\"linecolor\":\"white\",\"ticks\":\"\"}},\"coloraxis\":{\"colorbar\":{\"outlinewidth\":0,\"ticks\":\"\"}},\"colorscale\":{\"sequential\":[[0.0,\"#0d0887\"],[0.1111111111111111,\"#46039f\"],[0.2222222222222222,\"#7201a8\"],[0.3333333333333333,\"#9c179e\"],[0.4444444444444444,\"#bd3786\"],[0.5555555555555556,\"#d8576b\"],[0.6666666666666666,\"#ed7953\"],[0.7777777777777778,\"#fb9f3a\"],[0.8888888888888888,\"#fdca26\"],[1.0,\"#f0f921\"]],\"sequentialminus\":[[0.0,\"#0d0887\"],[0.1111111111111111,\"#46039f\"],[0.2222222222222222,\"#7201a8\"],[0.3333333333333333,\"#9c179e\"],[0.4444444444444444,\"#bd3786\"],[0.5555555555555556,\"#d8576b\"],[0.6666666666666666,\"#ed7953\"],[0.7777777777777778,\"#fb9f3a\"],[0.8888888888888888,\"#fdca26\"],[1.0,\"#f0f921\"]],\"diverging\":[[0,\"#8e0152\"],[0.1,\"#c51b7d\"],[0.2,\"#de77ae\"],[0.3,\"#f1b6da\"],[0.4,\"#fde0ef\"],[0.5,\"#f7f7f7\"],[0.6,\"#e6f5d0\"],[0.7,\"#b8e186\"],[0.8,\"#7fbc41\"],[0.9,\"#4d9221\"],[1,\"#276419\"]]},\"xaxis\":{\"gridcolor\":\"white\",\"linecolor\":\"white\",\"ticks\":\"\",\"title\":{\"standoff\":15},\"zerolinecolor\":\"white\",\"automargin\":true,\"zerolinewidth\":2},\"yaxis\":{\"gridcolor\":\"white\",\"linecolor\":\"white\",\"ticks\":\"\",\"title\":{\"standoff\":15},\"zerolinecolor\":\"white\",\"automargin\":true,\"zerolinewidth\":2},\"scene\":{\"xaxis\":{\"backgroundcolor\":\"#E5ECF6\",\"gridcolor\":\"white\",\"linecolor\":\"white\",\"showbackground\":true,\"ticks\":\"\",\"zerolinecolor\":\"white\",\"gridwidth\":2},\"yaxis\":{\"backgroundcolor\":\"#E5ECF6\",\"gridcolor\":\"white\",\"linecolor\":\"white\",\"showbackground\":true,\"ticks\":\"\",\"zerolinecolor\":\"white\",\"gridwidth\":2},\"zaxis\":{\"backgroundcolor\":\"#E5ECF6\",\"gridcolor\":\"white\",\"linecolor\":\"white\",\"showbackground\":true,\"ticks\":\"\",\"zerolinecolor\":\"white\",\"gridwidth\":2}},\"shapedefaults\":{\"line\":{\"color\":\"#2a3f5f\"}},\"annotationdefaults\":{\"arrowcolor\":\"#2a3f5f\",\"arrowhead\":0,\"arrowwidth\":1},\"geo\":{\"bgcolor\":\"white\",\"landcolor\":\"#E5ECF6\",\"subunitcolor\":\"white\",\"showland\":true,\"showlakes\":true,\"lakecolor\":\"white\"},\"title\":{\"x\":0.05},\"mapbox\":{\"style\":\"light\"}}},\"xaxis\":{\"rangeslider\":{\"visible\":true}},\"title\":{\"text\":\"Candlestick Chart for KOTAKBANK.NS - Trend: Bearish\"}},                        {\"responsive\": true}                    ).then(function(){\n",
       "                            \n",
       "var gd = document.getElementById('a032da38-94a4-4ade-8c98-c08a36c33faa');\n",
       "var x = new MutationObserver(function (mutations, observer) {{\n",
       "        var display = window.getComputedStyle(gd).display;\n",
       "        if (!display || display === 'none') {{\n",
       "            console.log([gd, 'removed!']);\n",
       "            Plotly.purge(gd);\n",
       "            observer.disconnect();\n",
       "        }}\n",
       "}});\n",
       "\n",
       "// Listen for the removal of the full notebook cells\n",
       "var notebookContainer = gd.closest('#notebook-container');\n",
       "if (notebookContainer) {{\n",
       "    x.observe(notebookContainer, {childList: true});\n",
       "}}\n",
       "\n",
       "// Listen for the clearing of the current output cell\n",
       "var outputEl = gd.closest('.output');\n",
       "if (outputEl) {{\n",
       "    x.observe(outputEl, {childList: true});\n",
       "}}\n",
       "\n",
       "                        })                };                });            </script>        </div>"
      ]
     },
     "metadata": {},
     "output_type": "display_data"
    },
    {
     "name": "stdout",
     "output_type": "stream",
     "text": [
      "[*********************100%%**********************]  1 of 1 completed\n"
     ]
    },
    {
     "data": {
      "application/vnd.plotly.v1+json": {
       "config": {
        "plotlyServerURL": "https://plot.ly"
       },
       "data": [
        {
         "close": [
          1084,
          1087.4000244140625,
          1080.949951171875,
          1082.800048828125,
          1089.4000244140625,
          1091.800048828125,
          1092.1500244140625,
          1089.9000244140625,
          1091.25,
          1082,
          1043,
          1048.050048828125,
          1061.8499755859375,
          1058.25,
          1065.4000244140625,
          1068.5999755859375,
          1069.949951171875,
          1067.4000244140625,
          1058.8499755859375,
          1064.75,
          1056.199951171875,
          1044.5,
          1041.050048828125,
          1034,
          1045.1500244140625,
          1045.699951171875,
          1048.449951171875,
          1043.699951171875,
          1042,
          1047.6500244140625,
          1052.300048828125,
          1062,
          1060.050048828125,
          1061.050048828125,
          1059.550048828125,
          1051.949951171875,
          1041.800048828125,
          1040.050048828125,
          1040,
          1035.949951171875,
          1031.5999755859375,
          1032.800048828125,
          1033.5,
          1031.800048828125,
          1038.949951171875,
          1035,
          1035.9000244140625,
          1038,
          1038.4000244140625,
          1028.550048828125,
          1028.8499755859375,
          1028.9000244140625,
          1030.4000244140625,
          1036.050048828125,
          1030.3499755859375,
          1035.300048828125,
          1029.300048828125,
          1028.800048828125,
          1044.199951171875,
          1042.25
         ],
         "high": [
          1087,
          1088,
          1088.949951171875,
          1084.199951171875,
          1089.949951171875,
          1092.949951171875,
          1093.25,
          1097.1500244140625,
          1093.050048828125,
          1092.050048828125,
          1056.800048828125,
          1048.9000244140625,
          1062.9000244140625,
          1067.800048828125,
          1066.949951171875,
          1072.949951171875,
          1071.6500244140625,
          1071.699951171875,
          1068,
          1065.199951171875,
          1065.300048828125,
          1057.5999755859375,
          1048.949951171875,
          1043,
          1045.199951171875,
          1050.4000244140625,
          1049.6500244140625,
          1049.1500244140625,
          1046.5,
          1049.25,
          1054.5999755859375,
          1063,
          1062.9000244140625,
          1061.5999755859375,
          1061.9000244140625,
          1063.6500244140625,
          1052.1500244140625,
          1043.4000244140625,
          1041.699951171875,
          1041.0999755859375,
          1037.449951171875,
          1033.1500244140625,
          1036.8499755859375,
          1034.949951171875,
          1040.75,
          1039.8499755859375,
          1036.8499755859375,
          1039.449951171875,
          1041.1500244140625,
          1041,
          1029.300048828125,
          1029.300048828125,
          1031.550048828125,
          1038.550048828125,
          1037,
          1036,
          1036.1500244140625,
          1031.5,
          1047.1500244140625,
          1053
         ],
         "low": [
          1083.75,
          1083.300048828125,
          1078.800048828125,
          1080.050048828125,
          1082,
          1087.75,
          1089.3499755859375,
          1089.9000244140625,
          1087,
          1081.4000244140625,
          1021,
          1037.050048828125,
          1048.699951171875,
          1054.949951171875,
          1057.1500244140625,
          1064.5,
          1064.6500244140625,
          1067.050048828125,
          1057.1500244140625,
          1057.199951171875,
          1056.050048828125,
          1044.449951171875,
          1038.75,
          1033.75,
          1033.6500244140625,
          1043.8499755859375,
          1041.6500244140625,
          1042.449951171875,
          1040,
          1042,
          1046.300048828125,
          1051,
          1054,
          1056.800048828125,
          1054.6500244140625,
          1049.4000244140625,
          1041.3499755859375,
          1037.4000244140625,
          1038.6500244140625,
          1033.5,
          1031.199951171875,
          1029.5,
          1030.75,
          1030,
          1031.800048828125,
          1033.0999755859375,
          1032.5,
          1034.1500244140625,
          1036.699951171875,
          1028.1500244140625,
          1025.9000244140625,
          1026.9000244140625,
          1027.699951171875,
          1029.9000244140625,
          1030.25,
          1029.550048828125,
          1027.25,
          1027.5999755859375,
          1028.800048828125,
          1042.25
         ],
         "open": [
          1086.550048828125,
          1083.949951171875,
          1087.449951171875,
          1080.5999755859375,
          1082.800048828125,
          1088.8499755859375,
          1091.699951171875,
          1092.25,
          1090.300048828125,
          1090.800048828125,
          1056.800048828125,
          1043.550048828125,
          1048.699951171875,
          1061.5999755859375,
          1058.0999755859375,
          1065.699951171875,
          1068.550048828125,
          1069.9000244140625,
          1067.300048828125,
          1059.199951171875,
          1064.800048828125,
          1056.300048828125,
          1044.3499755859375,
          1041.050048828125,
          1033.949951171875,
          1045,
          1045.699951171875,
          1048.449951171875,
          1043.800048828125,
          1042,
          1047.75,
          1052.199951171875,
          1062,
          1060.25,
          1061,
          1055.699951171875,
          1052.0999755859375,
          1041.800048828125,
          1040.050048828125,
          1040.0999755859375,
          1035.949951171875,
          1031.5999755859375,
          1032.800048828125,
          1033.300048828125,
          1032.199951171875,
          1038.949951171875,
          1035,
          1035.9000244140625,
          1038,
          1038.1500244140625,
          1028.8499755859375,
          1028.8499755859375,
          1028.550048828125,
          1030.449951171875,
          1036.050048828125,
          1030.3499755859375,
          1035.300048828125,
          1029.300048828125,
          1028.8499755859375,
          1044.25
         ],
         "type": "candlestick",
         "x": [
          40,
          41,
          42,
          43,
          44,
          45,
          46,
          47,
          48,
          49,
          50,
          51,
          52,
          53,
          54,
          55,
          56,
          57,
          58,
          59,
          60,
          61,
          62,
          63,
          64,
          65,
          66,
          67,
          68,
          69,
          70,
          71,
          72,
          73,
          74,
          75,
          76,
          77,
          78,
          79,
          80,
          81,
          82,
          83,
          84,
          85,
          86,
          87,
          88,
          89,
          90,
          91,
          92,
          93,
          94,
          95,
          96,
          97,
          98,
          99
         ]
        },
        {
         "marker": {
          "color": "MediumPurple",
          "size": 4
         },
         "mode": "markers",
         "name": "pivot",
         "type": "scatter",
         "x": [
          40,
          41,
          42,
          43,
          44,
          45,
          46,
          47,
          48,
          49,
          50,
          51,
          52,
          53,
          54,
          55,
          56,
          57,
          58,
          59,
          60,
          61,
          62,
          63,
          64,
          65,
          66,
          67,
          68,
          69,
          70,
          71,
          72,
          73,
          74,
          75,
          76,
          77,
          78,
          79,
          80,
          81,
          82,
          83,
          84,
          85,
          86,
          87,
          88,
          89,
          90,
          91,
          92,
          93,
          94,
          95,
          96,
          97,
          98,
          99
         ],
         "y": [
          null,
          null,
          1078.799048828125,
          null,
          null,
          null,
          null,
          1097.1510244140625,
          null,
          null,
          1020.999,
          null,
          null,
          null,
          null,
          1072.950951171875,
          null,
          null,
          null,
          null,
          null,
          null,
          null,
          null,
          1033.6490244140625,
          1050.4010244140625,
          null,
          null,
          1039.999,
          null,
          null,
          1063.001,
          null,
          null,
          null,
          1063.6510244140625,
          null,
          null,
          null,
          null,
          null,
          1029.499,
          null,
          null,
          1040.751,
          null,
          null,
          null,
          1041.1510244140625,
          null,
          1025.8990244140625,
          null,
          null,
          1038.551048828125,
          null,
          null,
          1027.249,
          null,
          null,
          null
         ]
        },
        {
         "line": {
          "color": "green",
          "width": 2
         },
         "mode": "lines",
         "name": "low triangle line",
         "type": "scatter",
         "x": [
          50,
          64,
          68,
          81,
          90,
          96,
          97
         ],
         "y": [
          1029.680242436724,
          1029.6068217582604,
          1029.5858444215567,
          1029.517668077269,
          1029.4704690696854,
          1029.4390030646293
         ]
        },
        {
         "line": {
          "color": "red",
          "width": 2
         },
         "mode": "lines",
         "name": "high triangle line",
         "type": "scatter",
         "x": [
          55,
          65,
          71,
          75,
          84,
          88,
          93,
          94
         ],
         "y": [
          1070.9345150159668,
          1062.2981087235298,
          1057.1162649480677,
          1053.6617024310929,
          1045.8889367678998,
          1042.434374250925,
          1038.1161711047066
         ]
        }
       ],
       "layout": {
        "template": {
         "data": {
          "bar": [
           {
            "error_x": {
             "color": "#2a3f5f"
            },
            "error_y": {
             "color": "#2a3f5f"
            },
            "marker": {
             "line": {
              "color": "#E5ECF6",
              "width": 0.5
             },
             "pattern": {
              "fillmode": "overlay",
              "size": 10,
              "solidity": 0.2
             }
            },
            "type": "bar"
           }
          ],
          "barpolar": [
           {
            "marker": {
             "line": {
              "color": "#E5ECF6",
              "width": 0.5
             },
             "pattern": {
              "fillmode": "overlay",
              "size": 10,
              "solidity": 0.2
             }
            },
            "type": "barpolar"
           }
          ],
          "carpet": [
           {
            "aaxis": {
             "endlinecolor": "#2a3f5f",
             "gridcolor": "white",
             "linecolor": "white",
             "minorgridcolor": "white",
             "startlinecolor": "#2a3f5f"
            },
            "baxis": {
             "endlinecolor": "#2a3f5f",
             "gridcolor": "white",
             "linecolor": "white",
             "minorgridcolor": "white",
             "startlinecolor": "#2a3f5f"
            },
            "type": "carpet"
           }
          ],
          "choropleth": [
           {
            "colorbar": {
             "outlinewidth": 0,
             "ticks": ""
            },
            "type": "choropleth"
           }
          ],
          "contour": [
           {
            "colorbar": {
             "outlinewidth": 0,
             "ticks": ""
            },
            "colorscale": [
             [
              0,
              "#0d0887"
             ],
             [
              0.1111111111111111,
              "#46039f"
             ],
             [
              0.2222222222222222,
              "#7201a8"
             ],
             [
              0.3333333333333333,
              "#9c179e"
             ],
             [
              0.4444444444444444,
              "#bd3786"
             ],
             [
              0.5555555555555556,
              "#d8576b"
             ],
             [
              0.6666666666666666,
              "#ed7953"
             ],
             [
              0.7777777777777778,
              "#fb9f3a"
             ],
             [
              0.8888888888888888,
              "#fdca26"
             ],
             [
              1,
              "#f0f921"
             ]
            ],
            "type": "contour"
           }
          ],
          "contourcarpet": [
           {
            "colorbar": {
             "outlinewidth": 0,
             "ticks": ""
            },
            "type": "contourcarpet"
           }
          ],
          "heatmap": [
           {
            "colorbar": {
             "outlinewidth": 0,
             "ticks": ""
            },
            "colorscale": [
             [
              0,
              "#0d0887"
             ],
             [
              0.1111111111111111,
              "#46039f"
             ],
             [
              0.2222222222222222,
              "#7201a8"
             ],
             [
              0.3333333333333333,
              "#9c179e"
             ],
             [
              0.4444444444444444,
              "#bd3786"
             ],
             [
              0.5555555555555556,
              "#d8576b"
             ],
             [
              0.6666666666666666,
              "#ed7953"
             ],
             [
              0.7777777777777778,
              "#fb9f3a"
             ],
             [
              0.8888888888888888,
              "#fdca26"
             ],
             [
              1,
              "#f0f921"
             ]
            ],
            "type": "heatmap"
           }
          ],
          "heatmapgl": [
           {
            "colorbar": {
             "outlinewidth": 0,
             "ticks": ""
            },
            "colorscale": [
             [
              0,
              "#0d0887"
             ],
             [
              0.1111111111111111,
              "#46039f"
             ],
             [
              0.2222222222222222,
              "#7201a8"
             ],
             [
              0.3333333333333333,
              "#9c179e"
             ],
             [
              0.4444444444444444,
              "#bd3786"
             ],
             [
              0.5555555555555556,
              "#d8576b"
             ],
             [
              0.6666666666666666,
              "#ed7953"
             ],
             [
              0.7777777777777778,
              "#fb9f3a"
             ],
             [
              0.8888888888888888,
              "#fdca26"
             ],
             [
              1,
              "#f0f921"
             ]
            ],
            "type": "heatmapgl"
           }
          ],
          "histogram": [
           {
            "marker": {
             "pattern": {
              "fillmode": "overlay",
              "size": 10,
              "solidity": 0.2
             }
            },
            "type": "histogram"
           }
          ],
          "histogram2d": [
           {
            "colorbar": {
             "outlinewidth": 0,
             "ticks": ""
            },
            "colorscale": [
             [
              0,
              "#0d0887"
             ],
             [
              0.1111111111111111,
              "#46039f"
             ],
             [
              0.2222222222222222,
              "#7201a8"
             ],
             [
              0.3333333333333333,
              "#9c179e"
             ],
             [
              0.4444444444444444,
              "#bd3786"
             ],
             [
              0.5555555555555556,
              "#d8576b"
             ],
             [
              0.6666666666666666,
              "#ed7953"
             ],
             [
              0.7777777777777778,
              "#fb9f3a"
             ],
             [
              0.8888888888888888,
              "#fdca26"
             ],
             [
              1,
              "#f0f921"
             ]
            ],
            "type": "histogram2d"
           }
          ],
          "histogram2dcontour": [
           {
            "colorbar": {
             "outlinewidth": 0,
             "ticks": ""
            },
            "colorscale": [
             [
              0,
              "#0d0887"
             ],
             [
              0.1111111111111111,
              "#46039f"
             ],
             [
              0.2222222222222222,
              "#7201a8"
             ],
             [
              0.3333333333333333,
              "#9c179e"
             ],
             [
              0.4444444444444444,
              "#bd3786"
             ],
             [
              0.5555555555555556,
              "#d8576b"
             ],
             [
              0.6666666666666666,
              "#ed7953"
             ],
             [
              0.7777777777777778,
              "#fb9f3a"
             ],
             [
              0.8888888888888888,
              "#fdca26"
             ],
             [
              1,
              "#f0f921"
             ]
            ],
            "type": "histogram2dcontour"
           }
          ],
          "mesh3d": [
           {
            "colorbar": {
             "outlinewidth": 0,
             "ticks": ""
            },
            "type": "mesh3d"
           }
          ],
          "parcoords": [
           {
            "line": {
             "colorbar": {
              "outlinewidth": 0,
              "ticks": ""
             }
            },
            "type": "parcoords"
           }
          ],
          "pie": [
           {
            "automargin": true,
            "type": "pie"
           }
          ],
          "scatter": [
           {
            "fillpattern": {
             "fillmode": "overlay",
             "size": 10,
             "solidity": 0.2
            },
            "type": "scatter"
           }
          ],
          "scatter3d": [
           {
            "line": {
             "colorbar": {
              "outlinewidth": 0,
              "ticks": ""
             }
            },
            "marker": {
             "colorbar": {
              "outlinewidth": 0,
              "ticks": ""
             }
            },
            "type": "scatter3d"
           }
          ],
          "scattercarpet": [
           {
            "marker": {
             "colorbar": {
              "outlinewidth": 0,
              "ticks": ""
             }
            },
            "type": "scattercarpet"
           }
          ],
          "scattergeo": [
           {
            "marker": {
             "colorbar": {
              "outlinewidth": 0,
              "ticks": ""
             }
            },
            "type": "scattergeo"
           }
          ],
          "scattergl": [
           {
            "marker": {
             "colorbar": {
              "outlinewidth": 0,
              "ticks": ""
             }
            },
            "type": "scattergl"
           }
          ],
          "scattermapbox": [
           {
            "marker": {
             "colorbar": {
              "outlinewidth": 0,
              "ticks": ""
             }
            },
            "type": "scattermapbox"
           }
          ],
          "scatterpolar": [
           {
            "marker": {
             "colorbar": {
              "outlinewidth": 0,
              "ticks": ""
             }
            },
            "type": "scatterpolar"
           }
          ],
          "scatterpolargl": [
           {
            "marker": {
             "colorbar": {
              "outlinewidth": 0,
              "ticks": ""
             }
            },
            "type": "scatterpolargl"
           }
          ],
          "scatterternary": [
           {
            "marker": {
             "colorbar": {
              "outlinewidth": 0,
              "ticks": ""
             }
            },
            "type": "scatterternary"
           }
          ],
          "surface": [
           {
            "colorbar": {
             "outlinewidth": 0,
             "ticks": ""
            },
            "colorscale": [
             [
              0,
              "#0d0887"
             ],
             [
              0.1111111111111111,
              "#46039f"
             ],
             [
              0.2222222222222222,
              "#7201a8"
             ],
             [
              0.3333333333333333,
              "#9c179e"
             ],
             [
              0.4444444444444444,
              "#bd3786"
             ],
             [
              0.5555555555555556,
              "#d8576b"
             ],
             [
              0.6666666666666666,
              "#ed7953"
             ],
             [
              0.7777777777777778,
              "#fb9f3a"
             ],
             [
              0.8888888888888888,
              "#fdca26"
             ],
             [
              1,
              "#f0f921"
             ]
            ],
            "type": "surface"
           }
          ],
          "table": [
           {
            "cells": {
             "fill": {
              "color": "#EBF0F8"
             },
             "line": {
              "color": "white"
             }
            },
            "header": {
             "fill": {
              "color": "#C8D4E3"
             },
             "line": {
              "color": "white"
             }
            },
            "type": "table"
           }
          ]
         },
         "layout": {
          "annotationdefaults": {
           "arrowcolor": "#2a3f5f",
           "arrowhead": 0,
           "arrowwidth": 1
          },
          "autotypenumbers": "strict",
          "coloraxis": {
           "colorbar": {
            "outlinewidth": 0,
            "ticks": ""
           }
          },
          "colorscale": {
           "diverging": [
            [
             0,
             "#8e0152"
            ],
            [
             0.1,
             "#c51b7d"
            ],
            [
             0.2,
             "#de77ae"
            ],
            [
             0.3,
             "#f1b6da"
            ],
            [
             0.4,
             "#fde0ef"
            ],
            [
             0.5,
             "#f7f7f7"
            ],
            [
             0.6,
             "#e6f5d0"
            ],
            [
             0.7,
             "#b8e186"
            ],
            [
             0.8,
             "#7fbc41"
            ],
            [
             0.9,
             "#4d9221"
            ],
            [
             1,
             "#276419"
            ]
           ],
           "sequential": [
            [
             0,
             "#0d0887"
            ],
            [
             0.1111111111111111,
             "#46039f"
            ],
            [
             0.2222222222222222,
             "#7201a8"
            ],
            [
             0.3333333333333333,
             "#9c179e"
            ],
            [
             0.4444444444444444,
             "#bd3786"
            ],
            [
             0.5555555555555556,
             "#d8576b"
            ],
            [
             0.6666666666666666,
             "#ed7953"
            ],
            [
             0.7777777777777778,
             "#fb9f3a"
            ],
            [
             0.8888888888888888,
             "#fdca26"
            ],
            [
             1,
             "#f0f921"
            ]
           ],
           "sequentialminus": [
            [
             0,
             "#0d0887"
            ],
            [
             0.1111111111111111,
             "#46039f"
            ],
            [
             0.2222222222222222,
             "#7201a8"
            ],
            [
             0.3333333333333333,
             "#9c179e"
            ],
            [
             0.4444444444444444,
             "#bd3786"
            ],
            [
             0.5555555555555556,
             "#d8576b"
            ],
            [
             0.6666666666666666,
             "#ed7953"
            ],
            [
             0.7777777777777778,
             "#fb9f3a"
            ],
            [
             0.8888888888888888,
             "#fdca26"
            ],
            [
             1,
             "#f0f921"
            ]
           ]
          },
          "colorway": [
           "#636efa",
           "#EF553B",
           "#00cc96",
           "#ab63fa",
           "#FFA15A",
           "#19d3f3",
           "#FF6692",
           "#B6E880",
           "#FF97FF",
           "#FECB52"
          ],
          "font": {
           "color": "#2a3f5f"
          },
          "geo": {
           "bgcolor": "white",
           "lakecolor": "white",
           "landcolor": "#E5ECF6",
           "showlakes": true,
           "showland": true,
           "subunitcolor": "white"
          },
          "hoverlabel": {
           "align": "left"
          },
          "hovermode": "closest",
          "mapbox": {
           "style": "light"
          },
          "paper_bgcolor": "white",
          "plot_bgcolor": "#E5ECF6",
          "polar": {
           "angularaxis": {
            "gridcolor": "white",
            "linecolor": "white",
            "ticks": ""
           },
           "bgcolor": "#E5ECF6",
           "radialaxis": {
            "gridcolor": "white",
            "linecolor": "white",
            "ticks": ""
           }
          },
          "scene": {
           "xaxis": {
            "backgroundcolor": "#E5ECF6",
            "gridcolor": "white",
            "gridwidth": 2,
            "linecolor": "white",
            "showbackground": true,
            "ticks": "",
            "zerolinecolor": "white"
           },
           "yaxis": {
            "backgroundcolor": "#E5ECF6",
            "gridcolor": "white",
            "gridwidth": 2,
            "linecolor": "white",
            "showbackground": true,
            "ticks": "",
            "zerolinecolor": "white"
           },
           "zaxis": {
            "backgroundcolor": "#E5ECF6",
            "gridcolor": "white",
            "gridwidth": 2,
            "linecolor": "white",
            "showbackground": true,
            "ticks": "",
            "zerolinecolor": "white"
           }
          },
          "shapedefaults": {
           "line": {
            "color": "#2a3f5f"
           }
          },
          "ternary": {
           "aaxis": {
            "gridcolor": "white",
            "linecolor": "white",
            "ticks": ""
           },
           "baxis": {
            "gridcolor": "white",
            "linecolor": "white",
            "ticks": ""
           },
           "bgcolor": "#E5ECF6",
           "caxis": {
            "gridcolor": "white",
            "linecolor": "white",
            "ticks": ""
           }
          },
          "title": {
           "x": 0.05
          },
          "xaxis": {
           "automargin": true,
           "gridcolor": "white",
           "linecolor": "white",
           "ticks": "",
           "title": {
            "standoff": 15
           },
           "zerolinecolor": "white",
           "zerolinewidth": 2
          },
          "yaxis": {
           "automargin": true,
           "gridcolor": "white",
           "linecolor": "white",
           "ticks": "",
           "title": {
            "standoff": 15
           },
           "zerolinecolor": "white",
           "zerolinewidth": 2
          }
         }
        },
        "title": {
         "text": "Candlestick Chart for AXISBANK.NS - Trend: Bearish"
        },
        "xaxis": {
         "rangeslider": {
          "visible": true
         }
        }
       }
      },
      "text/html": [
       "<div>                            <div id=\"bcb06fd4-e46d-4b0c-bbbc-70fda6317bd6\" class=\"plotly-graph-div\" style=\"height:525px; width:100%;\"></div>            <script type=\"text/javascript\">                require([\"plotly\"], function(Plotly) {                    window.PLOTLYENV=window.PLOTLYENV || {};                                    if (document.getElementById(\"bcb06fd4-e46d-4b0c-bbbc-70fda6317bd6\")) {                    Plotly.newPlot(                        \"bcb06fd4-e46d-4b0c-bbbc-70fda6317bd6\",                        [{\"close\":[1084.0,1087.4000244140625,1080.949951171875,1082.800048828125,1089.4000244140625,1091.800048828125,1092.1500244140625,1089.9000244140625,1091.25,1082.0,1043.0,1048.050048828125,1061.8499755859375,1058.25,1065.4000244140625,1068.5999755859375,1069.949951171875,1067.4000244140625,1058.8499755859375,1064.75,1056.199951171875,1044.5,1041.050048828125,1034.0,1045.1500244140625,1045.699951171875,1048.449951171875,1043.699951171875,1042.0,1047.6500244140625,1052.300048828125,1062.0,1060.050048828125,1061.050048828125,1059.550048828125,1051.949951171875,1041.800048828125,1040.050048828125,1040.0,1035.949951171875,1031.5999755859375,1032.800048828125,1033.5,1031.800048828125,1038.949951171875,1035.0,1035.9000244140625,1038.0,1038.4000244140625,1028.550048828125,1028.8499755859375,1028.9000244140625,1030.4000244140625,1036.050048828125,1030.3499755859375,1035.300048828125,1029.300048828125,1028.800048828125,1044.199951171875,1042.25],\"high\":[1087.0,1088.0,1088.949951171875,1084.199951171875,1089.949951171875,1092.949951171875,1093.25,1097.1500244140625,1093.050048828125,1092.050048828125,1056.800048828125,1048.9000244140625,1062.9000244140625,1067.800048828125,1066.949951171875,1072.949951171875,1071.6500244140625,1071.699951171875,1068.0,1065.199951171875,1065.300048828125,1057.5999755859375,1048.949951171875,1043.0,1045.199951171875,1050.4000244140625,1049.6500244140625,1049.1500244140625,1046.5,1049.25,1054.5999755859375,1063.0,1062.9000244140625,1061.5999755859375,1061.9000244140625,1063.6500244140625,1052.1500244140625,1043.4000244140625,1041.699951171875,1041.0999755859375,1037.449951171875,1033.1500244140625,1036.8499755859375,1034.949951171875,1040.75,1039.8499755859375,1036.8499755859375,1039.449951171875,1041.1500244140625,1041.0,1029.300048828125,1029.300048828125,1031.550048828125,1038.550048828125,1037.0,1036.0,1036.1500244140625,1031.5,1047.1500244140625,1053.0],\"low\":[1083.75,1083.300048828125,1078.800048828125,1080.050048828125,1082.0,1087.75,1089.3499755859375,1089.9000244140625,1087.0,1081.4000244140625,1021.0,1037.050048828125,1048.699951171875,1054.949951171875,1057.1500244140625,1064.5,1064.6500244140625,1067.050048828125,1057.1500244140625,1057.199951171875,1056.050048828125,1044.449951171875,1038.75,1033.75,1033.6500244140625,1043.8499755859375,1041.6500244140625,1042.449951171875,1040.0,1042.0,1046.300048828125,1051.0,1054.0,1056.800048828125,1054.6500244140625,1049.4000244140625,1041.3499755859375,1037.4000244140625,1038.6500244140625,1033.5,1031.199951171875,1029.5,1030.75,1030.0,1031.800048828125,1033.0999755859375,1032.5,1034.1500244140625,1036.699951171875,1028.1500244140625,1025.9000244140625,1026.9000244140625,1027.699951171875,1029.9000244140625,1030.25,1029.550048828125,1027.25,1027.5999755859375,1028.800048828125,1042.25],\"open\":[1086.550048828125,1083.949951171875,1087.449951171875,1080.5999755859375,1082.800048828125,1088.8499755859375,1091.699951171875,1092.25,1090.300048828125,1090.800048828125,1056.800048828125,1043.550048828125,1048.699951171875,1061.5999755859375,1058.0999755859375,1065.699951171875,1068.550048828125,1069.9000244140625,1067.300048828125,1059.199951171875,1064.800048828125,1056.300048828125,1044.3499755859375,1041.050048828125,1033.949951171875,1045.0,1045.699951171875,1048.449951171875,1043.800048828125,1042.0,1047.75,1052.199951171875,1062.0,1060.25,1061.0,1055.699951171875,1052.0999755859375,1041.800048828125,1040.050048828125,1040.0999755859375,1035.949951171875,1031.5999755859375,1032.800048828125,1033.300048828125,1032.199951171875,1038.949951171875,1035.0,1035.9000244140625,1038.0,1038.1500244140625,1028.8499755859375,1028.8499755859375,1028.550048828125,1030.449951171875,1036.050048828125,1030.3499755859375,1035.300048828125,1029.300048828125,1028.8499755859375,1044.25],\"x\":[40,41,42,43,44,45,46,47,48,49,50,51,52,53,54,55,56,57,58,59,60,61,62,63,64,65,66,67,68,69,70,71,72,73,74,75,76,77,78,79,80,81,82,83,84,85,86,87,88,89,90,91,92,93,94,95,96,97,98,99],\"type\":\"candlestick\"},{\"marker\":{\"color\":\"MediumPurple\",\"size\":4},\"mode\":\"markers\",\"name\":\"pivot\",\"x\":[40,41,42,43,44,45,46,47,48,49,50,51,52,53,54,55,56,57,58,59,60,61,62,63,64,65,66,67,68,69,70,71,72,73,74,75,76,77,78,79,80,81,82,83,84,85,86,87,88,89,90,91,92,93,94,95,96,97,98,99],\"y\":[null,null,1078.799048828125,null,null,null,null,1097.1510244140625,null,null,1020.999,null,null,null,null,1072.950951171875,null,null,null,null,null,null,null,null,1033.6490244140625,1050.4010244140625,null,null,1039.999,null,null,1063.001,null,null,null,1063.6510244140625,null,null,null,null,null,1029.499,null,null,1040.751,null,null,null,1041.1510244140625,null,1025.8990244140625,null,null,1038.551048828125,null,null,1027.249,null,null,null],\"type\":\"scatter\"},{\"line\":{\"color\":\"green\",\"width\":2},\"mode\":\"lines\",\"name\":\"low triangle line\",\"x\":[50.0,64.0,68.0,81.0,90.0,96.0,97.0],\"y\":[1029.680242436724,1029.6068217582604,1029.5858444215567,1029.517668077269,1029.4704690696854,1029.4390030646293],\"type\":\"scatter\"},{\"line\":{\"color\":\"red\",\"width\":2},\"mode\":\"lines\",\"name\":\"high triangle line\",\"x\":[55.0,65.0,71.0,75.0,84.0,88.0,93.0,94.0],\"y\":[1070.9345150159668,1062.2981087235298,1057.1162649480677,1053.6617024310929,1045.8889367678998,1042.434374250925,1038.1161711047066],\"type\":\"scatter\"}],                        {\"template\":{\"data\":{\"histogram2dcontour\":[{\"type\":\"histogram2dcontour\",\"colorbar\":{\"outlinewidth\":0,\"ticks\":\"\"},\"colorscale\":[[0.0,\"#0d0887\"],[0.1111111111111111,\"#46039f\"],[0.2222222222222222,\"#7201a8\"],[0.3333333333333333,\"#9c179e\"],[0.4444444444444444,\"#bd3786\"],[0.5555555555555556,\"#d8576b\"],[0.6666666666666666,\"#ed7953\"],[0.7777777777777778,\"#fb9f3a\"],[0.8888888888888888,\"#fdca26\"],[1.0,\"#f0f921\"]]}],\"choropleth\":[{\"type\":\"choropleth\",\"colorbar\":{\"outlinewidth\":0,\"ticks\":\"\"}}],\"histogram2d\":[{\"type\":\"histogram2d\",\"colorbar\":{\"outlinewidth\":0,\"ticks\":\"\"},\"colorscale\":[[0.0,\"#0d0887\"],[0.1111111111111111,\"#46039f\"],[0.2222222222222222,\"#7201a8\"],[0.3333333333333333,\"#9c179e\"],[0.4444444444444444,\"#bd3786\"],[0.5555555555555556,\"#d8576b\"],[0.6666666666666666,\"#ed7953\"],[0.7777777777777778,\"#fb9f3a\"],[0.8888888888888888,\"#fdca26\"],[1.0,\"#f0f921\"]]}],\"heatmap\":[{\"type\":\"heatmap\",\"colorbar\":{\"outlinewidth\":0,\"ticks\":\"\"},\"colorscale\":[[0.0,\"#0d0887\"],[0.1111111111111111,\"#46039f\"],[0.2222222222222222,\"#7201a8\"],[0.3333333333333333,\"#9c179e\"],[0.4444444444444444,\"#bd3786\"],[0.5555555555555556,\"#d8576b\"],[0.6666666666666666,\"#ed7953\"],[0.7777777777777778,\"#fb9f3a\"],[0.8888888888888888,\"#fdca26\"],[1.0,\"#f0f921\"]]}],\"heatmapgl\":[{\"type\":\"heatmapgl\",\"colorbar\":{\"outlinewidth\":0,\"ticks\":\"\"},\"colorscale\":[[0.0,\"#0d0887\"],[0.1111111111111111,\"#46039f\"],[0.2222222222222222,\"#7201a8\"],[0.3333333333333333,\"#9c179e\"],[0.4444444444444444,\"#bd3786\"],[0.5555555555555556,\"#d8576b\"],[0.6666666666666666,\"#ed7953\"],[0.7777777777777778,\"#fb9f3a\"],[0.8888888888888888,\"#fdca26\"],[1.0,\"#f0f921\"]]}],\"contourcarpet\":[{\"type\":\"contourcarpet\",\"colorbar\":{\"outlinewidth\":0,\"ticks\":\"\"}}],\"contour\":[{\"type\":\"contour\",\"colorbar\":{\"outlinewidth\":0,\"ticks\":\"\"},\"colorscale\":[[0.0,\"#0d0887\"],[0.1111111111111111,\"#46039f\"],[0.2222222222222222,\"#7201a8\"],[0.3333333333333333,\"#9c179e\"],[0.4444444444444444,\"#bd3786\"],[0.5555555555555556,\"#d8576b\"],[0.6666666666666666,\"#ed7953\"],[0.7777777777777778,\"#fb9f3a\"],[0.8888888888888888,\"#fdca26\"],[1.0,\"#f0f921\"]]}],\"surface\":[{\"type\":\"surface\",\"colorbar\":{\"outlinewidth\":0,\"ticks\":\"\"},\"colorscale\":[[0.0,\"#0d0887\"],[0.1111111111111111,\"#46039f\"],[0.2222222222222222,\"#7201a8\"],[0.3333333333333333,\"#9c179e\"],[0.4444444444444444,\"#bd3786\"],[0.5555555555555556,\"#d8576b\"],[0.6666666666666666,\"#ed7953\"],[0.7777777777777778,\"#fb9f3a\"],[0.8888888888888888,\"#fdca26\"],[1.0,\"#f0f921\"]]}],\"mesh3d\":[{\"type\":\"mesh3d\",\"colorbar\":{\"outlinewidth\":0,\"ticks\":\"\"}}],\"scatter\":[{\"fillpattern\":{\"fillmode\":\"overlay\",\"size\":10,\"solidity\":0.2},\"type\":\"scatter\"}],\"parcoords\":[{\"type\":\"parcoords\",\"line\":{\"colorbar\":{\"outlinewidth\":0,\"ticks\":\"\"}}}],\"scatterpolargl\":[{\"type\":\"scatterpolargl\",\"marker\":{\"colorbar\":{\"outlinewidth\":0,\"ticks\":\"\"}}}],\"bar\":[{\"error_x\":{\"color\":\"#2a3f5f\"},\"error_y\":{\"color\":\"#2a3f5f\"},\"marker\":{\"line\":{\"color\":\"#E5ECF6\",\"width\":0.5},\"pattern\":{\"fillmode\":\"overlay\",\"size\":10,\"solidity\":0.2}},\"type\":\"bar\"}],\"scattergeo\":[{\"type\":\"scattergeo\",\"marker\":{\"colorbar\":{\"outlinewidth\":0,\"ticks\":\"\"}}}],\"scatterpolar\":[{\"type\":\"scatterpolar\",\"marker\":{\"colorbar\":{\"outlinewidth\":0,\"ticks\":\"\"}}}],\"histogram\":[{\"marker\":{\"pattern\":{\"fillmode\":\"overlay\",\"size\":10,\"solidity\":0.2}},\"type\":\"histogram\"}],\"scattergl\":[{\"type\":\"scattergl\",\"marker\":{\"colorbar\":{\"outlinewidth\":0,\"ticks\":\"\"}}}],\"scatter3d\":[{\"type\":\"scatter3d\",\"line\":{\"colorbar\":{\"outlinewidth\":0,\"ticks\":\"\"}},\"marker\":{\"colorbar\":{\"outlinewidth\":0,\"ticks\":\"\"}}}],\"scattermapbox\":[{\"type\":\"scattermapbox\",\"marker\":{\"colorbar\":{\"outlinewidth\":0,\"ticks\":\"\"}}}],\"scatterternary\":[{\"type\":\"scatterternary\",\"marker\":{\"colorbar\":{\"outlinewidth\":0,\"ticks\":\"\"}}}],\"scattercarpet\":[{\"type\":\"scattercarpet\",\"marker\":{\"colorbar\":{\"outlinewidth\":0,\"ticks\":\"\"}}}],\"carpet\":[{\"aaxis\":{\"endlinecolor\":\"#2a3f5f\",\"gridcolor\":\"white\",\"linecolor\":\"white\",\"minorgridcolor\":\"white\",\"startlinecolor\":\"#2a3f5f\"},\"baxis\":{\"endlinecolor\":\"#2a3f5f\",\"gridcolor\":\"white\",\"linecolor\":\"white\",\"minorgridcolor\":\"white\",\"startlinecolor\":\"#2a3f5f\"},\"type\":\"carpet\"}],\"table\":[{\"cells\":{\"fill\":{\"color\":\"#EBF0F8\"},\"line\":{\"color\":\"white\"}},\"header\":{\"fill\":{\"color\":\"#C8D4E3\"},\"line\":{\"color\":\"white\"}},\"type\":\"table\"}],\"barpolar\":[{\"marker\":{\"line\":{\"color\":\"#E5ECF6\",\"width\":0.5},\"pattern\":{\"fillmode\":\"overlay\",\"size\":10,\"solidity\":0.2}},\"type\":\"barpolar\"}],\"pie\":[{\"automargin\":true,\"type\":\"pie\"}]},\"layout\":{\"autotypenumbers\":\"strict\",\"colorway\":[\"#636efa\",\"#EF553B\",\"#00cc96\",\"#ab63fa\",\"#FFA15A\",\"#19d3f3\",\"#FF6692\",\"#B6E880\",\"#FF97FF\",\"#FECB52\"],\"font\":{\"color\":\"#2a3f5f\"},\"hovermode\":\"closest\",\"hoverlabel\":{\"align\":\"left\"},\"paper_bgcolor\":\"white\",\"plot_bgcolor\":\"#E5ECF6\",\"polar\":{\"bgcolor\":\"#E5ECF6\",\"angularaxis\":{\"gridcolor\":\"white\",\"linecolor\":\"white\",\"ticks\":\"\"},\"radialaxis\":{\"gridcolor\":\"white\",\"linecolor\":\"white\",\"ticks\":\"\"}},\"ternary\":{\"bgcolor\":\"#E5ECF6\",\"aaxis\":{\"gridcolor\":\"white\",\"linecolor\":\"white\",\"ticks\":\"\"},\"baxis\":{\"gridcolor\":\"white\",\"linecolor\":\"white\",\"ticks\":\"\"},\"caxis\":{\"gridcolor\":\"white\",\"linecolor\":\"white\",\"ticks\":\"\"}},\"coloraxis\":{\"colorbar\":{\"outlinewidth\":0,\"ticks\":\"\"}},\"colorscale\":{\"sequential\":[[0.0,\"#0d0887\"],[0.1111111111111111,\"#46039f\"],[0.2222222222222222,\"#7201a8\"],[0.3333333333333333,\"#9c179e\"],[0.4444444444444444,\"#bd3786\"],[0.5555555555555556,\"#d8576b\"],[0.6666666666666666,\"#ed7953\"],[0.7777777777777778,\"#fb9f3a\"],[0.8888888888888888,\"#fdca26\"],[1.0,\"#f0f921\"]],\"sequentialminus\":[[0.0,\"#0d0887\"],[0.1111111111111111,\"#46039f\"],[0.2222222222222222,\"#7201a8\"],[0.3333333333333333,\"#9c179e\"],[0.4444444444444444,\"#bd3786\"],[0.5555555555555556,\"#d8576b\"],[0.6666666666666666,\"#ed7953\"],[0.7777777777777778,\"#fb9f3a\"],[0.8888888888888888,\"#fdca26\"],[1.0,\"#f0f921\"]],\"diverging\":[[0,\"#8e0152\"],[0.1,\"#c51b7d\"],[0.2,\"#de77ae\"],[0.3,\"#f1b6da\"],[0.4,\"#fde0ef\"],[0.5,\"#f7f7f7\"],[0.6,\"#e6f5d0\"],[0.7,\"#b8e186\"],[0.8,\"#7fbc41\"],[0.9,\"#4d9221\"],[1,\"#276419\"]]},\"xaxis\":{\"gridcolor\":\"white\",\"linecolor\":\"white\",\"ticks\":\"\",\"title\":{\"standoff\":15},\"zerolinecolor\":\"white\",\"automargin\":true,\"zerolinewidth\":2},\"yaxis\":{\"gridcolor\":\"white\",\"linecolor\":\"white\",\"ticks\":\"\",\"title\":{\"standoff\":15},\"zerolinecolor\":\"white\",\"automargin\":true,\"zerolinewidth\":2},\"scene\":{\"xaxis\":{\"backgroundcolor\":\"#E5ECF6\",\"gridcolor\":\"white\",\"linecolor\":\"white\",\"showbackground\":true,\"ticks\":\"\",\"zerolinecolor\":\"white\",\"gridwidth\":2},\"yaxis\":{\"backgroundcolor\":\"#E5ECF6\",\"gridcolor\":\"white\",\"linecolor\":\"white\",\"showbackground\":true,\"ticks\":\"\",\"zerolinecolor\":\"white\",\"gridwidth\":2},\"zaxis\":{\"backgroundcolor\":\"#E5ECF6\",\"gridcolor\":\"white\",\"linecolor\":\"white\",\"showbackground\":true,\"ticks\":\"\",\"zerolinecolor\":\"white\",\"gridwidth\":2}},\"shapedefaults\":{\"line\":{\"color\":\"#2a3f5f\"}},\"annotationdefaults\":{\"arrowcolor\":\"#2a3f5f\",\"arrowhead\":0,\"arrowwidth\":1},\"geo\":{\"bgcolor\":\"white\",\"landcolor\":\"#E5ECF6\",\"subunitcolor\":\"white\",\"showland\":true,\"showlakes\":true,\"lakecolor\":\"white\"},\"title\":{\"x\":0.05},\"mapbox\":{\"style\":\"light\"}}},\"xaxis\":{\"rangeslider\":{\"visible\":true}},\"title\":{\"text\":\"Candlestick Chart for AXISBANK.NS - Trend: Bearish\"}},                        {\"responsive\": true}                    ).then(function(){\n",
       "                            \n",
       "var gd = document.getElementById('bcb06fd4-e46d-4b0c-bbbc-70fda6317bd6');\n",
       "var x = new MutationObserver(function (mutations, observer) {{\n",
       "        var display = window.getComputedStyle(gd).display;\n",
       "        if (!display || display === 'none') {{\n",
       "            console.log([gd, 'removed!']);\n",
       "            Plotly.purge(gd);\n",
       "            observer.disconnect();\n",
       "        }}\n",
       "}});\n",
       "\n",
       "// Listen for the removal of the full notebook cells\n",
       "var notebookContainer = gd.closest('#notebook-container');\n",
       "if (notebookContainer) {{\n",
       "    x.observe(notebookContainer, {childList: true});\n",
       "}}\n",
       "\n",
       "// Listen for the clearing of the current output cell\n",
       "var outputEl = gd.closest('.output');\n",
       "if (outputEl) {{\n",
       "    x.observe(outputEl, {childList: true});\n",
       "}}\n",
       "\n",
       "                        })                };                });            </script>        </div>"
      ]
     },
     "metadata": {},
     "output_type": "display_data"
    },
    {
     "name": "stdout",
     "output_type": "stream",
     "text": [
      "[*********************100%%**********************]  1 of 1 completed\n"
     ]
    },
    {
     "data": {
      "application/vnd.plotly.v1+json": {
       "config": {
        "plotlyServerURL": "https://plot.ly"
       },
       "data": [
        {
         "close": [
          2657.5,
          2660,
          2661.35009765625,
          2657.25,
          2659.800048828125,
          2651,
          2651.35009765625,
          2647.89990234375,
          2659.25,
          2656.75,
          2654.949951171875,
          2657,
          2665,
          2660.10009765625,
          2659.949951171875,
          2661.10009765625,
          2658,
          2661.050048828125,
          2660.14990234375,
          2663.64990234375,
          2663.14990234375,
          2663.949951171875,
          2661.89990234375,
          2661.39990234375,
          2664,
          2662.699951171875,
          2660.85009765625,
          2661.449951171875,
          2662.5,
          2667.64990234375,
          2675.449951171875,
          2680.85009765625,
          2680,
          2687.949951171875,
          2687.75,
          2695.35009765625,
          2691.25,
          2681.85009765625,
          2683.949951171875,
          2676.75,
          2682.699951171875,
          2673.300048828125,
          2671.199951171875,
          2680.050048828125,
          2692,
          2692,
          2690,
          2689.300048828125,
          2686,
          2684.300048828125,
          2685.199951171875,
          2685.60009765625,
          2690.10009765625,
          2691.35009765625,
          2703.10009765625,
          2705.449951171875,
          2699.949951171875,
          2696.89990234375,
          2699.85009765625,
          2711
         ],
         "high": [
          2661.800048828125,
          2662.89990234375,
          2663.60009765625,
          2666.449951171875,
          2663.64990234375,
          2660.699951171875,
          2654.25,
          2653.300048828125,
          2659.25,
          2666.800048828125,
          2669.60009765625,
          2660,
          2665,
          2667.949951171875,
          2663.64990234375,
          2662.64990234375,
          2663.300048828125,
          2663,
          2665.25,
          2664.64990234375,
          2664.800048828125,
          2664.64990234375,
          2664.89990234375,
          2663.300048828125,
          2665,
          2669.39990234375,
          2663.949951171875,
          2663.35009765625,
          2667.89990234375,
          2672,
          2677,
          2681.89990234375,
          2681.14990234375,
          2687.949951171875,
          2699,
          2695.39990234375,
          2698.39990234375,
          2692.75,
          2685.5,
          2685,
          2683.14990234375,
          2683.949951171875,
          2675.300048828125,
          2682,
          2695.85009765625,
          2693.300048828125,
          2693.699951171875,
          2692.949951171875,
          2690.199951171875,
          2689.949951171875,
          2690,
          2688.5,
          2691.64990234375,
          2693.949951171875,
          2708,
          2707.25,
          2709.800048828125,
          2702,
          2707.949951171875,
          2718.25
         ],
         "low": [
          2649.949951171875,
          2657.550048828125,
          2659.14990234375,
          2655,
          2656,
          2648.85009765625,
          2647.85009765625,
          2645.10009765625,
          2647.550048828125,
          2655,
          2648,
          2649.25,
          2654.75,
          2657,
          2658.60009765625,
          2659.85009765625,
          2658,
          2658.14990234375,
          2657.300048828125,
          2649,
          2661.60009765625,
          2659,
          2655,
          2657.35009765625,
          2660.89990234375,
          2662,
          2659,
          2659.10009765625,
          2661.449951171875,
          2662.050048828125,
          2663.5,
          2675.10009765625,
          2675.89990234375,
          2673.449951171875,
          2687.5,
          2677.5,
          2690.5,
          2680.60009765625,
          2680,
          2673.800048828125,
          2675,
          2671.300048828125,
          2670.39990234375,
          2670.699951171875,
          2680.199951171875,
          2681.39990234375,
          2687.35009765625,
          2684.14990234375,
          2684.10009765625,
          2683.050048828125,
          2682.39990234375,
          2684.10009765625,
          2685.39990234375,
          2689.75,
          2690.64990234375,
          2700.39990234375,
          2699.050048828125,
          2695.800048828125,
          2696.14990234375,
          2699.39990234375
         ],
         "open": [
          2652.050048828125,
          2657.550048828125,
          2660.199951171875,
          2661.35009765625,
          2657.10009765625,
          2660.050048828125,
          2650.64990234375,
          2651.800048828125,
          2647.64990234375,
          2659.25,
          2669.60009765625,
          2655,
          2657,
          2665.89990234375,
          2660.5,
          2660,
          2661.85009765625,
          2658.14990234375,
          2661.10009765625,
          2661.050048828125,
          2663.050048828125,
          2663.14990234375,
          2663.949951171875,
          2661.89990234375,
          2661.35009765625,
          2664.35009765625,
          2662.699951171875,
          2660.800048828125,
          2661.5,
          2662.5,
          2667.949951171875,
          2675.449951171875,
          2680.85009765625,
          2679.89990234375,
          2687.5,
          2685,
          2695.949951171875,
          2691.449951171875,
          2681.85009765625,
          2683.10009765625,
          2676.85009765625,
          2682.699951171875,
          2673.60009765625,
          2671.25,
          2681,
          2691.550048828125,
          2691.89990234375,
          2690.75,
          2689.300048828125,
          2686.199951171875,
          2685.449951171875,
          2686,
          2685.60009765625,
          2690.5,
          2691.35009765625,
          2703.35009765625,
          2706.300048828125,
          2700,
          2696.85009765625,
          2699.89990234375
         ],
         "type": "candlestick",
         "x": [
          40,
          41,
          42,
          43,
          44,
          45,
          46,
          47,
          48,
          49,
          50,
          51,
          52,
          53,
          54,
          55,
          56,
          57,
          58,
          59,
          60,
          61,
          62,
          63,
          64,
          65,
          66,
          67,
          68,
          69,
          70,
          71,
          72,
          73,
          74,
          75,
          76,
          77,
          78,
          79,
          80,
          81,
          82,
          83,
          84,
          85,
          86,
          87,
          88,
          89,
          90,
          91,
          92,
          93,
          94,
          95,
          96,
          97,
          98,
          99
         ]
        },
        {
         "marker": {
          "color": "MediumPurple",
          "size": 4
         },
         "mode": "markers",
         "name": "pivot",
         "type": "scatter",
         "x": [
          40,
          41,
          42,
          43,
          44,
          45,
          46,
          47,
          48,
          49,
          50,
          51,
          52,
          53,
          54,
          55,
          56,
          57,
          58,
          59,
          60,
          61,
          62,
          63,
          64,
          65,
          66,
          67,
          68,
          69,
          70,
          71,
          72,
          73,
          74,
          75,
          76,
          77,
          78,
          79,
          80,
          81,
          82,
          83,
          84,
          85,
          86,
          87,
          88,
          89,
          90,
          91,
          92,
          93,
          94,
          95,
          96,
          97,
          98,
          99
         ],
         "y": [
          null,
          null,
          null,
          2666.450951171875,
          null,
          null,
          null,
          2645.09909765625,
          null,
          null,
          2669.60109765625,
          null,
          null,
          null,
          null,
          null,
          null,
          null,
          2665.251,
          2648.999,
          null,
          null,
          null,
          null,
          null,
          2669.40090234375,
          null,
          null,
          null,
          null,
          null,
          null,
          null,
          null,
          2699.001,
          null,
          null,
          null,
          null,
          null,
          null,
          null,
          2670.39890234375,
          null,
          2695.85109765625,
          null,
          null,
          null,
          null,
          null,
          2682.39890234375,
          null,
          null,
          null,
          null,
          null,
          null,
          null,
          null,
          null
         ]
        },
        {
         "line": {
          "color": "green",
          "width": 2
         },
         "mode": "lines",
         "name": "low triangle line",
         "type": "scatter",
         "x": [
          59,
          82,
          90,
          91
         ],
         "y": [
          2648.4604850386104,
          2672.4905228191365,
          2680.848796829754
         ]
        },
        {
         "line": {
          "color": "red",
          "width": 2
         },
         "mode": "lines",
         "name": "high triangle line",
         "type": "scatter",
         "x": [
          50,
          58,
          65,
          74,
          84,
          85
         ],
         "y": [
          2663.0787943200658,
          2671.3460660292926,
          2678.5799287748664,
          2687.8806094477463,
          2698.2146990842803
         ]
        }
       ],
       "layout": {
        "template": {
         "data": {
          "bar": [
           {
            "error_x": {
             "color": "#2a3f5f"
            },
            "error_y": {
             "color": "#2a3f5f"
            },
            "marker": {
             "line": {
              "color": "#E5ECF6",
              "width": 0.5
             },
             "pattern": {
              "fillmode": "overlay",
              "size": 10,
              "solidity": 0.2
             }
            },
            "type": "bar"
           }
          ],
          "barpolar": [
           {
            "marker": {
             "line": {
              "color": "#E5ECF6",
              "width": 0.5
             },
             "pattern": {
              "fillmode": "overlay",
              "size": 10,
              "solidity": 0.2
             }
            },
            "type": "barpolar"
           }
          ],
          "carpet": [
           {
            "aaxis": {
             "endlinecolor": "#2a3f5f",
             "gridcolor": "white",
             "linecolor": "white",
             "minorgridcolor": "white",
             "startlinecolor": "#2a3f5f"
            },
            "baxis": {
             "endlinecolor": "#2a3f5f",
             "gridcolor": "white",
             "linecolor": "white",
             "minorgridcolor": "white",
             "startlinecolor": "#2a3f5f"
            },
            "type": "carpet"
           }
          ],
          "choropleth": [
           {
            "colorbar": {
             "outlinewidth": 0,
             "ticks": ""
            },
            "type": "choropleth"
           }
          ],
          "contour": [
           {
            "colorbar": {
             "outlinewidth": 0,
             "ticks": ""
            },
            "colorscale": [
             [
              0,
              "#0d0887"
             ],
             [
              0.1111111111111111,
              "#46039f"
             ],
             [
              0.2222222222222222,
              "#7201a8"
             ],
             [
              0.3333333333333333,
              "#9c179e"
             ],
             [
              0.4444444444444444,
              "#bd3786"
             ],
             [
              0.5555555555555556,
              "#d8576b"
             ],
             [
              0.6666666666666666,
              "#ed7953"
             ],
             [
              0.7777777777777778,
              "#fb9f3a"
             ],
             [
              0.8888888888888888,
              "#fdca26"
             ],
             [
              1,
              "#f0f921"
             ]
            ],
            "type": "contour"
           }
          ],
          "contourcarpet": [
           {
            "colorbar": {
             "outlinewidth": 0,
             "ticks": ""
            },
            "type": "contourcarpet"
           }
          ],
          "heatmap": [
           {
            "colorbar": {
             "outlinewidth": 0,
             "ticks": ""
            },
            "colorscale": [
             [
              0,
              "#0d0887"
             ],
             [
              0.1111111111111111,
              "#46039f"
             ],
             [
              0.2222222222222222,
              "#7201a8"
             ],
             [
              0.3333333333333333,
              "#9c179e"
             ],
             [
              0.4444444444444444,
              "#bd3786"
             ],
             [
              0.5555555555555556,
              "#d8576b"
             ],
             [
              0.6666666666666666,
              "#ed7953"
             ],
             [
              0.7777777777777778,
              "#fb9f3a"
             ],
             [
              0.8888888888888888,
              "#fdca26"
             ],
             [
              1,
              "#f0f921"
             ]
            ],
            "type": "heatmap"
           }
          ],
          "heatmapgl": [
           {
            "colorbar": {
             "outlinewidth": 0,
             "ticks": ""
            },
            "colorscale": [
             [
              0,
              "#0d0887"
             ],
             [
              0.1111111111111111,
              "#46039f"
             ],
             [
              0.2222222222222222,
              "#7201a8"
             ],
             [
              0.3333333333333333,
              "#9c179e"
             ],
             [
              0.4444444444444444,
              "#bd3786"
             ],
             [
              0.5555555555555556,
              "#d8576b"
             ],
             [
              0.6666666666666666,
              "#ed7953"
             ],
             [
              0.7777777777777778,
              "#fb9f3a"
             ],
             [
              0.8888888888888888,
              "#fdca26"
             ],
             [
              1,
              "#f0f921"
             ]
            ],
            "type": "heatmapgl"
           }
          ],
          "histogram": [
           {
            "marker": {
             "pattern": {
              "fillmode": "overlay",
              "size": 10,
              "solidity": 0.2
             }
            },
            "type": "histogram"
           }
          ],
          "histogram2d": [
           {
            "colorbar": {
             "outlinewidth": 0,
             "ticks": ""
            },
            "colorscale": [
             [
              0,
              "#0d0887"
             ],
             [
              0.1111111111111111,
              "#46039f"
             ],
             [
              0.2222222222222222,
              "#7201a8"
             ],
             [
              0.3333333333333333,
              "#9c179e"
             ],
             [
              0.4444444444444444,
              "#bd3786"
             ],
             [
              0.5555555555555556,
              "#d8576b"
             ],
             [
              0.6666666666666666,
              "#ed7953"
             ],
             [
              0.7777777777777778,
              "#fb9f3a"
             ],
             [
              0.8888888888888888,
              "#fdca26"
             ],
             [
              1,
              "#f0f921"
             ]
            ],
            "type": "histogram2d"
           }
          ],
          "histogram2dcontour": [
           {
            "colorbar": {
             "outlinewidth": 0,
             "ticks": ""
            },
            "colorscale": [
             [
              0,
              "#0d0887"
             ],
             [
              0.1111111111111111,
              "#46039f"
             ],
             [
              0.2222222222222222,
              "#7201a8"
             ],
             [
              0.3333333333333333,
              "#9c179e"
             ],
             [
              0.4444444444444444,
              "#bd3786"
             ],
             [
              0.5555555555555556,
              "#d8576b"
             ],
             [
              0.6666666666666666,
              "#ed7953"
             ],
             [
              0.7777777777777778,
              "#fb9f3a"
             ],
             [
              0.8888888888888888,
              "#fdca26"
             ],
             [
              1,
              "#f0f921"
             ]
            ],
            "type": "histogram2dcontour"
           }
          ],
          "mesh3d": [
           {
            "colorbar": {
             "outlinewidth": 0,
             "ticks": ""
            },
            "type": "mesh3d"
           }
          ],
          "parcoords": [
           {
            "line": {
             "colorbar": {
              "outlinewidth": 0,
              "ticks": ""
             }
            },
            "type": "parcoords"
           }
          ],
          "pie": [
           {
            "automargin": true,
            "type": "pie"
           }
          ],
          "scatter": [
           {
            "fillpattern": {
             "fillmode": "overlay",
             "size": 10,
             "solidity": 0.2
            },
            "type": "scatter"
           }
          ],
          "scatter3d": [
           {
            "line": {
             "colorbar": {
              "outlinewidth": 0,
              "ticks": ""
             }
            },
            "marker": {
             "colorbar": {
              "outlinewidth": 0,
              "ticks": ""
             }
            },
            "type": "scatter3d"
           }
          ],
          "scattercarpet": [
           {
            "marker": {
             "colorbar": {
              "outlinewidth": 0,
              "ticks": ""
             }
            },
            "type": "scattercarpet"
           }
          ],
          "scattergeo": [
           {
            "marker": {
             "colorbar": {
              "outlinewidth": 0,
              "ticks": ""
             }
            },
            "type": "scattergeo"
           }
          ],
          "scattergl": [
           {
            "marker": {
             "colorbar": {
              "outlinewidth": 0,
              "ticks": ""
             }
            },
            "type": "scattergl"
           }
          ],
          "scattermapbox": [
           {
            "marker": {
             "colorbar": {
              "outlinewidth": 0,
              "ticks": ""
             }
            },
            "type": "scattermapbox"
           }
          ],
          "scatterpolar": [
           {
            "marker": {
             "colorbar": {
              "outlinewidth": 0,
              "ticks": ""
             }
            },
            "type": "scatterpolar"
           }
          ],
          "scatterpolargl": [
           {
            "marker": {
             "colorbar": {
              "outlinewidth": 0,
              "ticks": ""
             }
            },
            "type": "scatterpolargl"
           }
          ],
          "scatterternary": [
           {
            "marker": {
             "colorbar": {
              "outlinewidth": 0,
              "ticks": ""
             }
            },
            "type": "scatterternary"
           }
          ],
          "surface": [
           {
            "colorbar": {
             "outlinewidth": 0,
             "ticks": ""
            },
            "colorscale": [
             [
              0,
              "#0d0887"
             ],
             [
              0.1111111111111111,
              "#46039f"
             ],
             [
              0.2222222222222222,
              "#7201a8"
             ],
             [
              0.3333333333333333,
              "#9c179e"
             ],
             [
              0.4444444444444444,
              "#bd3786"
             ],
             [
              0.5555555555555556,
              "#d8576b"
             ],
             [
              0.6666666666666666,
              "#ed7953"
             ],
             [
              0.7777777777777778,
              "#fb9f3a"
             ],
             [
              0.8888888888888888,
              "#fdca26"
             ],
             [
              1,
              "#f0f921"
             ]
            ],
            "type": "surface"
           }
          ],
          "table": [
           {
            "cells": {
             "fill": {
              "color": "#EBF0F8"
             },
             "line": {
              "color": "white"
             }
            },
            "header": {
             "fill": {
              "color": "#C8D4E3"
             },
             "line": {
              "color": "white"
             }
            },
            "type": "table"
           }
          ]
         },
         "layout": {
          "annotationdefaults": {
           "arrowcolor": "#2a3f5f",
           "arrowhead": 0,
           "arrowwidth": 1
          },
          "autotypenumbers": "strict",
          "coloraxis": {
           "colorbar": {
            "outlinewidth": 0,
            "ticks": ""
           }
          },
          "colorscale": {
           "diverging": [
            [
             0,
             "#8e0152"
            ],
            [
             0.1,
             "#c51b7d"
            ],
            [
             0.2,
             "#de77ae"
            ],
            [
             0.3,
             "#f1b6da"
            ],
            [
             0.4,
             "#fde0ef"
            ],
            [
             0.5,
             "#f7f7f7"
            ],
            [
             0.6,
             "#e6f5d0"
            ],
            [
             0.7,
             "#b8e186"
            ],
            [
             0.8,
             "#7fbc41"
            ],
            [
             0.9,
             "#4d9221"
            ],
            [
             1,
             "#276419"
            ]
           ],
           "sequential": [
            [
             0,
             "#0d0887"
            ],
            [
             0.1111111111111111,
             "#46039f"
            ],
            [
             0.2222222222222222,
             "#7201a8"
            ],
            [
             0.3333333333333333,
             "#9c179e"
            ],
            [
             0.4444444444444444,
             "#bd3786"
            ],
            [
             0.5555555555555556,
             "#d8576b"
            ],
            [
             0.6666666666666666,
             "#ed7953"
            ],
            [
             0.7777777777777778,
             "#fb9f3a"
            ],
            [
             0.8888888888888888,
             "#fdca26"
            ],
            [
             1,
             "#f0f921"
            ]
           ],
           "sequentialminus": [
            [
             0,
             "#0d0887"
            ],
            [
             0.1111111111111111,
             "#46039f"
            ],
            [
             0.2222222222222222,
             "#7201a8"
            ],
            [
             0.3333333333333333,
             "#9c179e"
            ],
            [
             0.4444444444444444,
             "#bd3786"
            ],
            [
             0.5555555555555556,
             "#d8576b"
            ],
            [
             0.6666666666666666,
             "#ed7953"
            ],
            [
             0.7777777777777778,
             "#fb9f3a"
            ],
            [
             0.8888888888888888,
             "#fdca26"
            ],
            [
             1,
             "#f0f921"
            ]
           ]
          },
          "colorway": [
           "#636efa",
           "#EF553B",
           "#00cc96",
           "#ab63fa",
           "#FFA15A",
           "#19d3f3",
           "#FF6692",
           "#B6E880",
           "#FF97FF",
           "#FECB52"
          ],
          "font": {
           "color": "#2a3f5f"
          },
          "geo": {
           "bgcolor": "white",
           "lakecolor": "white",
           "landcolor": "#E5ECF6",
           "showlakes": true,
           "showland": true,
           "subunitcolor": "white"
          },
          "hoverlabel": {
           "align": "left"
          },
          "hovermode": "closest",
          "mapbox": {
           "style": "light"
          },
          "paper_bgcolor": "white",
          "plot_bgcolor": "#E5ECF6",
          "polar": {
           "angularaxis": {
            "gridcolor": "white",
            "linecolor": "white",
            "ticks": ""
           },
           "bgcolor": "#E5ECF6",
           "radialaxis": {
            "gridcolor": "white",
            "linecolor": "white",
            "ticks": ""
           }
          },
          "scene": {
           "xaxis": {
            "backgroundcolor": "#E5ECF6",
            "gridcolor": "white",
            "gridwidth": 2,
            "linecolor": "white",
            "showbackground": true,
            "ticks": "",
            "zerolinecolor": "white"
           },
           "yaxis": {
            "backgroundcolor": "#E5ECF6",
            "gridcolor": "white",
            "gridwidth": 2,
            "linecolor": "white",
            "showbackground": true,
            "ticks": "",
            "zerolinecolor": "white"
           },
           "zaxis": {
            "backgroundcolor": "#E5ECF6",
            "gridcolor": "white",
            "gridwidth": 2,
            "linecolor": "white",
            "showbackground": true,
            "ticks": "",
            "zerolinecolor": "white"
           }
          },
          "shapedefaults": {
           "line": {
            "color": "#2a3f5f"
           }
          },
          "ternary": {
           "aaxis": {
            "gridcolor": "white",
            "linecolor": "white",
            "ticks": ""
           },
           "baxis": {
            "gridcolor": "white",
            "linecolor": "white",
            "ticks": ""
           },
           "bgcolor": "#E5ECF6",
           "caxis": {
            "gridcolor": "white",
            "linecolor": "white",
            "ticks": ""
           }
          },
          "title": {
           "x": 0.05
          },
          "xaxis": {
           "automargin": true,
           "gridcolor": "white",
           "linecolor": "white",
           "ticks": "",
           "title": {
            "standoff": 15
           },
           "zerolinecolor": "white",
           "zerolinewidth": 2
          },
          "yaxis": {
           "automargin": true,
           "gridcolor": "white",
           "linecolor": "white",
           "ticks": "",
           "title": {
            "standoff": 15
           },
           "zerolinecolor": "white",
           "zerolinewidth": 2
          }
         }
        },
        "title": {
         "text": "Candlestick Chart for RELIANCE.NS - Trend: Bullish"
        },
        "xaxis": {
         "rangeslider": {
          "visible": true
         }
        }
       }
      },
      "text/html": [
       "<div>                            <div id=\"f41f7555-8981-40a6-be10-4fa6d4c152f8\" class=\"plotly-graph-div\" style=\"height:525px; width:100%;\"></div>            <script type=\"text/javascript\">                require([\"plotly\"], function(Plotly) {                    window.PLOTLYENV=window.PLOTLYENV || {};                                    if (document.getElementById(\"f41f7555-8981-40a6-be10-4fa6d4c152f8\")) {                    Plotly.newPlot(                        \"f41f7555-8981-40a6-be10-4fa6d4c152f8\",                        [{\"close\":[2657.5,2660.0,2661.35009765625,2657.25,2659.800048828125,2651.0,2651.35009765625,2647.89990234375,2659.25,2656.75,2654.949951171875,2657.0,2665.0,2660.10009765625,2659.949951171875,2661.10009765625,2658.0,2661.050048828125,2660.14990234375,2663.64990234375,2663.14990234375,2663.949951171875,2661.89990234375,2661.39990234375,2664.0,2662.699951171875,2660.85009765625,2661.449951171875,2662.5,2667.64990234375,2675.449951171875,2680.85009765625,2680.0,2687.949951171875,2687.75,2695.35009765625,2691.25,2681.85009765625,2683.949951171875,2676.75,2682.699951171875,2673.300048828125,2671.199951171875,2680.050048828125,2692.0,2692.0,2690.0,2689.300048828125,2686.0,2684.300048828125,2685.199951171875,2685.60009765625,2690.10009765625,2691.35009765625,2703.10009765625,2705.449951171875,2699.949951171875,2696.89990234375,2699.85009765625,2711.0],\"high\":[2661.800048828125,2662.89990234375,2663.60009765625,2666.449951171875,2663.64990234375,2660.699951171875,2654.25,2653.300048828125,2659.25,2666.800048828125,2669.60009765625,2660.0,2665.0,2667.949951171875,2663.64990234375,2662.64990234375,2663.300048828125,2663.0,2665.25,2664.64990234375,2664.800048828125,2664.64990234375,2664.89990234375,2663.300048828125,2665.0,2669.39990234375,2663.949951171875,2663.35009765625,2667.89990234375,2672.0,2677.0,2681.89990234375,2681.14990234375,2687.949951171875,2699.0,2695.39990234375,2698.39990234375,2692.75,2685.5,2685.0,2683.14990234375,2683.949951171875,2675.300048828125,2682.0,2695.85009765625,2693.300048828125,2693.699951171875,2692.949951171875,2690.199951171875,2689.949951171875,2690.0,2688.5,2691.64990234375,2693.949951171875,2708.0,2707.25,2709.800048828125,2702.0,2707.949951171875,2718.25],\"low\":[2649.949951171875,2657.550048828125,2659.14990234375,2655.0,2656.0,2648.85009765625,2647.85009765625,2645.10009765625,2647.550048828125,2655.0,2648.0,2649.25,2654.75,2657.0,2658.60009765625,2659.85009765625,2658.0,2658.14990234375,2657.300048828125,2649.0,2661.60009765625,2659.0,2655.0,2657.35009765625,2660.89990234375,2662.0,2659.0,2659.10009765625,2661.449951171875,2662.050048828125,2663.5,2675.10009765625,2675.89990234375,2673.449951171875,2687.5,2677.5,2690.5,2680.60009765625,2680.0,2673.800048828125,2675.0,2671.300048828125,2670.39990234375,2670.699951171875,2680.199951171875,2681.39990234375,2687.35009765625,2684.14990234375,2684.10009765625,2683.050048828125,2682.39990234375,2684.10009765625,2685.39990234375,2689.75,2690.64990234375,2700.39990234375,2699.050048828125,2695.800048828125,2696.14990234375,2699.39990234375],\"open\":[2652.050048828125,2657.550048828125,2660.199951171875,2661.35009765625,2657.10009765625,2660.050048828125,2650.64990234375,2651.800048828125,2647.64990234375,2659.25,2669.60009765625,2655.0,2657.0,2665.89990234375,2660.5,2660.0,2661.85009765625,2658.14990234375,2661.10009765625,2661.050048828125,2663.050048828125,2663.14990234375,2663.949951171875,2661.89990234375,2661.35009765625,2664.35009765625,2662.699951171875,2660.800048828125,2661.5,2662.5,2667.949951171875,2675.449951171875,2680.85009765625,2679.89990234375,2687.5,2685.0,2695.949951171875,2691.449951171875,2681.85009765625,2683.10009765625,2676.85009765625,2682.699951171875,2673.60009765625,2671.25,2681.0,2691.550048828125,2691.89990234375,2690.75,2689.300048828125,2686.199951171875,2685.449951171875,2686.0,2685.60009765625,2690.5,2691.35009765625,2703.35009765625,2706.300048828125,2700.0,2696.85009765625,2699.89990234375],\"x\":[40,41,42,43,44,45,46,47,48,49,50,51,52,53,54,55,56,57,58,59,60,61,62,63,64,65,66,67,68,69,70,71,72,73,74,75,76,77,78,79,80,81,82,83,84,85,86,87,88,89,90,91,92,93,94,95,96,97,98,99],\"type\":\"candlestick\"},{\"marker\":{\"color\":\"MediumPurple\",\"size\":4},\"mode\":\"markers\",\"name\":\"pivot\",\"x\":[40,41,42,43,44,45,46,47,48,49,50,51,52,53,54,55,56,57,58,59,60,61,62,63,64,65,66,67,68,69,70,71,72,73,74,75,76,77,78,79,80,81,82,83,84,85,86,87,88,89,90,91,92,93,94,95,96,97,98,99],\"y\":[null,null,null,2666.450951171875,null,null,null,2645.09909765625,null,null,2669.60109765625,null,null,null,null,null,null,null,2665.251,2648.999,null,null,null,null,null,2669.40090234375,null,null,null,null,null,null,null,null,2699.001,null,null,null,null,null,null,null,2670.39890234375,null,2695.85109765625,null,null,null,null,null,2682.39890234375,null,null,null,null,null,null,null,null,null],\"type\":\"scatter\"},{\"line\":{\"color\":\"green\",\"width\":2},\"mode\":\"lines\",\"name\":\"low triangle line\",\"x\":[59.0,82.0,90.0,91.0],\"y\":[2648.4604850386104,2672.4905228191365,2680.848796829754],\"type\":\"scatter\"},{\"line\":{\"color\":\"red\",\"width\":2},\"mode\":\"lines\",\"name\":\"high triangle line\",\"x\":[50.0,58.0,65.0,74.0,84.0,85.0],\"y\":[2663.0787943200658,2671.3460660292926,2678.5799287748664,2687.8806094477463,2698.2146990842803],\"type\":\"scatter\"}],                        {\"template\":{\"data\":{\"histogram2dcontour\":[{\"type\":\"histogram2dcontour\",\"colorbar\":{\"outlinewidth\":0,\"ticks\":\"\"},\"colorscale\":[[0.0,\"#0d0887\"],[0.1111111111111111,\"#46039f\"],[0.2222222222222222,\"#7201a8\"],[0.3333333333333333,\"#9c179e\"],[0.4444444444444444,\"#bd3786\"],[0.5555555555555556,\"#d8576b\"],[0.6666666666666666,\"#ed7953\"],[0.7777777777777778,\"#fb9f3a\"],[0.8888888888888888,\"#fdca26\"],[1.0,\"#f0f921\"]]}],\"choropleth\":[{\"type\":\"choropleth\",\"colorbar\":{\"outlinewidth\":0,\"ticks\":\"\"}}],\"histogram2d\":[{\"type\":\"histogram2d\",\"colorbar\":{\"outlinewidth\":0,\"ticks\":\"\"},\"colorscale\":[[0.0,\"#0d0887\"],[0.1111111111111111,\"#46039f\"],[0.2222222222222222,\"#7201a8\"],[0.3333333333333333,\"#9c179e\"],[0.4444444444444444,\"#bd3786\"],[0.5555555555555556,\"#d8576b\"],[0.6666666666666666,\"#ed7953\"],[0.7777777777777778,\"#fb9f3a\"],[0.8888888888888888,\"#fdca26\"],[1.0,\"#f0f921\"]]}],\"heatmap\":[{\"type\":\"heatmap\",\"colorbar\":{\"outlinewidth\":0,\"ticks\":\"\"},\"colorscale\":[[0.0,\"#0d0887\"],[0.1111111111111111,\"#46039f\"],[0.2222222222222222,\"#7201a8\"],[0.3333333333333333,\"#9c179e\"],[0.4444444444444444,\"#bd3786\"],[0.5555555555555556,\"#d8576b\"],[0.6666666666666666,\"#ed7953\"],[0.7777777777777778,\"#fb9f3a\"],[0.8888888888888888,\"#fdca26\"],[1.0,\"#f0f921\"]]}],\"heatmapgl\":[{\"type\":\"heatmapgl\",\"colorbar\":{\"outlinewidth\":0,\"ticks\":\"\"},\"colorscale\":[[0.0,\"#0d0887\"],[0.1111111111111111,\"#46039f\"],[0.2222222222222222,\"#7201a8\"],[0.3333333333333333,\"#9c179e\"],[0.4444444444444444,\"#bd3786\"],[0.5555555555555556,\"#d8576b\"],[0.6666666666666666,\"#ed7953\"],[0.7777777777777778,\"#fb9f3a\"],[0.8888888888888888,\"#fdca26\"],[1.0,\"#f0f921\"]]}],\"contourcarpet\":[{\"type\":\"contourcarpet\",\"colorbar\":{\"outlinewidth\":0,\"ticks\":\"\"}}],\"contour\":[{\"type\":\"contour\",\"colorbar\":{\"outlinewidth\":0,\"ticks\":\"\"},\"colorscale\":[[0.0,\"#0d0887\"],[0.1111111111111111,\"#46039f\"],[0.2222222222222222,\"#7201a8\"],[0.3333333333333333,\"#9c179e\"],[0.4444444444444444,\"#bd3786\"],[0.5555555555555556,\"#d8576b\"],[0.6666666666666666,\"#ed7953\"],[0.7777777777777778,\"#fb9f3a\"],[0.8888888888888888,\"#fdca26\"],[1.0,\"#f0f921\"]]}],\"surface\":[{\"type\":\"surface\",\"colorbar\":{\"outlinewidth\":0,\"ticks\":\"\"},\"colorscale\":[[0.0,\"#0d0887\"],[0.1111111111111111,\"#46039f\"],[0.2222222222222222,\"#7201a8\"],[0.3333333333333333,\"#9c179e\"],[0.4444444444444444,\"#bd3786\"],[0.5555555555555556,\"#d8576b\"],[0.6666666666666666,\"#ed7953\"],[0.7777777777777778,\"#fb9f3a\"],[0.8888888888888888,\"#fdca26\"],[1.0,\"#f0f921\"]]}],\"mesh3d\":[{\"type\":\"mesh3d\",\"colorbar\":{\"outlinewidth\":0,\"ticks\":\"\"}}],\"scatter\":[{\"fillpattern\":{\"fillmode\":\"overlay\",\"size\":10,\"solidity\":0.2},\"type\":\"scatter\"}],\"parcoords\":[{\"type\":\"parcoords\",\"line\":{\"colorbar\":{\"outlinewidth\":0,\"ticks\":\"\"}}}],\"scatterpolargl\":[{\"type\":\"scatterpolargl\",\"marker\":{\"colorbar\":{\"outlinewidth\":0,\"ticks\":\"\"}}}],\"bar\":[{\"error_x\":{\"color\":\"#2a3f5f\"},\"error_y\":{\"color\":\"#2a3f5f\"},\"marker\":{\"line\":{\"color\":\"#E5ECF6\",\"width\":0.5},\"pattern\":{\"fillmode\":\"overlay\",\"size\":10,\"solidity\":0.2}},\"type\":\"bar\"}],\"scattergeo\":[{\"type\":\"scattergeo\",\"marker\":{\"colorbar\":{\"outlinewidth\":0,\"ticks\":\"\"}}}],\"scatterpolar\":[{\"type\":\"scatterpolar\",\"marker\":{\"colorbar\":{\"outlinewidth\":0,\"ticks\":\"\"}}}],\"histogram\":[{\"marker\":{\"pattern\":{\"fillmode\":\"overlay\",\"size\":10,\"solidity\":0.2}},\"type\":\"histogram\"}],\"scattergl\":[{\"type\":\"scattergl\",\"marker\":{\"colorbar\":{\"outlinewidth\":0,\"ticks\":\"\"}}}],\"scatter3d\":[{\"type\":\"scatter3d\",\"line\":{\"colorbar\":{\"outlinewidth\":0,\"ticks\":\"\"}},\"marker\":{\"colorbar\":{\"outlinewidth\":0,\"ticks\":\"\"}}}],\"scattermapbox\":[{\"type\":\"scattermapbox\",\"marker\":{\"colorbar\":{\"outlinewidth\":0,\"ticks\":\"\"}}}],\"scatterternary\":[{\"type\":\"scatterternary\",\"marker\":{\"colorbar\":{\"outlinewidth\":0,\"ticks\":\"\"}}}],\"scattercarpet\":[{\"type\":\"scattercarpet\",\"marker\":{\"colorbar\":{\"outlinewidth\":0,\"ticks\":\"\"}}}],\"carpet\":[{\"aaxis\":{\"endlinecolor\":\"#2a3f5f\",\"gridcolor\":\"white\",\"linecolor\":\"white\",\"minorgridcolor\":\"white\",\"startlinecolor\":\"#2a3f5f\"},\"baxis\":{\"endlinecolor\":\"#2a3f5f\",\"gridcolor\":\"white\",\"linecolor\":\"white\",\"minorgridcolor\":\"white\",\"startlinecolor\":\"#2a3f5f\"},\"type\":\"carpet\"}],\"table\":[{\"cells\":{\"fill\":{\"color\":\"#EBF0F8\"},\"line\":{\"color\":\"white\"}},\"header\":{\"fill\":{\"color\":\"#C8D4E3\"},\"line\":{\"color\":\"white\"}},\"type\":\"table\"}],\"barpolar\":[{\"marker\":{\"line\":{\"color\":\"#E5ECF6\",\"width\":0.5},\"pattern\":{\"fillmode\":\"overlay\",\"size\":10,\"solidity\":0.2}},\"type\":\"barpolar\"}],\"pie\":[{\"automargin\":true,\"type\":\"pie\"}]},\"layout\":{\"autotypenumbers\":\"strict\",\"colorway\":[\"#636efa\",\"#EF553B\",\"#00cc96\",\"#ab63fa\",\"#FFA15A\",\"#19d3f3\",\"#FF6692\",\"#B6E880\",\"#FF97FF\",\"#FECB52\"],\"font\":{\"color\":\"#2a3f5f\"},\"hovermode\":\"closest\",\"hoverlabel\":{\"align\":\"left\"},\"paper_bgcolor\":\"white\",\"plot_bgcolor\":\"#E5ECF6\",\"polar\":{\"bgcolor\":\"#E5ECF6\",\"angularaxis\":{\"gridcolor\":\"white\",\"linecolor\":\"white\",\"ticks\":\"\"},\"radialaxis\":{\"gridcolor\":\"white\",\"linecolor\":\"white\",\"ticks\":\"\"}},\"ternary\":{\"bgcolor\":\"#E5ECF6\",\"aaxis\":{\"gridcolor\":\"white\",\"linecolor\":\"white\",\"ticks\":\"\"},\"baxis\":{\"gridcolor\":\"white\",\"linecolor\":\"white\",\"ticks\":\"\"},\"caxis\":{\"gridcolor\":\"white\",\"linecolor\":\"white\",\"ticks\":\"\"}},\"coloraxis\":{\"colorbar\":{\"outlinewidth\":0,\"ticks\":\"\"}},\"colorscale\":{\"sequential\":[[0.0,\"#0d0887\"],[0.1111111111111111,\"#46039f\"],[0.2222222222222222,\"#7201a8\"],[0.3333333333333333,\"#9c179e\"],[0.4444444444444444,\"#bd3786\"],[0.5555555555555556,\"#d8576b\"],[0.6666666666666666,\"#ed7953\"],[0.7777777777777778,\"#fb9f3a\"],[0.8888888888888888,\"#fdca26\"],[1.0,\"#f0f921\"]],\"sequentialminus\":[[0.0,\"#0d0887\"],[0.1111111111111111,\"#46039f\"],[0.2222222222222222,\"#7201a8\"],[0.3333333333333333,\"#9c179e\"],[0.4444444444444444,\"#bd3786\"],[0.5555555555555556,\"#d8576b\"],[0.6666666666666666,\"#ed7953\"],[0.7777777777777778,\"#fb9f3a\"],[0.8888888888888888,\"#fdca26\"],[1.0,\"#f0f921\"]],\"diverging\":[[0,\"#8e0152\"],[0.1,\"#c51b7d\"],[0.2,\"#de77ae\"],[0.3,\"#f1b6da\"],[0.4,\"#fde0ef\"],[0.5,\"#f7f7f7\"],[0.6,\"#e6f5d0\"],[0.7,\"#b8e186\"],[0.8,\"#7fbc41\"],[0.9,\"#4d9221\"],[1,\"#276419\"]]},\"xaxis\":{\"gridcolor\":\"white\",\"linecolor\":\"white\",\"ticks\":\"\",\"title\":{\"standoff\":15},\"zerolinecolor\":\"white\",\"automargin\":true,\"zerolinewidth\":2},\"yaxis\":{\"gridcolor\":\"white\",\"linecolor\":\"white\",\"ticks\":\"\",\"title\":{\"standoff\":15},\"zerolinecolor\":\"white\",\"automargin\":true,\"zerolinewidth\":2},\"scene\":{\"xaxis\":{\"backgroundcolor\":\"#E5ECF6\",\"gridcolor\":\"white\",\"linecolor\":\"white\",\"showbackground\":true,\"ticks\":\"\",\"zerolinecolor\":\"white\",\"gridwidth\":2},\"yaxis\":{\"backgroundcolor\":\"#E5ECF6\",\"gridcolor\":\"white\",\"linecolor\":\"white\",\"showbackground\":true,\"ticks\":\"\",\"zerolinecolor\":\"white\",\"gridwidth\":2},\"zaxis\":{\"backgroundcolor\":\"#E5ECF6\",\"gridcolor\":\"white\",\"linecolor\":\"white\",\"showbackground\":true,\"ticks\":\"\",\"zerolinecolor\":\"white\",\"gridwidth\":2}},\"shapedefaults\":{\"line\":{\"color\":\"#2a3f5f\"}},\"annotationdefaults\":{\"arrowcolor\":\"#2a3f5f\",\"arrowhead\":0,\"arrowwidth\":1},\"geo\":{\"bgcolor\":\"white\",\"landcolor\":\"#E5ECF6\",\"subunitcolor\":\"white\",\"showland\":true,\"showlakes\":true,\"lakecolor\":\"white\"},\"title\":{\"x\":0.05},\"mapbox\":{\"style\":\"light\"}}},\"xaxis\":{\"rangeslider\":{\"visible\":true}},\"title\":{\"text\":\"Candlestick Chart for RELIANCE.NS - Trend: Bullish\"}},                        {\"responsive\": true}                    ).then(function(){\n",
       "                            \n",
       "var gd = document.getElementById('f41f7555-8981-40a6-be10-4fa6d4c152f8');\n",
       "var x = new MutationObserver(function (mutations, observer) {{\n",
       "        var display = window.getComputedStyle(gd).display;\n",
       "        if (!display || display === 'none') {{\n",
       "            console.log([gd, 'removed!']);\n",
       "            Plotly.purge(gd);\n",
       "            observer.disconnect();\n",
       "        }}\n",
       "}});\n",
       "\n",
       "// Listen for the removal of the full notebook cells\n",
       "var notebookContainer = gd.closest('#notebook-container');\n",
       "if (notebookContainer) {{\n",
       "    x.observe(notebookContainer, {childList: true});\n",
       "}}\n",
       "\n",
       "// Listen for the clearing of the current output cell\n",
       "var outputEl = gd.closest('.output');\n",
       "if (outputEl) {{\n",
       "    x.observe(outputEl, {childList: true});\n",
       "}}\n",
       "\n",
       "                        })                };                });            </script>        </div>"
      ]
     },
     "metadata": {},
     "output_type": "display_data"
    },
    {
     "name": "stdout",
     "output_type": "stream",
     "text": [
      "[*********************100%%**********************]  1 of 1 completed\n"
     ]
    },
    {
     "data": {
      "application/vnd.plotly.v1+json": {
       "config": {
        "plotlyServerURL": "https://plot.ly"
       },
       "data": [
        {
         "close": [
          3589.5,
          3589.800048828125,
          3589.89990234375,
          3585.25,
          3591.60009765625,
          3569.5,
          3568.449951171875,
          3555.35009765625,
          3547.35009765625,
          3551,
          3574.949951171875,
          3565.5,
          3595.699951171875,
          3577.050048828125,
          3592.199951171875,
          3598.89990234375,
          3614.5,
          3616.550048828125,
          3606.449951171875,
          3591.64990234375,
          3587.5,
          3577.89990234375,
          3572.89990234375,
          3568.449951171875,
          3585.949951171875,
          3578.199951171875,
          3579.050048828125,
          3572.550048828125,
          3575.89990234375,
          3593.449951171875,
          3599.949951171875,
          3606.949951171875,
          3601.10009765625,
          3587.14990234375,
          3589.199951171875,
          3595.949951171875,
          3582.60009765625,
          3586.949951171875,
          3587,
          3583.949951171875,
          3587.14990234375,
          3583.60009765625,
          3586.35009765625,
          3585.699951171875,
          3598.449951171875,
          3596.800048828125,
          3603.10009765625,
          3608.64990234375,
          3611.300048828125,
          3605.85009765625,
          3609.39990234375,
          3611.89990234375,
          3611.949951171875,
          3605.75,
          3596.199951171875,
          3581.85009765625,
          3570.199951171875,
          3579,
          3589.949951171875,
          3593.449951171875
         ],
         "high": [
          3592.550048828125,
          3595.85009765625,
          3593.449951171875,
          3595.64990234375,
          3594.35009765625,
          3593.199951171875,
          3578.60009765625,
          3574.5,
          3560,
          3558.10009765625,
          3575,
          3575,
          3596.5,
          3602.39990234375,
          3596.64990234375,
          3605.5,
          3614.699951171875,
          3617.949951171875,
          3617.949951171875,
          3607.85009765625,
          3594.35009765625,
          3587.89990234375,
          3588.60009765625,
          3575,
          3587.25,
          3595,
          3592.75,
          3580.5,
          3581,
          3595.050048828125,
          3602.89990234375,
          3609.699951171875,
          3607.800048828125,
          3604.75,
          3609,
          3604.949951171875,
          3597,
          3589.949951171875,
          3593.14990234375,
          3590.800048828125,
          3590.5,
          3589.800048828125,
          3592,
          3591.949951171875,
          3599.89990234375,
          3600.699951171875,
          3607,
          3613.60009765625,
          3615.699951171875,
          3617.449951171875,
          3613.5,
          3617.25,
          3617.89990234375,
          3614.5,
          3608.300048828125,
          3598.64990234375,
          3586.75,
          3584,
          3607.89990234375,
          3605
         ],
         "low": [
          3584.449951171875,
          3585.85009765625,
          3586.25,
          3582,
          3582.85009765625,
          3565.449951171875,
          3567.050048828125,
          3552.449951171875,
          3546.39990234375,
          3539.85009765625,
          3521.85009765625,
          3560.60009765625,
          3565.25,
          3571.14990234375,
          3576.60009765625,
          3591,
          3592,
          3610,
          3605.35009765625,
          3586.25,
          3585.199951171875,
          3575,
          3567,
          3560,
          3567.050048828125,
          3576.550048828125,
          3574.5,
          3572,
          3570.60009765625,
          3575.85009765625,
          3590.800048828125,
          3597.39990234375,
          3599.050048828125,
          3576.199951171875,
          3585.75,
          3581.449951171875,
          3575,
          3576,
          3581.75,
          3578.35009765625,
          3580.5,
          3579.25,
          3578.050048828125,
          3584.39990234375,
          3581.699951171875,
          3591.25,
          3597.25,
          3596.5,
          3606.35009765625,
          3605.60009765625,
          3604.050048828125,
          3609,
          3610.5,
          3603,
          3595.550048828125,
          3580.89990234375,
          3565,
          3568.550048828125,
          3577.050048828125,
          3575
         ],
         "open": [
          3588.050048828125,
          3589.85009765625,
          3592.35009765625,
          3589.89990234375,
          3585,
          3592.64990234375,
          3569.5,
          3568.449951171875,
          3555.64990234375,
          3547.35009765625,
          3564.39990234375,
          3575,
          3566.050048828125,
          3595,
          3578.5,
          3592.75,
          3598.89990234375,
          3614.5,
          3616.550048828125,
          3606.199951171875,
          3592,
          3587.89990234375,
          3577.949951171875,
          3572.89990234375,
          3568.449951171875,
          3586.199951171875,
          3578.14990234375,
          3578.64990234375,
          3572.5,
          3575.89990234375,
          3594.89990234375,
          3600.25,
          3606.949951171875,
          3601.10009765625,
          3587.14990234375,
          3598.85009765625,
          3596,
          3581.050048828125,
          3586.050048828125,
          3588.35009765625,
          3583.60009765625,
          3587.25,
          3583.60009765625,
          3586.5,
          3585.89990234375,
          3598,
          3597.89990234375,
          3603.75,
          3609.199951171875,
          3611.949951171875,
          3606.699951171875,
          3609.39990234375,
          3611,
          3611.89990234375,
          3604.699951171875,
          3596.39990234375,
          3581.25,
          3570.14990234375,
          3578.10009765625,
          3589.949951171875
         ],
         "type": "candlestick",
         "x": [
          40,
          41,
          42,
          43,
          44,
          45,
          46,
          47,
          48,
          49,
          50,
          51,
          52,
          53,
          54,
          55,
          56,
          57,
          58,
          59,
          60,
          61,
          62,
          63,
          64,
          65,
          66,
          67,
          68,
          69,
          70,
          71,
          72,
          73,
          74,
          75,
          76,
          77,
          78,
          79,
          80,
          81,
          82,
          83,
          84,
          85,
          86,
          87,
          88,
          89,
          90,
          91,
          92,
          93,
          94,
          95,
          96,
          97,
          98,
          99
         ]
        },
        {
         "marker": {
          "color": "MediumPurple",
          "size": 4
         },
         "mode": "markers",
         "name": "pivot",
         "type": "scatter",
         "x": [
          40,
          41,
          42,
          43,
          44,
          45,
          46,
          47,
          48,
          49,
          50,
          51,
          52,
          53,
          54,
          55,
          56,
          57,
          58,
          59,
          60,
          61,
          62,
          63,
          64,
          65,
          66,
          67,
          68,
          69,
          70,
          71,
          72,
          73,
          74,
          75,
          76,
          77,
          78,
          79,
          80,
          81,
          82,
          83,
          84,
          85,
          86,
          87,
          88,
          89,
          90,
          91,
          92,
          93,
          94,
          95,
          96,
          97,
          98,
          99
         ],
         "y": [
          null,
          null,
          null,
          null,
          null,
          null,
          null,
          null,
          null,
          null,
          3521.84909765625,
          null,
          null,
          null,
          null,
          null,
          null,
          3617.950951171875,
          3617.950951171875,
          null,
          null,
          null,
          null,
          3559.999,
          null,
          3595.001,
          null,
          null,
          3570.59909765625,
          null,
          null,
          3609.700951171875,
          null,
          null,
          null,
          null,
          3574.999,
          null,
          null,
          null,
          null,
          null,
          3578.049048828125,
          null,
          null,
          null,
          null,
          null,
          null,
          null,
          null,
          null,
          3617.90090234375,
          null,
          null,
          null,
          3564.999,
          null,
          null,
          null
         ]
        },
        {
         "line": {
          "color": "green",
          "width": 2
         },
         "mode": "lines",
         "name": "low triangle line",
         "type": "scatter",
         "x": [
          50,
          63,
          68,
          76,
          82,
          96,
          97
         ],
         "y": [
          3541.362053186494,
          3553.141779299691,
          3557.6724431893817,
          3564.9215054128877,
          3570.3583020805168,
          3583.0441609716518
         ]
        },
        {
         "line": {
          "color": "red",
          "width": 2
         },
         "mode": "lines",
         "name": "high triangle line",
         "type": "scatter",
         "x": [
          57,
          58,
          65,
          71,
          92,
          93
         ],
         "y": [
          3610.8205553196476,
          3610.8963653069086,
          3611.4270352177355,
          3611.8818951413014,
          3613.473904873782
         ]
        }
       ],
       "layout": {
        "template": {
         "data": {
          "bar": [
           {
            "error_x": {
             "color": "#2a3f5f"
            },
            "error_y": {
             "color": "#2a3f5f"
            },
            "marker": {
             "line": {
              "color": "#E5ECF6",
              "width": 0.5
             },
             "pattern": {
              "fillmode": "overlay",
              "size": 10,
              "solidity": 0.2
             }
            },
            "type": "bar"
           }
          ],
          "barpolar": [
           {
            "marker": {
             "line": {
              "color": "#E5ECF6",
              "width": 0.5
             },
             "pattern": {
              "fillmode": "overlay",
              "size": 10,
              "solidity": 0.2
             }
            },
            "type": "barpolar"
           }
          ],
          "carpet": [
           {
            "aaxis": {
             "endlinecolor": "#2a3f5f",
             "gridcolor": "white",
             "linecolor": "white",
             "minorgridcolor": "white",
             "startlinecolor": "#2a3f5f"
            },
            "baxis": {
             "endlinecolor": "#2a3f5f",
             "gridcolor": "white",
             "linecolor": "white",
             "minorgridcolor": "white",
             "startlinecolor": "#2a3f5f"
            },
            "type": "carpet"
           }
          ],
          "choropleth": [
           {
            "colorbar": {
             "outlinewidth": 0,
             "ticks": ""
            },
            "type": "choropleth"
           }
          ],
          "contour": [
           {
            "colorbar": {
             "outlinewidth": 0,
             "ticks": ""
            },
            "colorscale": [
             [
              0,
              "#0d0887"
             ],
             [
              0.1111111111111111,
              "#46039f"
             ],
             [
              0.2222222222222222,
              "#7201a8"
             ],
             [
              0.3333333333333333,
              "#9c179e"
             ],
             [
              0.4444444444444444,
              "#bd3786"
             ],
             [
              0.5555555555555556,
              "#d8576b"
             ],
             [
              0.6666666666666666,
              "#ed7953"
             ],
             [
              0.7777777777777778,
              "#fb9f3a"
             ],
             [
              0.8888888888888888,
              "#fdca26"
             ],
             [
              1,
              "#f0f921"
             ]
            ],
            "type": "contour"
           }
          ],
          "contourcarpet": [
           {
            "colorbar": {
             "outlinewidth": 0,
             "ticks": ""
            },
            "type": "contourcarpet"
           }
          ],
          "heatmap": [
           {
            "colorbar": {
             "outlinewidth": 0,
             "ticks": ""
            },
            "colorscale": [
             [
              0,
              "#0d0887"
             ],
             [
              0.1111111111111111,
              "#46039f"
             ],
             [
              0.2222222222222222,
              "#7201a8"
             ],
             [
              0.3333333333333333,
              "#9c179e"
             ],
             [
              0.4444444444444444,
              "#bd3786"
             ],
             [
              0.5555555555555556,
              "#d8576b"
             ],
             [
              0.6666666666666666,
              "#ed7953"
             ],
             [
              0.7777777777777778,
              "#fb9f3a"
             ],
             [
              0.8888888888888888,
              "#fdca26"
             ],
             [
              1,
              "#f0f921"
             ]
            ],
            "type": "heatmap"
           }
          ],
          "heatmapgl": [
           {
            "colorbar": {
             "outlinewidth": 0,
             "ticks": ""
            },
            "colorscale": [
             [
              0,
              "#0d0887"
             ],
             [
              0.1111111111111111,
              "#46039f"
             ],
             [
              0.2222222222222222,
              "#7201a8"
             ],
             [
              0.3333333333333333,
              "#9c179e"
             ],
             [
              0.4444444444444444,
              "#bd3786"
             ],
             [
              0.5555555555555556,
              "#d8576b"
             ],
             [
              0.6666666666666666,
              "#ed7953"
             ],
             [
              0.7777777777777778,
              "#fb9f3a"
             ],
             [
              0.8888888888888888,
              "#fdca26"
             ],
             [
              1,
              "#f0f921"
             ]
            ],
            "type": "heatmapgl"
           }
          ],
          "histogram": [
           {
            "marker": {
             "pattern": {
              "fillmode": "overlay",
              "size": 10,
              "solidity": 0.2
             }
            },
            "type": "histogram"
           }
          ],
          "histogram2d": [
           {
            "colorbar": {
             "outlinewidth": 0,
             "ticks": ""
            },
            "colorscale": [
             [
              0,
              "#0d0887"
             ],
             [
              0.1111111111111111,
              "#46039f"
             ],
             [
              0.2222222222222222,
              "#7201a8"
             ],
             [
              0.3333333333333333,
              "#9c179e"
             ],
             [
              0.4444444444444444,
              "#bd3786"
             ],
             [
              0.5555555555555556,
              "#d8576b"
             ],
             [
              0.6666666666666666,
              "#ed7953"
             ],
             [
              0.7777777777777778,
              "#fb9f3a"
             ],
             [
              0.8888888888888888,
              "#fdca26"
             ],
             [
              1,
              "#f0f921"
             ]
            ],
            "type": "histogram2d"
           }
          ],
          "histogram2dcontour": [
           {
            "colorbar": {
             "outlinewidth": 0,
             "ticks": ""
            },
            "colorscale": [
             [
              0,
              "#0d0887"
             ],
             [
              0.1111111111111111,
              "#46039f"
             ],
             [
              0.2222222222222222,
              "#7201a8"
             ],
             [
              0.3333333333333333,
              "#9c179e"
             ],
             [
              0.4444444444444444,
              "#bd3786"
             ],
             [
              0.5555555555555556,
              "#d8576b"
             ],
             [
              0.6666666666666666,
              "#ed7953"
             ],
             [
              0.7777777777777778,
              "#fb9f3a"
             ],
             [
              0.8888888888888888,
              "#fdca26"
             ],
             [
              1,
              "#f0f921"
             ]
            ],
            "type": "histogram2dcontour"
           }
          ],
          "mesh3d": [
           {
            "colorbar": {
             "outlinewidth": 0,
             "ticks": ""
            },
            "type": "mesh3d"
           }
          ],
          "parcoords": [
           {
            "line": {
             "colorbar": {
              "outlinewidth": 0,
              "ticks": ""
             }
            },
            "type": "parcoords"
           }
          ],
          "pie": [
           {
            "automargin": true,
            "type": "pie"
           }
          ],
          "scatter": [
           {
            "fillpattern": {
             "fillmode": "overlay",
             "size": 10,
             "solidity": 0.2
            },
            "type": "scatter"
           }
          ],
          "scatter3d": [
           {
            "line": {
             "colorbar": {
              "outlinewidth": 0,
              "ticks": ""
             }
            },
            "marker": {
             "colorbar": {
              "outlinewidth": 0,
              "ticks": ""
             }
            },
            "type": "scatter3d"
           }
          ],
          "scattercarpet": [
           {
            "marker": {
             "colorbar": {
              "outlinewidth": 0,
              "ticks": ""
             }
            },
            "type": "scattercarpet"
           }
          ],
          "scattergeo": [
           {
            "marker": {
             "colorbar": {
              "outlinewidth": 0,
              "ticks": ""
             }
            },
            "type": "scattergeo"
           }
          ],
          "scattergl": [
           {
            "marker": {
             "colorbar": {
              "outlinewidth": 0,
              "ticks": ""
             }
            },
            "type": "scattergl"
           }
          ],
          "scattermapbox": [
           {
            "marker": {
             "colorbar": {
              "outlinewidth": 0,
              "ticks": ""
             }
            },
            "type": "scattermapbox"
           }
          ],
          "scatterpolar": [
           {
            "marker": {
             "colorbar": {
              "outlinewidth": 0,
              "ticks": ""
             }
            },
            "type": "scatterpolar"
           }
          ],
          "scatterpolargl": [
           {
            "marker": {
             "colorbar": {
              "outlinewidth": 0,
              "ticks": ""
             }
            },
            "type": "scatterpolargl"
           }
          ],
          "scatterternary": [
           {
            "marker": {
             "colorbar": {
              "outlinewidth": 0,
              "ticks": ""
             }
            },
            "type": "scatterternary"
           }
          ],
          "surface": [
           {
            "colorbar": {
             "outlinewidth": 0,
             "ticks": ""
            },
            "colorscale": [
             [
              0,
              "#0d0887"
             ],
             [
              0.1111111111111111,
              "#46039f"
             ],
             [
              0.2222222222222222,
              "#7201a8"
             ],
             [
              0.3333333333333333,
              "#9c179e"
             ],
             [
              0.4444444444444444,
              "#bd3786"
             ],
             [
              0.5555555555555556,
              "#d8576b"
             ],
             [
              0.6666666666666666,
              "#ed7953"
             ],
             [
              0.7777777777777778,
              "#fb9f3a"
             ],
             [
              0.8888888888888888,
              "#fdca26"
             ],
             [
              1,
              "#f0f921"
             ]
            ],
            "type": "surface"
           }
          ],
          "table": [
           {
            "cells": {
             "fill": {
              "color": "#EBF0F8"
             },
             "line": {
              "color": "white"
             }
            },
            "header": {
             "fill": {
              "color": "#C8D4E3"
             },
             "line": {
              "color": "white"
             }
            },
            "type": "table"
           }
          ]
         },
         "layout": {
          "annotationdefaults": {
           "arrowcolor": "#2a3f5f",
           "arrowhead": 0,
           "arrowwidth": 1
          },
          "autotypenumbers": "strict",
          "coloraxis": {
           "colorbar": {
            "outlinewidth": 0,
            "ticks": ""
           }
          },
          "colorscale": {
           "diverging": [
            [
             0,
             "#8e0152"
            ],
            [
             0.1,
             "#c51b7d"
            ],
            [
             0.2,
             "#de77ae"
            ],
            [
             0.3,
             "#f1b6da"
            ],
            [
             0.4,
             "#fde0ef"
            ],
            [
             0.5,
             "#f7f7f7"
            ],
            [
             0.6,
             "#e6f5d0"
            ],
            [
             0.7,
             "#b8e186"
            ],
            [
             0.8,
             "#7fbc41"
            ],
            [
             0.9,
             "#4d9221"
            ],
            [
             1,
             "#276419"
            ]
           ],
           "sequential": [
            [
             0,
             "#0d0887"
            ],
            [
             0.1111111111111111,
             "#46039f"
            ],
            [
             0.2222222222222222,
             "#7201a8"
            ],
            [
             0.3333333333333333,
             "#9c179e"
            ],
            [
             0.4444444444444444,
             "#bd3786"
            ],
            [
             0.5555555555555556,
             "#d8576b"
            ],
            [
             0.6666666666666666,
             "#ed7953"
            ],
            [
             0.7777777777777778,
             "#fb9f3a"
            ],
            [
             0.8888888888888888,
             "#fdca26"
            ],
            [
             1,
             "#f0f921"
            ]
           ],
           "sequentialminus": [
            [
             0,
             "#0d0887"
            ],
            [
             0.1111111111111111,
             "#46039f"
            ],
            [
             0.2222222222222222,
             "#7201a8"
            ],
            [
             0.3333333333333333,
             "#9c179e"
            ],
            [
             0.4444444444444444,
             "#bd3786"
            ],
            [
             0.5555555555555556,
             "#d8576b"
            ],
            [
             0.6666666666666666,
             "#ed7953"
            ],
            [
             0.7777777777777778,
             "#fb9f3a"
            ],
            [
             0.8888888888888888,
             "#fdca26"
            ],
            [
             1,
             "#f0f921"
            ]
           ]
          },
          "colorway": [
           "#636efa",
           "#EF553B",
           "#00cc96",
           "#ab63fa",
           "#FFA15A",
           "#19d3f3",
           "#FF6692",
           "#B6E880",
           "#FF97FF",
           "#FECB52"
          ],
          "font": {
           "color": "#2a3f5f"
          },
          "geo": {
           "bgcolor": "white",
           "lakecolor": "white",
           "landcolor": "#E5ECF6",
           "showlakes": true,
           "showland": true,
           "subunitcolor": "white"
          },
          "hoverlabel": {
           "align": "left"
          },
          "hovermode": "closest",
          "mapbox": {
           "style": "light"
          },
          "paper_bgcolor": "white",
          "plot_bgcolor": "#E5ECF6",
          "polar": {
           "angularaxis": {
            "gridcolor": "white",
            "linecolor": "white",
            "ticks": ""
           },
           "bgcolor": "#E5ECF6",
           "radialaxis": {
            "gridcolor": "white",
            "linecolor": "white",
            "ticks": ""
           }
          },
          "scene": {
           "xaxis": {
            "backgroundcolor": "#E5ECF6",
            "gridcolor": "white",
            "gridwidth": 2,
            "linecolor": "white",
            "showbackground": true,
            "ticks": "",
            "zerolinecolor": "white"
           },
           "yaxis": {
            "backgroundcolor": "#E5ECF6",
            "gridcolor": "white",
            "gridwidth": 2,
            "linecolor": "white",
            "showbackground": true,
            "ticks": "",
            "zerolinecolor": "white"
           },
           "zaxis": {
            "backgroundcolor": "#E5ECF6",
            "gridcolor": "white",
            "gridwidth": 2,
            "linecolor": "white",
            "showbackground": true,
            "ticks": "",
            "zerolinecolor": "white"
           }
          },
          "shapedefaults": {
           "line": {
            "color": "#2a3f5f"
           }
          },
          "ternary": {
           "aaxis": {
            "gridcolor": "white",
            "linecolor": "white",
            "ticks": ""
           },
           "baxis": {
            "gridcolor": "white",
            "linecolor": "white",
            "ticks": ""
           },
           "bgcolor": "#E5ECF6",
           "caxis": {
            "gridcolor": "white",
            "linecolor": "white",
            "ticks": ""
           }
          },
          "title": {
           "x": 0.05
          },
          "xaxis": {
           "automargin": true,
           "gridcolor": "white",
           "linecolor": "white",
           "ticks": "",
           "title": {
            "standoff": 15
           },
           "zerolinecolor": "white",
           "zerolinewidth": 2
          },
          "yaxis": {
           "automargin": true,
           "gridcolor": "white",
           "linecolor": "white",
           "ticks": "",
           "title": {
            "standoff": 15
           },
           "zerolinecolor": "white",
           "zerolinewidth": 2
          }
         }
        },
        "title": {
         "text": "Candlestick Chart for LT.NS - Trend: Bullish"
        },
        "xaxis": {
         "rangeslider": {
          "visible": true
         }
        }
       }
      },
      "text/html": [
       "<div>                            <div id=\"a57b46f7-d460-4da4-b7e3-e30292a911aa\" class=\"plotly-graph-div\" style=\"height:525px; width:100%;\"></div>            <script type=\"text/javascript\">                require([\"plotly\"], function(Plotly) {                    window.PLOTLYENV=window.PLOTLYENV || {};                                    if (document.getElementById(\"a57b46f7-d460-4da4-b7e3-e30292a911aa\")) {                    Plotly.newPlot(                        \"a57b46f7-d460-4da4-b7e3-e30292a911aa\",                        [{\"close\":[3589.5,3589.800048828125,3589.89990234375,3585.25,3591.60009765625,3569.5,3568.449951171875,3555.35009765625,3547.35009765625,3551.0,3574.949951171875,3565.5,3595.699951171875,3577.050048828125,3592.199951171875,3598.89990234375,3614.5,3616.550048828125,3606.449951171875,3591.64990234375,3587.5,3577.89990234375,3572.89990234375,3568.449951171875,3585.949951171875,3578.199951171875,3579.050048828125,3572.550048828125,3575.89990234375,3593.449951171875,3599.949951171875,3606.949951171875,3601.10009765625,3587.14990234375,3589.199951171875,3595.949951171875,3582.60009765625,3586.949951171875,3587.0,3583.949951171875,3587.14990234375,3583.60009765625,3586.35009765625,3585.699951171875,3598.449951171875,3596.800048828125,3603.10009765625,3608.64990234375,3611.300048828125,3605.85009765625,3609.39990234375,3611.89990234375,3611.949951171875,3605.75,3596.199951171875,3581.85009765625,3570.199951171875,3579.0,3589.949951171875,3593.449951171875],\"high\":[3592.550048828125,3595.85009765625,3593.449951171875,3595.64990234375,3594.35009765625,3593.199951171875,3578.60009765625,3574.5,3560.0,3558.10009765625,3575.0,3575.0,3596.5,3602.39990234375,3596.64990234375,3605.5,3614.699951171875,3617.949951171875,3617.949951171875,3607.85009765625,3594.35009765625,3587.89990234375,3588.60009765625,3575.0,3587.25,3595.0,3592.75,3580.5,3581.0,3595.050048828125,3602.89990234375,3609.699951171875,3607.800048828125,3604.75,3609.0,3604.949951171875,3597.0,3589.949951171875,3593.14990234375,3590.800048828125,3590.5,3589.800048828125,3592.0,3591.949951171875,3599.89990234375,3600.699951171875,3607.0,3613.60009765625,3615.699951171875,3617.449951171875,3613.5,3617.25,3617.89990234375,3614.5,3608.300048828125,3598.64990234375,3586.75,3584.0,3607.89990234375,3605.0],\"low\":[3584.449951171875,3585.85009765625,3586.25,3582.0,3582.85009765625,3565.449951171875,3567.050048828125,3552.449951171875,3546.39990234375,3539.85009765625,3521.85009765625,3560.60009765625,3565.25,3571.14990234375,3576.60009765625,3591.0,3592.0,3610.0,3605.35009765625,3586.25,3585.199951171875,3575.0,3567.0,3560.0,3567.050048828125,3576.550048828125,3574.5,3572.0,3570.60009765625,3575.85009765625,3590.800048828125,3597.39990234375,3599.050048828125,3576.199951171875,3585.75,3581.449951171875,3575.0,3576.0,3581.75,3578.35009765625,3580.5,3579.25,3578.050048828125,3584.39990234375,3581.699951171875,3591.25,3597.25,3596.5,3606.35009765625,3605.60009765625,3604.050048828125,3609.0,3610.5,3603.0,3595.550048828125,3580.89990234375,3565.0,3568.550048828125,3577.050048828125,3575.0],\"open\":[3588.050048828125,3589.85009765625,3592.35009765625,3589.89990234375,3585.0,3592.64990234375,3569.5,3568.449951171875,3555.64990234375,3547.35009765625,3564.39990234375,3575.0,3566.050048828125,3595.0,3578.5,3592.75,3598.89990234375,3614.5,3616.550048828125,3606.199951171875,3592.0,3587.89990234375,3577.949951171875,3572.89990234375,3568.449951171875,3586.199951171875,3578.14990234375,3578.64990234375,3572.5,3575.89990234375,3594.89990234375,3600.25,3606.949951171875,3601.10009765625,3587.14990234375,3598.85009765625,3596.0,3581.050048828125,3586.050048828125,3588.35009765625,3583.60009765625,3587.25,3583.60009765625,3586.5,3585.89990234375,3598.0,3597.89990234375,3603.75,3609.199951171875,3611.949951171875,3606.699951171875,3609.39990234375,3611.0,3611.89990234375,3604.699951171875,3596.39990234375,3581.25,3570.14990234375,3578.10009765625,3589.949951171875],\"x\":[40,41,42,43,44,45,46,47,48,49,50,51,52,53,54,55,56,57,58,59,60,61,62,63,64,65,66,67,68,69,70,71,72,73,74,75,76,77,78,79,80,81,82,83,84,85,86,87,88,89,90,91,92,93,94,95,96,97,98,99],\"type\":\"candlestick\"},{\"marker\":{\"color\":\"MediumPurple\",\"size\":4},\"mode\":\"markers\",\"name\":\"pivot\",\"x\":[40,41,42,43,44,45,46,47,48,49,50,51,52,53,54,55,56,57,58,59,60,61,62,63,64,65,66,67,68,69,70,71,72,73,74,75,76,77,78,79,80,81,82,83,84,85,86,87,88,89,90,91,92,93,94,95,96,97,98,99],\"y\":[null,null,null,null,null,null,null,null,null,null,3521.84909765625,null,null,null,null,null,null,3617.950951171875,3617.950951171875,null,null,null,null,3559.999,null,3595.001,null,null,3570.59909765625,null,null,3609.700951171875,null,null,null,null,3574.999,null,null,null,null,null,3578.049048828125,null,null,null,null,null,null,null,null,null,3617.90090234375,null,null,null,3564.999,null,null,null],\"type\":\"scatter\"},{\"line\":{\"color\":\"green\",\"width\":2},\"mode\":\"lines\",\"name\":\"low triangle line\",\"x\":[50.0,63.0,68.0,76.0,82.0,96.0,97.0],\"y\":[3541.362053186494,3553.141779299691,3557.6724431893817,3564.9215054128877,3570.3583020805168,3583.0441609716518],\"type\":\"scatter\"},{\"line\":{\"color\":\"red\",\"width\":2},\"mode\":\"lines\",\"name\":\"high triangle line\",\"x\":[57.0,58.0,65.0,71.0,92.0,93.0],\"y\":[3610.8205553196476,3610.8963653069086,3611.4270352177355,3611.8818951413014,3613.473904873782],\"type\":\"scatter\"}],                        {\"template\":{\"data\":{\"histogram2dcontour\":[{\"type\":\"histogram2dcontour\",\"colorbar\":{\"outlinewidth\":0,\"ticks\":\"\"},\"colorscale\":[[0.0,\"#0d0887\"],[0.1111111111111111,\"#46039f\"],[0.2222222222222222,\"#7201a8\"],[0.3333333333333333,\"#9c179e\"],[0.4444444444444444,\"#bd3786\"],[0.5555555555555556,\"#d8576b\"],[0.6666666666666666,\"#ed7953\"],[0.7777777777777778,\"#fb9f3a\"],[0.8888888888888888,\"#fdca26\"],[1.0,\"#f0f921\"]]}],\"choropleth\":[{\"type\":\"choropleth\",\"colorbar\":{\"outlinewidth\":0,\"ticks\":\"\"}}],\"histogram2d\":[{\"type\":\"histogram2d\",\"colorbar\":{\"outlinewidth\":0,\"ticks\":\"\"},\"colorscale\":[[0.0,\"#0d0887\"],[0.1111111111111111,\"#46039f\"],[0.2222222222222222,\"#7201a8\"],[0.3333333333333333,\"#9c179e\"],[0.4444444444444444,\"#bd3786\"],[0.5555555555555556,\"#d8576b\"],[0.6666666666666666,\"#ed7953\"],[0.7777777777777778,\"#fb9f3a\"],[0.8888888888888888,\"#fdca26\"],[1.0,\"#f0f921\"]]}],\"heatmap\":[{\"type\":\"heatmap\",\"colorbar\":{\"outlinewidth\":0,\"ticks\":\"\"},\"colorscale\":[[0.0,\"#0d0887\"],[0.1111111111111111,\"#46039f\"],[0.2222222222222222,\"#7201a8\"],[0.3333333333333333,\"#9c179e\"],[0.4444444444444444,\"#bd3786\"],[0.5555555555555556,\"#d8576b\"],[0.6666666666666666,\"#ed7953\"],[0.7777777777777778,\"#fb9f3a\"],[0.8888888888888888,\"#fdca26\"],[1.0,\"#f0f921\"]]}],\"heatmapgl\":[{\"type\":\"heatmapgl\",\"colorbar\":{\"outlinewidth\":0,\"ticks\":\"\"},\"colorscale\":[[0.0,\"#0d0887\"],[0.1111111111111111,\"#46039f\"],[0.2222222222222222,\"#7201a8\"],[0.3333333333333333,\"#9c179e\"],[0.4444444444444444,\"#bd3786\"],[0.5555555555555556,\"#d8576b\"],[0.6666666666666666,\"#ed7953\"],[0.7777777777777778,\"#fb9f3a\"],[0.8888888888888888,\"#fdca26\"],[1.0,\"#f0f921\"]]}],\"contourcarpet\":[{\"type\":\"contourcarpet\",\"colorbar\":{\"outlinewidth\":0,\"ticks\":\"\"}}],\"contour\":[{\"type\":\"contour\",\"colorbar\":{\"outlinewidth\":0,\"ticks\":\"\"},\"colorscale\":[[0.0,\"#0d0887\"],[0.1111111111111111,\"#46039f\"],[0.2222222222222222,\"#7201a8\"],[0.3333333333333333,\"#9c179e\"],[0.4444444444444444,\"#bd3786\"],[0.5555555555555556,\"#d8576b\"],[0.6666666666666666,\"#ed7953\"],[0.7777777777777778,\"#fb9f3a\"],[0.8888888888888888,\"#fdca26\"],[1.0,\"#f0f921\"]]}],\"surface\":[{\"type\":\"surface\",\"colorbar\":{\"outlinewidth\":0,\"ticks\":\"\"},\"colorscale\":[[0.0,\"#0d0887\"],[0.1111111111111111,\"#46039f\"],[0.2222222222222222,\"#7201a8\"],[0.3333333333333333,\"#9c179e\"],[0.4444444444444444,\"#bd3786\"],[0.5555555555555556,\"#d8576b\"],[0.6666666666666666,\"#ed7953\"],[0.7777777777777778,\"#fb9f3a\"],[0.8888888888888888,\"#fdca26\"],[1.0,\"#f0f921\"]]}],\"mesh3d\":[{\"type\":\"mesh3d\",\"colorbar\":{\"outlinewidth\":0,\"ticks\":\"\"}}],\"scatter\":[{\"fillpattern\":{\"fillmode\":\"overlay\",\"size\":10,\"solidity\":0.2},\"type\":\"scatter\"}],\"parcoords\":[{\"type\":\"parcoords\",\"line\":{\"colorbar\":{\"outlinewidth\":0,\"ticks\":\"\"}}}],\"scatterpolargl\":[{\"type\":\"scatterpolargl\",\"marker\":{\"colorbar\":{\"outlinewidth\":0,\"ticks\":\"\"}}}],\"bar\":[{\"error_x\":{\"color\":\"#2a3f5f\"},\"error_y\":{\"color\":\"#2a3f5f\"},\"marker\":{\"line\":{\"color\":\"#E5ECF6\",\"width\":0.5},\"pattern\":{\"fillmode\":\"overlay\",\"size\":10,\"solidity\":0.2}},\"type\":\"bar\"}],\"scattergeo\":[{\"type\":\"scattergeo\",\"marker\":{\"colorbar\":{\"outlinewidth\":0,\"ticks\":\"\"}}}],\"scatterpolar\":[{\"type\":\"scatterpolar\",\"marker\":{\"colorbar\":{\"outlinewidth\":0,\"ticks\":\"\"}}}],\"histogram\":[{\"marker\":{\"pattern\":{\"fillmode\":\"overlay\",\"size\":10,\"solidity\":0.2}},\"type\":\"histogram\"}],\"scattergl\":[{\"type\":\"scattergl\",\"marker\":{\"colorbar\":{\"outlinewidth\":0,\"ticks\":\"\"}}}],\"scatter3d\":[{\"type\":\"scatter3d\",\"line\":{\"colorbar\":{\"outlinewidth\":0,\"ticks\":\"\"}},\"marker\":{\"colorbar\":{\"outlinewidth\":0,\"ticks\":\"\"}}}],\"scattermapbox\":[{\"type\":\"scattermapbox\",\"marker\":{\"colorbar\":{\"outlinewidth\":0,\"ticks\":\"\"}}}],\"scatterternary\":[{\"type\":\"scatterternary\",\"marker\":{\"colorbar\":{\"outlinewidth\":0,\"ticks\":\"\"}}}],\"scattercarpet\":[{\"type\":\"scattercarpet\",\"marker\":{\"colorbar\":{\"outlinewidth\":0,\"ticks\":\"\"}}}],\"carpet\":[{\"aaxis\":{\"endlinecolor\":\"#2a3f5f\",\"gridcolor\":\"white\",\"linecolor\":\"white\",\"minorgridcolor\":\"white\",\"startlinecolor\":\"#2a3f5f\"},\"baxis\":{\"endlinecolor\":\"#2a3f5f\",\"gridcolor\":\"white\",\"linecolor\":\"white\",\"minorgridcolor\":\"white\",\"startlinecolor\":\"#2a3f5f\"},\"type\":\"carpet\"}],\"table\":[{\"cells\":{\"fill\":{\"color\":\"#EBF0F8\"},\"line\":{\"color\":\"white\"}},\"header\":{\"fill\":{\"color\":\"#C8D4E3\"},\"line\":{\"color\":\"white\"}},\"type\":\"table\"}],\"barpolar\":[{\"marker\":{\"line\":{\"color\":\"#E5ECF6\",\"width\":0.5},\"pattern\":{\"fillmode\":\"overlay\",\"size\":10,\"solidity\":0.2}},\"type\":\"barpolar\"}],\"pie\":[{\"automargin\":true,\"type\":\"pie\"}]},\"layout\":{\"autotypenumbers\":\"strict\",\"colorway\":[\"#636efa\",\"#EF553B\",\"#00cc96\",\"#ab63fa\",\"#FFA15A\",\"#19d3f3\",\"#FF6692\",\"#B6E880\",\"#FF97FF\",\"#FECB52\"],\"font\":{\"color\":\"#2a3f5f\"},\"hovermode\":\"closest\",\"hoverlabel\":{\"align\":\"left\"},\"paper_bgcolor\":\"white\",\"plot_bgcolor\":\"#E5ECF6\",\"polar\":{\"bgcolor\":\"#E5ECF6\",\"angularaxis\":{\"gridcolor\":\"white\",\"linecolor\":\"white\",\"ticks\":\"\"},\"radialaxis\":{\"gridcolor\":\"white\",\"linecolor\":\"white\",\"ticks\":\"\"}},\"ternary\":{\"bgcolor\":\"#E5ECF6\",\"aaxis\":{\"gridcolor\":\"white\",\"linecolor\":\"white\",\"ticks\":\"\"},\"baxis\":{\"gridcolor\":\"white\",\"linecolor\":\"white\",\"ticks\":\"\"},\"caxis\":{\"gridcolor\":\"white\",\"linecolor\":\"white\",\"ticks\":\"\"}},\"coloraxis\":{\"colorbar\":{\"outlinewidth\":0,\"ticks\":\"\"}},\"colorscale\":{\"sequential\":[[0.0,\"#0d0887\"],[0.1111111111111111,\"#46039f\"],[0.2222222222222222,\"#7201a8\"],[0.3333333333333333,\"#9c179e\"],[0.4444444444444444,\"#bd3786\"],[0.5555555555555556,\"#d8576b\"],[0.6666666666666666,\"#ed7953\"],[0.7777777777777778,\"#fb9f3a\"],[0.8888888888888888,\"#fdca26\"],[1.0,\"#f0f921\"]],\"sequentialminus\":[[0.0,\"#0d0887\"],[0.1111111111111111,\"#46039f\"],[0.2222222222222222,\"#7201a8\"],[0.3333333333333333,\"#9c179e\"],[0.4444444444444444,\"#bd3786\"],[0.5555555555555556,\"#d8576b\"],[0.6666666666666666,\"#ed7953\"],[0.7777777777777778,\"#fb9f3a\"],[0.8888888888888888,\"#fdca26\"],[1.0,\"#f0f921\"]],\"diverging\":[[0,\"#8e0152\"],[0.1,\"#c51b7d\"],[0.2,\"#de77ae\"],[0.3,\"#f1b6da\"],[0.4,\"#fde0ef\"],[0.5,\"#f7f7f7\"],[0.6,\"#e6f5d0\"],[0.7,\"#b8e186\"],[0.8,\"#7fbc41\"],[0.9,\"#4d9221\"],[1,\"#276419\"]]},\"xaxis\":{\"gridcolor\":\"white\",\"linecolor\":\"white\",\"ticks\":\"\",\"title\":{\"standoff\":15},\"zerolinecolor\":\"white\",\"automargin\":true,\"zerolinewidth\":2},\"yaxis\":{\"gridcolor\":\"white\",\"linecolor\":\"white\",\"ticks\":\"\",\"title\":{\"standoff\":15},\"zerolinecolor\":\"white\",\"automargin\":true,\"zerolinewidth\":2},\"scene\":{\"xaxis\":{\"backgroundcolor\":\"#E5ECF6\",\"gridcolor\":\"white\",\"linecolor\":\"white\",\"showbackground\":true,\"ticks\":\"\",\"zerolinecolor\":\"white\",\"gridwidth\":2},\"yaxis\":{\"backgroundcolor\":\"#E5ECF6\",\"gridcolor\":\"white\",\"linecolor\":\"white\",\"showbackground\":true,\"ticks\":\"\",\"zerolinecolor\":\"white\",\"gridwidth\":2},\"zaxis\":{\"backgroundcolor\":\"#E5ECF6\",\"gridcolor\":\"white\",\"linecolor\":\"white\",\"showbackground\":true,\"ticks\":\"\",\"zerolinecolor\":\"white\",\"gridwidth\":2}},\"shapedefaults\":{\"line\":{\"color\":\"#2a3f5f\"}},\"annotationdefaults\":{\"arrowcolor\":\"#2a3f5f\",\"arrowhead\":0,\"arrowwidth\":1},\"geo\":{\"bgcolor\":\"white\",\"landcolor\":\"#E5ECF6\",\"subunitcolor\":\"white\",\"showland\":true,\"showlakes\":true,\"lakecolor\":\"white\"},\"title\":{\"x\":0.05},\"mapbox\":{\"style\":\"light\"}}},\"xaxis\":{\"rangeslider\":{\"visible\":true}},\"title\":{\"text\":\"Candlestick Chart for LT.NS - Trend: Bullish\"}},                        {\"responsive\": true}                    ).then(function(){\n",
       "                            \n",
       "var gd = document.getElementById('a57b46f7-d460-4da4-b7e3-e30292a911aa');\n",
       "var x = new MutationObserver(function (mutations, observer) {{\n",
       "        var display = window.getComputedStyle(gd).display;\n",
       "        if (!display || display === 'none') {{\n",
       "            console.log([gd, 'removed!']);\n",
       "            Plotly.purge(gd);\n",
       "            observer.disconnect();\n",
       "        }}\n",
       "}});\n",
       "\n",
       "// Listen for the removal of the full notebook cells\n",
       "var notebookContainer = gd.closest('#notebook-container');\n",
       "if (notebookContainer) {{\n",
       "    x.observe(notebookContainer, {childList: true});\n",
       "}}\n",
       "\n",
       "// Listen for the clearing of the current output cell\n",
       "var outputEl = gd.closest('.output');\n",
       "if (outputEl) {{\n",
       "    x.observe(outputEl, {childList: true});\n",
       "}}\n",
       "\n",
       "                        })                };                });            </script>        </div>"
      ]
     },
     "metadata": {},
     "output_type": "display_data"
    }
   ],
   "source": [
    "import pandas as pd\n",
    "import numpy as np\n",
    "import yfinance as yf\n",
    "from datetime import datetime, timedelta\n",
    "import plotly.graph_objects as go\n",
    "from scipy.stats import linregress\n",
    "from sklearn.linear_model import LinearRegression\n",
    "\n",
    "\n",
    "import warnings\n",
    "\n",
    "# Ignore warnings\n",
    "warnings.filterwarnings(\"ignore\")\n",
    "\n",
    "# Function to fetch historical stock data\n",
    "def fetch_stock_data(ticker_symbol, day_range, time_interval):\n",
    "    end_date = (datetime.now() - timedelta(days=1)).strftime('%Y-%m-%d')\n",
    "    start_date = (datetime.now() - timedelta(days=day_range + 1)).strftime('%Y-%m-%d')\n",
    "    data = yf.download(ticker_symbol, start=start_date, end=end_date, interval=time_interval)\n",
    "    return data\n",
    "\n",
    "# Function to preprocess stock data\n",
    "def preprocess_stock_data(data):\n",
    "    df_ticker = data[['Open', 'High', 'Low', 'Close' ]].reset_index()\n",
    "    df_ticker.columns = ['time', 'open', 'high', 'low', 'close']\n",
    "    df_ticker = df_ticker.dropna()\n",
    "    \n",
    "    df_ticker.reset_index(drop=True, inplace=True)\n",
    "\n",
    "    # Add 'pivot' and 'pointpos' columns to the DataFrame\n",
    "    df_ticker['pivot'] = df_ticker.apply(lambda x: pivot_id(df_ticker, x.name, 3, 3), axis=1)\n",
    "    df_ticker['pointpos'] = df_ticker.apply(lambda row: point_position(row), axis=1)\n",
    "\n",
    "    return df_ticker\n",
    "\n",
    "# Function to calculate pivot points for recent candles\n",
    "def pivot_id(df1, l, n1, n2):\n",
    "    # Check if there are enough recent candles to calculate pivot points\n",
    "    if l - n1 < 0 or l + n2 >= len(df1):\n",
    "        return 0\n",
    "\n",
    "    # Initialize pivot flags\n",
    "    piv_id_low = 1\n",
    "    piv_id_high = 1\n",
    "\n",
    "    # Loop over recent candles to check for pivot points\n",
    "    for i in range(l - n1, l + n2 + 1):\n",
    "        # Check for low pivot\n",
    "        if df1.low[l] > df1.low[i]:\n",
    "            piv_id_low = 0\n",
    "        # Check for high pivot\n",
    "        if df1.high[l] < df1.high[i]:\n",
    "            piv_id_high = 0\n",
    "\n",
    "    # Determine pivot type\n",
    "    if piv_id_low and piv_id_high:\n",
    "        return 3  # Both low and high pivot\n",
    "    elif piv_id_low:\n",
    "        return 1  # Low pivot\n",
    "    elif piv_id_high:\n",
    "        return 2  # High pivot\n",
    "    else:\n",
    "        return 0  # No pivot\n",
    "\n",
    "# Function to calculate the position of pivot points for recent candles\n",
    "def point_position(x):\n",
    "    # Calculate position based on pivot type\n",
    "    if x['pivot'] == 1:\n",
    "        return x['low'] - 1e-3  # Low pivot\n",
    "    elif x['pivot'] == 2:\n",
    "        return x['high'] + 1e-3  # High pivot\n",
    "    else:\n",
    "        return np.nan  # No pivot\n",
    "\n",
    "\n",
    "\n",
    "def calculate_linear_regression(df_ticker, back_candles):\n",
    "    minim = np.array([])\n",
    "    xxmin = np.array([])\n",
    "    xxmax = np.array([])\n",
    "\n",
    "    for i in range(max(0, len(df_ticker) - back_candles), len(df_ticker)):\n",
    "        if df_ticker.iloc[i].pivot == 1:\n",
    "            minim = np.append(minim, df_ticker.iloc[i].low)\n",
    "            xxmin = np.append(xxmin, i)\n",
    "        if df_ticker.iloc[i].pivot == 2:\n",
    "            xxmax = np.append(xxmax, i)\n",
    "\n",
    "    # Check if there are enough data points for regression\n",
    "    if len(xxmin) < 2 or len(minim) < 2:\n",
    "        slmin, intercmin = 0, 0\n",
    "    else:\n",
    "        # Fit linear regression for low pivot points\n",
    "        xxmin_reshaped = xxmin.reshape(-1, 1)\n",
    "        model_min = LinearRegression()\n",
    "        model_min.fit(xxmin_reshaped, minim)\n",
    "        slmin = model_min.coef_[0]\n",
    "        intercmin = model_min.intercept_\n",
    "        model_min\n",
    "\n",
    "    if len(xxmax) < 2:\n",
    "        slmax, intercmax = 0, 0\n",
    "    else:\n",
    "        # Fit linear regression for high pivot points\n",
    "        xxmax_reshaped = xxmax.reshape(-1, 1)\n",
    "        model_max = LinearRegression()\n",
    "        model_max.fit(xxmax_reshaped, df_ticker.loc[xxmax, 'high'])\n",
    "        slmax = model_max.coef_[0]\n",
    "        intercmax = model_max.intercept_\n",
    "        model_max\n",
    "\n",
    "    return xxmin, xxmax, slmin, intercmin, slmax, intercmax\n",
    "    \n",
    "\n",
    "\n",
    "def predict_trend(slmin, slmax):\n",
    "    if slmin > 0 and slmax > 0:\n",
    "        return \"Bullish\"  # Both lines are upward sloping\n",
    "    elif slmin < 0 and slmax < 0:\n",
    "        return \"Bearish\"  # Both lines are downward sloping\n",
    "    else:\n",
    "        return \"Neutral\"  # No clear trend\n",
    "\n",
    "# Function to display candlestick chart with trend prediction\n",
    "def display_candlestick_chart(df_ticker, back_candles, ticker_symbol, xxmin, xxmax, slmin, intercmin, slmax, intercmax):\n",
    "    recent_candles = 10  # Number of recent candles to display lines\n",
    "\n",
    "    df_pl = df_ticker[-(back_candles + recent_candles):]\n",
    "\n",
    "    # Calculate lines for high and low triangles\n",
    "    if len(xxmin) > 0:\n",
    "        low_triangle_line = slmin * xxmin + intercmin\n",
    "        xxmin_last = xxmin[-1]\n",
    "    else:\n",
    "        low_triangle_line = []\n",
    "        xxmin_last = None\n",
    "\n",
    "    if len(xxmax) > 0:\n",
    "        high_triangle_line = slmax * xxmax + intercmax\n",
    "        xxmax_last = xxmax[-1]\n",
    "    else:\n",
    "        high_triangle_line = []\n",
    "        xxmax_last = None\n",
    "\n",
    "    # Predict trend\n",
    "    trend_prediction = predict_trend(slmin, slmax)\n",
    "    \n",
    "    # Display candlestick chart with pivot points, linear regression lines, and trend prediction\n",
    "    fig = go.Figure(data=[\n",
    "        go.Candlestick(x=df_pl.index, open=df_pl['open'], high=df_pl['high'], low=df_pl['low'], close=df_pl['close']),\n",
    "        go.Scatter(x=df_pl.index, y=df_pl['pointpos'], mode=\"markers\", marker=dict(size=4, color=\"MediumPurple\"), name=\"pivot\"),\n",
    "        go.Scatter(x=np.append(xxmin, xxmin_last + 1) if xxmin_last is not None else [], y=low_triangle_line[-recent_candles:], mode='lines', line=dict(color='green', width=2), name='low triangle line'),\n",
    "        go.Scatter(x=np.append(xxmax, xxmax_last + 1) if xxmax_last is not None else [], y=high_triangle_line[-recent_candles:], mode='lines', line=dict(color='red', width=2), name='high triangle line')\n",
    "    ])\n",
    "\n",
    "    fig.update_layout(xaxis_rangeslider_visible=True, title=f'Candlestick Chart for {ticker_symbol} - Trend: {trend_prediction}')\n",
    "    fig.show()\n",
    "\n",
    "\n",
    "\n",
    "    \n",
    "# User input for day range and time interval\n",
    "day_range = int(input(\"Enter the number of days for historical data: \"))\n",
    "time_interval = input(\"Enter the time interval (e.g., '1h' for 1 hour, 1d,15m): \")\n",
    "\n",
    "# ticker_symbols = [\"SBIN.NS\", \"ICICIBANK.NS\", \"HDFCBANK.NS\", \"KOTAKBANK.NS\", \"AXISBANK.NS\", \"RELIANCE.NS\"]\n",
    "ticker_symbols = [\"SBIN.NS\", \"ICICIBANK.NS\", \"^NSEBANK\",\"^NSEI\",\"HDFCBANK.NS\", \"KOTAKBANK.NS\", \"AXISBANK.NS\", \"RELIANCE.NS\",\"LT.NS\"]\n",
    "\n",
    "# Loop through each ticker symbol\n",
    "for ticker_symbol in ticker_symbols:\n",
    "    # Fetch historical data from Yahoo Finance\n",
    "    data = fetch_stock_data(ticker_symbol, day_range, time_interval)\n",
    "\n",
    "    # Preprocess stock data\n",
    "    df_ticker = preprocess_stock_data(data)\n",
    "\n",
    "   \n",
    "    # Calculate linear regression for pivot points\n",
    "    back_candles = 50\n",
    "    xxmin, xxmax, slmin, intercmin, slmax, intercmax = calculate_linear_regression(df_ticker, back_candles)\n",
    "\n",
    "    # Display candlestick chart with pivot points, linear regression lines, and trend prediction\n",
    "    display_candlestick_chart(df_ticker, back_candles, ticker_symbol, xxmin, xxmax, slmin, intercmin, slmax, intercmax)\n",
    "\n",
    "\n",
    "    "
   ]
  },
  {
   "cell_type": "code",
   "execution_count": 20,
   "id": "cf6ee496",
   "metadata": {},
   "outputs": [],
   "source": [
    "import yfinance as yf\n",
    "from datetime import datetime, timedelta\n",
    "import plotly.graph_objects as go\n",
    "from sklearn.linear_model import LinearRegression\n",
    "import warnings\n",
    "\n",
    "# Ignore warnings\n",
    "warnings.filterwarnings(\"ignore\")\n",
    "\n",
    "# Function to fetch historical stock data\n",
    "def fetch_stock_data(ticker_symbol, day_range, time_interval):\n",
    "    end_date = (datetime.now() - timedelta(days=1)).strftime('%Y-%m-%d')\n",
    "    start_date = (datetime.now() - timedelta(days=day_range + 1)).strftime('%Y-%m-%d')\n",
    "    data = yf.download(ticker_symbol, start=start_date, end=end_date, interval=time_interval)\n",
    "    return data\n",
    "\n",
    "# Function to preprocess stock data\n",
    "def preprocess_stock_data(data):\n",
    "    df_ticker = data[['Open', 'High', 'Low', 'Close' ]].reset_index()\n",
    "    df_ticker.columns = ['time', 'open', 'high', 'low', 'close']\n",
    "    df_ticker = df_ticker.dropna()\n",
    "    \n",
    "    df_ticker.reset_index(drop=True, inplace=True)\n",
    "\n",
    "    # Add 'pivot' and 'pointpos' columns to the DataFrame\n",
    "    df_ticker['pivot'] = df_ticker.apply(lambda x: pivot_id(df_ticker, x.name, 3, 3), axis=1)\n",
    "    df_ticker['pointpos'] = df_ticker.apply(lambda row: point_position(row), axis=1)\n",
    "\n",
    "    return df_ticker\n",
    "\n",
    "# Function to calculate pivot points for recent candles\n",
    "def pivot_id(df1, l, n1, n2):\n",
    "    # Check if there are enough recent candles to calculate pivot points\n",
    "    if l - n1 < 0 or l + n2 >= len(df1):\n",
    "        return 0\n",
    "\n",
    "    # Initialize pivot flags\n",
    "    piv_id_low = 1\n",
    "    piv_id_high = 1\n",
    "\n",
    "    # Loop over recent candles to check for pivot points\n",
    "    for i in range(l - n1, l + n2 + 1):\n",
    "        # Check for low pivot\n",
    "        if df1.low[l] > df1.low[i]:\n",
    "            piv_id_low = 0\n",
    "        # Check for high pivot\n",
    "        if df1.high[l] < df1.high[i]:\n",
    "            piv_id_high = 0\n",
    "\n",
    "    # Determine pivot type\n",
    "    if piv_id_low and piv_id_high:\n",
    "        return 3  # Both low and high pivot\n",
    "    elif piv_id_low:\n",
    "        return 1  # Low pivot\n",
    "    elif piv_id_high:\n",
    "        return 2  # High pivot\n",
    "    else:\n",
    "        return 0  # No pivot\n",
    "\n",
    "# Function to calculate the position of pivot points for recent candles\n",
    "def point_position(x):\n",
    "    # Calculate position based on pivot type\n",
    "    if x['pivot'] == 1:\n",
    "        return x['low'] - 1e-3  # Low pivot\n",
    "    elif x['pivot'] == 2:\n",
    "        return x['high'] + 1e-3  # High pivot\n",
    "    else:\n",
    "        return np.nan  # No pivot\n",
    "\n",
    "def calculate_linear_regression(df_ticker, back_candles):\n",
    "    minim = np.array([])\n",
    "    xxmin = np.array([])\n",
    "    xxmax = np.array([])\n",
    "\n",
    "    for i in range(max(0, len(df_ticker) - back_candles), len(df_ticker)):\n",
    "        if df_ticker.iloc[i].pivot == 1:\n",
    "            minim = np.append(minim, df_ticker.iloc[i].low)\n",
    "            xxmin = np.append(xxmin, i)\n",
    "        if df_ticker.iloc[i].pivot == 2:\n",
    "            xxmax = np.append(xxmax, i)\n",
    "\n",
    "    # Check if there are enough data points for regression\n",
    "    if len(xxmin) < 2 or len(minim) < 2:\n",
    "        slmin, intercmin = 0, 0\n",
    "    else:\n",
    "        # Fit linear regression for low pivot points\n",
    "        xxmin_reshaped = xxmin.reshape(-1, 1)\n",
    "        model_min = LinearRegression()\n",
    "        model_min.fit(xxmin_reshaped, minim)\n",
    "        slmin = model_min.coef_[0]\n",
    "        intercmin = model_min.intercept_\n",
    "\n",
    "    if len(xxmax) < 2:\n",
    "        slmax, intercmax = 0, 0\n",
    "    else:\n",
    "        # Fit linear regression for high pivot points\n",
    "        xxmax_reshaped = xxmax.reshape(-1, 1)\n",
    "        model_max = LinearRegression()\n",
    "        model_max.fit(xxmax_reshaped, df_ticker.loc[xxmax, 'high'])\n",
    "        slmax = model_max.coef_[0]\n",
    "        intercmax = model_max.intercept_\n",
    "\n",
    "    return xxmin, xxmax, slmin, intercmin, slmax, intercmax\n",
    "\n",
    "def predict_trend(slmin, slmax):\n",
    "    if slmin > 0 and slmax > 0:\n",
    "        return \"Bullish\"  # Both lines are upward sloping\n",
    "    elif slmin < 0 and slmax < 0:\n",
    "        return \"Bearish\"  # Both lines are downward sloping\n",
    "    else:\n",
    "        return \"Neutral\"  # No clear trend\n",
    "\n",
    "# Function to display candlestick chart with trend prediction\n",
    "def display_candlestick_chart(df_ticker, back_candles, ticker_symbol, xxmin, xxmax, slmin, intercmin, slmax, intercmax):\n",
    "    recent_candles = 10  # Number of recent candles to display lines\n",
    "\n",
    "    df_pl = df_ticker[-(back_candles + recent_candles):]\n",
    "\n",
    "    # Calculate lines for high and low triangles\n",
    "    if len(xxmin) > 0:\n",
    "        low_triangle_line = slmin * xxmin + intercmin\n",
    "        xxmin_last = xxmin[-1]\n",
    "    else:\n",
    "        low_triangle_line = []\n",
    "        xxmin_last = None\n",
    "\n",
    "    if len(xxmax) > 0:\n",
    "        high_triangle_line = slmax * xxmax + intercmax\n",
    "        xxmax_last = xxmax[-1]\n",
    "    else:\n",
    "        high_triangle_line = []\n",
    "        xxmax_last = None\n",
    "\n",
    "    # Predict trend\n",
    "    trend_prediction = predict_trend(slmin, slmax)\n",
    "    \n",
    "    # Display candlestick chart with pivot points, linear regression lines, and trend prediction\n",
    "    fig = go.Figure(data=[\n",
    "        go.Candlestick(x=df_pl.index, open=df_pl['open'], high=df_pl['high'], low=df_pl['low'], close=df_pl['close']),\n",
    "        go.Scatter(x=df_pl.index, y=df_pl['pointpos'], mode=\"markers\", marker=dict(size=4, color=\"MediumPurple\"), name=\"pivot\"),\n",
    "        go.Scatter(x=np.append(xxmin, xxmin_last + 1) if xxmin_last is not None else [], y=low_triangle_line[-recent_candles:], mode='lines', line=dict(color='green', width=2), name='low triangle line'),\n",
    "        go.Scatter(x=np.append(xxmax, xxmax_last + 1) if xxmax_last is not None else [], y=high_triangle_line[-recent_candles:], mode='lines', line=dict(color='red', width=2), name='high triangle line')\n",
    "    ])\n",
    "\n",
    "    fig.update_layout(xaxis_rangeslider_visible=True, title=f'Candlestick Chart for {ticker_symbol} - Trend: {trend_prediction}')\n",
    "    fig.show()\n",
    "\n",
    "# User input for day range and time interval\n",
    "day_range = int(input(\"Enter the number of days for historical data: \"))\n",
    "time_interval = input(\"Enter the time interval (e.g., '1h' for 1 hour, 1d,15m): \")\n",
    "\n",
    "# ticker_symbols = [\"SBIN.NS\", \"ICICIBANK.NS\", \"HDFCBANK.NS\", \"KOTAKBANK.NS\", \"AXISBANK.NS\", \"RELIANCE.NS\"]\n",
    "ticker_symbols = [\"SBIN.NS\", \"ICICIBANK.NS\", \"^NSEBANK\",\"^NSEI\",\"HDFCBANK.NS\", \"KOTAKBANK.NS\", \"AXISBANK.NS\", \"RELIANCE.NS\",\"LT.NS\"]\n",
    "\n",
    "# Loop through each ticker symbol\n",
    "for ticker_symbol in ticker_symbols:\n",
    "    # Fetch historical data from Yahoo Finance\n",
    "    data = fetch_stock_data(ticker_symbol, day_range, time_interval)\n",
    "\n",
    "    # Preprocess stock data\n",
    "    df_ticker = preprocess_stock_data(data)\n",
    "\n",
    "    # Calculate linear regression for pivot points\n",
    "    back_candles = 50\n",
    "    xxmin, xxmax, slmin, intercmin, slmax, intercmax = calculate_linear_regression(df_ticker, back_candles)\n",
    "\n",
    "    # Display candlestick chart with pivot points, linear regression lines, and trend prediction\n",
    "    display_candlestick_chart(df_ticker, back_candles, ticker_symbol, xxmin, xxmax, slmin, intercmin, slmax, intercmax)\n"
   ]
  },
  {
   "cell_type": "code",
   "execution_count": null,
   "id": "ea45ee7d",
   "metadata": {},
   "outputs": [],
   "source": []
  }
 ],
 "metadata": {
  "kernelspec": {
   "display_name": "Python 3 (ipykernel)",
   "language": "python",
   "name": "python3"
  },
  "language_info": {
   "codemirror_mode": {
    "name": "ipython",
    "version": 3
   },
   "file_extension": ".py",
   "mimetype": "text/x-python",
   "name": "python",
   "nbconvert_exporter": "python",
   "pygments_lexer": "ipython3",
   "version": "3.11.5"
  }
 },
 "nbformat": 4,
 "nbformat_minor": 5
}
