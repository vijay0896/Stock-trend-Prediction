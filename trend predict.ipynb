{
 "cells": [
  {
   "cell_type": "markdown",
   "id": "9dd820d3",
   "metadata": {},
   "source": [
    "# 15 min 2 days"
   ]
  },
  {
   "cell_type": "markdown",
   "id": "6d372b1c",
   "metadata": {},
   "source": [
    "# Range more than 7, for 1h time frame back candle is 32\n",
    "# Range more than 55 for time frame 1d back candle is 32\n",
    "# Range more than 4 for time frame 15m back candle is 50"
   ]
  },
  {
   "cell_type": "code",
   "execution_count": 1,
   "id": "49fd12c2",
   "metadata": {
    "scrolled": false
   },
   "outputs": [
    {
     "ename": "ModuleNotFoundError",
     "evalue": "No module named 'yfinance'",
     "output_type": "error",
     "traceback": [
      "\u001b[0;31m---------------------------------------------------------------------------\u001b[0m",
      "\u001b[0;31mModuleNotFoundError\u001b[0m                       Traceback (most recent call last)",
      "Cell \u001b[0;32mIn[1], line 2\u001b[0m\n\u001b[1;32m      1\u001b[0m \u001b[38;5;28;01mimport\u001b[39;00m \u001b[38;5;21;01mnumpy\u001b[39;00m \u001b[38;5;28;01mas\u001b[39;00m \u001b[38;5;21;01mnp\u001b[39;00m\n\u001b[0;32m----> 2\u001b[0m \u001b[38;5;28;01mimport\u001b[39;00m \u001b[38;5;21;01myfinance\u001b[39;00m \u001b[38;5;28;01mas\u001b[39;00m \u001b[38;5;21;01myf\u001b[39;00m\n\u001b[1;32m      3\u001b[0m \u001b[38;5;28;01mfrom\u001b[39;00m \u001b[38;5;21;01mdatetime\u001b[39;00m \u001b[38;5;28;01mimport\u001b[39;00m datetime, timedelta\n\u001b[1;32m      4\u001b[0m \u001b[38;5;28;01mimport\u001b[39;00m \u001b[38;5;21;01mplotly\u001b[39;00m\u001b[38;5;21;01m.\u001b[39;00m\u001b[38;5;21;01mgraph_objects\u001b[39;00m \u001b[38;5;28;01mas\u001b[39;00m \u001b[38;5;21;01mgo\u001b[39;00m\n",
      "\u001b[0;31mModuleNotFoundError\u001b[0m: No module named 'yfinance'"
     ]
    }
   ],
   "source": [
    "import numpy as np\n",
    "import yfinance as yf\n",
    "from datetime import datetime, timedelta\n",
    "import plotly.graph_objects as go\n",
    "from sklearn.linear_model import LinearRegression\n",
    "from sklearn.model_selection import train_test_split\n",
    "from sklearn.metrics import r2_score\n",
    "from scipy.stats import linregress\n",
    "import warnings\n",
    "\n",
    "# Ignore warnings\n",
    "warnings.filterwarnings(\"ignore\")\n",
    "\n",
    "# Function to fetch historical stock data\n",
    "def fetch_stock_data(ticker_symbol, day_range, time_interval):\n",
    "    end_date = datetime.now()\n",
    "    start_date = end_date - timedelta(days=day_range*7//5)\n",
    "    data = yf.download(ticker_symbol, start=start_date, end=end_date, interval=time_interval)\n",
    "    return data.dropna()\n",
    "\n",
    "# Function to preprocess stock data\n",
    "def preprocess_stock_data(data):\n",
    "    df_ticker = data[['Open', 'High', 'Low', 'Close']].reset_index()\n",
    "    df_ticker.columns = ['time', 'open', 'high', 'low', 'close']\n",
    "    df_ticker = df_ticker.dropna()\n",
    "    df_ticker.reset_index(drop=True, inplace=True)\n",
    "    # Add 'pivot' and 'pointpos' columns to the DataFrame\n",
    "    df_ticker['pivot'] = df_ticker.apply(lambda x: pivot_id(df_ticker, x.name, 3, 3), axis=1)\n",
    "    df_ticker['pointpos'] = df_ticker.apply(lambda row: point_position(row), axis=1)\n",
    "    return df_ticker\n",
    "\n",
    "# Function to calculate pivot points for recent candles\n",
    "def pivot_id(df1, l, n1, n2):\n",
    "    # Check if there are enough recent candles to calculate pivot points\n",
    "    if l - n1 < 0 or l + n2 >= len(df1):\n",
    "        return 0\n",
    "    # Initialize pivot flags\n",
    "    piv_id_low = 1\n",
    "    piv_id_high = 1\n",
    "    # Loop over recent candles to check for pivot points\n",
    "    for i in range(l - n1, l + n2 + 1):\n",
    "        # Check for low pivot\n",
    "        if df1.low[l] > df1.low[i]:\n",
    "            piv_id_low = 0\n",
    "        # Check for high pivot\n",
    "        if df1.high[l] < df1.high[i]:\n",
    "            piv_id_high = 0\n",
    "    # Determine pivot type\n",
    "    if piv_id_low and piv_id_high:\n",
    "        return 3  # Both low and high pivot\n",
    "    elif piv_id_low:\n",
    "        return 1  # Low pivot\n",
    "    elif piv_id_high:\n",
    "        return 2  # High pivot\n",
    "    else:\n",
    "        return 0  # No pivot\n",
    "\n",
    "# Function to calculate the position of pivot points for recent candles\n",
    "def point_position(x):\n",
    "    # Calculate position based on pivot type\n",
    "    if x['pivot'] == 1:\n",
    "        return x['low'] - 1e-3  # Low pivot\n",
    "    elif x['pivot'] == 2:\n",
    "        return x['high'] + 1e-3  # High pivot\n",
    "    else:\n",
    "        return np.nan  # No pivot\n",
    "\n",
    "\n",
    "def calculate_linear_regression(df_ticker, back_candles, test_size=0.2):\n",
    "    xxmin = np.array([])\n",
    "    minim = np.array([])\n",
    "    xxmax = np.array([])\n",
    "    high = np.array([])\n",
    "\n",
    "    for i in range(max(0, len(df_ticker) - back_candles), len(df_ticker)):\n",
    "        if df_ticker.iloc[i].pivot == 1:\n",
    "            minim = np.append(minim, df_ticker.iloc[i].low)\n",
    "            xxmin = np.append(xxmin, i)\n",
    "        if df_ticker.iloc[i].pivot == 2:\n",
    "            xxmax = np.append(xxmax, i)\n",
    "            high = np.append(high, df_ticker.iloc[i].high)\n",
    "\n",
    "    # Check if there are enough samples available for splitting\n",
    "    if len(xxmin) < 2 or len(xxmax) < 2:\n",
    "        return None, None, None, None, None, None, None, None, None, None, None, None, None, None, None, None\n",
    "\n",
    "    xxmin_train, xxmin_test, minim_train, minim_test = train_test_split(xxmin, minim, test_size=test_size, random_state=0)\n",
    "    xxmax_train, xxmax_test, high_train, high_test = train_test_split(xxmax, high, test_size=test_size, random_state=0)\n",
    "\n",
    "    # Initialize Linear Regression models\n",
    "    model_min = LinearRegression()\n",
    "    model_max = LinearRegression()\n",
    "\n",
    "    # Fit linear regression for low pivot points\n",
    "    xxmin_train_reshaped = xxmin_train.reshape(-1, 1)\n",
    "    model_min.fit(xxmin_train_reshaped, minim_train)\n",
    "    slmin = model_min.coef_[0]\n",
    "    intercmin = model_min.intercept_\n",
    "\n",
    "    # Fit linear regression for high pivot points\n",
    "    xxmax_train_reshaped = xxmax_train.reshape(-1, 1)\n",
    "    model_max.fit(xxmax_train_reshaped, high_train)\n",
    "    slmax = model_max.coef_[0]\n",
    "    intercmax = model_max.intercept_\n",
    "\n",
    "    # Calculate R-squared for training data\n",
    "    r_squared_min_train = model_min.score(xxmin_train_reshaped, minim_train)\n",
    "    r_squared_max_train = model_max.score(xxmax_train_reshaped, high_train)\n",
    "\n",
    "    # Calculate R-squared for testing data\n",
    "    r_squared_min_test = model_min.score(xxmin_test.reshape(-1, 1), minim_test)\n",
    "    r_squared_max_test = model_max.score(xxmax_test.reshape(-1, 1), high_test)\n",
    "\n",
    "    return xxmin_train, xxmin_test, minim_train, minim_test, xxmax_train, xxmax_test, high_train, high_test, slmin, intercmin, slmax, intercmax, r_squared_min_train, r_squared_max_train, r_squared_min_test, r_squared_max_test\n",
    "\n",
    "\n",
    "# Function to display candlestick chart with trend prediction\n",
    "def display_candlestick_chart(df_ticker, back_candles, ticker_symbol, xxmin_train, xxmin_test, minim_train, minim_test, xxmax_train, xxmax_test, high_train, high_test, slmin, intercmin, slmax, intercmax, r_squared_min_train, r_squared_max_train, r_squared_min_test, r_squared_max_test):\n",
    "    recent_candles = 10  # Number of recent candles to display lines\n",
    "\n",
    "    df_pl = df_ticker[-(back_candles + recent_candles):]\n",
    "\n",
    "    # Calculate lines for high and low triangles using training data\n",
    "    if len(xxmin_train) > 0:\n",
    "        low_triangle_line_train = slmin * xxmin_train + intercmin\n",
    "    else:\n",
    "        low_triangle_line_train = []\n",
    "\n",
    "    if len(xxmax_train) > 0:\n",
    "        high_triangle_line_train = slmax * xxmax_train + intercmax\n",
    "    else:\n",
    "        high_triangle_line_train = []\n",
    "\n",
    "    # Predict trend using training data\n",
    "#     trend_prediction_train = predict_trend(slmin, slmax)\n",
    "\n",
    "    # Calculate lines for high and low triangles using testing data\n",
    "    if len(xxmin_test) > 0:\n",
    "        low_triangle_line_test = slmin * xxmin_test + intercmin\n",
    "    else:\n",
    "        low_triangle_line_test = []\n",
    "\n",
    "    if len(xxmax_test) > 0:\n",
    "        high_triangle_line_test = slmax * xxmax_test + intercmax\n",
    "    else:\n",
    "        high_triangle_line_test = []\n",
    "\n",
    "    # Predict trend using testing data\n",
    "#     trend_prediction_test = predict_trend(slmin, slmax)\n",
    "\n",
    "    # Print R-squared values\n",
    "    print(f\"R-squared (Train) - Low: {r_squared_min_train:.2f}, High: {r_squared_max_train:.2f}\")\n",
    "    print(f\"R-squared (Test) - Low: {r_squared_min_test:.2f}, High: {r_squared_max_test:.2f}\")\n",
    "\n",
    "    # Display candlestick chart with pivot points, linear regression lines, and trend prediction\n",
    "    fig = go.Figure(data=[\n",
    "        go.Candlestick(x=df_pl.index, open=df_pl['open'], high=df_pl['high'], low=df_pl['low'], close=df_pl['close']),\n",
    "        go.Scatter(x=df_pl.index, y=df_pl['pointpos'], mode=\"markers\", marker=dict(size=7, color=\"MediumPurple\"), name=\"pivot\"),\n",
    "        go.Scatter(x=np.append(xxmin_train, xxmin_test), y=np.append(low_triangle_line_train, low_triangle_line_test), mode='lines', line=dict(color='green', width=2)),\n",
    "        go.Scatter(x=np.append(xxmax_train, xxmax_test), y=np.append(high_triangle_line_train, high_triangle_line_test), mode='lines', line=dict(color='red', width=2))\n",
    "    ])\n",
    "\n",
    "    fig.update_layout(\n",
    "    xaxis_rangeslider_visible=True,\n",
    "    title=f'Candlestick Chart for {ticker_symbol} ',\n",
    "    width=900,  # specify width in pixels\n",
    "    height=600   # specify height in pixels\n",
    "    )\n",
    "\n",
    "    fig.show()\n",
    "\n",
    "# User input for day range and time interval\n",
    "day_range = int(input(\"Enter the number of days for historical data: \"))\n",
    "time_interval = input(\"Enter the time interval (Valid intervals: [1m, 2m, 5m, 15m, 30m, 60m, 90m, 1h, 1d, 5d, 1wk, 1mo, 3mo]): \")\n",
    "\n",
    "# Adjust back_candles based on day range and time interval\n",
    "if time_interval == '1h':\n",
    "    if day_range > 7:\n",
    "        back_candles = 32\n",
    "    else:\n",
    "        back_candles = 50\n",
    "elif time_interval == '1d':\n",
    "    if day_range > 40:\n",
    "        back_candles = 32\n",
    "    else:\n",
    "        back_candles = 32\n",
    "elif time_interval == '15m':\n",
    "    if day_range > 4:\n",
    "        back_candles = 50\n",
    "    else:\n",
    "        back_candles = 50\n",
    "elif time_interval == '5m' or '2m' or '1m':\n",
    "    if day_range > 2:\n",
    "        back_candles = 55\n",
    "    else:\n",
    "        back_candles = 55\n",
    "elif time_interval ==  '2m' or '1m':\n",
    "    if day_range > 2:\n",
    "        back_candles = 60\n",
    "    else:\n",
    "        back_candles = 60\n",
    "# Ticker symbols to analyze\n",
    "#ticker_symbols = [\"^BSESN\",\"^CNXIT\", \"^NSEBANK\",\"^NSEI\",\"^CNXFMCG\",\"SBIN.NS\",\"HDFCBANK.NS\", \"KOTAKBANK.NS\",\"TCS.NS\",\"INFY.NS\",\"ITC.NS\",\"LT.NS\"]\n",
    "ticker_symbols = [\"^BSESN\",\"^CNXIT\",  \"^NSEBANK\", \"^NSEI\", \"^CNXFMCG\", \"^CNXAUTO\", \"SBIN.NS\", \"HDFCBANK.NS\", \"KOTAKBANK.NS\", \"AXISBANK.NS\", \"TCS.NS\", \"INFY.NS\", \"ITC.NS\",\"LT.NS\",\"HEROMOTOCO.NS\",\"M&M.NS\",\"TVSMOTOR.NS\",\"BAJAJFINSV.NS\",\"ABCAPITAL.NS\",\"ADANIENT.NS\",\"ADANIPORTS.NS\"]\n",
    "\n",
    "\n",
    "# Loop through each ticker symbol\n",
    "\n",
    "for ticker_symbol in ticker_symbols:\n",
    "    # Fetch historical data from Yahoo Finance\n",
    "    data = fetch_stock_data(ticker_symbol, day_range, time_interval)\n",
    "\n",
    "    # Preprocess stock data\n",
    "    df_ticker = preprocess_stock_data(data)\n",
    "\n",
    "    # Calculate linear regression for pivot points\n",
    "    xxmin_train, xxmin_test, minim_train, minim_test, xxmax_train, xxmax_test, high_train, high_test, slmin, intercmin, slmax, intercmax, r_squared_min_train, r_squared_max_train, r_squared_min_test, r_squared_max_test = calculate_linear_regression(df_ticker, back_candles)\n",
    "\n",
    "    xxmin_train, xxmin_test, minim_train, minim_test, xxmax_train, xxmax_test, high_train, high_test, slmin, intercmin, slmax, intercmax, r_squared_min_train, r_squared_max_train, r_squared_min_test, r_squared_max_test = calculate_linear_regression(df_ticker, back_candles)\n",
    "\n",
    "# Check if any of the returned variables are None\n",
    "    if any(var is None for var in [xxmin_train, xxmax_train]):\n",
    "        print(f\"Skipping {ticker_symbol} due to insufficient data for linear regression.\")\n",
    "        continue\n",
    "\n",
    "    # Check if training set has sufficient samples for splitting\n",
    "    if len(xxmin_train) < 2 or len(xxmax_train) < 2:\n",
    "        print(f\"Skipping {ticker_symbol} due to insufficient data for linear regression.\")\n",
    "        continue\n",
    "\n",
    "\n",
    "    # Display candlestick chart with pivot points, linear regression lines, and trend prediction for training data\n",
    "    display_candlestick_chart(df_ticker, back_candles, ticker_symbol, xxmin_train, xxmin_test, minim_train, minim_test, xxmax_train, xxmax_test, high_train, high_test, slmin, intercmin, slmax, intercmax, r_squared_min_train, r_squared_max_train, r_squared_min_test, r_squared_max_test)\n"
   ]
  },
  {
   "cell_type": "code",
   "execution_count": 9,
   "id": "dce4f43e",
   "metadata": {},
   "outputs": [
    {
     "data": {
      "text/plain": [
       "50"
      ]
     },
     "execution_count": 9,
     "metadata": {},
     "output_type": "execute_result"
    }
   ],
   "source": [
    "back_candles"
   ]
  },
  {
   "cell_type": "code",
   "execution_count": 1,
   "id": "96a828c0",
   "metadata": {
    "scrolled": false
   },
   "outputs": [
    {
     "name": "stderr",
     "output_type": "stream",
     "text": [
      "[*********************100%%**********************]  1 of 1 completed\n"
     ]
    },
    {
     "data": {
      "application/vnd.plotly.v1+json": {
       "config": {
        "plotlyServerURL": "https://plot.ly"
       },
       "data": [
        {
         "close": [
          72038.4296875,
          72410.3828125,
          72240.2578125,
          71892.4765625,
          71356.6015625,
          71847.5703125,
          72026.1484375,
          71355.21875,
          71386.2109375,
          71657.7109375,
          71721.1796875,
          72568.453125,
          73327.9375,
          73128.7734375,
          71500.7578125,
          71186.859375,
          71683.2265625,
          70370.546875,
          71060.3125,
          70700.671875,
          71941.5703125,
          71139.8984375,
          71752.109375,
          71645.296875,
          72085.6328125,
          71731.421875,
          72186.09375,
          72152,
          71428.4296875,
          71595.4921875,
          71072.4921875,
          71555.1875,
          71822.828125,
          72050.3828125,
          72426.640625,
          72708.15625,
          73057.3984375,
          72623.09375,
          73158.2421875,
          73142.796875,
          72790.1328125,
          73095.21875
         ],
         "high": [
          72119.8515625,
          72484.34375,
          72417.0078125,
          72332.8515625,
          71862,
          71954.7890625,
          72156.4765625,
          72181.7734375,
          72035.46875,
          71733.84375,
          71999.46875,
          72720.9609375,
          73402.15625,
          73427.59375,
          72484.796875,
          71451.2890625,
          71895.640625,
          72039.203125,
          71149.609375,
          71049.4609375,
          72010.21875,
          72142.2265625,
          71851.390625,
          72151.0234375,
          73089.3984375,
          72385.9296875,
          72261.3984375,
          72559.2109375,
          72473.421875,
          71676.4921875,
          71756.578125,
          71662.7421875,
          71938.59375,
          72164.96875,
          72545.328125,
          72881.9296875,
          73130.6875,
          73267.796875,
          73256.390625,
          73413.9296875,
          73092.2578125,
          73161.296875
         ],
         "low": [
          71473.6484375,
          72137.453125,
          72082.640625,
          71613.7421875,
          71303.96875,
          71546.6015625,
          71779.828125,
          71301.0390625,
          71307.2734375,
          71110.9765625,
          71543.1875,
          71982.2890625,
          72909,
          72960.2890625,
          71429.296875,
          70665.5,
          71542.7421875,
          70234.546875,
          70001.6015625,
          70319.0390625,
          70880.5390625,
          71075.71875,
          70846.0390625,
          71574.890625,
          71948.7734375,
          71602.140625,
          71625.1796875,
          71938.21875,
          71230.6171875,
          71200.3125,
          70922.5703125,
          70924.296875,
          70809.84375,
          71644.4375,
          72218.1015625,
          72308.6796875,
          72510.2421875,
          72450.5625,
          72081.359375,
          73022,
          72666.8203125,
          72660.1328125
         ],
         "open": [
          71492.0234375,
          72262.671875,
          72351.59375,
          72332.8515625,
          71832.6171875,
          71678.9296875,
          72016.7109375,
          72113.25,
          71770.90625,
          71383.203125,
          71907.75,
          72148.0703125,
          73049.8671875,
          73331.953125,
          71998.9296875,
          71018.859375,
          71786.7421875,
          71868.203125,
          70165.4921875,
          71022.1015625,
          70968.1015625,
          72000.203125,
          71073.0390625,
          71998.78125,
          71977.5625,
          72269.1171875,
          71970.8203125,
          72548.5,
          72473.421875,
          71410.2890625,
          71722.3125,
          71292.078125,
          71035.25,
          72061.46875,
          72406.0234375,
          72627.6015625,
          72727.8671875,
          73267.4765625,
          72677.5078125,
          73394.4375,
          73044.8125,
          72723.53125
         ],
         "type": "candlestick",
         "x": [
          5,
          6,
          7,
          8,
          9,
          10,
          11,
          12,
          13,
          14,
          15,
          16,
          17,
          18,
          19,
          20,
          21,
          22,
          23,
          24,
          25,
          26,
          27,
          28,
          29,
          30,
          31,
          32,
          33,
          34,
          35,
          36,
          37,
          38,
          39,
          40,
          41,
          42,
          43,
          44,
          45,
          46
         ]
        },
        {
         "marker": {
          "color": "MediumPurple",
          "size": 7
         },
         "mode": "markers",
         "name": "pivot",
         "type": "scatter",
         "x": [
          5,
          6,
          7,
          8,
          9,
          10,
          11,
          12,
          13,
          14,
          15,
          16,
          17,
          18,
          19,
          20,
          21,
          22,
          23,
          24,
          25,
          26,
          27,
          28,
          29,
          30,
          31,
          32,
          33,
          34,
          35,
          36,
          37,
          38,
          39,
          40,
          41,
          42,
          43,
          44,
          45,
          46
         ],
         "y": [
          null,
          72484.34475,
          null,
          null,
          null,
          null,
          null,
          72181.7744375,
          null,
          71110.9755625,
          null,
          null,
          null,
          73427.59475,
          null,
          null,
          null,
          null,
          70001.6005625,
          null,
          null,
          null,
          null,
          null,
          73089.3994375,
          null,
          null,
          null,
          null,
          null,
          null,
          null,
          70809.84275,
          null,
          null,
          null,
          null,
          null,
          72081.358375,
          null,
          null,
          null
         ]
        },
        {
         "line": {
          "color": "green",
          "width": 2
         },
         "mode": "lines",
         "type": "scatter",
         "x": [
          37,
          23,
          43
         ],
         "y": [
          70809.84375,
          70001.6015625,
          71156.23325892858
         ]
        },
        {
         "line": {
          "color": "red",
          "width": 2
         },
         "mode": "lines",
         "type": "scatter",
         "x": [
          18,
          29
         ],
         "y": [
          73427.59375,
          73427.59375
         ]
        }
       ],
       "layout": {
        "height": 600,
        "template": {
         "data": {
          "bar": [
           {
            "error_x": {
             "color": "#2a3f5f"
            },
            "error_y": {
             "color": "#2a3f5f"
            },
            "marker": {
             "line": {
              "color": "#E5ECF6",
              "width": 0.5
             },
             "pattern": {
              "fillmode": "overlay",
              "size": 10,
              "solidity": 0.2
             }
            },
            "type": "bar"
           }
          ],
          "barpolar": [
           {
            "marker": {
             "line": {
              "color": "#E5ECF6",
              "width": 0.5
             },
             "pattern": {
              "fillmode": "overlay",
              "size": 10,
              "solidity": 0.2
             }
            },
            "type": "barpolar"
           }
          ],
          "carpet": [
           {
            "aaxis": {
             "endlinecolor": "#2a3f5f",
             "gridcolor": "white",
             "linecolor": "white",
             "minorgridcolor": "white",
             "startlinecolor": "#2a3f5f"
            },
            "baxis": {
             "endlinecolor": "#2a3f5f",
             "gridcolor": "white",
             "linecolor": "white",
             "minorgridcolor": "white",
             "startlinecolor": "#2a3f5f"
            },
            "type": "carpet"
           }
          ],
          "choropleth": [
           {
            "colorbar": {
             "outlinewidth": 0,
             "ticks": ""
            },
            "type": "choropleth"
           }
          ],
          "contour": [
           {
            "colorbar": {
             "outlinewidth": 0,
             "ticks": ""
            },
            "colorscale": [
             [
              0,
              "#0d0887"
             ],
             [
              0.1111111111111111,
              "#46039f"
             ],
             [
              0.2222222222222222,
              "#7201a8"
             ],
             [
              0.3333333333333333,
              "#9c179e"
             ],
             [
              0.4444444444444444,
              "#bd3786"
             ],
             [
              0.5555555555555556,
              "#d8576b"
             ],
             [
              0.6666666666666666,
              "#ed7953"
             ],
             [
              0.7777777777777778,
              "#fb9f3a"
             ],
             [
              0.8888888888888888,
              "#fdca26"
             ],
             [
              1,
              "#f0f921"
             ]
            ],
            "type": "contour"
           }
          ],
          "contourcarpet": [
           {
            "colorbar": {
             "outlinewidth": 0,
             "ticks": ""
            },
            "type": "contourcarpet"
           }
          ],
          "heatmap": [
           {
            "colorbar": {
             "outlinewidth": 0,
             "ticks": ""
            },
            "colorscale": [
             [
              0,
              "#0d0887"
             ],
             [
              0.1111111111111111,
              "#46039f"
             ],
             [
              0.2222222222222222,
              "#7201a8"
             ],
             [
              0.3333333333333333,
              "#9c179e"
             ],
             [
              0.4444444444444444,
              "#bd3786"
             ],
             [
              0.5555555555555556,
              "#d8576b"
             ],
             [
              0.6666666666666666,
              "#ed7953"
             ],
             [
              0.7777777777777778,
              "#fb9f3a"
             ],
             [
              0.8888888888888888,
              "#fdca26"
             ],
             [
              1,
              "#f0f921"
             ]
            ],
            "type": "heatmap"
           }
          ],
          "heatmapgl": [
           {
            "colorbar": {
             "outlinewidth": 0,
             "ticks": ""
            },
            "colorscale": [
             [
              0,
              "#0d0887"
             ],
             [
              0.1111111111111111,
              "#46039f"
             ],
             [
              0.2222222222222222,
              "#7201a8"
             ],
             [
              0.3333333333333333,
              "#9c179e"
             ],
             [
              0.4444444444444444,
              "#bd3786"
             ],
             [
              0.5555555555555556,
              "#d8576b"
             ],
             [
              0.6666666666666666,
              "#ed7953"
             ],
             [
              0.7777777777777778,
              "#fb9f3a"
             ],
             [
              0.8888888888888888,
              "#fdca26"
             ],
             [
              1,
              "#f0f921"
             ]
            ],
            "type": "heatmapgl"
           }
          ],
          "histogram": [
           {
            "marker": {
             "pattern": {
              "fillmode": "overlay",
              "size": 10,
              "solidity": 0.2
             }
            },
            "type": "histogram"
           }
          ],
          "histogram2d": [
           {
            "colorbar": {
             "outlinewidth": 0,
             "ticks": ""
            },
            "colorscale": [
             [
              0,
              "#0d0887"
             ],
             [
              0.1111111111111111,
              "#46039f"
             ],
             [
              0.2222222222222222,
              "#7201a8"
             ],
             [
              0.3333333333333333,
              "#9c179e"
             ],
             [
              0.4444444444444444,
              "#bd3786"
             ],
             [
              0.5555555555555556,
              "#d8576b"
             ],
             [
              0.6666666666666666,
              "#ed7953"
             ],
             [
              0.7777777777777778,
              "#fb9f3a"
             ],
             [
              0.8888888888888888,
              "#fdca26"
             ],
             [
              1,
              "#f0f921"
             ]
            ],
            "type": "histogram2d"
           }
          ],
          "histogram2dcontour": [
           {
            "colorbar": {
             "outlinewidth": 0,
             "ticks": ""
            },
            "colorscale": [
             [
              0,
              "#0d0887"
             ],
             [
              0.1111111111111111,
              "#46039f"
             ],
             [
              0.2222222222222222,
              "#7201a8"
             ],
             [
              0.3333333333333333,
              "#9c179e"
             ],
             [
              0.4444444444444444,
              "#bd3786"
             ],
             [
              0.5555555555555556,
              "#d8576b"
             ],
             [
              0.6666666666666666,
              "#ed7953"
             ],
             [
              0.7777777777777778,
              "#fb9f3a"
             ],
             [
              0.8888888888888888,
              "#fdca26"
             ],
             [
              1,
              "#f0f921"
             ]
            ],
            "type": "histogram2dcontour"
           }
          ],
          "mesh3d": [
           {
            "colorbar": {
             "outlinewidth": 0,
             "ticks": ""
            },
            "type": "mesh3d"
           }
          ],
          "parcoords": [
           {
            "line": {
             "colorbar": {
              "outlinewidth": 0,
              "ticks": ""
             }
            },
            "type": "parcoords"
           }
          ],
          "pie": [
           {
            "automargin": true,
            "type": "pie"
           }
          ],
          "scatter": [
           {
            "fillpattern": {
             "fillmode": "overlay",
             "size": 10,
             "solidity": 0.2
            },
            "type": "scatter"
           }
          ],
          "scatter3d": [
           {
            "line": {
             "colorbar": {
              "outlinewidth": 0,
              "ticks": ""
             }
            },
            "marker": {
             "colorbar": {
              "outlinewidth": 0,
              "ticks": ""
             }
            },
            "type": "scatter3d"
           }
          ],
          "scattercarpet": [
           {
            "marker": {
             "colorbar": {
              "outlinewidth": 0,
              "ticks": ""
             }
            },
            "type": "scattercarpet"
           }
          ],
          "scattergeo": [
           {
            "marker": {
             "colorbar": {
              "outlinewidth": 0,
              "ticks": ""
             }
            },
            "type": "scattergeo"
           }
          ],
          "scattergl": [
           {
            "marker": {
             "colorbar": {
              "outlinewidth": 0,
              "ticks": ""
             }
            },
            "type": "scattergl"
           }
          ],
          "scattermapbox": [
           {
            "marker": {
             "colorbar": {
              "outlinewidth": 0,
              "ticks": ""
             }
            },
            "type": "scattermapbox"
           }
          ],
          "scatterpolar": [
           {
            "marker": {
             "colorbar": {
              "outlinewidth": 0,
              "ticks": ""
             }
            },
            "type": "scatterpolar"
           }
          ],
          "scatterpolargl": [
           {
            "marker": {
             "colorbar": {
              "outlinewidth": 0,
              "ticks": ""
             }
            },
            "type": "scatterpolargl"
           }
          ],
          "scatterternary": [
           {
            "marker": {
             "colorbar": {
              "outlinewidth": 0,
              "ticks": ""
             }
            },
            "type": "scatterternary"
           }
          ],
          "surface": [
           {
            "colorbar": {
             "outlinewidth": 0,
             "ticks": ""
            },
            "colorscale": [
             [
              0,
              "#0d0887"
             ],
             [
              0.1111111111111111,
              "#46039f"
             ],
             [
              0.2222222222222222,
              "#7201a8"
             ],
             [
              0.3333333333333333,
              "#9c179e"
             ],
             [
              0.4444444444444444,
              "#bd3786"
             ],
             [
              0.5555555555555556,
              "#d8576b"
             ],
             [
              0.6666666666666666,
              "#ed7953"
             ],
             [
              0.7777777777777778,
              "#fb9f3a"
             ],
             [
              0.8888888888888888,
              "#fdca26"
             ],
             [
              1,
              "#f0f921"
             ]
            ],
            "type": "surface"
           }
          ],
          "table": [
           {
            "cells": {
             "fill": {
              "color": "#EBF0F8"
             },
             "line": {
              "color": "white"
             }
            },
            "header": {
             "fill": {
              "color": "#C8D4E3"
             },
             "line": {
              "color": "white"
             }
            },
            "type": "table"
           }
          ]
         },
         "layout": {
          "annotationdefaults": {
           "arrowcolor": "#2a3f5f",
           "arrowhead": 0,
           "arrowwidth": 1
          },
          "autotypenumbers": "strict",
          "coloraxis": {
           "colorbar": {
            "outlinewidth": 0,
            "ticks": ""
           }
          },
          "colorscale": {
           "diverging": [
            [
             0,
             "#8e0152"
            ],
            [
             0.1,
             "#c51b7d"
            ],
            [
             0.2,
             "#de77ae"
            ],
            [
             0.3,
             "#f1b6da"
            ],
            [
             0.4,
             "#fde0ef"
            ],
            [
             0.5,
             "#f7f7f7"
            ],
            [
             0.6,
             "#e6f5d0"
            ],
            [
             0.7,
             "#b8e186"
            ],
            [
             0.8,
             "#7fbc41"
            ],
            [
             0.9,
             "#4d9221"
            ],
            [
             1,
             "#276419"
            ]
           ],
           "sequential": [
            [
             0,
             "#0d0887"
            ],
            [
             0.1111111111111111,
             "#46039f"
            ],
            [
             0.2222222222222222,
             "#7201a8"
            ],
            [
             0.3333333333333333,
             "#9c179e"
            ],
            [
             0.4444444444444444,
             "#bd3786"
            ],
            [
             0.5555555555555556,
             "#d8576b"
            ],
            [
             0.6666666666666666,
             "#ed7953"
            ],
            [
             0.7777777777777778,
             "#fb9f3a"
            ],
            [
             0.8888888888888888,
             "#fdca26"
            ],
            [
             1,
             "#f0f921"
            ]
           ],
           "sequentialminus": [
            [
             0,
             "#0d0887"
            ],
            [
             0.1111111111111111,
             "#46039f"
            ],
            [
             0.2222222222222222,
             "#7201a8"
            ],
            [
             0.3333333333333333,
             "#9c179e"
            ],
            [
             0.4444444444444444,
             "#bd3786"
            ],
            [
             0.5555555555555556,
             "#d8576b"
            ],
            [
             0.6666666666666666,
             "#ed7953"
            ],
            [
             0.7777777777777778,
             "#fb9f3a"
            ],
            [
             0.8888888888888888,
             "#fdca26"
            ],
            [
             1,
             "#f0f921"
            ]
           ]
          },
          "colorway": [
           "#636efa",
           "#EF553B",
           "#00cc96",
           "#ab63fa",
           "#FFA15A",
           "#19d3f3",
           "#FF6692",
           "#B6E880",
           "#FF97FF",
           "#FECB52"
          ],
          "font": {
           "color": "#2a3f5f"
          },
          "geo": {
           "bgcolor": "white",
           "lakecolor": "white",
           "landcolor": "#E5ECF6",
           "showlakes": true,
           "showland": true,
           "subunitcolor": "white"
          },
          "hoverlabel": {
           "align": "left"
          },
          "hovermode": "closest",
          "mapbox": {
           "style": "light"
          },
          "paper_bgcolor": "white",
          "plot_bgcolor": "#E5ECF6",
          "polar": {
           "angularaxis": {
            "gridcolor": "white",
            "linecolor": "white",
            "ticks": ""
           },
           "bgcolor": "#E5ECF6",
           "radialaxis": {
            "gridcolor": "white",
            "linecolor": "white",
            "ticks": ""
           }
          },
          "scene": {
           "xaxis": {
            "backgroundcolor": "#E5ECF6",
            "gridcolor": "white",
            "gridwidth": 2,
            "linecolor": "white",
            "showbackground": true,
            "ticks": "",
            "zerolinecolor": "white"
           },
           "yaxis": {
            "backgroundcolor": "#E5ECF6",
            "gridcolor": "white",
            "gridwidth": 2,
            "linecolor": "white",
            "showbackground": true,
            "ticks": "",
            "zerolinecolor": "white"
           },
           "zaxis": {
            "backgroundcolor": "#E5ECF6",
            "gridcolor": "white",
            "gridwidth": 2,
            "linecolor": "white",
            "showbackground": true,
            "ticks": "",
            "zerolinecolor": "white"
           }
          },
          "shapedefaults": {
           "line": {
            "color": "#2a3f5f"
           }
          },
          "ternary": {
           "aaxis": {
            "gridcolor": "white",
            "linecolor": "white",
            "ticks": ""
           },
           "baxis": {
            "gridcolor": "white",
            "linecolor": "white",
            "ticks": ""
           },
           "bgcolor": "#E5ECF6",
           "caxis": {
            "gridcolor": "white",
            "linecolor": "white",
            "ticks": ""
           }
          },
          "title": {
           "x": 0.05
          },
          "xaxis": {
           "automargin": true,
           "gridcolor": "white",
           "linecolor": "white",
           "ticks": "",
           "title": {
            "standoff": 15
           },
           "zerolinecolor": "white",
           "zerolinewidth": 2
          },
          "yaxis": {
           "automargin": true,
           "gridcolor": "white",
           "linecolor": "white",
           "ticks": "",
           "title": {
            "standoff": 15
           },
           "zerolinecolor": "white",
           "zerolinewidth": 2
          }
         }
        },
        "title": {
         "text": "Candlestick Chart for ^BSESN "
        },
        "width": 900,
        "xaxis": {
         "rangeslider": {
          "visible": true
         }
        }
       }
      }
     },
     "metadata": {},
     "output_type": "display_data"
    },
    {
     "name": "stderr",
     "output_type": "stream",
     "text": [
      "[*********************100%%**********************]  1 of 1 completed\n"
     ]
    },
    {
     "data": {
      "application/vnd.plotly.v1+json": {
       "config": {
        "plotlyServerURL": "https://plot.ly"
       },
       "data": [
        {
         "close": [
          35493.44921875,
          35741,
          35691.6484375,
          35515,
          35283.1015625,
          34395.44921875,
          34409.3984375,
          34851.75,
          34514.6484375,
          34662.44921875,
          34834.3515625,
          34735.25,
          36521.69921875,
          37201.94921875,
          36727.1015625,
          36960.3984375,
          36730.5,
          37069.25,
          36521.3515625,
          37090.1484375,
          36496.19921875,
          36531.8984375,
          36381.94921875,
          36638.3984375,
          36534.55078125,
          37323.25,
          37162.1484375,
          38246.30078125,
          37767.75,
          37851.6015625,
          37699.25,
          37998,
          38204,
          37775.3984375,
          37999.55078125,
          38477.05078125,
          38029.69921875,
          37405.8984375,
          38130.1484375,
          38045.6484375,
          37598.6484375,
          37870.25
         ],
         "high": [
          35682.6484375,
          35814.69921875,
          35850.3984375,
          35781.1015625,
          35701.80078125,
          35076.94921875,
          34800.3515625,
          34991.55078125,
          34881.80078125,
          35139.3515625,
          34941,
          35104.94921875,
          36581.1015625,
          37929.30078125,
          37132.3984375,
          37107.19921875,
          36826.44921875,
          37263.94921875,
          37383.44921875,
          37174.19921875,
          36938.6015625,
          36653.25,
          37022.8984375,
          36704.5,
          36951.3984375,
          37663.94921875,
          37574.44921875,
          38286,
          38373.44921875,
          38101.5,
          38082.05078125,
          38285.3515625,
          38258.5,
          37844.69921875,
          38270.44921875,
          38516.55078125,
          38347.8984375,
          38001.44921875,
          38192.1015625,
          38490.44921875,
          38005.8515625,
          37929.30078125
         ],
         "low": [
          35185.44921875,
          35447.1015625,
          35614.80078125,
          35395.05078125,
          35106.1484375,
          34367.75,
          34236.6015625,
          34459.44921875,
          34419.75,
          34608.44921875,
          34546.94921875,
          34665.1015625,
          35659.55078125,
          37109.3515625,
          36600.44921875,
          36289.30078125,
          36136.3984375,
          36831.3515625,
          36424.8984375,
          36435.30078125,
          36354.1015625,
          36351.5,
          36321.1015625,
          36228.8515625,
          36451.1484375,
          36729.94921875,
          37097.94921875,
          37161.6015625,
          37734.55078125,
          37625.75,
          37443.75,
          37770,
          37605.30078125,
          37200.05078125,
          37735.6015625,
          38131.8515625,
          37780.19921875,
          37302.6015625,
          37395.3515625,
          37980.1015625,
          37384.8984375,
          37606.69921875
         ],
         "open": [
          35421.1484375,
          35557.30078125,
          35812,
          35559.3984375,
          35668.05078125,
          35039.05078125,
          34552.94921875,
          34469.69921875,
          34876.6484375,
          34926.6484375,
          34693,
          34978.30078125,
          35673,
          37538.44921875,
          37132.3984375,
          36299.6015625,
          36784.3515625,
          37065,
          36958.30078125,
          36761.6015625,
          36938.6015625,
          36553.80078125,
          36682.1015625,
          36373.94921875,
          36632.5,
          36730.1484375,
          37441,
          37267.1484375,
          38345.3984375,
          37893.44921875,
          37891.5,
          37770,
          38070.3984375,
          37724.75,
          38053.30078125,
          38211.55078125,
          38190.75,
          37938.8515625,
          37535.75,
          38487.5,
          37991.8984375,
          37606.69921875
         ],
         "type": "candlestick",
         "x": [
          4,
          5,
          6,
          7,
          8,
          9,
          10,
          11,
          12,
          13,
          14,
          15,
          16,
          17,
          18,
          19,
          20,
          21,
          22,
          23,
          24,
          25,
          26,
          27,
          28,
          29,
          30,
          31,
          32,
          33,
          34,
          35,
          36,
          37,
          38,
          39,
          40,
          41,
          42,
          43,
          44,
          45
         ]
        },
        {
         "marker": {
          "color": "MediumPurple",
          "size": 7
         },
         "mode": "markers",
         "name": "pivot",
         "type": "scatter",
         "x": [
          4,
          5,
          6,
          7,
          8,
          9,
          10,
          11,
          12,
          13,
          14,
          15,
          16,
          17,
          18,
          19,
          20,
          21,
          22,
          23,
          24,
          25,
          26,
          27,
          28,
          29,
          30,
          31,
          32,
          33,
          34,
          35,
          36,
          37,
          38,
          39,
          40,
          41,
          42,
          43,
          44,
          45
         ],
         "y": [
          null,
          null,
          35850.3994375,
          null,
          null,
          null,
          34236.6005625,
          null,
          null,
          null,
          null,
          null,
          null,
          37929.30178125,
          null,
          null,
          36136.3974375,
          null,
          37383.45021875,
          null,
          null,
          null,
          null,
          36228.8505625,
          null,
          null,
          null,
          null,
          38373.45021875,
          null,
          null,
          null,
          null,
          37200.04978125,
          null,
          38516.55178125,
          null,
          37302.6005625,
          null,
          null,
          null,
          null
         ]
        },
        {
         "line": {
          "color": "green",
          "width": 2
         },
         "mode": "lines",
         "type": "scatter",
         "x": [
          41,
          27,
          20,
          37
         ],
         "y": [
          37239.11272321428,
          36419.318080357145,
          36009.42075892857,
          37004.88568239796
         ]
        },
        {
         "line": {
          "color": "red",
          "width": 2
         },
         "mode": "lines",
         "type": "scatter",
         "x": [
          39,
          22,
          17,
          32
         ],
         "y": [
          38422.91052827381,
          37795.46633184524,
          37610.923921130954,
          38164.55115327381
         ]
        }
       ],
       "layout": {
        "height": 600,
        "template": {
         "data": {
          "bar": [
           {
            "error_x": {
             "color": "#2a3f5f"
            },
            "error_y": {
             "color": "#2a3f5f"
            },
            "marker": {
             "line": {
              "color": "#E5ECF6",
              "width": 0.5
             },
             "pattern": {
              "fillmode": "overlay",
              "size": 10,
              "solidity": 0.2
             }
            },
            "type": "bar"
           }
          ],
          "barpolar": [
           {
            "marker": {
             "line": {
              "color": "#E5ECF6",
              "width": 0.5
             },
             "pattern": {
              "fillmode": "overlay",
              "size": 10,
              "solidity": 0.2
             }
            },
            "type": "barpolar"
           }
          ],
          "carpet": [
           {
            "aaxis": {
             "endlinecolor": "#2a3f5f",
             "gridcolor": "white",
             "linecolor": "white",
             "minorgridcolor": "white",
             "startlinecolor": "#2a3f5f"
            },
            "baxis": {
             "endlinecolor": "#2a3f5f",
             "gridcolor": "white",
             "linecolor": "white",
             "minorgridcolor": "white",
             "startlinecolor": "#2a3f5f"
            },
            "type": "carpet"
           }
          ],
          "choropleth": [
           {
            "colorbar": {
             "outlinewidth": 0,
             "ticks": ""
            },
            "type": "choropleth"
           }
          ],
          "contour": [
           {
            "colorbar": {
             "outlinewidth": 0,
             "ticks": ""
            },
            "colorscale": [
             [
              0,
              "#0d0887"
             ],
             [
              0.1111111111111111,
              "#46039f"
             ],
             [
              0.2222222222222222,
              "#7201a8"
             ],
             [
              0.3333333333333333,
              "#9c179e"
             ],
             [
              0.4444444444444444,
              "#bd3786"
             ],
             [
              0.5555555555555556,
              "#d8576b"
             ],
             [
              0.6666666666666666,
              "#ed7953"
             ],
             [
              0.7777777777777778,
              "#fb9f3a"
             ],
             [
              0.8888888888888888,
              "#fdca26"
             ],
             [
              1,
              "#f0f921"
             ]
            ],
            "type": "contour"
           }
          ],
          "contourcarpet": [
           {
            "colorbar": {
             "outlinewidth": 0,
             "ticks": ""
            },
            "type": "contourcarpet"
           }
          ],
          "heatmap": [
           {
            "colorbar": {
             "outlinewidth": 0,
             "ticks": ""
            },
            "colorscale": [
             [
              0,
              "#0d0887"
             ],
             [
              0.1111111111111111,
              "#46039f"
             ],
             [
              0.2222222222222222,
              "#7201a8"
             ],
             [
              0.3333333333333333,
              "#9c179e"
             ],
             [
              0.4444444444444444,
              "#bd3786"
             ],
             [
              0.5555555555555556,
              "#d8576b"
             ],
             [
              0.6666666666666666,
              "#ed7953"
             ],
             [
              0.7777777777777778,
              "#fb9f3a"
             ],
             [
              0.8888888888888888,
              "#fdca26"
             ],
             [
              1,
              "#f0f921"
             ]
            ],
            "type": "heatmap"
           }
          ],
          "heatmapgl": [
           {
            "colorbar": {
             "outlinewidth": 0,
             "ticks": ""
            },
            "colorscale": [
             [
              0,
              "#0d0887"
             ],
             [
              0.1111111111111111,
              "#46039f"
             ],
             [
              0.2222222222222222,
              "#7201a8"
             ],
             [
              0.3333333333333333,
              "#9c179e"
             ],
             [
              0.4444444444444444,
              "#bd3786"
             ],
             [
              0.5555555555555556,
              "#d8576b"
             ],
             [
              0.6666666666666666,
              "#ed7953"
             ],
             [
              0.7777777777777778,
              "#fb9f3a"
             ],
             [
              0.8888888888888888,
              "#fdca26"
             ],
             [
              1,
              "#f0f921"
             ]
            ],
            "type": "heatmapgl"
           }
          ],
          "histogram": [
           {
            "marker": {
             "pattern": {
              "fillmode": "overlay",
              "size": 10,
              "solidity": 0.2
             }
            },
            "type": "histogram"
           }
          ],
          "histogram2d": [
           {
            "colorbar": {
             "outlinewidth": 0,
             "ticks": ""
            },
            "colorscale": [
             [
              0,
              "#0d0887"
             ],
             [
              0.1111111111111111,
              "#46039f"
             ],
             [
              0.2222222222222222,
              "#7201a8"
             ],
             [
              0.3333333333333333,
              "#9c179e"
             ],
             [
              0.4444444444444444,
              "#bd3786"
             ],
             [
              0.5555555555555556,
              "#d8576b"
             ],
             [
              0.6666666666666666,
              "#ed7953"
             ],
             [
              0.7777777777777778,
              "#fb9f3a"
             ],
             [
              0.8888888888888888,
              "#fdca26"
             ],
             [
              1,
              "#f0f921"
             ]
            ],
            "type": "histogram2d"
           }
          ],
          "histogram2dcontour": [
           {
            "colorbar": {
             "outlinewidth": 0,
             "ticks": ""
            },
            "colorscale": [
             [
              0,
              "#0d0887"
             ],
             [
              0.1111111111111111,
              "#46039f"
             ],
             [
              0.2222222222222222,
              "#7201a8"
             ],
             [
              0.3333333333333333,
              "#9c179e"
             ],
             [
              0.4444444444444444,
              "#bd3786"
             ],
             [
              0.5555555555555556,
              "#d8576b"
             ],
             [
              0.6666666666666666,
              "#ed7953"
             ],
             [
              0.7777777777777778,
              "#fb9f3a"
             ],
             [
              0.8888888888888888,
              "#fdca26"
             ],
             [
              1,
              "#f0f921"
             ]
            ],
            "type": "histogram2dcontour"
           }
          ],
          "mesh3d": [
           {
            "colorbar": {
             "outlinewidth": 0,
             "ticks": ""
            },
            "type": "mesh3d"
           }
          ],
          "parcoords": [
           {
            "line": {
             "colorbar": {
              "outlinewidth": 0,
              "ticks": ""
             }
            },
            "type": "parcoords"
           }
          ],
          "pie": [
           {
            "automargin": true,
            "type": "pie"
           }
          ],
          "scatter": [
           {
            "fillpattern": {
             "fillmode": "overlay",
             "size": 10,
             "solidity": 0.2
            },
            "type": "scatter"
           }
          ],
          "scatter3d": [
           {
            "line": {
             "colorbar": {
              "outlinewidth": 0,
              "ticks": ""
             }
            },
            "marker": {
             "colorbar": {
              "outlinewidth": 0,
              "ticks": ""
             }
            },
            "type": "scatter3d"
           }
          ],
          "scattercarpet": [
           {
            "marker": {
             "colorbar": {
              "outlinewidth": 0,
              "ticks": ""
             }
            },
            "type": "scattercarpet"
           }
          ],
          "scattergeo": [
           {
            "marker": {
             "colorbar": {
              "outlinewidth": 0,
              "ticks": ""
             }
            },
            "type": "scattergeo"
           }
          ],
          "scattergl": [
           {
            "marker": {
             "colorbar": {
              "outlinewidth": 0,
              "ticks": ""
             }
            },
            "type": "scattergl"
           }
          ],
          "scattermapbox": [
           {
            "marker": {
             "colorbar": {
              "outlinewidth": 0,
              "ticks": ""
             }
            },
            "type": "scattermapbox"
           }
          ],
          "scatterpolar": [
           {
            "marker": {
             "colorbar": {
              "outlinewidth": 0,
              "ticks": ""
             }
            },
            "type": "scatterpolar"
           }
          ],
          "scatterpolargl": [
           {
            "marker": {
             "colorbar": {
              "outlinewidth": 0,
              "ticks": ""
             }
            },
            "type": "scatterpolargl"
           }
          ],
          "scatterternary": [
           {
            "marker": {
             "colorbar": {
              "outlinewidth": 0,
              "ticks": ""
             }
            },
            "type": "scatterternary"
           }
          ],
          "surface": [
           {
            "colorbar": {
             "outlinewidth": 0,
             "ticks": ""
            },
            "colorscale": [
             [
              0,
              "#0d0887"
             ],
             [
              0.1111111111111111,
              "#46039f"
             ],
             [
              0.2222222222222222,
              "#7201a8"
             ],
             [
              0.3333333333333333,
              "#9c179e"
             ],
             [
              0.4444444444444444,
              "#bd3786"
             ],
             [
              0.5555555555555556,
              "#d8576b"
             ],
             [
              0.6666666666666666,
              "#ed7953"
             ],
             [
              0.7777777777777778,
              "#fb9f3a"
             ],
             [
              0.8888888888888888,
              "#fdca26"
             ],
             [
              1,
              "#f0f921"
             ]
            ],
            "type": "surface"
           }
          ],
          "table": [
           {
            "cells": {
             "fill": {
              "color": "#EBF0F8"
             },
             "line": {
              "color": "white"
             }
            },
            "header": {
             "fill": {
              "color": "#C8D4E3"
             },
             "line": {
              "color": "white"
             }
            },
            "type": "table"
           }
          ]
         },
         "layout": {
          "annotationdefaults": {
           "arrowcolor": "#2a3f5f",
           "arrowhead": 0,
           "arrowwidth": 1
          },
          "autotypenumbers": "strict",
          "coloraxis": {
           "colorbar": {
            "outlinewidth": 0,
            "ticks": ""
           }
          },
          "colorscale": {
           "diverging": [
            [
             0,
             "#8e0152"
            ],
            [
             0.1,
             "#c51b7d"
            ],
            [
             0.2,
             "#de77ae"
            ],
            [
             0.3,
             "#f1b6da"
            ],
            [
             0.4,
             "#fde0ef"
            ],
            [
             0.5,
             "#f7f7f7"
            ],
            [
             0.6,
             "#e6f5d0"
            ],
            [
             0.7,
             "#b8e186"
            ],
            [
             0.8,
             "#7fbc41"
            ],
            [
             0.9,
             "#4d9221"
            ],
            [
             1,
             "#276419"
            ]
           ],
           "sequential": [
            [
             0,
             "#0d0887"
            ],
            [
             0.1111111111111111,
             "#46039f"
            ],
            [
             0.2222222222222222,
             "#7201a8"
            ],
            [
             0.3333333333333333,
             "#9c179e"
            ],
            [
             0.4444444444444444,
             "#bd3786"
            ],
            [
             0.5555555555555556,
             "#d8576b"
            ],
            [
             0.6666666666666666,
             "#ed7953"
            ],
            [
             0.7777777777777778,
             "#fb9f3a"
            ],
            [
             0.8888888888888888,
             "#fdca26"
            ],
            [
             1,
             "#f0f921"
            ]
           ],
           "sequentialminus": [
            [
             0,
             "#0d0887"
            ],
            [
             0.1111111111111111,
             "#46039f"
            ],
            [
             0.2222222222222222,
             "#7201a8"
            ],
            [
             0.3333333333333333,
             "#9c179e"
            ],
            [
             0.4444444444444444,
             "#bd3786"
            ],
            [
             0.5555555555555556,
             "#d8576b"
            ],
            [
             0.6666666666666666,
             "#ed7953"
            ],
            [
             0.7777777777777778,
             "#fb9f3a"
            ],
            [
             0.8888888888888888,
             "#fdca26"
            ],
            [
             1,
             "#f0f921"
            ]
           ]
          },
          "colorway": [
           "#636efa",
           "#EF553B",
           "#00cc96",
           "#ab63fa",
           "#FFA15A",
           "#19d3f3",
           "#FF6692",
           "#B6E880",
           "#FF97FF",
           "#FECB52"
          ],
          "font": {
           "color": "#2a3f5f"
          },
          "geo": {
           "bgcolor": "white",
           "lakecolor": "white",
           "landcolor": "#E5ECF6",
           "showlakes": true,
           "showland": true,
           "subunitcolor": "white"
          },
          "hoverlabel": {
           "align": "left"
          },
          "hovermode": "closest",
          "mapbox": {
           "style": "light"
          },
          "paper_bgcolor": "white",
          "plot_bgcolor": "#E5ECF6",
          "polar": {
           "angularaxis": {
            "gridcolor": "white",
            "linecolor": "white",
            "ticks": ""
           },
           "bgcolor": "#E5ECF6",
           "radialaxis": {
            "gridcolor": "white",
            "linecolor": "white",
            "ticks": ""
           }
          },
          "scene": {
           "xaxis": {
            "backgroundcolor": "#E5ECF6",
            "gridcolor": "white",
            "gridwidth": 2,
            "linecolor": "white",
            "showbackground": true,
            "ticks": "",
            "zerolinecolor": "white"
           },
           "yaxis": {
            "backgroundcolor": "#E5ECF6",
            "gridcolor": "white",
            "gridwidth": 2,
            "linecolor": "white",
            "showbackground": true,
            "ticks": "",
            "zerolinecolor": "white"
           },
           "zaxis": {
            "backgroundcolor": "#E5ECF6",
            "gridcolor": "white",
            "gridwidth": 2,
            "linecolor": "white",
            "showbackground": true,
            "ticks": "",
            "zerolinecolor": "white"
           }
          },
          "shapedefaults": {
           "line": {
            "color": "#2a3f5f"
           }
          },
          "ternary": {
           "aaxis": {
            "gridcolor": "white",
            "linecolor": "white",
            "ticks": ""
           },
           "baxis": {
            "gridcolor": "white",
            "linecolor": "white",
            "ticks": ""
           },
           "bgcolor": "#E5ECF6",
           "caxis": {
            "gridcolor": "white",
            "linecolor": "white",
            "ticks": ""
           }
          },
          "title": {
           "x": 0.05
          },
          "xaxis": {
           "automargin": true,
           "gridcolor": "white",
           "linecolor": "white",
           "ticks": "",
           "title": {
            "standoff": 15
           },
           "zerolinecolor": "white",
           "zerolinewidth": 2
          },
          "yaxis": {
           "automargin": true,
           "gridcolor": "white",
           "linecolor": "white",
           "ticks": "",
           "title": {
            "standoff": 15
           },
           "zerolinecolor": "white",
           "zerolinewidth": 2
          }
         }
        },
        "title": {
         "text": "Candlestick Chart for ^CNXIT "
        },
        "width": 900,
        "xaxis": {
         "rangeslider": {
          "visible": true
         }
        }
       }
      }
     },
     "metadata": {},
     "output_type": "display_data"
    },
    {
     "name": "stderr",
     "output_type": "stream",
     "text": [
      "[*********************100%%**********************]  1 of 1 completed\n"
     ]
    },
    {
     "data": {
      "application/vnd.plotly.v1+json": {
       "config": {
        "plotlyServerURL": "https://plot.ly"
       },
       "data": [
        {
         "close": [
          47724.8515625,
          48282.19921875,
          48508.55078125,
          48292.25,
          47761.6484375,
          47704.94921875,
          48195.8515625,
          48159,
          47450.25,
          47242.6484375,
          47360.8515625,
          47438.3515625,
          47709.80078125,
          48158.30078125,
          48125.1015625,
          46064.44921875,
          45713.55078125,
          45701.1484375,
          45015.05078125,
          45082.3984375,
          44866.1484375,
          45442.3515625,
          45367.75,
          45996.80078125,
          46188.6484375,
          45970.94921875,
          45825.55078125,
          45690.80078125,
          45818.5,
          45012,
          45634.55078125,
          44882.25,
          45502.3984375,
          45908.30078125,
          46218.8984375,
          46384.8515625,
          47094.19921875,
          47019.69921875,
          46919.80078125,
          46811.75,
          46576.5,
          46588.05078125
         ],
         "high": [
          47838.44921875,
          48347.6484375,
          48636.44921875,
          48477.69921875,
          48223.55078125,
          47798.75,
          48281.19921875,
          48381.94921875,
          48154.5,
          47939.30078125,
          47423.44921875,
          47662.1015625,
          47873.69921875,
          48248.05078125,
          48305.3984375,
          47212.75,
          46184.05078125,
          46249.8515625,
          46580.30078125,
          45485.5,
          45139.05078125,
          45660.3515625,
          45678.69921875,
          46179.75,
          46306.8984375,
          46892.3515625,
          46048.6015625,
          45932.1484375,
          46062.8515625,
          46181.19921875,
          45718.1484375,
          45748.5,
          45750.3984375,
          46170.44921875,
          46297.69921875,
          46693.3984375,
          47136.75,
          47363.3984375,
          47024.05078125,
          47245.3515625,
          46893.1484375,
          46722.25
         ],
         "low": [
          47411.6484375,
          47806.69921875,
          48343.1484375,
          48091.8515625,
          47689.80078125,
          47481.3515625,
          47738.1484375,
          47822.8515625,
          47387.3515625,
          47156.05078125,
          47010.80078125,
          47237,
          47408.5,
          47825.3984375,
          48002.8515625,
          45979.6015625,
          45430.69921875,
          45558.05078125,
          44886.1015625,
          44489.3984375,
          44429,
          45110.8984375,
          45206.05078125,
          45071.19921875,
          45668.3515625,
          45901.25,
          45615.1015625,
          45527,
          45620.5,
          44893.75,
          44859.1484375,
          44633.8515625,
          44819.55078125,
          44860.75,
          45590.19921875,
          46264.3984375,
          46367.80078125,
          46886.94921875,
          46426.8515625,
          46723.1484375,
          46513.55078125,
          46324.8984375
         ],
         "open": [
          47576.3984375,
          47818.5,
          48479.05078125,
          48374.8515625,
          48194.80078125,
          47796.30078125,
          47805.3984375,
          48245.55078125,
          48096.6484375,
          47705.3984375,
          47073.8515625,
          47538.6015625,
          47572.69921875,
          47891.05078125,
          48109.94921875,
          46573.94921875,
          45492.75,
          46103.5,
          46495.44921875,
          44489.3984375,
          45057.94921875,
          45171.5,
          45481.5,
          45295.6484375,
          46164.8984375,
          46568.19921875,
          45962.25,
          45891.19921875,
          45944.6015625,
          45973.8515625,
          44986.75,
          45664.30078125,
          45056.80078125,
          45014.6484375,
          46027.1015625,
          46454.30078125,
          46444.8984375,
          47363.3984375,
          46934.55078125,
          47060.69921875,
          46615.8515625,
          46480.19921875
         ],
         "type": "candlestick",
         "x": [
          4,
          5,
          6,
          7,
          8,
          9,
          10,
          11,
          12,
          13,
          14,
          15,
          16,
          17,
          18,
          19,
          20,
          21,
          22,
          23,
          24,
          25,
          26,
          27,
          28,
          29,
          30,
          31,
          32,
          33,
          34,
          35,
          36,
          37,
          38,
          39,
          40,
          41,
          42,
          43,
          44,
          45
         ]
        },
        {
         "marker": {
          "color": "MediumPurple",
          "size": 7
         },
         "mode": "markers",
         "name": "pivot",
         "type": "scatter",
         "x": [
          4,
          5,
          6,
          7,
          8,
          9,
          10,
          11,
          12,
          13,
          14,
          15,
          16,
          17,
          18,
          19,
          20,
          21,
          22,
          23,
          24,
          25,
          26,
          27,
          28,
          29,
          30,
          31,
          32,
          33,
          34,
          35,
          36,
          37,
          38,
          39,
          40,
          41,
          42,
          43,
          44,
          45
         ],
         "y": [
          null,
          null,
          48636.45021875,
          null,
          null,
          null,
          null,
          48381.95021875,
          null,
          null,
          47010.79978125,
          null,
          null,
          null,
          48305.3994375,
          null,
          null,
          null,
          null,
          null,
          44428.999,
          null,
          null,
          null,
          null,
          46892.3525625,
          null,
          null,
          null,
          46181.20021875,
          null,
          44633.8505625,
          null,
          null,
          null,
          null,
          null,
          47363.3994375,
          null,
          null,
          null,
          null
         ]
        },
        {
         "line": {
          "color": "green",
          "width": 2
         },
         "mode": "lines",
         "type": "scatter",
         "x": [
          24,
          14,
          35
         ],
         "y": [
          44429,
          47010.80078125,
          41589.019140625
         ]
        },
        {
         "line": {
          "color": "red",
          "width": 2
         },
         "mode": "lines",
         "type": "scatter",
         "x": [
          41,
          29,
          18,
          33
         ],
         "y": [
          47056.69962216624,
          47533.63090365239,
          47970.817911681355,
          47374.65380982368
         ]
        }
       ],
       "layout": {
        "height": 600,
        "template": {
         "data": {
          "bar": [
           {
            "error_x": {
             "color": "#2a3f5f"
            },
            "error_y": {
             "color": "#2a3f5f"
            },
            "marker": {
             "line": {
              "color": "#E5ECF6",
              "width": 0.5
             },
             "pattern": {
              "fillmode": "overlay",
              "size": 10,
              "solidity": 0.2
             }
            },
            "type": "bar"
           }
          ],
          "barpolar": [
           {
            "marker": {
             "line": {
              "color": "#E5ECF6",
              "width": 0.5
             },
             "pattern": {
              "fillmode": "overlay",
              "size": 10,
              "solidity": 0.2
             }
            },
            "type": "barpolar"
           }
          ],
          "carpet": [
           {
            "aaxis": {
             "endlinecolor": "#2a3f5f",
             "gridcolor": "white",
             "linecolor": "white",
             "minorgridcolor": "white",
             "startlinecolor": "#2a3f5f"
            },
            "baxis": {
             "endlinecolor": "#2a3f5f",
             "gridcolor": "white",
             "linecolor": "white",
             "minorgridcolor": "white",
             "startlinecolor": "#2a3f5f"
            },
            "type": "carpet"
           }
          ],
          "choropleth": [
           {
            "colorbar": {
             "outlinewidth": 0,
             "ticks": ""
            },
            "type": "choropleth"
           }
          ],
          "contour": [
           {
            "colorbar": {
             "outlinewidth": 0,
             "ticks": ""
            },
            "colorscale": [
             [
              0,
              "#0d0887"
             ],
             [
              0.1111111111111111,
              "#46039f"
             ],
             [
              0.2222222222222222,
              "#7201a8"
             ],
             [
              0.3333333333333333,
              "#9c179e"
             ],
             [
              0.4444444444444444,
              "#bd3786"
             ],
             [
              0.5555555555555556,
              "#d8576b"
             ],
             [
              0.6666666666666666,
              "#ed7953"
             ],
             [
              0.7777777777777778,
              "#fb9f3a"
             ],
             [
              0.8888888888888888,
              "#fdca26"
             ],
             [
              1,
              "#f0f921"
             ]
            ],
            "type": "contour"
           }
          ],
          "contourcarpet": [
           {
            "colorbar": {
             "outlinewidth": 0,
             "ticks": ""
            },
            "type": "contourcarpet"
           }
          ],
          "heatmap": [
           {
            "colorbar": {
             "outlinewidth": 0,
             "ticks": ""
            },
            "colorscale": [
             [
              0,
              "#0d0887"
             ],
             [
              0.1111111111111111,
              "#46039f"
             ],
             [
              0.2222222222222222,
              "#7201a8"
             ],
             [
              0.3333333333333333,
              "#9c179e"
             ],
             [
              0.4444444444444444,
              "#bd3786"
             ],
             [
              0.5555555555555556,
              "#d8576b"
             ],
             [
              0.6666666666666666,
              "#ed7953"
             ],
             [
              0.7777777777777778,
              "#fb9f3a"
             ],
             [
              0.8888888888888888,
              "#fdca26"
             ],
             [
              1,
              "#f0f921"
             ]
            ],
            "type": "heatmap"
           }
          ],
          "heatmapgl": [
           {
            "colorbar": {
             "outlinewidth": 0,
             "ticks": ""
            },
            "colorscale": [
             [
              0,
              "#0d0887"
             ],
             [
              0.1111111111111111,
              "#46039f"
             ],
             [
              0.2222222222222222,
              "#7201a8"
             ],
             [
              0.3333333333333333,
              "#9c179e"
             ],
             [
              0.4444444444444444,
              "#bd3786"
             ],
             [
              0.5555555555555556,
              "#d8576b"
             ],
             [
              0.6666666666666666,
              "#ed7953"
             ],
             [
              0.7777777777777778,
              "#fb9f3a"
             ],
             [
              0.8888888888888888,
              "#fdca26"
             ],
             [
              1,
              "#f0f921"
             ]
            ],
            "type": "heatmapgl"
           }
          ],
          "histogram": [
           {
            "marker": {
             "pattern": {
              "fillmode": "overlay",
              "size": 10,
              "solidity": 0.2
             }
            },
            "type": "histogram"
           }
          ],
          "histogram2d": [
           {
            "colorbar": {
             "outlinewidth": 0,
             "ticks": ""
            },
            "colorscale": [
             [
              0,
              "#0d0887"
             ],
             [
              0.1111111111111111,
              "#46039f"
             ],
             [
              0.2222222222222222,
              "#7201a8"
             ],
             [
              0.3333333333333333,
              "#9c179e"
             ],
             [
              0.4444444444444444,
              "#bd3786"
             ],
             [
              0.5555555555555556,
              "#d8576b"
             ],
             [
              0.6666666666666666,
              "#ed7953"
             ],
             [
              0.7777777777777778,
              "#fb9f3a"
             ],
             [
              0.8888888888888888,
              "#fdca26"
             ],
             [
              1,
              "#f0f921"
             ]
            ],
            "type": "histogram2d"
           }
          ],
          "histogram2dcontour": [
           {
            "colorbar": {
             "outlinewidth": 0,
             "ticks": ""
            },
            "colorscale": [
             [
              0,
              "#0d0887"
             ],
             [
              0.1111111111111111,
              "#46039f"
             ],
             [
              0.2222222222222222,
              "#7201a8"
             ],
             [
              0.3333333333333333,
              "#9c179e"
             ],
             [
              0.4444444444444444,
              "#bd3786"
             ],
             [
              0.5555555555555556,
              "#d8576b"
             ],
             [
              0.6666666666666666,
              "#ed7953"
             ],
             [
              0.7777777777777778,
              "#fb9f3a"
             ],
             [
              0.8888888888888888,
              "#fdca26"
             ],
             [
              1,
              "#f0f921"
             ]
            ],
            "type": "histogram2dcontour"
           }
          ],
          "mesh3d": [
           {
            "colorbar": {
             "outlinewidth": 0,
             "ticks": ""
            },
            "type": "mesh3d"
           }
          ],
          "parcoords": [
           {
            "line": {
             "colorbar": {
              "outlinewidth": 0,
              "ticks": ""
             }
            },
            "type": "parcoords"
           }
          ],
          "pie": [
           {
            "automargin": true,
            "type": "pie"
           }
          ],
          "scatter": [
           {
            "fillpattern": {
             "fillmode": "overlay",
             "size": 10,
             "solidity": 0.2
            },
            "type": "scatter"
           }
          ],
          "scatter3d": [
           {
            "line": {
             "colorbar": {
              "outlinewidth": 0,
              "ticks": ""
             }
            },
            "marker": {
             "colorbar": {
              "outlinewidth": 0,
              "ticks": ""
             }
            },
            "type": "scatter3d"
           }
          ],
          "scattercarpet": [
           {
            "marker": {
             "colorbar": {
              "outlinewidth": 0,
              "ticks": ""
             }
            },
            "type": "scattercarpet"
           }
          ],
          "scattergeo": [
           {
            "marker": {
             "colorbar": {
              "outlinewidth": 0,
              "ticks": ""
             }
            },
            "type": "scattergeo"
           }
          ],
          "scattergl": [
           {
            "marker": {
             "colorbar": {
              "outlinewidth": 0,
              "ticks": ""
             }
            },
            "type": "scattergl"
           }
          ],
          "scattermapbox": [
           {
            "marker": {
             "colorbar": {
              "outlinewidth": 0,
              "ticks": ""
             }
            },
            "type": "scattermapbox"
           }
          ],
          "scatterpolar": [
           {
            "marker": {
             "colorbar": {
              "outlinewidth": 0,
              "ticks": ""
             }
            },
            "type": "scatterpolar"
           }
          ],
          "scatterpolargl": [
           {
            "marker": {
             "colorbar": {
              "outlinewidth": 0,
              "ticks": ""
             }
            },
            "type": "scatterpolargl"
           }
          ],
          "scatterternary": [
           {
            "marker": {
             "colorbar": {
              "outlinewidth": 0,
              "ticks": ""
             }
            },
            "type": "scatterternary"
           }
          ],
          "surface": [
           {
            "colorbar": {
             "outlinewidth": 0,
             "ticks": ""
            },
            "colorscale": [
             [
              0,
              "#0d0887"
             ],
             [
              0.1111111111111111,
              "#46039f"
             ],
             [
              0.2222222222222222,
              "#7201a8"
             ],
             [
              0.3333333333333333,
              "#9c179e"
             ],
             [
              0.4444444444444444,
              "#bd3786"
             ],
             [
              0.5555555555555556,
              "#d8576b"
             ],
             [
              0.6666666666666666,
              "#ed7953"
             ],
             [
              0.7777777777777778,
              "#fb9f3a"
             ],
             [
              0.8888888888888888,
              "#fdca26"
             ],
             [
              1,
              "#f0f921"
             ]
            ],
            "type": "surface"
           }
          ],
          "table": [
           {
            "cells": {
             "fill": {
              "color": "#EBF0F8"
             },
             "line": {
              "color": "white"
             }
            },
            "header": {
             "fill": {
              "color": "#C8D4E3"
             },
             "line": {
              "color": "white"
             }
            },
            "type": "table"
           }
          ]
         },
         "layout": {
          "annotationdefaults": {
           "arrowcolor": "#2a3f5f",
           "arrowhead": 0,
           "arrowwidth": 1
          },
          "autotypenumbers": "strict",
          "coloraxis": {
           "colorbar": {
            "outlinewidth": 0,
            "ticks": ""
           }
          },
          "colorscale": {
           "diverging": [
            [
             0,
             "#8e0152"
            ],
            [
             0.1,
             "#c51b7d"
            ],
            [
             0.2,
             "#de77ae"
            ],
            [
             0.3,
             "#f1b6da"
            ],
            [
             0.4,
             "#fde0ef"
            ],
            [
             0.5,
             "#f7f7f7"
            ],
            [
             0.6,
             "#e6f5d0"
            ],
            [
             0.7,
             "#b8e186"
            ],
            [
             0.8,
             "#7fbc41"
            ],
            [
             0.9,
             "#4d9221"
            ],
            [
             1,
             "#276419"
            ]
           ],
           "sequential": [
            [
             0,
             "#0d0887"
            ],
            [
             0.1111111111111111,
             "#46039f"
            ],
            [
             0.2222222222222222,
             "#7201a8"
            ],
            [
             0.3333333333333333,
             "#9c179e"
            ],
            [
             0.4444444444444444,
             "#bd3786"
            ],
            [
             0.5555555555555556,
             "#d8576b"
            ],
            [
             0.6666666666666666,
             "#ed7953"
            ],
            [
             0.7777777777777778,
             "#fb9f3a"
            ],
            [
             0.8888888888888888,
             "#fdca26"
            ],
            [
             1,
             "#f0f921"
            ]
           ],
           "sequentialminus": [
            [
             0,
             "#0d0887"
            ],
            [
             0.1111111111111111,
             "#46039f"
            ],
            [
             0.2222222222222222,
             "#7201a8"
            ],
            [
             0.3333333333333333,
             "#9c179e"
            ],
            [
             0.4444444444444444,
             "#bd3786"
            ],
            [
             0.5555555555555556,
             "#d8576b"
            ],
            [
             0.6666666666666666,
             "#ed7953"
            ],
            [
             0.7777777777777778,
             "#fb9f3a"
            ],
            [
             0.8888888888888888,
             "#fdca26"
            ],
            [
             1,
             "#f0f921"
            ]
           ]
          },
          "colorway": [
           "#636efa",
           "#EF553B",
           "#00cc96",
           "#ab63fa",
           "#FFA15A",
           "#19d3f3",
           "#FF6692",
           "#B6E880",
           "#FF97FF",
           "#FECB52"
          ],
          "font": {
           "color": "#2a3f5f"
          },
          "geo": {
           "bgcolor": "white",
           "lakecolor": "white",
           "landcolor": "#E5ECF6",
           "showlakes": true,
           "showland": true,
           "subunitcolor": "white"
          },
          "hoverlabel": {
           "align": "left"
          },
          "hovermode": "closest",
          "mapbox": {
           "style": "light"
          },
          "paper_bgcolor": "white",
          "plot_bgcolor": "#E5ECF6",
          "polar": {
           "angularaxis": {
            "gridcolor": "white",
            "linecolor": "white",
            "ticks": ""
           },
           "bgcolor": "#E5ECF6",
           "radialaxis": {
            "gridcolor": "white",
            "linecolor": "white",
            "ticks": ""
           }
          },
          "scene": {
           "xaxis": {
            "backgroundcolor": "#E5ECF6",
            "gridcolor": "white",
            "gridwidth": 2,
            "linecolor": "white",
            "showbackground": true,
            "ticks": "",
            "zerolinecolor": "white"
           },
           "yaxis": {
            "backgroundcolor": "#E5ECF6",
            "gridcolor": "white",
            "gridwidth": 2,
            "linecolor": "white",
            "showbackground": true,
            "ticks": "",
            "zerolinecolor": "white"
           },
           "zaxis": {
            "backgroundcolor": "#E5ECF6",
            "gridcolor": "white",
            "gridwidth": 2,
            "linecolor": "white",
            "showbackground": true,
            "ticks": "",
            "zerolinecolor": "white"
           }
          },
          "shapedefaults": {
           "line": {
            "color": "#2a3f5f"
           }
          },
          "ternary": {
           "aaxis": {
            "gridcolor": "white",
            "linecolor": "white",
            "ticks": ""
           },
           "baxis": {
            "gridcolor": "white",
            "linecolor": "white",
            "ticks": ""
           },
           "bgcolor": "#E5ECF6",
           "caxis": {
            "gridcolor": "white",
            "linecolor": "white",
            "ticks": ""
           }
          },
          "title": {
           "x": 0.05
          },
          "xaxis": {
           "automargin": true,
           "gridcolor": "white",
           "linecolor": "white",
           "ticks": "",
           "title": {
            "standoff": 15
           },
           "zerolinecolor": "white",
           "zerolinewidth": 2
          },
          "yaxis": {
           "automargin": true,
           "gridcolor": "white",
           "linecolor": "white",
           "ticks": "",
           "title": {
            "standoff": 15
           },
           "zerolinecolor": "white",
           "zerolinewidth": 2
          }
         }
        },
        "title": {
         "text": "Candlestick Chart for ^NSEBANK "
        },
        "width": 900,
        "xaxis": {
         "rangeslider": {
          "visible": true
         }
        }
       }
      }
     },
     "metadata": {},
     "output_type": "display_data"
    },
    {
     "name": "stderr",
     "output_type": "stream",
     "text": [
      "[*********************100%%**********************]  1 of 1 completed\n"
     ]
    },
    {
     "data": {
      "application/vnd.plotly.v1+json": {
       "config": {
        "plotlyServerURL": "https://plot.ly"
       },
       "data": [
        {
         "close": [
          21778.69921875,
          21731.400390625,
          21741.900390625,
          21665.80078125,
          21517.349609375,
          21658.599609375,
          21710.80078125,
          21513,
          21544.849609375,
          21618.69921875,
          21647.19921875,
          21894.55078125,
          22097.44921875,
          22032.30078125,
          21571.94921875,
          21462.25,
          21622.400390625,
          21238.80078125,
          21453.94921875,
          21352.599609375,
          21737.599609375,
          21522.099609375,
          21725.69921875,
          21697.44921875,
          21853.80078125,
          21771.69921875,
          21929.400390625,
          21930.5,
          21717.94921875,
          21782.5,
          21616.05078125,
          21743.25,
          21840.05078125,
          21910.75,
          22040.69921875,
          22122.25,
          22196.94921875,
          22055.05078125,
          22217.44921875,
          22212.69921875,
          22122.05078125,
          22198.349609375
         ],
         "high": [
          21801.44921875,
          21770.30078125,
          21834.349609375,
          21755.599609375,
          21677,
          21685.650390625,
          21749.599609375,
          21763.94921875,
          21724.44921875,
          21641.849609375,
          21726.5,
          21928.25,
          22115.55078125,
          22124.150390625,
          21851.5,
          21539.400390625,
          21670.599609375,
          21750.25,
          21482.349609375,
          21459,
          21763.25,
          21813.05078125,
          21741.349609375,
          21832.94921875,
          22126.80078125,
          21964.30078125,
          21951.400390625,
          22053.30078125,
          22011.05078125,
          21804.44921875,
          21831.69921875,
          21766.80078125,
          21870.849609375,
          21953.849609375,
          22068.650390625,
          22186.650390625,
          22215.599609375,
          22249.400390625,
          22252.5,
          22297.5,
          22202.150390625,
          22218.25
         ],
         "low": [
          21678,
          21676.900390625,
          21680.849609375,
          21555.650390625,
          21500.349609375,
          21564.55078125,
          21629.19921875,
          21492.900390625,
          21517.849609375,
          21448.650390625,
          21593.75,
          21715.150390625,
          21963.55078125,
          21969.80078125,
          21550.44921875,
          21285.55078125,
          21575,
          21192.599609375,
          21137.19921875,
          21247.05078125,
          21429.599609375,
          21501.80078125,
          21448.849609375,
          21658.75,
          21805.55078125,
          21726.94921875,
          21737.55078125,
          21860.150390625,
          21665.30078125,
          21629.900390625,
          21574.75,
          21543.349609375,
          21530.19921875,
          21794.80078125,
          21968.94921875,
          22021.05078125,
          22045.849609375,
          21997.94921875,
          21875.25,
          22186.099609375,
          22075.150390625,
          22085.650390625
         ],
         "open": [
          21715,
          21737.650390625,
          21727.75,
          21751.349609375,
          21661.099609375,
          21605.80078125,
          21705.75,
          21747.599609375,
          21653.599609375,
          21529.30078125,
          21688,
          21773.55078125,
          22053.150390625,
          22080.5,
          21647.25,
          21414.19921875,
          21615.19921875,
          21716.69921875,
          21185.25,
          21454.599609375,
          21433.099609375,
          21775.75,
          21487.25,
          21780.650390625,
          21812.75,
          21921.05078125,
          21825.19921875,
          22045.05078125,
          22009.650390625,
          21727,
          21800.80078125,
          21664.30078125,
          21578.150390625,
          21906.55078125,
          22020.30078125,
          22103.44921875,
          22099.19921875,
          22248.849609375,
          22081.55078125,
          22290,
          22169.19921875,
          22090.19921875
         ],
         "type": "candlestick",
         "x": [
          6,
          7,
          8,
          9,
          10,
          11,
          12,
          13,
          14,
          15,
          16,
          17,
          18,
          19,
          20,
          21,
          22,
          23,
          24,
          25,
          26,
          27,
          28,
          29,
          30,
          31,
          32,
          33,
          34,
          35,
          36,
          37,
          38,
          39,
          40,
          41,
          42,
          43,
          44,
          45,
          46,
          47
         ]
        },
        {
         "marker": {
          "color": "MediumPurple",
          "size": 7
         },
         "mode": "markers",
         "name": "pivot",
         "type": "scatter",
         "x": [
          6,
          7,
          8,
          9,
          10,
          11,
          12,
          13,
          14,
          15,
          16,
          17,
          18,
          19,
          20,
          21,
          22,
          23,
          24,
          25,
          26,
          27,
          28,
          29,
          30,
          31,
          32,
          33,
          34,
          35,
          36,
          37,
          38,
          39,
          40,
          41,
          42,
          43,
          44,
          45,
          46,
          47
         ],
         "y": [
          null,
          null,
          21834.350609375,
          null,
          null,
          null,
          null,
          21763.95021875,
          null,
          21448.649390625,
          null,
          null,
          null,
          22124.151390625,
          null,
          null,
          null,
          null,
          21137.19821875,
          null,
          null,
          null,
          null,
          null,
          22126.80178125,
          null,
          null,
          null,
          null,
          null,
          null,
          null,
          21530.19821875,
          null,
          null,
          null,
          null,
          null,
          21875.249,
          null,
          null,
          null
         ]
        },
        {
         "line": {
          "color": "green",
          "width": 2
         },
         "mode": "lines",
         "type": "scatter",
         "x": [
          38,
          24,
          44
         ],
         "y": [
          21530.19921875,
          21137.19921875,
          21698.627790178572
         ]
        },
        {
         "line": {
          "color": "red",
          "width": 2
         },
         "mode": "lines",
         "type": "scatter",
         "x": [
          19,
          30
         ],
         "y": [
          22124.150390625,
          22124.150390625
         ]
        }
       ],
       "layout": {
        "height": 600,
        "template": {
         "data": {
          "bar": [
           {
            "error_x": {
             "color": "#2a3f5f"
            },
            "error_y": {
             "color": "#2a3f5f"
            },
            "marker": {
             "line": {
              "color": "#E5ECF6",
              "width": 0.5
             },
             "pattern": {
              "fillmode": "overlay",
              "size": 10,
              "solidity": 0.2
             }
            },
            "type": "bar"
           }
          ],
          "barpolar": [
           {
            "marker": {
             "line": {
              "color": "#E5ECF6",
              "width": 0.5
             },
             "pattern": {
              "fillmode": "overlay",
              "size": 10,
              "solidity": 0.2
             }
            },
            "type": "barpolar"
           }
          ],
          "carpet": [
           {
            "aaxis": {
             "endlinecolor": "#2a3f5f",
             "gridcolor": "white",
             "linecolor": "white",
             "minorgridcolor": "white",
             "startlinecolor": "#2a3f5f"
            },
            "baxis": {
             "endlinecolor": "#2a3f5f",
             "gridcolor": "white",
             "linecolor": "white",
             "minorgridcolor": "white",
             "startlinecolor": "#2a3f5f"
            },
            "type": "carpet"
           }
          ],
          "choropleth": [
           {
            "colorbar": {
             "outlinewidth": 0,
             "ticks": ""
            },
            "type": "choropleth"
           }
          ],
          "contour": [
           {
            "colorbar": {
             "outlinewidth": 0,
             "ticks": ""
            },
            "colorscale": [
             [
              0,
              "#0d0887"
             ],
             [
              0.1111111111111111,
              "#46039f"
             ],
             [
              0.2222222222222222,
              "#7201a8"
             ],
             [
              0.3333333333333333,
              "#9c179e"
             ],
             [
              0.4444444444444444,
              "#bd3786"
             ],
             [
              0.5555555555555556,
              "#d8576b"
             ],
             [
              0.6666666666666666,
              "#ed7953"
             ],
             [
              0.7777777777777778,
              "#fb9f3a"
             ],
             [
              0.8888888888888888,
              "#fdca26"
             ],
             [
              1,
              "#f0f921"
             ]
            ],
            "type": "contour"
           }
          ],
          "contourcarpet": [
           {
            "colorbar": {
             "outlinewidth": 0,
             "ticks": ""
            },
            "type": "contourcarpet"
           }
          ],
          "heatmap": [
           {
            "colorbar": {
             "outlinewidth": 0,
             "ticks": ""
            },
            "colorscale": [
             [
              0,
              "#0d0887"
             ],
             [
              0.1111111111111111,
              "#46039f"
             ],
             [
              0.2222222222222222,
              "#7201a8"
             ],
             [
              0.3333333333333333,
              "#9c179e"
             ],
             [
              0.4444444444444444,
              "#bd3786"
             ],
             [
              0.5555555555555556,
              "#d8576b"
             ],
             [
              0.6666666666666666,
              "#ed7953"
             ],
             [
              0.7777777777777778,
              "#fb9f3a"
             ],
             [
              0.8888888888888888,
              "#fdca26"
             ],
             [
              1,
              "#f0f921"
             ]
            ],
            "type": "heatmap"
           }
          ],
          "heatmapgl": [
           {
            "colorbar": {
             "outlinewidth": 0,
             "ticks": ""
            },
            "colorscale": [
             [
              0,
              "#0d0887"
             ],
             [
              0.1111111111111111,
              "#46039f"
             ],
             [
              0.2222222222222222,
              "#7201a8"
             ],
             [
              0.3333333333333333,
              "#9c179e"
             ],
             [
              0.4444444444444444,
              "#bd3786"
             ],
             [
              0.5555555555555556,
              "#d8576b"
             ],
             [
              0.6666666666666666,
              "#ed7953"
             ],
             [
              0.7777777777777778,
              "#fb9f3a"
             ],
             [
              0.8888888888888888,
              "#fdca26"
             ],
             [
              1,
              "#f0f921"
             ]
            ],
            "type": "heatmapgl"
           }
          ],
          "histogram": [
           {
            "marker": {
             "pattern": {
              "fillmode": "overlay",
              "size": 10,
              "solidity": 0.2
             }
            },
            "type": "histogram"
           }
          ],
          "histogram2d": [
           {
            "colorbar": {
             "outlinewidth": 0,
             "ticks": ""
            },
            "colorscale": [
             [
              0,
              "#0d0887"
             ],
             [
              0.1111111111111111,
              "#46039f"
             ],
             [
              0.2222222222222222,
              "#7201a8"
             ],
             [
              0.3333333333333333,
              "#9c179e"
             ],
             [
              0.4444444444444444,
              "#bd3786"
             ],
             [
              0.5555555555555556,
              "#d8576b"
             ],
             [
              0.6666666666666666,
              "#ed7953"
             ],
             [
              0.7777777777777778,
              "#fb9f3a"
             ],
             [
              0.8888888888888888,
              "#fdca26"
             ],
             [
              1,
              "#f0f921"
             ]
            ],
            "type": "histogram2d"
           }
          ],
          "histogram2dcontour": [
           {
            "colorbar": {
             "outlinewidth": 0,
             "ticks": ""
            },
            "colorscale": [
             [
              0,
              "#0d0887"
             ],
             [
              0.1111111111111111,
              "#46039f"
             ],
             [
              0.2222222222222222,
              "#7201a8"
             ],
             [
              0.3333333333333333,
              "#9c179e"
             ],
             [
              0.4444444444444444,
              "#bd3786"
             ],
             [
              0.5555555555555556,
              "#d8576b"
             ],
             [
              0.6666666666666666,
              "#ed7953"
             ],
             [
              0.7777777777777778,
              "#fb9f3a"
             ],
             [
              0.8888888888888888,
              "#fdca26"
             ],
             [
              1,
              "#f0f921"
             ]
            ],
            "type": "histogram2dcontour"
           }
          ],
          "mesh3d": [
           {
            "colorbar": {
             "outlinewidth": 0,
             "ticks": ""
            },
            "type": "mesh3d"
           }
          ],
          "parcoords": [
           {
            "line": {
             "colorbar": {
              "outlinewidth": 0,
              "ticks": ""
             }
            },
            "type": "parcoords"
           }
          ],
          "pie": [
           {
            "automargin": true,
            "type": "pie"
           }
          ],
          "scatter": [
           {
            "fillpattern": {
             "fillmode": "overlay",
             "size": 10,
             "solidity": 0.2
            },
            "type": "scatter"
           }
          ],
          "scatter3d": [
           {
            "line": {
             "colorbar": {
              "outlinewidth": 0,
              "ticks": ""
             }
            },
            "marker": {
             "colorbar": {
              "outlinewidth": 0,
              "ticks": ""
             }
            },
            "type": "scatter3d"
           }
          ],
          "scattercarpet": [
           {
            "marker": {
             "colorbar": {
              "outlinewidth": 0,
              "ticks": ""
             }
            },
            "type": "scattercarpet"
           }
          ],
          "scattergeo": [
           {
            "marker": {
             "colorbar": {
              "outlinewidth": 0,
              "ticks": ""
             }
            },
            "type": "scattergeo"
           }
          ],
          "scattergl": [
           {
            "marker": {
             "colorbar": {
              "outlinewidth": 0,
              "ticks": ""
             }
            },
            "type": "scattergl"
           }
          ],
          "scattermapbox": [
           {
            "marker": {
             "colorbar": {
              "outlinewidth": 0,
              "ticks": ""
             }
            },
            "type": "scattermapbox"
           }
          ],
          "scatterpolar": [
           {
            "marker": {
             "colorbar": {
              "outlinewidth": 0,
              "ticks": ""
             }
            },
            "type": "scatterpolar"
           }
          ],
          "scatterpolargl": [
           {
            "marker": {
             "colorbar": {
              "outlinewidth": 0,
              "ticks": ""
             }
            },
            "type": "scatterpolargl"
           }
          ],
          "scatterternary": [
           {
            "marker": {
             "colorbar": {
              "outlinewidth": 0,
              "ticks": ""
             }
            },
            "type": "scatterternary"
           }
          ],
          "surface": [
           {
            "colorbar": {
             "outlinewidth": 0,
             "ticks": ""
            },
            "colorscale": [
             [
              0,
              "#0d0887"
             ],
             [
              0.1111111111111111,
              "#46039f"
             ],
             [
              0.2222222222222222,
              "#7201a8"
             ],
             [
              0.3333333333333333,
              "#9c179e"
             ],
             [
              0.4444444444444444,
              "#bd3786"
             ],
             [
              0.5555555555555556,
              "#d8576b"
             ],
             [
              0.6666666666666666,
              "#ed7953"
             ],
             [
              0.7777777777777778,
              "#fb9f3a"
             ],
             [
              0.8888888888888888,
              "#fdca26"
             ],
             [
              1,
              "#f0f921"
             ]
            ],
            "type": "surface"
           }
          ],
          "table": [
           {
            "cells": {
             "fill": {
              "color": "#EBF0F8"
             },
             "line": {
              "color": "white"
             }
            },
            "header": {
             "fill": {
              "color": "#C8D4E3"
             },
             "line": {
              "color": "white"
             }
            },
            "type": "table"
           }
          ]
         },
         "layout": {
          "annotationdefaults": {
           "arrowcolor": "#2a3f5f",
           "arrowhead": 0,
           "arrowwidth": 1
          },
          "autotypenumbers": "strict",
          "coloraxis": {
           "colorbar": {
            "outlinewidth": 0,
            "ticks": ""
           }
          },
          "colorscale": {
           "diverging": [
            [
             0,
             "#8e0152"
            ],
            [
             0.1,
             "#c51b7d"
            ],
            [
             0.2,
             "#de77ae"
            ],
            [
             0.3,
             "#f1b6da"
            ],
            [
             0.4,
             "#fde0ef"
            ],
            [
             0.5,
             "#f7f7f7"
            ],
            [
             0.6,
             "#e6f5d0"
            ],
            [
             0.7,
             "#b8e186"
            ],
            [
             0.8,
             "#7fbc41"
            ],
            [
             0.9,
             "#4d9221"
            ],
            [
             1,
             "#276419"
            ]
           ],
           "sequential": [
            [
             0,
             "#0d0887"
            ],
            [
             0.1111111111111111,
             "#46039f"
            ],
            [
             0.2222222222222222,
             "#7201a8"
            ],
            [
             0.3333333333333333,
             "#9c179e"
            ],
            [
             0.4444444444444444,
             "#bd3786"
            ],
            [
             0.5555555555555556,
             "#d8576b"
            ],
            [
             0.6666666666666666,
             "#ed7953"
            ],
            [
             0.7777777777777778,
             "#fb9f3a"
            ],
            [
             0.8888888888888888,
             "#fdca26"
            ],
            [
             1,
             "#f0f921"
            ]
           ],
           "sequentialminus": [
            [
             0,
             "#0d0887"
            ],
            [
             0.1111111111111111,
             "#46039f"
            ],
            [
             0.2222222222222222,
             "#7201a8"
            ],
            [
             0.3333333333333333,
             "#9c179e"
            ],
            [
             0.4444444444444444,
             "#bd3786"
            ],
            [
             0.5555555555555556,
             "#d8576b"
            ],
            [
             0.6666666666666666,
             "#ed7953"
            ],
            [
             0.7777777777777778,
             "#fb9f3a"
            ],
            [
             0.8888888888888888,
             "#fdca26"
            ],
            [
             1,
             "#f0f921"
            ]
           ]
          },
          "colorway": [
           "#636efa",
           "#EF553B",
           "#00cc96",
           "#ab63fa",
           "#FFA15A",
           "#19d3f3",
           "#FF6692",
           "#B6E880",
           "#FF97FF",
           "#FECB52"
          ],
          "font": {
           "color": "#2a3f5f"
          },
          "geo": {
           "bgcolor": "white",
           "lakecolor": "white",
           "landcolor": "#E5ECF6",
           "showlakes": true,
           "showland": true,
           "subunitcolor": "white"
          },
          "hoverlabel": {
           "align": "left"
          },
          "hovermode": "closest",
          "mapbox": {
           "style": "light"
          },
          "paper_bgcolor": "white",
          "plot_bgcolor": "#E5ECF6",
          "polar": {
           "angularaxis": {
            "gridcolor": "white",
            "linecolor": "white",
            "ticks": ""
           },
           "bgcolor": "#E5ECF6",
           "radialaxis": {
            "gridcolor": "white",
            "linecolor": "white",
            "ticks": ""
           }
          },
          "scene": {
           "xaxis": {
            "backgroundcolor": "#E5ECF6",
            "gridcolor": "white",
            "gridwidth": 2,
            "linecolor": "white",
            "showbackground": true,
            "ticks": "",
            "zerolinecolor": "white"
           },
           "yaxis": {
            "backgroundcolor": "#E5ECF6",
            "gridcolor": "white",
            "gridwidth": 2,
            "linecolor": "white",
            "showbackground": true,
            "ticks": "",
            "zerolinecolor": "white"
           },
           "zaxis": {
            "backgroundcolor": "#E5ECF6",
            "gridcolor": "white",
            "gridwidth": 2,
            "linecolor": "white",
            "showbackground": true,
            "ticks": "",
            "zerolinecolor": "white"
           }
          },
          "shapedefaults": {
           "line": {
            "color": "#2a3f5f"
           }
          },
          "ternary": {
           "aaxis": {
            "gridcolor": "white",
            "linecolor": "white",
            "ticks": ""
           },
           "baxis": {
            "gridcolor": "white",
            "linecolor": "white",
            "ticks": ""
           },
           "bgcolor": "#E5ECF6",
           "caxis": {
            "gridcolor": "white",
            "linecolor": "white",
            "ticks": ""
           }
          },
          "title": {
           "x": 0.05
          },
          "xaxis": {
           "automargin": true,
           "gridcolor": "white",
           "linecolor": "white",
           "ticks": "",
           "title": {
            "standoff": 15
           },
           "zerolinecolor": "white",
           "zerolinewidth": 2
          },
          "yaxis": {
           "automargin": true,
           "gridcolor": "white",
           "linecolor": "white",
           "ticks": "",
           "title": {
            "standoff": 15
           },
           "zerolinecolor": "white",
           "zerolinewidth": 2
          }
         }
        },
        "title": {
         "text": "Candlestick Chart for ^NSEI "
        },
        "width": 900,
        "xaxis": {
         "rangeslider": {
          "visible": true
         }
        }
       }
      }
     },
     "metadata": {},
     "output_type": "display_data"
    },
    {
     "name": "stderr",
     "output_type": "stream",
     "text": [
      "[*********************100%%**********************]  1 of 1 completed\n"
     ]
    },
    {
     "data": {
      "application/vnd.plotly.v1+json": {
       "config": {
        "plotlyServerURL": "https://plot.ly"
       },
       "data": [
        {
         "close": [
          55484.3984375,
          55750.3515625,
          56504.5,
          56987.19921875,
          57209.5,
          57213.30078125,
          57703.8984375,
          57667.3515625,
          56672.8515625,
          56573.1015625,
          56348.94921875,
          56228.55078125,
          56485.75,
          56657.30078125,
          56755.8515625,
          56259.5,
          55953.6015625,
          56640.5,
          54973.8984375,
          55858.69921875,
          55214.1015625,
          55139.1015625,
          54574.3515625,
          55071.3984375,
          55215.80078125,
          55118.3984375,
          54698.3984375,
          54608.80078125,
          54772.6015625,
          53646.19921875,
          53867.1015625,
          53292.94921875,
          53432.05078125,
          53839.05078125,
          53321.3515625,
          53518.6015625,
          53882.5,
          53892.3515625,
          54419.19921875,
          54337.75,
          54317.30078125,
          54306.44921875
         ],
         "high": [
          55556.75,
          55813.30078125,
          56580.69921875,
          57055.80078125,
          57430,
          57631.6015625,
          57922.19921875,
          57966.69921875,
          57748.3515625,
          56996.25,
          56794.8515625,
          56688,
          56559.8984375,
          56818.6015625,
          56872.5,
          56839.6015625,
          56228.19921875,
          56813.94921875,
          56284.3984375,
          55918.6015625,
          55981.6015625,
          55470.5,
          55501.3984375,
          55124.94921875,
          55792,
          55557.5,
          55387.8984375,
          54956.69921875,
          55041.3515625,
          54775.6015625,
          54007.80078125,
          54036,
          53534.80078125,
          53951.69921875,
          53997.6484375,
          53643.8984375,
          54027.1484375,
          54226.8515625,
          54479.80078125,
          54561.55078125,
          54433.25,
          54456.6484375
         ],
         "low": [
          55189.8515625,
          55471.19921875,
          55789.05078125,
          56481.1015625,
          56763.69921875,
          57058.44921875,
          57327.25,
          57455.8515625,
          56636.44921875,
          56487.6484375,
          56134.6484375,
          56123.80078125,
          56008,
          56317.44921875,
          56425.05078125,
          56191.69921875,
          55206.69921875,
          56085.30078125,
          54816.1015625,
          54859.8984375,
          54981.05078125,
          55047.69921875,
          54507.3984375,
          54501.3515625,
          55114.19921875,
          54992.8984375,
          54590.6015625,
          54372.6015625,
          54523.1015625,
          53317.25,
          53452.75,
          53231.5,
          53232.6484375,
          53138.3984375,
          53265.3984375,
          53186.69921875,
          53552.55078125,
          53651.25,
          53581.80078125,
          54268.75,
          54074.55078125,
          54128.3984375
         ],
         "open": [
          55271.75,
          55572.44921875,
          55866.75,
          56555.1484375,
          57427.3984375,
          57130.5,
          57470.8984375,
          57945.1015625,
          57718.8515625,
          56868.30078125,
          56575.6015625,
          56476.3984375,
          56279.1015625,
          56795.3984375,
          56705.19921875,
          56477.6484375,
          56175.6015625,
          56296.30078125,
          56212.69921875,
          55130.30078125,
          55932.30078125,
          55058.1484375,
          55187.19921875,
          54634.25,
          55205.8515625,
          55347.3984375,
          55340.3984375,
          54860.1484375,
          55041.3515625,
          54774.6015625,
          53536.8515625,
          54005.55078125,
          53345.3984375,
          53224.3515625,
          53902,
          53465,
          53981.3984375,
          53975.55078125,
          54189.30078125,
          54528.5,
          54312.6015625,
          54342.80078125
         ],
         "type": "candlestick",
         "x": [
          4,
          5,
          6,
          7,
          8,
          9,
          10,
          11,
          12,
          13,
          14,
          15,
          16,
          17,
          18,
          19,
          20,
          21,
          22,
          23,
          24,
          25,
          26,
          27,
          28,
          29,
          30,
          31,
          32,
          33,
          34,
          35,
          36,
          37,
          38,
          39,
          40,
          41,
          42,
          43,
          44,
          45
         ]
        },
        {
         "marker": {
          "color": "MediumPurple",
          "size": 7
         },
         "mode": "markers",
         "name": "pivot",
         "type": "scatter",
         "x": [
          4,
          5,
          6,
          7,
          8,
          9,
          10,
          11,
          12,
          13,
          14,
          15,
          16,
          17,
          18,
          19,
          20,
          21,
          22,
          23,
          24,
          25,
          26,
          27,
          28,
          29,
          30,
          31,
          32,
          33,
          34,
          35,
          36,
          37,
          38,
          39,
          40,
          41,
          42,
          43,
          44,
          45
         ],
         "y": [
          null,
          null,
          null,
          null,
          null,
          null,
          null,
          57966.70021875,
          null,
          null,
          null,
          null,
          56007.999,
          null,
          56872.501,
          null,
          null,
          null,
          54816.1005625,
          null,
          null,
          null,
          null,
          54501.3505625,
          55792.001,
          null,
          null,
          null,
          null,
          null,
          null,
          null,
          null,
          53138.3974375,
          null,
          null,
          null,
          null,
          null,
          null,
          null,
          null
         ]
        },
        {
         "line": {
          "color": "green",
          "width": 2
         },
         "mode": "lines",
         "type": "scatter",
         "x": [
          37,
          22,
          16,
          27
         ],
         "y": [
          53071.627003205125,
          55049.80158253205,
          55841.07141426282,
          54390.41005608974
         ]
        },
        {
         "line": {
          "color": "red",
          "width": 2
         },
         "mode": "lines",
         "type": "scatter",
         "x": [
          18,
          28
         ],
         "y": [
          56872.5,
          56872.5
         ]
        }
       ],
       "layout": {
        "height": 600,
        "template": {
         "data": {
          "bar": [
           {
            "error_x": {
             "color": "#2a3f5f"
            },
            "error_y": {
             "color": "#2a3f5f"
            },
            "marker": {
             "line": {
              "color": "#E5ECF6",
              "width": 0.5
             },
             "pattern": {
              "fillmode": "overlay",
              "size": 10,
              "solidity": 0.2
             }
            },
            "type": "bar"
           }
          ],
          "barpolar": [
           {
            "marker": {
             "line": {
              "color": "#E5ECF6",
              "width": 0.5
             },
             "pattern": {
              "fillmode": "overlay",
              "size": 10,
              "solidity": 0.2
             }
            },
            "type": "barpolar"
           }
          ],
          "carpet": [
           {
            "aaxis": {
             "endlinecolor": "#2a3f5f",
             "gridcolor": "white",
             "linecolor": "white",
             "minorgridcolor": "white",
             "startlinecolor": "#2a3f5f"
            },
            "baxis": {
             "endlinecolor": "#2a3f5f",
             "gridcolor": "white",
             "linecolor": "white",
             "minorgridcolor": "white",
             "startlinecolor": "#2a3f5f"
            },
            "type": "carpet"
           }
          ],
          "choropleth": [
           {
            "colorbar": {
             "outlinewidth": 0,
             "ticks": ""
            },
            "type": "choropleth"
           }
          ],
          "contour": [
           {
            "colorbar": {
             "outlinewidth": 0,
             "ticks": ""
            },
            "colorscale": [
             [
              0,
              "#0d0887"
             ],
             [
              0.1111111111111111,
              "#46039f"
             ],
             [
              0.2222222222222222,
              "#7201a8"
             ],
             [
              0.3333333333333333,
              "#9c179e"
             ],
             [
              0.4444444444444444,
              "#bd3786"
             ],
             [
              0.5555555555555556,
              "#d8576b"
             ],
             [
              0.6666666666666666,
              "#ed7953"
             ],
             [
              0.7777777777777778,
              "#fb9f3a"
             ],
             [
              0.8888888888888888,
              "#fdca26"
             ],
             [
              1,
              "#f0f921"
             ]
            ],
            "type": "contour"
           }
          ],
          "contourcarpet": [
           {
            "colorbar": {
             "outlinewidth": 0,
             "ticks": ""
            },
            "type": "contourcarpet"
           }
          ],
          "heatmap": [
           {
            "colorbar": {
             "outlinewidth": 0,
             "ticks": ""
            },
            "colorscale": [
             [
              0,
              "#0d0887"
             ],
             [
              0.1111111111111111,
              "#46039f"
             ],
             [
              0.2222222222222222,
              "#7201a8"
             ],
             [
              0.3333333333333333,
              "#9c179e"
             ],
             [
              0.4444444444444444,
              "#bd3786"
             ],
             [
              0.5555555555555556,
              "#d8576b"
             ],
             [
              0.6666666666666666,
              "#ed7953"
             ],
             [
              0.7777777777777778,
              "#fb9f3a"
             ],
             [
              0.8888888888888888,
              "#fdca26"
             ],
             [
              1,
              "#f0f921"
             ]
            ],
            "type": "heatmap"
           }
          ],
          "heatmapgl": [
           {
            "colorbar": {
             "outlinewidth": 0,
             "ticks": ""
            },
            "colorscale": [
             [
              0,
              "#0d0887"
             ],
             [
              0.1111111111111111,
              "#46039f"
             ],
             [
              0.2222222222222222,
              "#7201a8"
             ],
             [
              0.3333333333333333,
              "#9c179e"
             ],
             [
              0.4444444444444444,
              "#bd3786"
             ],
             [
              0.5555555555555556,
              "#d8576b"
             ],
             [
              0.6666666666666666,
              "#ed7953"
             ],
             [
              0.7777777777777778,
              "#fb9f3a"
             ],
             [
              0.8888888888888888,
              "#fdca26"
             ],
             [
              1,
              "#f0f921"
             ]
            ],
            "type": "heatmapgl"
           }
          ],
          "histogram": [
           {
            "marker": {
             "pattern": {
              "fillmode": "overlay",
              "size": 10,
              "solidity": 0.2
             }
            },
            "type": "histogram"
           }
          ],
          "histogram2d": [
           {
            "colorbar": {
             "outlinewidth": 0,
             "ticks": ""
            },
            "colorscale": [
             [
              0,
              "#0d0887"
             ],
             [
              0.1111111111111111,
              "#46039f"
             ],
             [
              0.2222222222222222,
              "#7201a8"
             ],
             [
              0.3333333333333333,
              "#9c179e"
             ],
             [
              0.4444444444444444,
              "#bd3786"
             ],
             [
              0.5555555555555556,
              "#d8576b"
             ],
             [
              0.6666666666666666,
              "#ed7953"
             ],
             [
              0.7777777777777778,
              "#fb9f3a"
             ],
             [
              0.8888888888888888,
              "#fdca26"
             ],
             [
              1,
              "#f0f921"
             ]
            ],
            "type": "histogram2d"
           }
          ],
          "histogram2dcontour": [
           {
            "colorbar": {
             "outlinewidth": 0,
             "ticks": ""
            },
            "colorscale": [
             [
              0,
              "#0d0887"
             ],
             [
              0.1111111111111111,
              "#46039f"
             ],
             [
              0.2222222222222222,
              "#7201a8"
             ],
             [
              0.3333333333333333,
              "#9c179e"
             ],
             [
              0.4444444444444444,
              "#bd3786"
             ],
             [
              0.5555555555555556,
              "#d8576b"
             ],
             [
              0.6666666666666666,
              "#ed7953"
             ],
             [
              0.7777777777777778,
              "#fb9f3a"
             ],
             [
              0.8888888888888888,
              "#fdca26"
             ],
             [
              1,
              "#f0f921"
             ]
            ],
            "type": "histogram2dcontour"
           }
          ],
          "mesh3d": [
           {
            "colorbar": {
             "outlinewidth": 0,
             "ticks": ""
            },
            "type": "mesh3d"
           }
          ],
          "parcoords": [
           {
            "line": {
             "colorbar": {
              "outlinewidth": 0,
              "ticks": ""
             }
            },
            "type": "parcoords"
           }
          ],
          "pie": [
           {
            "automargin": true,
            "type": "pie"
           }
          ],
          "scatter": [
           {
            "fillpattern": {
             "fillmode": "overlay",
             "size": 10,
             "solidity": 0.2
            },
            "type": "scatter"
           }
          ],
          "scatter3d": [
           {
            "line": {
             "colorbar": {
              "outlinewidth": 0,
              "ticks": ""
             }
            },
            "marker": {
             "colorbar": {
              "outlinewidth": 0,
              "ticks": ""
             }
            },
            "type": "scatter3d"
           }
          ],
          "scattercarpet": [
           {
            "marker": {
             "colorbar": {
              "outlinewidth": 0,
              "ticks": ""
             }
            },
            "type": "scattercarpet"
           }
          ],
          "scattergeo": [
           {
            "marker": {
             "colorbar": {
              "outlinewidth": 0,
              "ticks": ""
             }
            },
            "type": "scattergeo"
           }
          ],
          "scattergl": [
           {
            "marker": {
             "colorbar": {
              "outlinewidth": 0,
              "ticks": ""
             }
            },
            "type": "scattergl"
           }
          ],
          "scattermapbox": [
           {
            "marker": {
             "colorbar": {
              "outlinewidth": 0,
              "ticks": ""
             }
            },
            "type": "scattermapbox"
           }
          ],
          "scatterpolar": [
           {
            "marker": {
             "colorbar": {
              "outlinewidth": 0,
              "ticks": ""
             }
            },
            "type": "scatterpolar"
           }
          ],
          "scatterpolargl": [
           {
            "marker": {
             "colorbar": {
              "outlinewidth": 0,
              "ticks": ""
             }
            },
            "type": "scatterpolargl"
           }
          ],
          "scatterternary": [
           {
            "marker": {
             "colorbar": {
              "outlinewidth": 0,
              "ticks": ""
             }
            },
            "type": "scatterternary"
           }
          ],
          "surface": [
           {
            "colorbar": {
             "outlinewidth": 0,
             "ticks": ""
            },
            "colorscale": [
             [
              0,
              "#0d0887"
             ],
             [
              0.1111111111111111,
              "#46039f"
             ],
             [
              0.2222222222222222,
              "#7201a8"
             ],
             [
              0.3333333333333333,
              "#9c179e"
             ],
             [
              0.4444444444444444,
              "#bd3786"
             ],
             [
              0.5555555555555556,
              "#d8576b"
             ],
             [
              0.6666666666666666,
              "#ed7953"
             ],
             [
              0.7777777777777778,
              "#fb9f3a"
             ],
             [
              0.8888888888888888,
              "#fdca26"
             ],
             [
              1,
              "#f0f921"
             ]
            ],
            "type": "surface"
           }
          ],
          "table": [
           {
            "cells": {
             "fill": {
              "color": "#EBF0F8"
             },
             "line": {
              "color": "white"
             }
            },
            "header": {
             "fill": {
              "color": "#C8D4E3"
             },
             "line": {
              "color": "white"
             }
            },
            "type": "table"
           }
          ]
         },
         "layout": {
          "annotationdefaults": {
           "arrowcolor": "#2a3f5f",
           "arrowhead": 0,
           "arrowwidth": 1
          },
          "autotypenumbers": "strict",
          "coloraxis": {
           "colorbar": {
            "outlinewidth": 0,
            "ticks": ""
           }
          },
          "colorscale": {
           "diverging": [
            [
             0,
             "#8e0152"
            ],
            [
             0.1,
             "#c51b7d"
            ],
            [
             0.2,
             "#de77ae"
            ],
            [
             0.3,
             "#f1b6da"
            ],
            [
             0.4,
             "#fde0ef"
            ],
            [
             0.5,
             "#f7f7f7"
            ],
            [
             0.6,
             "#e6f5d0"
            ],
            [
             0.7,
             "#b8e186"
            ],
            [
             0.8,
             "#7fbc41"
            ],
            [
             0.9,
             "#4d9221"
            ],
            [
             1,
             "#276419"
            ]
           ],
           "sequential": [
            [
             0,
             "#0d0887"
            ],
            [
             0.1111111111111111,
             "#46039f"
            ],
            [
             0.2222222222222222,
             "#7201a8"
            ],
            [
             0.3333333333333333,
             "#9c179e"
            ],
            [
             0.4444444444444444,
             "#bd3786"
            ],
            [
             0.5555555555555556,
             "#d8576b"
            ],
            [
             0.6666666666666666,
             "#ed7953"
            ],
            [
             0.7777777777777778,
             "#fb9f3a"
            ],
            [
             0.8888888888888888,
             "#fdca26"
            ],
            [
             1,
             "#f0f921"
            ]
           ],
           "sequentialminus": [
            [
             0,
             "#0d0887"
            ],
            [
             0.1111111111111111,
             "#46039f"
            ],
            [
             0.2222222222222222,
             "#7201a8"
            ],
            [
             0.3333333333333333,
             "#9c179e"
            ],
            [
             0.4444444444444444,
             "#bd3786"
            ],
            [
             0.5555555555555556,
             "#d8576b"
            ],
            [
             0.6666666666666666,
             "#ed7953"
            ],
            [
             0.7777777777777778,
             "#fb9f3a"
            ],
            [
             0.8888888888888888,
             "#fdca26"
            ],
            [
             1,
             "#f0f921"
            ]
           ]
          },
          "colorway": [
           "#636efa",
           "#EF553B",
           "#00cc96",
           "#ab63fa",
           "#FFA15A",
           "#19d3f3",
           "#FF6692",
           "#B6E880",
           "#FF97FF",
           "#FECB52"
          ],
          "font": {
           "color": "#2a3f5f"
          },
          "geo": {
           "bgcolor": "white",
           "lakecolor": "white",
           "landcolor": "#E5ECF6",
           "showlakes": true,
           "showland": true,
           "subunitcolor": "white"
          },
          "hoverlabel": {
           "align": "left"
          },
          "hovermode": "closest",
          "mapbox": {
           "style": "light"
          },
          "paper_bgcolor": "white",
          "plot_bgcolor": "#E5ECF6",
          "polar": {
           "angularaxis": {
            "gridcolor": "white",
            "linecolor": "white",
            "ticks": ""
           },
           "bgcolor": "#E5ECF6",
           "radialaxis": {
            "gridcolor": "white",
            "linecolor": "white",
            "ticks": ""
           }
          },
          "scene": {
           "xaxis": {
            "backgroundcolor": "#E5ECF6",
            "gridcolor": "white",
            "gridwidth": 2,
            "linecolor": "white",
            "showbackground": true,
            "ticks": "",
            "zerolinecolor": "white"
           },
           "yaxis": {
            "backgroundcolor": "#E5ECF6",
            "gridcolor": "white",
            "gridwidth": 2,
            "linecolor": "white",
            "showbackground": true,
            "ticks": "",
            "zerolinecolor": "white"
           },
           "zaxis": {
            "backgroundcolor": "#E5ECF6",
            "gridcolor": "white",
            "gridwidth": 2,
            "linecolor": "white",
            "showbackground": true,
            "ticks": "",
            "zerolinecolor": "white"
           }
          },
          "shapedefaults": {
           "line": {
            "color": "#2a3f5f"
           }
          },
          "ternary": {
           "aaxis": {
            "gridcolor": "white",
            "linecolor": "white",
            "ticks": ""
           },
           "baxis": {
            "gridcolor": "white",
            "linecolor": "white",
            "ticks": ""
           },
           "bgcolor": "#E5ECF6",
           "caxis": {
            "gridcolor": "white",
            "linecolor": "white",
            "ticks": ""
           }
          },
          "title": {
           "x": 0.05
          },
          "xaxis": {
           "automargin": true,
           "gridcolor": "white",
           "linecolor": "white",
           "ticks": "",
           "title": {
            "standoff": 15
           },
           "zerolinecolor": "white",
           "zerolinewidth": 2
          },
          "yaxis": {
           "automargin": true,
           "gridcolor": "white",
           "linecolor": "white",
           "ticks": "",
           "title": {
            "standoff": 15
           },
           "zerolinecolor": "white",
           "zerolinewidth": 2
          }
         }
        },
        "title": {
         "text": "Candlestick Chart for ^CNXFMCG "
        },
        "width": 900,
        "xaxis": {
         "rangeslider": {
          "visible": true
         }
        }
       }
      }
     },
     "metadata": {},
     "output_type": "display_data"
    },
    {
     "name": "stderr",
     "output_type": "stream",
     "text": [
      "[*********************100%%**********************]  1 of 1 completed\n"
     ]
    },
    {
     "data": {
      "application/vnd.plotly.v1+json": {
       "config": {
        "plotlyServerURL": "https://plot.ly"
       },
       "data": [
        {
         "close": [
          17953.55078125,
          18224.849609375,
          18408.599609375,
          18618.19921875,
          18339.349609375,
          18317.5,
          18326.75,
          18406.94921875,
          18350.19921875,
          18519.80078125,
          18559.099609375,
          18755.099609375,
          18715.19921875,
          18765.25,
          18712.69921875,
          18447.25,
          18496.25,
          18694.599609375,
          18361,
          18593.69921875,
          18614.900390625,
          18927.25,
          18878.349609375,
          19227.150390625,
          19328.69921875,
          19380.5,
          19615.30078125,
          19903.849609375,
          19903.80078125,
          19649.5,
          19576,
          19419.599609375,
          19433.05078125,
          19716,
          19981.69921875,
          20423.44921875,
          20354.25,
          20252.55078125,
          20584.849609375,
          20621.349609375,
          20642.400390625,
          20788.55078125
         ],
         "high": [
          17977.05078125,
          18242.849609375,
          18446.55078125,
          18719.5,
          18664.349609375,
          18395.44921875,
          18428.94921875,
          18514.75,
          18556.75,
          18606.150390625,
          18575.099609375,
          18826.900390625,
          18798.75,
          18799.400390625,
          18865.849609375,
          18620,
          18528.44921875,
          18708.349609375,
          18763,
          18632.150390625,
          18709.099609375,
          18949.599609375,
          19123.69921875,
          19257.099609375,
          19559.55078125,
          19563.05078125,
          19823.349609375,
          19912.44921875,
          20033.599609375,
          19974.55078125,
          19713.349609375,
          19653.150390625,
          19554,
          19770.80078125,
          20029.099609375,
          20515.05078125,
          20480.400390625,
          20494.099609375,
          20621.94921875,
          20711,
          20714.44921875,
          20825.849609375
         ],
         "low": [
          17806.900390625,
          18009.75,
          18234.75,
          18417.849609375,
          18241,
          18175.5,
          18296.75,
          18345.19921875,
          18332.30078125,
          18402.400390625,
          18384.44921875,
          18631.44921875,
          18588.150390625,
          18623.599609375,
          18642.30078125,
          18413.650390625,
          18142.5,
          18572.75,
          18314.150390625,
          18143.75,
          18434.44921875,
          18570.75,
          18859.099609375,
          18861.55078125,
          19283.349609375,
          19304.75,
          19529.19921875,
          19683.900390625,
          19762.19921875,
          19607.5,
          19365.19921875,
          19364.5,
          19235.900390625,
          19257.099609375,
          19811.94921875,
          20074.099609375,
          20239.5,
          20192.44921875,
          20181,
          20540.75,
          20537.5,
          20593
         ],
         "open": [
          17841.900390625,
          18040.349609375,
          18244.349609375,
          18440.80078125,
          18651.349609375,
          18361.30078125,
          18428.94921875,
          18378.44921875,
          18490.650390625,
          18542.44921875,
          18565.599609375,
          18648.5,
          18771,
          18796.650390625,
          18749.099609375,
          18537,
          18402.5,
          18585.05078125,
          18649.599609375,
          18384.599609375,
          18707.75,
          18631,
          18993.650390625,
          18887.150390625,
          19351.849609375,
          19364,
          19655.849609375,
          19731.19921875,
          19977.75,
          19963.25,
          19709.75,
          19644,
          19504.94921875,
          19300.5,
          19842.650390625,
          20093.650390625,
          20459.349609375,
          20372,
          20341.150390625,
          20692.80078125,
          20633.44921875,
          20633.400390625
         ],
         "type": "candlestick",
         "x": [
          4,
          5,
          6,
          7,
          8,
          9,
          10,
          11,
          12,
          13,
          14,
          15,
          16,
          17,
          18,
          19,
          20,
          21,
          22,
          23,
          24,
          25,
          26,
          27,
          28,
          29,
          30,
          31,
          32,
          33,
          34,
          35,
          36,
          37,
          38,
          39,
          40,
          41,
          42,
          43,
          44,
          45
         ]
        },
        {
         "marker": {
          "color": "MediumPurple",
          "size": 7
         },
         "mode": "markers",
         "name": "pivot",
         "type": "scatter",
         "x": [
          4,
          5,
          6,
          7,
          8,
          9,
          10,
          11,
          12,
          13,
          14,
          15,
          16,
          17,
          18,
          19,
          20,
          21,
          22,
          23,
          24,
          25,
          26,
          27,
          28,
          29,
          30,
          31,
          32,
          33,
          34,
          35,
          36,
          37,
          38,
          39,
          40,
          41,
          42,
          43,
          44,
          45
         ],
         "y": [
          null,
          null,
          null,
          18719.501,
          null,
          18175.499,
          null,
          null,
          null,
          null,
          null,
          null,
          null,
          null,
          18865.850609375,
          null,
          18142.499,
          null,
          null,
          null,
          null,
          null,
          null,
          null,
          null,
          null,
          null,
          null,
          20033.600609375,
          null,
          null,
          null,
          19235.899390625,
          null,
          null,
          null,
          null,
          null,
          null,
          null,
          null,
          null
         ]
        },
        {
         "line": {
          "color": "green",
          "width": 2
         },
         "mode": "lines",
         "type": "scatter",
         "x": [
          20,
          36
         ],
         "y": [
          18142.5,
          18142.5
         ]
        },
        {
         "line": {
          "color": "red",
          "width": 2
         },
         "mode": "lines",
         "type": "scatter",
         "x": [
          18,
          32
         ],
         "y": [
          18865.849609375,
          18865.849609375
         ]
        }
       ],
       "layout": {
        "height": 600,
        "template": {
         "data": {
          "bar": [
           {
            "error_x": {
             "color": "#2a3f5f"
            },
            "error_y": {
             "color": "#2a3f5f"
            },
            "marker": {
             "line": {
              "color": "#E5ECF6",
              "width": 0.5
             },
             "pattern": {
              "fillmode": "overlay",
              "size": 10,
              "solidity": 0.2
             }
            },
            "type": "bar"
           }
          ],
          "barpolar": [
           {
            "marker": {
             "line": {
              "color": "#E5ECF6",
              "width": 0.5
             },
             "pattern": {
              "fillmode": "overlay",
              "size": 10,
              "solidity": 0.2
             }
            },
            "type": "barpolar"
           }
          ],
          "carpet": [
           {
            "aaxis": {
             "endlinecolor": "#2a3f5f",
             "gridcolor": "white",
             "linecolor": "white",
             "minorgridcolor": "white",
             "startlinecolor": "#2a3f5f"
            },
            "baxis": {
             "endlinecolor": "#2a3f5f",
             "gridcolor": "white",
             "linecolor": "white",
             "minorgridcolor": "white",
             "startlinecolor": "#2a3f5f"
            },
            "type": "carpet"
           }
          ],
          "choropleth": [
           {
            "colorbar": {
             "outlinewidth": 0,
             "ticks": ""
            },
            "type": "choropleth"
           }
          ],
          "contour": [
           {
            "colorbar": {
             "outlinewidth": 0,
             "ticks": ""
            },
            "colorscale": [
             [
              0,
              "#0d0887"
             ],
             [
              0.1111111111111111,
              "#46039f"
             ],
             [
              0.2222222222222222,
              "#7201a8"
             ],
             [
              0.3333333333333333,
              "#9c179e"
             ],
             [
              0.4444444444444444,
              "#bd3786"
             ],
             [
              0.5555555555555556,
              "#d8576b"
             ],
             [
              0.6666666666666666,
              "#ed7953"
             ],
             [
              0.7777777777777778,
              "#fb9f3a"
             ],
             [
              0.8888888888888888,
              "#fdca26"
             ],
             [
              1,
              "#f0f921"
             ]
            ],
            "type": "contour"
           }
          ],
          "contourcarpet": [
           {
            "colorbar": {
             "outlinewidth": 0,
             "ticks": ""
            },
            "type": "contourcarpet"
           }
          ],
          "heatmap": [
           {
            "colorbar": {
             "outlinewidth": 0,
             "ticks": ""
            },
            "colorscale": [
             [
              0,
              "#0d0887"
             ],
             [
              0.1111111111111111,
              "#46039f"
             ],
             [
              0.2222222222222222,
              "#7201a8"
             ],
             [
              0.3333333333333333,
              "#9c179e"
             ],
             [
              0.4444444444444444,
              "#bd3786"
             ],
             [
              0.5555555555555556,
              "#d8576b"
             ],
             [
              0.6666666666666666,
              "#ed7953"
             ],
             [
              0.7777777777777778,
              "#fb9f3a"
             ],
             [
              0.8888888888888888,
              "#fdca26"
             ],
             [
              1,
              "#f0f921"
             ]
            ],
            "type": "heatmap"
           }
          ],
          "heatmapgl": [
           {
            "colorbar": {
             "outlinewidth": 0,
             "ticks": ""
            },
            "colorscale": [
             [
              0,
              "#0d0887"
             ],
             [
              0.1111111111111111,
              "#46039f"
             ],
             [
              0.2222222222222222,
              "#7201a8"
             ],
             [
              0.3333333333333333,
              "#9c179e"
             ],
             [
              0.4444444444444444,
              "#bd3786"
             ],
             [
              0.5555555555555556,
              "#d8576b"
             ],
             [
              0.6666666666666666,
              "#ed7953"
             ],
             [
              0.7777777777777778,
              "#fb9f3a"
             ],
             [
              0.8888888888888888,
              "#fdca26"
             ],
             [
              1,
              "#f0f921"
             ]
            ],
            "type": "heatmapgl"
           }
          ],
          "histogram": [
           {
            "marker": {
             "pattern": {
              "fillmode": "overlay",
              "size": 10,
              "solidity": 0.2
             }
            },
            "type": "histogram"
           }
          ],
          "histogram2d": [
           {
            "colorbar": {
             "outlinewidth": 0,
             "ticks": ""
            },
            "colorscale": [
             [
              0,
              "#0d0887"
             ],
             [
              0.1111111111111111,
              "#46039f"
             ],
             [
              0.2222222222222222,
              "#7201a8"
             ],
             [
              0.3333333333333333,
              "#9c179e"
             ],
             [
              0.4444444444444444,
              "#bd3786"
             ],
             [
              0.5555555555555556,
              "#d8576b"
             ],
             [
              0.6666666666666666,
              "#ed7953"
             ],
             [
              0.7777777777777778,
              "#fb9f3a"
             ],
             [
              0.8888888888888888,
              "#fdca26"
             ],
             [
              1,
              "#f0f921"
             ]
            ],
            "type": "histogram2d"
           }
          ],
          "histogram2dcontour": [
           {
            "colorbar": {
             "outlinewidth": 0,
             "ticks": ""
            },
            "colorscale": [
             [
              0,
              "#0d0887"
             ],
             [
              0.1111111111111111,
              "#46039f"
             ],
             [
              0.2222222222222222,
              "#7201a8"
             ],
             [
              0.3333333333333333,
              "#9c179e"
             ],
             [
              0.4444444444444444,
              "#bd3786"
             ],
             [
              0.5555555555555556,
              "#d8576b"
             ],
             [
              0.6666666666666666,
              "#ed7953"
             ],
             [
              0.7777777777777778,
              "#fb9f3a"
             ],
             [
              0.8888888888888888,
              "#fdca26"
             ],
             [
              1,
              "#f0f921"
             ]
            ],
            "type": "histogram2dcontour"
           }
          ],
          "mesh3d": [
           {
            "colorbar": {
             "outlinewidth": 0,
             "ticks": ""
            },
            "type": "mesh3d"
           }
          ],
          "parcoords": [
           {
            "line": {
             "colorbar": {
              "outlinewidth": 0,
              "ticks": ""
             }
            },
            "type": "parcoords"
           }
          ],
          "pie": [
           {
            "automargin": true,
            "type": "pie"
           }
          ],
          "scatter": [
           {
            "fillpattern": {
             "fillmode": "overlay",
             "size": 10,
             "solidity": 0.2
            },
            "type": "scatter"
           }
          ],
          "scatter3d": [
           {
            "line": {
             "colorbar": {
              "outlinewidth": 0,
              "ticks": ""
             }
            },
            "marker": {
             "colorbar": {
              "outlinewidth": 0,
              "ticks": ""
             }
            },
            "type": "scatter3d"
           }
          ],
          "scattercarpet": [
           {
            "marker": {
             "colorbar": {
              "outlinewidth": 0,
              "ticks": ""
             }
            },
            "type": "scattercarpet"
           }
          ],
          "scattergeo": [
           {
            "marker": {
             "colorbar": {
              "outlinewidth": 0,
              "ticks": ""
             }
            },
            "type": "scattergeo"
           }
          ],
          "scattergl": [
           {
            "marker": {
             "colorbar": {
              "outlinewidth": 0,
              "ticks": ""
             }
            },
            "type": "scattergl"
           }
          ],
          "scattermapbox": [
           {
            "marker": {
             "colorbar": {
              "outlinewidth": 0,
              "ticks": ""
             }
            },
            "type": "scattermapbox"
           }
          ],
          "scatterpolar": [
           {
            "marker": {
             "colorbar": {
              "outlinewidth": 0,
              "ticks": ""
             }
            },
            "type": "scatterpolar"
           }
          ],
          "scatterpolargl": [
           {
            "marker": {
             "colorbar": {
              "outlinewidth": 0,
              "ticks": ""
             }
            },
            "type": "scatterpolargl"
           }
          ],
          "scatterternary": [
           {
            "marker": {
             "colorbar": {
              "outlinewidth": 0,
              "ticks": ""
             }
            },
            "type": "scatterternary"
           }
          ],
          "surface": [
           {
            "colorbar": {
             "outlinewidth": 0,
             "ticks": ""
            },
            "colorscale": [
             [
              0,
              "#0d0887"
             ],
             [
              0.1111111111111111,
              "#46039f"
             ],
             [
              0.2222222222222222,
              "#7201a8"
             ],
             [
              0.3333333333333333,
              "#9c179e"
             ],
             [
              0.4444444444444444,
              "#bd3786"
             ],
             [
              0.5555555555555556,
              "#d8576b"
             ],
             [
              0.6666666666666666,
              "#ed7953"
             ],
             [
              0.7777777777777778,
              "#fb9f3a"
             ],
             [
              0.8888888888888888,
              "#fdca26"
             ],
             [
              1,
              "#f0f921"
             ]
            ],
            "type": "surface"
           }
          ],
          "table": [
           {
            "cells": {
             "fill": {
              "color": "#EBF0F8"
             },
             "line": {
              "color": "white"
             }
            },
            "header": {
             "fill": {
              "color": "#C8D4E3"
             },
             "line": {
              "color": "white"
             }
            },
            "type": "table"
           }
          ]
         },
         "layout": {
          "annotationdefaults": {
           "arrowcolor": "#2a3f5f",
           "arrowhead": 0,
           "arrowwidth": 1
          },
          "autotypenumbers": "strict",
          "coloraxis": {
           "colorbar": {
            "outlinewidth": 0,
            "ticks": ""
           }
          },
          "colorscale": {
           "diverging": [
            [
             0,
             "#8e0152"
            ],
            [
             0.1,
             "#c51b7d"
            ],
            [
             0.2,
             "#de77ae"
            ],
            [
             0.3,
             "#f1b6da"
            ],
            [
             0.4,
             "#fde0ef"
            ],
            [
             0.5,
             "#f7f7f7"
            ],
            [
             0.6,
             "#e6f5d0"
            ],
            [
             0.7,
             "#b8e186"
            ],
            [
             0.8,
             "#7fbc41"
            ],
            [
             0.9,
             "#4d9221"
            ],
            [
             1,
             "#276419"
            ]
           ],
           "sequential": [
            [
             0,
             "#0d0887"
            ],
            [
             0.1111111111111111,
             "#46039f"
            ],
            [
             0.2222222222222222,
             "#7201a8"
            ],
            [
             0.3333333333333333,
             "#9c179e"
            ],
            [
             0.4444444444444444,
             "#bd3786"
            ],
            [
             0.5555555555555556,
             "#d8576b"
            ],
            [
             0.6666666666666666,
             "#ed7953"
            ],
            [
             0.7777777777777778,
             "#fb9f3a"
            ],
            [
             0.8888888888888888,
             "#fdca26"
            ],
            [
             1,
             "#f0f921"
            ]
           ],
           "sequentialminus": [
            [
             0,
             "#0d0887"
            ],
            [
             0.1111111111111111,
             "#46039f"
            ],
            [
             0.2222222222222222,
             "#7201a8"
            ],
            [
             0.3333333333333333,
             "#9c179e"
            ],
            [
             0.4444444444444444,
             "#bd3786"
            ],
            [
             0.5555555555555556,
             "#d8576b"
            ],
            [
             0.6666666666666666,
             "#ed7953"
            ],
            [
             0.7777777777777778,
             "#fb9f3a"
            ],
            [
             0.8888888888888888,
             "#fdca26"
            ],
            [
             1,
             "#f0f921"
            ]
           ]
          },
          "colorway": [
           "#636efa",
           "#EF553B",
           "#00cc96",
           "#ab63fa",
           "#FFA15A",
           "#19d3f3",
           "#FF6692",
           "#B6E880",
           "#FF97FF",
           "#FECB52"
          ],
          "font": {
           "color": "#2a3f5f"
          },
          "geo": {
           "bgcolor": "white",
           "lakecolor": "white",
           "landcolor": "#E5ECF6",
           "showlakes": true,
           "showland": true,
           "subunitcolor": "white"
          },
          "hoverlabel": {
           "align": "left"
          },
          "hovermode": "closest",
          "mapbox": {
           "style": "light"
          },
          "paper_bgcolor": "white",
          "plot_bgcolor": "#E5ECF6",
          "polar": {
           "angularaxis": {
            "gridcolor": "white",
            "linecolor": "white",
            "ticks": ""
           },
           "bgcolor": "#E5ECF6",
           "radialaxis": {
            "gridcolor": "white",
            "linecolor": "white",
            "ticks": ""
           }
          },
          "scene": {
           "xaxis": {
            "backgroundcolor": "#E5ECF6",
            "gridcolor": "white",
            "gridwidth": 2,
            "linecolor": "white",
            "showbackground": true,
            "ticks": "",
            "zerolinecolor": "white"
           },
           "yaxis": {
            "backgroundcolor": "#E5ECF6",
            "gridcolor": "white",
            "gridwidth": 2,
            "linecolor": "white",
            "showbackground": true,
            "ticks": "",
            "zerolinecolor": "white"
           },
           "zaxis": {
            "backgroundcolor": "#E5ECF6",
            "gridcolor": "white",
            "gridwidth": 2,
            "linecolor": "white",
            "showbackground": true,
            "ticks": "",
            "zerolinecolor": "white"
           }
          },
          "shapedefaults": {
           "line": {
            "color": "#2a3f5f"
           }
          },
          "ternary": {
           "aaxis": {
            "gridcolor": "white",
            "linecolor": "white",
            "ticks": ""
           },
           "baxis": {
            "gridcolor": "white",
            "linecolor": "white",
            "ticks": ""
           },
           "bgcolor": "#E5ECF6",
           "caxis": {
            "gridcolor": "white",
            "linecolor": "white",
            "ticks": ""
           }
          },
          "title": {
           "x": 0.05
          },
          "xaxis": {
           "automargin": true,
           "gridcolor": "white",
           "linecolor": "white",
           "ticks": "",
           "title": {
            "standoff": 15
           },
           "zerolinecolor": "white",
           "zerolinewidth": 2
          },
          "yaxis": {
           "automargin": true,
           "gridcolor": "white",
           "linecolor": "white",
           "ticks": "",
           "title": {
            "standoff": 15
           },
           "zerolinecolor": "white",
           "zerolinewidth": 2
          }
         }
        },
        "title": {
         "text": "Candlestick Chart for ^CNXAUTO "
        },
        "width": 900,
        "xaxis": {
         "rangeslider": {
          "visible": true
         }
        }
       }
      }
     },
     "metadata": {},
     "output_type": "display_data"
    },
    {
     "name": "stderr",
     "output_type": "stream",
     "text": [
      "[*********************100%%**********************]  1 of 1 completed\n"
     ]
    },
    {
     "ename": "ValueError",
     "evalue": "too many values to unpack (expected 12)",
     "output_type": "error",
     "traceback": [
      "\u001b[0;31m---------------------------------------------------------------------------\u001b[0m",
      "\u001b[0;31mValueError\u001b[0m                                Traceback (most recent call last)",
      "Cell \u001b[0;32mIn[1], line 197\u001b[0m\n\u001b[1;32m    194\u001b[0m df_ticker \u001b[39m=\u001b[39m preprocess_stock_data(data)\n\u001b[1;32m    196\u001b[0m \u001b[39m# Calculate linear regression for pivot points\u001b[39;00m\n\u001b[0;32m--> 197\u001b[0m xxmin_train, xxmin_test, minim_train, minim_test, xxmax_train, xxmax_test, high_train, high_test, slmin, intercmin, slmax, intercmax \u001b[39m=\u001b[39m calculate_linear_regression(df_ticker, back_candles)\n\u001b[1;32m    199\u001b[0m \u001b[39m# Check if any of the returned variables are None\u001b[39;00m\n\u001b[1;32m    200\u001b[0m \u001b[39mif\u001b[39;00m \u001b[39many\u001b[39m(var \u001b[39mis\u001b[39;00m \u001b[39mNone\u001b[39;00m \u001b[39mfor\u001b[39;00m var \u001b[39min\u001b[39;00m [xxmin_train, xxmax_train]):\n",
      "\u001b[0;31mValueError\u001b[0m: too many values to unpack (expected 12)"
     ]
    }
   ],
   "source": [
    "import numpy as np\n",
    "import yfinance as yf\n",
    "from datetime import datetime, timedelta\n",
    "import plotly.graph_objects as go\n",
    "from sklearn.linear_model import LinearRegression\n",
    "from sklearn.model_selection import train_test_split\n",
    "from scipy.stats import linregress\n",
    "import warnings\n",
    "\n",
    "# Ignore warnings\n",
    "warnings.filterwarnings(\"ignore\")\n",
    "\n",
    "# Function to fetch historical stock data\n",
    "def fetch_stock_data(ticker_symbol, day_range, time_interval):\n",
    "    end_date = datetime.now()\n",
    "    start_date = end_date - timedelta(days=day_range*7//5)\n",
    "    data = yf.download(ticker_symbol, start=start_date, end=end_date, interval=time_interval)\n",
    "    return data.dropna()\n",
    "\n",
    "# Function to preprocess stock data\n",
    "def preprocess_stock_data(data):\n",
    "    df_ticker = data[['Open', 'High', 'Low', 'Close']].reset_index()\n",
    "    df_ticker.columns = ['time', 'open', 'high', 'low', 'close']\n",
    "    df_ticker = df_ticker.dropna()\n",
    "    df_ticker.reset_index(drop=True, inplace=True)\n",
    "    # Add 'pivot' and 'pointpos' columns to the DataFrame\n",
    "    df_ticker['pivot'] = df_ticker.apply(lambda x: pivot_id(df_ticker, x.name, 3, 3), axis=1)\n",
    "    df_ticker['pointpos'] = df_ticker.apply(lambda row: point_position(row), axis=1)\n",
    "    return df_ticker\n",
    "\n",
    "# Function to calculate pivot points for recent candles\n",
    "def pivot_id(df1, l, n1, n2):\n",
    "    # Check if there are enough recent candles to calculate pivot points\n",
    "    if l - n1 < 0 or l + n2 >= len(df1):\n",
    "        return 0\n",
    "    # Initialize pivot flags\n",
    "    piv_id_low = 1\n",
    "    piv_id_high = 1\n",
    "    # Loop over recent candles to check for pivot points\n",
    "    for i in range(l - n1, l + n2 + 1):\n",
    "        # Check for low pivot\n",
    "        if df1.low[l] > df1.low[i]:\n",
    "            piv_id_low = 0\n",
    "        # Check for high pivot\n",
    "        if df1.high[l] < df1.high[i]:\n",
    "            piv_id_high = 0\n",
    "    # Determine pivot type\n",
    "    if piv_id_low and piv_id_high:\n",
    "        return 3  # Both low and high pivot\n",
    "    elif piv_id_low:\n",
    "        return 1  # Low pivot\n",
    "    elif piv_id_high:\n",
    "        return 2  # High pivot\n",
    "    else:\n",
    "        return 0  # No pivot\n",
    "\n",
    "# Function to calculate the position of pivot points for recent candles\n",
    "def point_position(x):\n",
    "    # Calculate position based on pivot type\n",
    "    if x['pivot'] == 1:\n",
    "        return x['low'] - 1e-3  # Low pivot\n",
    "    elif x['pivot'] == 2:\n",
    "        return x['high'] + 1e-3  # High pivot\n",
    "    else:\n",
    "        return np.nan  # No pivot\n",
    "\n",
    "\n",
    "def calculate_linear_regression(df_ticker, back_candles, test_size=0.2):\n",
    "    xxmin = np.array([])\n",
    "    minim = np.array([])\n",
    "    xxmax = np.array([])\n",
    "    high = np.array([])\n",
    "\n",
    "    for i in range(max(0, len(df_ticker) - back_candles), len(df_ticker)):\n",
    "        if df_ticker.iloc[i].pivot == 1:\n",
    "            minim = np.append(minim, df_ticker.iloc[i].low)\n",
    "            xxmin = np.append(xxmin, i)\n",
    "        if df_ticker.iloc[i].pivot == 2:\n",
    "            xxmax = np.append(xxmax, i)\n",
    "            high = np.append(high, df_ticker.iloc[i].high)\n",
    "\n",
    "    # Check if there are enough samples available for splitting\n",
    "    if len(xxmin) < 2 or len(xxmax) < 2:\n",
    "        return None, None, None, None, None, None, None, None, None, None, None, None, None, None\n",
    "\n",
    "    xxmin_train, xxmin_test, minim_train, minim_test = train_test_split(xxmin, minim, test_size=test_size, random_state=0)\n",
    "    xxmax_train, xxmax_test, high_train, high_test = train_test_split(xxmax, high, test_size=test_size, random_state=0)\n",
    "\n",
    "    # Initialize Linear Regression models\n",
    "    model_min = LinearRegression()\n",
    "    model_max = LinearRegression()\n",
    "\n",
    "    # Fit linear regression for low pivot points\n",
    "    xxmin_train_reshaped = xxmin_train.reshape(-1, 1)\n",
    "    model_min.fit(xxmin_train_reshaped, minim_train)\n",
    "    slmin = model_min.coef_[0]\n",
    "    intercmin = model_min.intercept_\n",
    "\n",
    "    # Fit linear regression for high pivot points\n",
    "    xxmax_train_reshaped = xxmax_train.reshape(-1, 1)\n",
    "    model_max.fit(xxmax_train_reshaped, high_train)\n",
    "    slmax = model_max.coef_[0]\n",
    "    intercmax = model_max.intercept_\n",
    "\n",
    "    return xxmin_train, xxmin_test, minim_train, minim_test, xxmax_train, xxmax_test, high_train, high_test, slmin, intercmin, slmax, intercmax\n",
    "\n",
    "\n",
    "# Function to display candlestick chart with trend prediction\n",
    "def display_candlestick_chart(df_ticker, back_candles, ticker_symbol, xxmin_train, xxmin_test, minim_train, minim_test, xxmax_train, xxmax_test, high_train, high_test, slmin, intercmin, slmax, intercmax):\n",
    "    recent_candles = 10  # Number of recent candles to display lines\n",
    "\n",
    "    df_pl = df_ticker[-(back_candles + recent_candles):]\n",
    "\n",
    "    # Calculate lines for high and low triangles using training data\n",
    "    if len(xxmin_train) > 0:\n",
    "        low_triangle_line_train = slmin * xxmin_train + intercmin\n",
    "    else:\n",
    "        low_triangle_line_train = []\n",
    "\n",
    "    if len(xxmax_train) > 0:\n",
    "        high_triangle_line_train = slmax * xxmax_train + intercmax\n",
    "    else:\n",
    "        high_triangle_line_train = []\n",
    "\n",
    "    # Calculate lines for high and low triangles using testing data\n",
    "    if len(xxmin_test) > 0:\n",
    "        low_triangle_line_test = slmin * xxmin_test + intercmin\n",
    "    else:\n",
    "        low_triangle_line_test = []\n",
    "\n",
    "    if len(xxmax_test) > 0:\n",
    "        high_triangle_line_test = slmax * xxmax_test + intercmax\n",
    "    else:\n",
    "        high_triangle_line_test = []\n",
    "\n",
    "    # Display candlestick chart with pivot points, linear regression lines, and trend prediction\n",
    "    fig = go.Figure(data=[\n",
    "        go.Candlestick(x=df_pl.index, open=df_pl['open'], high=df_pl['high'], low=df_pl['low'], close=df_pl['close']),\n",
    "        go.Scatter(x=df_pl.index, y=df_pl['pointpos'], mode=\"markers\", marker=dict(size=7, color=\"MediumPurple\"), name=\"pivot\"),\n",
    "        go.Scatter(x=np.append(xxmin_train, xxmin_test), y=np.append(low_triangle_line_train, low_triangle_line_test), mode='lines', line=dict(color='green', width=2)),\n",
    "        go.Scatter(x=np.append(xxmax_train, xxmax_test), y=np.append(high_triangle_line_train, high_triangle_line_test), mode='lines', line=dict(color='red', width=2))\n",
    "    ])\n",
    "\n",
    "    fig.update_layout(\n",
    "    xaxis_rangeslider_visible=True,\n",
    "    title=f'Candlestick Chart for {ticker_symbol} ',\n",
    "    width=900,  # specify width in pixels\n",
    "    height=600   # specify height in pixels\n",
    "    )\n",
    "\n",
    "    fig.show()\n",
    "\n",
    "# User input for day range and time interval\n",
    "day_range = int(input(\"Enter the number of days for historical data: \"))\n",
    "time_interval = input(\"Enter the time interval (Valid intervals: [1m, 2m, 5m, 15m, 30m, 60m, 90m, 1h, 1d, 5d, 1wk, 1mo, 3mo]): \")\n",
    "\n",
    "# Adjust back_candles based on day range and time interval\n",
    "if time_interval == '1h':\n",
    "    if day_range > 7:\n",
    "        back_candles = 32\n",
    "    else:\n",
    "        back_candles = 50\n",
    "elif time_interval == '1d':\n",
    "    if day_range > 40:\n",
    "        back_candles = 32\n",
    "    else:\n",
    "        back_candles = 32\n",
    "elif time_interval == '15m':\n",
    "    if day_range > 4:\n",
    "        back_candles = 50\n",
    "    else:\n",
    "        back_candles = 50\n",
    "elif time_interval == '5m' or '2m' or '1m':\n",
    "    if day_range > 2:\n",
    "        back_candles = 55\n",
    "    else:\n",
    "        back_candles = 55\n",
    "elif time_interval ==  '2m' or '1m':\n",
    "    if day_range > 2:\n",
    "        back_candles = 60\n",
    "    else:\n",
    "        back_candles = 60\n",
    "# Ticker symbols to analyze\n",
    "#ticker_symbols = [\"^BSESN\",\"^CNXIT\", \"^NSEBANK\",\"^NSEI\",\"^CNXFMCG\",\"SBIN.NS\",\"HDFCBANK.NS\", \"KOTAKBANK.NS\",\"TCS.NS\",\"INFY.NS\",\"ITC.NS\",\"LT.NS\"]\n",
    "ticker_symbols = [\"^BSESN\",\"^CNXIT\",  \"^NSEBANK\", \"^NSEI\", \"^CNXFMCG\", \"^CNXAUTO\", \"SBIN.NS\", \"HDFCBANK.NS\", \"KOTAKBANK.NS\", \"AXISBANK.NS\", \"TCS.NS\", \"INFY.NS\", \"ITC.NS\",\"LT.NS\",\"HEROMOTOCO.NS\",\"M&M.NS\",\"TVSMOTOR.NS\",\"BAJAJFINSV.NS\",\"ABCAPITAL.NS\",\"ADANIENT.NS\",\"ADANIPORTS.NS\"]\n",
    "\n",
    "\n",
    "# Loop through each ticker symbol\n",
    "for ticker_symbol in ticker_symbols:\n",
    "    # Fetch historical data from Yahoo Finance\n",
    "    data = fetch_stock_data(ticker_symbol, day_range, time_interval)\n",
    "\n",
    "    # Preprocess stock data\n",
    "    df_ticker = preprocess_stock_data(data)\n",
    "\n",
    "    # Calculate linear regression for pivot points\n",
    "    xxmin_train, xxmin_test, minim_train, minim_test, xxmax_train, xxmax_test, high_train, high_test, slmin, intercmin, slmax, intercmax = calculate_linear_regression(df_ticker, back_candles)\n",
    "\n",
    "    # Check if any of the returned variables are None\n",
    "    if any(var is None for var in [xxmin_train, xxmax_train]):\n",
    "        print(f\"Skipping {ticker_symbol} due to insufficient data for linear regression.\")\n",
    "        continue\n",
    "\n",
    "    # Display candlestick chart with pivot points and linear regression lines\n",
    "    display_candlestick_chart(df_ticker, back_candles, ticker_symbol, xxmin_train, xxmin_test, minim_train, minim_test, xxmax_train, xxmax_test, high_train, high_test, slmin, intercmin, slmax, intercmax)\n"
   ]
  },
  {
   "cell_type": "code",
   "execution_count": null,
   "id": "5baad602",
   "metadata": {},
   "outputs": [],
   "source": []
  }
 ],
 "metadata": {
  "kernelspec": {
   "display_name": "Python 3",
   "language": "python",
   "name": "python3"
  },
  "language_info": {
   "codemirror_mode": {
    "name": "ipython",
    "version": 3
   },
   "file_extension": ".py",
   "mimetype": "text/x-python",
   "name": "python",
   "nbconvert_exporter": "python",
   "pygments_lexer": "ipython3",
   "version": "3.11.10"
  }
 },
 "nbformat": 4,
 "nbformat_minor": 5
}
